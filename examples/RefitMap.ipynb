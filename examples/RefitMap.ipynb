{
 "cells": [
  {
   "cell_type": "code",
   "execution_count": 12,
   "id": "56575e99-a19c-4cbc-bdb2-b9f8ca9e305d",
   "metadata": {},
   "outputs": [],
   "source": [
    "import escher\n",
    "import modelseedpy\n",
    "import modelseedpy_escher"
   ]
  },
  {
   "cell_type": "code",
   "execution_count": 4,
   "id": "28a4bb62-0e13-49d2-86ee-7d2030afc1e8",
   "metadata": {},
   "outputs": [],
   "source": [
    "manager = modelseedpy_escher.EscherManager(escher)"
   ]
  },
  {
   "cell_type": "code",
   "execution_count": 9,
   "id": "e5f71ca0-e175-44f5-a293-e98e1807dd8b",
   "metadata": {},
   "outputs": [],
   "source": [
    "em = manager.get_map('Escherichia coli', 'e_coli_core', 'Core metabolism')"
   ]
  },
  {
   "cell_type": "code",
   "execution_count": 11,
   "id": "c2c7a619-f90d-4b8a-aa23-4d4279b9aae7",
   "metadata": {},
   "outputs": [],
   "source": [
    "from modelseedpy_escher.map.model_merge import RefitMap"
   ]
  },
  {
   "cell_type": "code",
   "execution_count": 25,
   "id": "36641ed1-264e-4344-aad1-4f14af899aaf",
   "metadata": {},
   "outputs": [],
   "source": [
    "refit = RefitMap2(None)"
   ]
  },
  {
   "cell_type": "code",
   "execution_count": 26,
   "id": "65720eab-2caf-4695-adc9-a4ecc265099a",
   "metadata": {},
   "outputs": [
    {
     "ename": "AttributeError",
     "evalue": "'NoneType' object has no attribute 'get_seed_reaction'",
     "output_type": "error",
     "traceback": [
      "\u001b[0;31m---------------------------------------------------------------------------\u001b[0m",
      "\u001b[0;31mAttributeError\u001b[0m                            Traceback (most recent call last)",
      "\u001b[0;32m<ipython-input-26-88160522400f>\u001b[0m in \u001b[0;36m<module>\u001b[0;34m\u001b[0m\n\u001b[0;32m----> 1\u001b[0;31m \u001b[0mrefit\u001b[0m\u001b[0;34m.\u001b[0m\u001b[0mrefit\u001b[0m\u001b[0;34m(\u001b[0m\u001b[0mem\u001b[0m\u001b[0;34m,\u001b[0m \u001b[0;34m{\u001b[0m\u001b[0;34m}\u001b[0m\u001b[0;34m)\u001b[0m\u001b[0;34m\u001b[0m\u001b[0;34m\u001b[0m\u001b[0m\n\u001b[0m",
      "\u001b[0;32m<ipython-input-24-445908f87273>\u001b[0m in \u001b[0;36mrefit\u001b[0;34m(self, em, cmp_config)\u001b[0m\n\u001b[1;32m     44\u001b[0m         \u001b[0;32mfor\u001b[0m \u001b[0mo\u001b[0m \u001b[0;32min\u001b[0m \u001b[0mem\u001b[0m\u001b[0;34m.\u001b[0m\u001b[0mreactions\u001b[0m\u001b[0;34m:\u001b[0m\u001b[0;34m\u001b[0m\u001b[0;34m\u001b[0m\u001b[0m\n\u001b[1;32m     45\u001b[0m             \u001b[0mseed_id\u001b[0m \u001b[0;34m=\u001b[0m \u001b[0mo\u001b[0m\u001b[0;34m[\u001b[0m\u001b[0;34m'bigg_id'\u001b[0m\u001b[0;34m]\u001b[0m\u001b[0;34m\u001b[0m\u001b[0;34m\u001b[0m\u001b[0m\n\u001b[0;32m---> 46\u001b[0;31m             \u001b[0mrxn\u001b[0m \u001b[0;34m=\u001b[0m \u001b[0mself\u001b[0m\u001b[0;34m.\u001b[0m\u001b[0mms\u001b[0m\u001b[0;34m.\u001b[0m\u001b[0mget_seed_reaction\u001b[0m\u001b[0;34m(\u001b[0m\u001b[0mseed_id\u001b[0m\u001b[0;34m)\u001b[0m\u001b[0;34m\u001b[0m\u001b[0;34m\u001b[0m\u001b[0m\n\u001b[0m\u001b[1;32m     47\u001b[0m             \u001b[0;32mif\u001b[0m \u001b[0mrxn\u001b[0m \u001b[0;32mis\u001b[0m \u001b[0;32mnot\u001b[0m \u001b[0;32mNone\u001b[0m\u001b[0;34m:\u001b[0m\u001b[0;34m\u001b[0m\u001b[0;34m\u001b[0m\u001b[0m\n\u001b[1;32m     48\u001b[0m                 \u001b[0mseed_ids\u001b[0m\u001b[0;34m[\u001b[0m\u001b[0mrxn\u001b[0m\u001b[0;34m.\u001b[0m\u001b[0mid\u001b[0m\u001b[0;34m]\u001b[0m \u001b[0;34m=\u001b[0m \u001b[0mrxn\u001b[0m\u001b[0;34m\u001b[0m\u001b[0;34m\u001b[0m\u001b[0m\n",
      "\u001b[0;31mAttributeError\u001b[0m: 'NoneType' object has no attribute 'get_seed_reaction'"
     ]
    }
   ],
   "source": [
    "refit.refit(em, {})"
   ]
  },
  {
   "cell_type": "code",
   "execution_count": 21,
   "id": "e8fefbf5-a6f8-43c6-ab4d-44ca4d8b71b9",
   "metadata": {},
   "outputs": [
    {
     "data": {
      "text/plain": [
       "{'y': 1041.710205078125,\n",
       " 'x': 1056.5867919921875,\n",
       " 'node_type': 'multimarker',\n",
       " 'uid': '1576999'}"
      ]
     },
     "execution_count": 21,
     "metadata": {},
     "output_type": "execute_result"
    }
   ],
   "source": [
    "for node in em.nodes:\n",
    "    node\n",
    "node"
   ]
  },
  {
   "cell_type": "code",
   "execution_count": null,
   "id": "8c8455dd-a741-4830-860a-3b98e4eff29a",
   "metadata": {},
   "outputs": [],
   "source": []
  },
  {
   "cell_type": "code",
   "execution_count": 24,
   "id": "da3f8ecb-3e8b-4011-9036-982c82c4d0da",
   "metadata": {},
   "outputs": [],
   "source": [
    "class RefitMap2:\n",
    "\n",
    "    def __init__(self, modelseed):\n",
    "        self.ms = modelseed\n",
    "        self.updated_node = set()\n",
    "\n",
    "    def refit_map_metabolite(self, o, cmp_token):\n",
    "        if o['bigg_id'] not in self.updated_node:\n",
    "            o['bigg_id'] = \"{}_{}\".format(o['bigg_id'], cmp_token)\n",
    "            o['name'] = \"{} [{}]\".format(o['name'], cmp_token)\n",
    "            self.updated_node.add(o['bigg_id'])\n",
    "\n",
    "    def refit_map_reaction(self, o, nodes, cmp_config):\n",
    "        cmp_token = cmp_config['0']\n",
    "        # print('refit_map_reaction', o['bigg_id'], cmp_config, cmp_token, len(cmp_token))\n",
    "        if len(cmp_token) > 0:\n",
    "            for s_uid in o['segments']:\n",
    "                segment = o['segments'][s_uid]\n",
    "                from_node = nodes[segment['from_node_id']]\n",
    "                to_node = nodes[segment['to_node_id']]\n",
    "                if to_node['node_type'] == 'metabolite':\n",
    "                    self.refit_map_metabolite(to_node, cmp_token)\n",
    "                if from_node['node_type'] == 'metabolite':\n",
    "                    self.refit_map_metabolite(from_node, cmp_token)\n",
    "\n",
    "            cmp_func = lambda x: {'bigg_id': x['bigg_id'] + '_' + cmp_token, 'coefficient': -1 * x['coefficient']}\n",
    "            o['metabolites'] = list(map(cmp_func, o['metabolites']))\n",
    "\n",
    "            o['bigg_id'] = \"{}_{}\".format(o['bigg_id'], cmp_token)\n",
    "            o['name'] = \"{} [{}]\".format(o['name'], cmp_token)\n",
    "\n",
    "    @staticmethod\n",
    "    def reverse(map_reaction):\n",
    "        rev_func = lambda x: {'bigg_id': x['bigg_id'], 'coefficient': -1 * x['coefficient']}\n",
    "        metabolites = list(map(rev_func, map_reaction['metabolites']))\n",
    "        map_reaction['metabolites'] = metabolites\n",
    "        return map_reaction\n",
    "\n",
    "    def refit(self, em, cmp_config):\n",
    "        em = em.clone()\n",
    "        self.updated_node = set()\n",
    "        nodes = dict(map(lambda x: (x['uid'], x), em.nodes))\n",
    "        seed_ids = {}\n",
    "        for o in em.reactions:\n",
    "            seed_id = o['bigg_id']\n",
    "            rxn = self.ms.get_seed_reaction(seed_id)\n",
    "            if rxn is not None:\n",
    "                seed_ids[rxn.id] = rxn\n",
    "                if rxn.data['direction'] == '=':\n",
    "                    o['reversibility'] = True\n",
    "\n",
    "                map_stoich = dict(map(lambda x: ((x['bigg_id'], '0'), x['coefficient']), o['metabolites']))\n",
    "                cstoichiometry = rxn.cstoichiometry\n",
    "                if rxn.data['direction'] == '<':\n",
    "                    cstoichiometry = dict(map(lambda x: (x[0], -1 * x[1]), cstoichiometry.items()))\n",
    "                if not map_stoich == cstoichiometry:\n",
    "                    self.reverse(o)\n",
    "                self.refit_map_reaction(o, nodes, cmp_config)\n",
    "                if 'annotation' not in o:\n",
    "                    o['annotation'] = {}\n",
    "                if 'seed.reaction' not in o['annotation']:\n",
    "                    o['annotation']['seed.reaction'] = []\n",
    "                if type(o['annotation']['seed.reaction']) == str:\n",
    "                    o['annotation']['seed.reaction'] = [o['annotation']['seed.reaction']]\n",
    "                if rxn.id not in o['annotation']['seed.reaction']:\n",
    "                    o['annotation']['seed.reaction'].append(rxn.id)\n",
    "                o['annotation']['seed.compartment'] = ';'.join(map(lambda x: x[0] + ':' + x[1], cmp_config.items()))\n",
    "        return em"
   ]
  },
  {
   "cell_type": "code",
   "execution_count": null,
   "id": "bb688eec-5f43-4239-8176-2e2d3ae4e2d2",
   "metadata": {},
   "outputs": [],
   "source": []
  },
  {
   "cell_type": "code",
   "execution_count": null,
   "id": "0f7b3c09-7a92-4f36-b4a5-9662b808e2bf",
   "metadata": {},
   "outputs": [],
   "source": []
  },
  {
   "cell_type": "code",
   "execution_count": null,
   "id": "ca3ebeae-b9ff-4c25-9a9e-0c632ebc067b",
   "metadata": {},
   "outputs": [],
   "source": []
  }
 ],
 "metadata": {
  "kernelspec": {
   "display_name": "Python 3",
   "language": "python",
   "name": "python3"
  },
  "language_info": {
   "codemirror_mode": {
    "name": "ipython",
    "version": 3
   },
   "file_extension": ".py",
   "mimetype": "text/x-python",
   "name": "python",
   "nbconvert_exporter": "python",
   "pygments_lexer": "ipython3",
   "version": "3.8.10"
  }
 },
 "nbformat": 4,
 "nbformat_minor": 5
}
