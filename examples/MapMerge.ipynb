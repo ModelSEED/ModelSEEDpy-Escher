{
 "cells": [
  {
   "cell_type": "code",
   "execution_count": 7,
   "id": "a81ff5da-fce3-4c4c-b651-51bce823f3a0",
   "metadata": {},
   "outputs": [],
   "source": [
    "import modelseedpy_escher\n",
    "import logging\n",
    "from cobra.io import from_json\n",
    "from modelseedpy_escher.map.merge_map import EscherMerge\n",
    "from modelseedpy_escher.io import load_json_map\n",
    "from modelseedpy_escher.io.json import to_json\n",
    "from modelseedpy_escher.map.merge_map import logger as logger_escher_merge"
   ]
  },
  {
   "cell_type": "code",
   "execution_count": 2,
   "id": "02d9ee85-d04f-4616-9f26-c6cf6bbbf7f3",
   "metadata": {},
   "outputs": [
    {
     "data": {
      "text/plain": [
       "'modelseedpy_escher.map.merge_map'"
      ]
     },
     "execution_count": 2,
     "metadata": {},
     "output_type": "execute_result"
    }
   ],
   "source": [
    "logger_escher_merge.name"
   ]
  },
  {
   "cell_type": "code",
   "execution_count": 3,
   "id": "31b11d4d-a751-4f74-a17a-41448ec12ce8",
   "metadata": {},
   "outputs": [
    {
     "data": {
      "text/plain": [
       "<Logger modelseedpy_escher.map.merge_map (WARNING)>"
      ]
     },
     "execution_count": 3,
     "metadata": {},
     "output_type": "execute_result"
    }
   ],
   "source": [
    "logger_escher_merge.setLevel(logging.WARNING)\n",
    "logger_escher_merge"
   ]
  },
  {
   "cell_type": "code",
   "execution_count": 19,
   "id": "6b8d7f7a-e2e9-4141-86b9-754d363e0ee1",
   "metadata": {},
   "outputs": [
    {
     "data": {
      "text/plain": [
       "True"
      ]
     },
     "execution_count": 19,
     "metadata": {},
     "output_type": "execute_result"
    }
   ],
   "source": [
    "em3.escher_graph['reactions'][41]['metabolites'] == em1.escher_graph['reactions']['2076258']['metabolites']"
   ]
  },
  {
   "cell_type": "code",
   "execution_count": 21,
   "id": "9bbe83e1-d43d-42ef-9041-2545fba1b796",
   "metadata": {},
   "outputs": [
    {
     "data": {
      "text/plain": [
       "{31: {'from_node_id': 1, 'to_node_id': 2, 'b1': None, 'b2': None},\n",
       " 32: {'from_node_id': 3, 'to_node_id': 2, 'b1': None, 'b2': None},\n",
       " 33: {'from_node_id': 3,\n",
       "  'to_node_id': 0,\n",
       "  'b1': {'y': 4429.4797692187185, 'x': -638.5144458276449},\n",
       "  'b2': {'y': 4848.7707848437185, 'x': -645.8436847192464}},\n",
       " 34: {'from_node_id': 1,\n",
       "  'to_node_id': 4,\n",
       "  'b1': {'y': 4321.4797692187185, 'x': -638.5144458276449},\n",
       "  'b2': {'y': 4160.7807946093435, 'x': -637.5267291528402}},\n",
       " 35: {'from_node_id': 1,\n",
       "  'to_node_id': 5,\n",
       "  'b1': {'y': 4321.4797692187185, 'x': -638.5144458276449},\n",
       "  'b2': {'y': 4302.4797692187185, 'x': -617.5144458276449}},\n",
       " 36: {'from_node_id': 3,\n",
       "  'to_node_id': 6,\n",
       "  'b1': {'y': 4433.4797692187185, 'x': -638.5144458276449},\n",
       "  'b2': {'y': 4474.4675621874685, 'x': -659.5144458276449}},\n",
       " 37: {'from_node_id': 1,\n",
       "  'to_node_id': 7,\n",
       "  'b1': {'y': 4325.4797692187185, 'x': -638.5144458276449},\n",
       "  'b2': {'y': 4145.6101403124685, 'x': -633.6282916528402}},\n",
       " 38: {'from_node_id': 1,\n",
       "  'to_node_id': 8,\n",
       "  'b1': {'y': 4321.4797692187185, 'x': -638.5144458276449},\n",
       "  'b2': {'y': 4302.4797692187185, 'x': -575.5144458276449}},\n",
       " 39: {'from_node_id': 3,\n",
       "  'to_node_id': 9,\n",
       "  'b1': {'y': 4433.4797692187185, 'x': -638.5144458276449},\n",
       "  'b2': {'y': 4474.4675621874685, 'x': -617.5144458276449}},\n",
       " 40: {'from_node_id': 3,\n",
       "  'to_node_id': 10,\n",
       "  'b1': {'y': 4433.4797692187185, 'x': -638.5144458276449},\n",
       "  'b2': {'y': 4452.4802574999685, 'x': -597.5021625024496}}}"
      ]
     },
     "execution_count": 21,
     "metadata": {},
     "output_type": "execute_result"
    }
   ],
   "source": [
    "em3.escher_graph['reactions'][41]['segments']"
   ]
  },
  {
   "cell_type": "code",
   "execution_count": 22,
   "id": "331840a5-2f85-493f-a050-8c5160f24455",
   "metadata": {},
   "outputs": [
    {
     "data": {
      "text/plain": [
       "{'2587': {'from_node_id': '2078018',\n",
       "  'to_node_id': '2078019',\n",
       "  'b1': None,\n",
       "  'b2': None},\n",
       " '2588': {'from_node_id': '2078020',\n",
       "  'to_node_id': '2078019',\n",
       "  'b1': None,\n",
       "  'b2': None},\n",
       " '2589': {'from_node_id': '2078020',\n",
       "  'to_node_id': '2078017',\n",
       "  'b1': {'y': 4429.4797692187185, 'x': -638.5144458276449},\n",
       "  'b2': {'y': 4848.7707848437185, 'x': -645.8436847192464}},\n",
       " '2590': {'from_node_id': '2078018',\n",
       "  'to_node_id': '2078021',\n",
       "  'b1': {'y': 4321.4797692187185, 'x': -638.5144458276449},\n",
       "  'b2': {'y': 4160.7807946093435, 'x': -637.5267291528402}},\n",
       " '2591': {'from_node_id': '2078018',\n",
       "  'to_node_id': '2078022',\n",
       "  'b1': {'y': 4321.4797692187185, 'x': -638.5144458276449},\n",
       "  'b2': {'y': 4302.4797692187185, 'x': -617.5144458276449}},\n",
       " '2592': {'from_node_id': '2078020',\n",
       "  'to_node_id': '2078023',\n",
       "  'b1': {'y': 4433.4797692187185, 'x': -638.5144458276449},\n",
       "  'b2': {'y': 4474.4675621874685, 'x': -659.5144458276449}},\n",
       " '2593': {'from_node_id': '2078018',\n",
       "  'to_node_id': '2078024',\n",
       "  'b1': {'y': 4325.4797692187185, 'x': -638.5144458276449},\n",
       "  'b2': {'y': 4145.6101403124685, 'x': -633.6282916528402}},\n",
       " '2594': {'from_node_id': '2078018',\n",
       "  'to_node_id': '2078025',\n",
       "  'b1': {'y': 4321.4797692187185, 'x': -638.5144458276449},\n",
       "  'b2': {'y': 4302.4797692187185, 'x': -575.5144458276449}},\n",
       " '2595': {'from_node_id': '2078020',\n",
       "  'to_node_id': '2078026',\n",
       "  'b1': {'y': 4433.4797692187185, 'x': -638.5144458276449},\n",
       "  'b2': {'y': 4474.4675621874685, 'x': -617.5144458276449}},\n",
       " '2596': {'from_node_id': '2078020',\n",
       "  'to_node_id': '2078027',\n",
       "  'b1': {'y': 4433.4797692187185, 'x': -638.5144458276449},\n",
       "  'b2': {'y': 4452.4802574999685, 'x': -597.5021625024496}}}"
      ]
     },
     "execution_count": 22,
     "metadata": {},
     "output_type": "execute_result"
    }
   ],
   "source": [
    "em1.escher_graph['reactions']['2076258']['segments']"
   ]
  },
  {
   "cell_type": "code",
   "execution_count": 4,
   "id": "9396d442-a202-40e3-a43e-5502e5db0afc",
   "metadata": {},
   "outputs": [],
   "source": [
    "em1 = load_json_map('map_merge1_small.json')\n",
    "em2 = load_json_map('map_merge2_small.json')\n",
    "escher_merge = EscherMerge()\n",
    "em3 = escher_merge.merge([em1, em2], )"
   ]
  },
  {
   "cell_type": "code",
   "execution_count": 10,
   "id": "9266829a-9d59-45dd-acf9-a797e839a182",
   "metadata": {},
   "outputs": [],
   "source": [
    "#em3.display_in_notebook(True)"
   ]
  },
  {
   "cell_type": "code",
   "execution_count": null,
   "id": "f9d3880a-6a7a-4a58-bbab-28326fde3d83",
   "metadata": {},
   "outputs": [],
   "source": []
  },
  {
   "cell_type": "code",
   "execution_count": 3,
   "id": "81dd0d7e-a2d6-4f76-b3a2-cda4bdf8393c",
   "metadata": {
    "collapsed": true,
    "jupyter": {
     "outputs_hidden": true
    },
    "tags": []
   },
   "outputs": [
    {
     "name": "stdout",
     "output_type": "stream",
     "text": [
      "cobrakbase 0.2.8\n"
     ]
    },
    {
     "ename": "ServerError",
     "evalue": "JSONRPCError: -32400. Token validation failed: Login failed! Server responded with code 401 Unauthorized\nus.kbase.auth.AuthException: Login failed! Server responded with code 401 Unauthorized\n\tat us.kbase.auth.AuthService.fetchUser(AuthService.java:344)\n\tat us.kbase.auth.AuthService.validateToken(AuthService.java:428)\n\tat us.kbase.auth.ConfigurableAuthService.validateToken(ConfigurableAuthService.java:210)\n\tat us.kbase.common.service.JsonServerServlet$DefaultAuthenticationHandler.validateToken(JsonServerServlet.java:273)\n\tat us.kbase.common.service.JsonServerServlet.validateToken(JsonServerServlet.java:719)\n\tat us.kbase.common.service.JsonServerServlet.processRpcCall(JsonServerServlet.java:633)\n\tat us.kbase.common.service.JsonServerServlet.doPost(JsonServerServlet.java:553)\n\tat javax.servlet.http.HttpServlet.service(HttpServlet.java:660)\n\tat javax.servlet.http.HttpServlet.service(HttpServlet.java:741)\n\tat org.apache.catalina.core.ApplicationFilterChain.internalDoFilter(ApplicationFilterChain.java:231)\n\tat org.apache.catalina.core.ApplicationFilterChain.doFilter(ApplicationFilterChain.java:166)\n\tat org.apache.tomcat.websocket.server.WsFilter.doFilter(WsFilter.java:52)\n\tat org.apache.catalina.core.ApplicationFilterChain.internalDoFilter(ApplicationFilterChain.java:193)\n\tat org.apache.catalina.core.ApplicationFilterChain.doFilter(ApplicationFilterChain.java:166)\n\tat org.apache.catalina.core.StandardWrapperValve.invoke(StandardWrapperValve.java:200)\n\tat org.apache.catalina.core.StandardContextValve.invoke(StandardContextValve.java:96)\n\tat org.apache.catalina.authenticator.AuthenticatorBase.invoke(AuthenticatorBase.java:543)\n\tat org.apache.catalina.core.StandardHostValve.invoke(StandardHostValve.java:139)\n\tat org.apache.catalina.valves.ErrorReportValve.invoke(ErrorReportValve.java:81)\n\tat org.apache.catalina.valves.AbstractAccessLogValve.invoke(AbstractAccessLogValve.java:678)\n\tat org.apache.catalina.core.StandardEngineValve.invoke(StandardEngineValve.java:87)\n\tat org.apache.catalina.connector.CoyoteAdapter.service(CoyoteAdapter.java:343)\n\tat org.apache.coyote.http11.Http11Processor.service(Http11Processor.java:609)\n\tat org.apache.coyote.AbstractProcessorLight.process(AbstractProcessorLight.java:65)\n\tat org.apache.coyote.AbstractProtocol$ConnectionHandler.process(AbstractProtocol.java:810)\n\tat org.apache.tomcat.util.net.Nio2Endpoint$SocketProcessor.doRun(Nio2Endpoint.java:1630)\n\tat org.apache.tomcat.util.net.SocketProcessorBase.run(SocketProcessorBase.java:49)\n\tat org.apache.tomcat.util.net.AbstractEndpoint.processSocket(AbstractEndpoint.java:1082)\n\tat org.apache.tomcat.util.net.Nio2Endpoint$Nio2SocketWrapper$2.completed(Nio2Endpoint.java:566)\n\tat org.apache.tomcat.util.net.Nio2Endpoint$Nio2SocketWrapper$2.completed(Nio2Endpoint.java:544)\n\tat sun.nio.ch.Invoker.invokeUnchecked(Invoker.java:126)\n\tat sun.nio.ch.Invoker$2.run(Invoker.java:218)\n\tat sun.nio.ch.AsynchronousChannelGroupImpl$1.run(AsynchronousChannelGroupImpl.java:112)\n\tat java.util.concurrent.ThreadPoolExecutor.runWorker(ThreadPoolExecutor.java:1149)\n\tat java.util.concurrent.ThreadPoolExecutor$Worker.run(ThreadPoolExecutor.java:624)\n\tat java.lang.Thread.run(Thread.java:748)\n",
     "output_type": "error",
     "traceback": [
      "\u001b[0;31m---------------------------------------------------------------------------\u001b[0m",
      "\u001b[0;31mServerError\u001b[0m                               Traceback (most recent call last)",
      "\u001b[0;32m<ipython-input-3-bc6fd3554fa5>\u001b[0m in \u001b[0;36m<module>\u001b[0;34m\u001b[0m\n\u001b[1;32m      2\u001b[0m \u001b[0mkbase\u001b[0m \u001b[0;34m=\u001b[0m \u001b[0mcobrakbase\u001b[0m\u001b[0;34m.\u001b[0m\u001b[0mKBaseAPI\u001b[0m\u001b[0;34m(\u001b[0m\u001b[0;34m)\u001b[0m\u001b[0;34m\u001b[0m\u001b[0;34m\u001b[0m\u001b[0m\n\u001b[1;32m      3\u001b[0m \u001b[0mem1\u001b[0m \u001b[0;34m=\u001b[0m \u001b[0mcobrakbase\u001b[0m\u001b[0;34m.\u001b[0m\u001b[0mcore\u001b[0m\u001b[0;34m.\u001b[0m\u001b[0mkbasefba\u001b[0m\u001b[0;34m.\u001b[0m\u001b[0meschermap\u001b[0m\u001b[0;34m.\u001b[0m\u001b[0mEscherMap\u001b[0m\u001b[0;34m(\u001b[0m\u001b[0mto_json\u001b[0m\u001b[0;34m(\u001b[0m\u001b[0mload_json_map\u001b[0m\u001b[0;34m(\u001b[0m\u001b[0;34m'iMM904.SEED_Test.json'\u001b[0m\u001b[0;34m)\u001b[0m\u001b[0;34m)\u001b[0m\u001b[0;34m)\u001b[0m\u001b[0;34m\u001b[0m\u001b[0;34m\u001b[0m\u001b[0m\n\u001b[0;32m----> 4\u001b[0;31m \u001b[0mkbase\u001b[0m\u001b[0;34m.\u001b[0m\u001b[0msave_object\u001b[0m\u001b[0;34m(\u001b[0m\u001b[0;34m'iMM904.SEED_TEST'\u001b[0m\u001b[0;34m,\u001b[0m \u001b[0;36m56171\u001b[0m\u001b[0;34m,\u001b[0m \u001b[0mem1\u001b[0m\u001b[0;34m.\u001b[0m\u001b[0minfo\u001b[0m\u001b[0;34m.\u001b[0m\u001b[0mtype\u001b[0m\u001b[0;34m,\u001b[0m \u001b[0mem1\u001b[0m\u001b[0;34m)\u001b[0m\u001b[0;34m\u001b[0m\u001b[0;34m\u001b[0m\u001b[0m\n\u001b[0m",
      "\u001b[0;32m/usr/local/lib/python3.8/site-packages/cobrakbase/kbaseapi.py\u001b[0m in \u001b[0;36msave_object\u001b[0;34m(self, object_id, ws, object_type, data, meta)\u001b[0m\n\u001b[1;32m    222\u001b[0m         \u001b[0;32melse\u001b[0m\u001b[0;34m:\u001b[0m\u001b[0;34m\u001b[0m\u001b[0;34m\u001b[0m\u001b[0m\n\u001b[1;32m    223\u001b[0m             \u001b[0mparams\u001b[0m\u001b[0;34m[\u001b[0m\u001b[0;34m\"workspace\"\u001b[0m\u001b[0;34m]\u001b[0m \u001b[0;34m=\u001b[0m \u001b[0mws\u001b[0m\u001b[0;34m\u001b[0m\u001b[0;34m\u001b[0m\u001b[0m\n\u001b[0;32m--> 224\u001b[0;31m         \u001b[0;32mreturn\u001b[0m \u001b[0mself\u001b[0m\u001b[0;34m.\u001b[0m\u001b[0mws_client\u001b[0m\u001b[0;34m.\u001b[0m\u001b[0msave_objects\u001b[0m\u001b[0;34m(\u001b[0m\u001b[0mparams\u001b[0m\u001b[0;34m)\u001b[0m\u001b[0;34m\u001b[0m\u001b[0;34m\u001b[0m\u001b[0m\n\u001b[0m\u001b[1;32m    225\u001b[0m \u001b[0;34m\u001b[0m\u001b[0m\n\u001b[1;32m    226\u001b[0m     \u001b[0;32mdef\u001b[0m \u001b[0msave_model\u001b[0m\u001b[0;34m(\u001b[0m\u001b[0mself\u001b[0m\u001b[0;34m,\u001b[0m \u001b[0mobject_id\u001b[0m\u001b[0;34m,\u001b[0m \u001b[0mws\u001b[0m\u001b[0;34m,\u001b[0m \u001b[0mdata\u001b[0m\u001b[0;34m)\u001b[0m\u001b[0;34m:\u001b[0m\u001b[0;34m\u001b[0m\u001b[0;34m\u001b[0m\u001b[0m\n",
      "\u001b[0;32m/usr/local/lib/python3.8/site-packages/cobrakbase/Workspace/WorkspaceClient.py\u001b[0m in \u001b[0;36msave_objects\u001b[0;34m(self, params, context)\u001b[0m\n\u001b[1;32m    896\u001b[0m            the user.) -> mapping from String to String\n\u001b[1;32m    897\u001b[0m         \"\"\"\n\u001b[0;32m--> 898\u001b[0;31m         return self._client.call_method(\n\u001b[0m\u001b[1;32m    899\u001b[0m             \u001b[0;34m'Workspace.save_objects'\u001b[0m\u001b[0;34m,\u001b[0m\u001b[0;34m\u001b[0m\u001b[0;34m\u001b[0m\u001b[0m\n\u001b[1;32m    900\u001b[0m             [params], self._service_ver, context)\n",
      "\u001b[0;32m/usr/local/lib/python3.8/site-packages/cobrakbase/Workspace/baseclient.py\u001b[0m in \u001b[0;36mcall_method\u001b[0;34m(self, service_method, args, service_ver, context)\u001b[0m\n\u001b[1;32m    266\u001b[0m         \u001b[0murl\u001b[0m \u001b[0;34m=\u001b[0m \u001b[0mself\u001b[0m\u001b[0;34m.\u001b[0m\u001b[0m_get_service_url\u001b[0m\u001b[0;34m(\u001b[0m\u001b[0mservice_method\u001b[0m\u001b[0;34m,\u001b[0m \u001b[0mservice_ver\u001b[0m\u001b[0;34m)\u001b[0m\u001b[0;34m\u001b[0m\u001b[0;34m\u001b[0m\u001b[0m\n\u001b[1;32m    267\u001b[0m         \u001b[0mcontext\u001b[0m \u001b[0;34m=\u001b[0m \u001b[0mself\u001b[0m\u001b[0;34m.\u001b[0m\u001b[0m_set_up_context\u001b[0m\u001b[0;34m(\u001b[0m\u001b[0mservice_ver\u001b[0m\u001b[0;34m,\u001b[0m \u001b[0mcontext\u001b[0m\u001b[0;34m)\u001b[0m\u001b[0;34m\u001b[0m\u001b[0;34m\u001b[0m\u001b[0m\n\u001b[0;32m--> 268\u001b[0;31m         \u001b[0;32mreturn\u001b[0m \u001b[0mself\u001b[0m\u001b[0;34m.\u001b[0m\u001b[0m_call\u001b[0m\u001b[0;34m(\u001b[0m\u001b[0murl\u001b[0m\u001b[0;34m,\u001b[0m \u001b[0mservice_method\u001b[0m\u001b[0;34m,\u001b[0m \u001b[0margs\u001b[0m\u001b[0;34m,\u001b[0m \u001b[0mcontext\u001b[0m\u001b[0;34m)\u001b[0m\u001b[0;34m\u001b[0m\u001b[0;34m\u001b[0m\u001b[0m\n\u001b[0m",
      "\u001b[0;32m/usr/local/lib/python3.8/site-packages/cobrakbase/Workspace/baseclient.py\u001b[0m in \u001b[0;36m_call\u001b[0;34m(self, url, method, params, context)\u001b[0m\n\u001b[1;32m    181\u001b[0m                 \u001b[0merr\u001b[0m \u001b[0;34m=\u001b[0m \u001b[0mret\u001b[0m\u001b[0;34m.\u001b[0m\u001b[0mjson\u001b[0m\u001b[0;34m(\u001b[0m\u001b[0;34m)\u001b[0m\u001b[0;34m\u001b[0m\u001b[0;34m\u001b[0m\u001b[0m\n\u001b[1;32m    182\u001b[0m                 \u001b[0;32mif\u001b[0m \u001b[0;34m'error'\u001b[0m \u001b[0;32min\u001b[0m \u001b[0merr\u001b[0m\u001b[0;34m:\u001b[0m\u001b[0;34m\u001b[0m\u001b[0;34m\u001b[0m\u001b[0m\n\u001b[0;32m--> 183\u001b[0;31m                     \u001b[0;32mraise\u001b[0m \u001b[0mServerError\u001b[0m\u001b[0;34m(\u001b[0m\u001b[0;34m**\u001b[0m\u001b[0merr\u001b[0m\u001b[0;34m[\u001b[0m\u001b[0;34m'error'\u001b[0m\u001b[0;34m]\u001b[0m\u001b[0;34m)\u001b[0m\u001b[0;34m\u001b[0m\u001b[0;34m\u001b[0m\u001b[0m\n\u001b[0m\u001b[1;32m    184\u001b[0m                 \u001b[0;32melse\u001b[0m\u001b[0;34m:\u001b[0m\u001b[0;34m\u001b[0m\u001b[0;34m\u001b[0m\u001b[0m\n\u001b[1;32m    185\u001b[0m                     \u001b[0;32mraise\u001b[0m \u001b[0mServerError\u001b[0m\u001b[0;34m(\u001b[0m\u001b[0;34m'Unknown'\u001b[0m\u001b[0;34m,\u001b[0m \u001b[0;36m0\u001b[0m\u001b[0;34m,\u001b[0m \u001b[0mret\u001b[0m\u001b[0;34m.\u001b[0m\u001b[0mtext\u001b[0m\u001b[0;34m)\u001b[0m\u001b[0;34m\u001b[0m\u001b[0;34m\u001b[0m\u001b[0m\n",
      "\u001b[0;31mServerError\u001b[0m: JSONRPCError: -32400. Token validation failed: Login failed! Server responded with code 401 Unauthorized\nus.kbase.auth.AuthException: Login failed! Server responded with code 401 Unauthorized\n\tat us.kbase.auth.AuthService.fetchUser(AuthService.java:344)\n\tat us.kbase.auth.AuthService.validateToken(AuthService.java:428)\n\tat us.kbase.auth.ConfigurableAuthService.validateToken(ConfigurableAuthService.java:210)\n\tat us.kbase.common.service.JsonServerServlet$DefaultAuthenticationHandler.validateToken(JsonServerServlet.java:273)\n\tat us.kbase.common.service.JsonServerServlet.validateToken(JsonServerServlet.java:719)\n\tat us.kbase.common.service.JsonServerServlet.processRpcCall(JsonServerServlet.java:633)\n\tat us.kbase.common.service.JsonServerServlet.doPost(JsonServerServlet.java:553)\n\tat javax.servlet.http.HttpServlet.service(HttpServlet.java:660)\n\tat javax.servlet.http.HttpServlet.service(HttpServlet.java:741)\n\tat org.apache.catalina.core.ApplicationFilterChain.internalDoFilter(ApplicationFilterChain.java:231)\n\tat org.apache.catalina.core.ApplicationFilterChain.doFilter(ApplicationFilterChain.java:166)\n\tat org.apache.tomcat.websocket.server.WsFilter.doFilter(WsFilter.java:52)\n\tat org.apache.catalina.core.ApplicationFilterChain.internalDoFilter(ApplicationFilterChain.java:193)\n\tat org.apache.catalina.core.ApplicationFilterChain.doFilter(ApplicationFilterChain.java:166)\n\tat org.apache.catalina.core.StandardWrapperValve.invoke(StandardWrapperValve.java:200)\n\tat org.apache.catalina.core.StandardContextValve.invoke(StandardContextValve.java:96)\n\tat org.apache.catalina.authenticator.AuthenticatorBase.invoke(AuthenticatorBase.java:543)\n\tat org.apache.catalina.core.StandardHostValve.invoke(StandardHostValve.java:139)\n\tat org.apache.catalina.valves.ErrorReportValve.invoke(ErrorReportValve.java:81)\n\tat org.apache.catalina.valves.AbstractAccessLogValve.invoke(AbstractAccessLogValve.java:678)\n\tat org.apache.catalina.core.StandardEngineValve.invoke(StandardEngineValve.java:87)\n\tat org.apache.catalina.connector.CoyoteAdapter.service(CoyoteAdapter.java:343)\n\tat org.apache.coyote.http11.Http11Processor.service(Http11Processor.java:609)\n\tat org.apache.coyote.AbstractProcessorLight.process(AbstractProcessorLight.java:65)\n\tat org.apache.coyote.AbstractProtocol$ConnectionHandler.process(AbstractProtocol.java:810)\n\tat org.apache.tomcat.util.net.Nio2Endpoint$SocketProcessor.doRun(Nio2Endpoint.java:1630)\n\tat org.apache.tomcat.util.net.SocketProcessorBase.run(SocketProcessorBase.java:49)\n\tat org.apache.tomcat.util.net.AbstractEndpoint.processSocket(AbstractEndpoint.java:1082)\n\tat org.apache.tomcat.util.net.Nio2Endpoint$Nio2SocketWrapper$2.completed(Nio2Endpoint.java:566)\n\tat org.apache.tomcat.util.net.Nio2Endpoint$Nio2SocketWrapper$2.completed(Nio2Endpoint.java:544)\n\tat sun.nio.ch.Invoker.invokeUnchecked(Invoker.java:126)\n\tat sun.nio.ch.Invoker$2.run(Invoker.java:218)\n\tat sun.nio.ch.AsynchronousChannelGroupImpl$1.run(AsynchronousChannelGroupImpl.java:112)\n\tat java.util.concurrent.ThreadPoolExecutor.runWorker(ThreadPoolExecutor.java:1149)\n\tat java.util.concurrent.ThreadPoolExecutor$Worker.run(ThreadPoolExecutor.java:624)\n\tat java.lang.Thread.run(Thread.java:748)\n"
     ]
    }
   ],
   "source": [
    "import cobrakbase\n",
    "kbase = cobrakbase.KBaseAPI()\n",
    "em1 = cobrakbase.core.kbasefba.eschermap.EscherMap(to_json(load_json_map('iMM904.SEED_Test.json')))\n",
    "kbase.save_object('iMM904.SEED_TEST', 56171, em1.info.type, em1)"
   ]
  },
  {
   "cell_type": "code",
   "execution_count": 12,
   "id": "3c31bda7-b8f5-4dcd-9b14-c6ba99de7a59",
   "metadata": {
    "tags": []
   },
   "outputs": [
    {
     "ename": "KeyError",
     "evalue": "'bigg_id'",
     "output_type": "error",
     "traceback": [
      "\u001b[0;31m---------------------------------------------------------------------------\u001b[0m",
      "\u001b[0;31mKeyError\u001b[0m                                  Traceback (most recent call last)",
      "\u001b[0;32m<ipython-input-12-4cbc28f32338>\u001b[0m in \u001b[0;36m<module>\u001b[0;34m\u001b[0m\n\u001b[1;32m      1\u001b[0m \u001b[0;32mfor\u001b[0m \u001b[0ms\u001b[0m \u001b[0;32min\u001b[0m \u001b[0mcc\u001b[0m\u001b[0;34m:\u001b[0m\u001b[0;34m\u001b[0m\u001b[0;34m\u001b[0m\u001b[0m\n\u001b[0;32m----> 2\u001b[0;31m     \u001b[0mids\u001b[0m \u001b[0;34m=\u001b[0m \u001b[0;34m{\u001b[0m\u001b[0mnodes\u001b[0m\u001b[0;34m[\u001b[0m\u001b[0mindex\u001b[0m\u001b[0;34m]\u001b[0m\u001b[0;34m[\u001b[0m\u001b[0;34m'bigg_id'\u001b[0m\u001b[0;34m]\u001b[0m \u001b[0;32mfor\u001b[0m \u001b[0mindex\u001b[0m \u001b[0;32min\u001b[0m \u001b[0ms\u001b[0m\u001b[0;34m}\u001b[0m\u001b[0;34m\u001b[0m\u001b[0;34m\u001b[0m\u001b[0m\n\u001b[0m\u001b[1;32m      3\u001b[0m     \u001b[0;32mif\u001b[0m \u001b[0mlen\u001b[0m\u001b[0;34m(\u001b[0m\u001b[0mids\u001b[0m\u001b[0;34m)\u001b[0m \u001b[0;34m>\u001b[0m \u001b[0;36m1\u001b[0m\u001b[0;34m:\u001b[0m\u001b[0;34m\u001b[0m\u001b[0;34m\u001b[0m\u001b[0m\n\u001b[1;32m      4\u001b[0m         \u001b[0mprint\u001b[0m\u001b[0;34m(\u001b[0m\u001b[0mids\u001b[0m\u001b[0;34m)\u001b[0m\u001b[0;34m\u001b[0m\u001b[0;34m\u001b[0m\u001b[0m\n",
      "\u001b[0;32m<ipython-input-12-4cbc28f32338>\u001b[0m in \u001b[0;36m<setcomp>\u001b[0;34m(.0)\u001b[0m\n\u001b[1;32m      1\u001b[0m \u001b[0;32mfor\u001b[0m \u001b[0ms\u001b[0m \u001b[0;32min\u001b[0m \u001b[0mcc\u001b[0m\u001b[0;34m:\u001b[0m\u001b[0;34m\u001b[0m\u001b[0;34m\u001b[0m\u001b[0m\n\u001b[0;32m----> 2\u001b[0;31m     \u001b[0mids\u001b[0m \u001b[0;34m=\u001b[0m \u001b[0;34m{\u001b[0m\u001b[0mnodes\u001b[0m\u001b[0;34m[\u001b[0m\u001b[0mindex\u001b[0m\u001b[0;34m]\u001b[0m\u001b[0;34m[\u001b[0m\u001b[0;34m'bigg_id'\u001b[0m\u001b[0;34m]\u001b[0m \u001b[0;32mfor\u001b[0m \u001b[0mindex\u001b[0m \u001b[0;32min\u001b[0m \u001b[0ms\u001b[0m\u001b[0;34m}\u001b[0m\u001b[0;34m\u001b[0m\u001b[0;34m\u001b[0m\u001b[0m\n\u001b[0m\u001b[1;32m      3\u001b[0m     \u001b[0;32mif\u001b[0m \u001b[0mlen\u001b[0m\u001b[0;34m(\u001b[0m\u001b[0mids\u001b[0m\u001b[0;34m)\u001b[0m \u001b[0;34m>\u001b[0m \u001b[0;36m1\u001b[0m\u001b[0;34m:\u001b[0m\u001b[0;34m\u001b[0m\u001b[0;34m\u001b[0m\u001b[0m\n\u001b[1;32m      4\u001b[0m         \u001b[0mprint\u001b[0m\u001b[0;34m(\u001b[0m\u001b[0mids\u001b[0m\u001b[0;34m)\u001b[0m\u001b[0;34m\u001b[0m\u001b[0;34m\u001b[0m\u001b[0m\n",
      "\u001b[0;31mKeyError\u001b[0m: 'bigg_id'"
     ]
    }
   ],
   "source": [
    "for s in cc:\n",
    "    ids = {nodes[index]['bigg_id'] for index in s}\n",
    "    if len(ids) > 1:\n",
    "        print(ids)"
   ]
  },
  {
   "cell_type": "code",
   "execution_count": null,
   "id": "aa14f08a-ddf6-49d9-a231-15c1f9970d64",
   "metadata": {},
   "outputs": [],
   "source": [
    "import networkx as nx\n",
    "def compute_all_metabolite_clusters(nodes):\n",
    "    g = nx.Graph()\n",
    "    for node_id in escher_graph['nodes']:\n",
    "        node = escher_graph['nodes'][node_id]\n",
    "        if not node_id in g.nodes and node['node_type'] == node_type:\n",
    "            node = escher_graph['nodes'][node_id]\n",
    "            coords_1 = (node['x'], node['y'])\n",
    "            cluster = self.get_cluster(escher_graph, coords_1, self.max_distance, node_type)\n",
    "            cluster = list(cluster)\n",
    "            if len(cluster) > 1:\n",
    "                prev = cluster[0]\n",
    "                for i in range(len(cluster) - 1):\n",
    "                    g.add_edge(prev, cluster[i + 1])\n",
    "\n",
    "    cc = list(nx.algorithms.connected_components(g))\n",
    "    return cc"
   ]
  }
 ],
 "metadata": {
  "kernelspec": {
   "display_name": "Python 3",
   "language": "python",
   "name": "python3"
  },
  "language_info": {
   "codemirror_mode": {
    "name": "ipython",
    "version": 3
   },
   "file_extension": ".py",
   "mimetype": "text/x-python",
   "name": "python",
   "nbconvert_exporter": "python",
   "pygments_lexer": "ipython3",
   "version": "3.8.10"
  }
 },
 "nbformat": 4,
 "nbformat_minor": 5
}
