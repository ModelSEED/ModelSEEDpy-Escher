{
 "cells": [
  {
   "cell_type": "code",
   "execution_count": 1,
   "id": "a81ff5da-fce3-4c4c-b651-51bce823f3a0",
   "metadata": {},
   "outputs": [],
   "source": [
    "import modelseedpy_escher"
   ]
  },
  {
   "cell_type": "code",
   "execution_count": 3,
   "id": "31b11d4d-a751-4f74-a17a-41448ec12ce8",
   "metadata": {},
   "outputs": [],
   "source": [
    "from modelseedpy_escher.io import load_json_map"
   ]
  },
  {
   "cell_type": "code",
   "execution_count": 156,
   "id": "9396d442-a202-40e3-a43e-5502e5db0afc",
   "metadata": {},
   "outputs": [],
   "source": [
    "em1 = load_json_map('map_merge1_small.json')\n",
    "em2 = load_json_map('map_merge2_small.json')"
   ]
  },
  {
   "cell_type": "code",
   "execution_count": 157,
   "id": "2f45b831-1172-45d1-940b-5026c6629285",
   "metadata": {},
   "outputs": [],
   "source": [
    "from modelseedpy_escher.map import EscherCluster"
   ]
  },
  {
   "cell_type": "code",
   "execution_count": 158,
   "id": "d973731d-7702-445b-ac4f-739b6f54250f",
   "metadata": {},
   "outputs": [],
   "source": [
    "cluster = EscherCluster()"
   ]
  },
  {
   "cell_type": "code",
   "execution_count": 159,
   "id": "0fcd0008-0369-48b5-95ad-8119419310ea",
   "metadata": {},
   "outputs": [],
   "source": [
    "import networkx as nx"
   ]
  },
  {
   "cell_type": "code",
   "execution_count": null,
   "id": "e4529a39-bbc4-48ea-b2ee-98a119fe699d",
   "metadata": {},
   "outputs": [],
   "source": []
  },
  {
   "cell_type": "code",
   "execution_count": 160,
   "id": "e27ac27b-586f-442e-a63e-706eb266bcb9",
   "metadata": {},
   "outputs": [],
   "source": [
    "max_distance = 10\n",
    "maps = [em1, em2]"
   ]
  },
  {
   "cell_type": "code",
   "execution_count": 161,
   "id": "8ce2cf5c-8920-4f92-95bc-6a09aaf18952",
   "metadata": {},
   "outputs": [],
   "source": [
    "nodes = {}\n",
    "index = 0\n",
    "map_stack = []\n",
    "for em in maps:\n",
    "    indexes = set()\n",
    "    for n in em.nodes:\n",
    "        indexes.add(index)\n",
    "        nodes[index] = n\n",
    "        index += 1\n",
    "    map_stack.append(indexes)"
   ]
  },
  {
   "cell_type": "code",
   "execution_count": 162,
   "id": "437ef89f-fa1b-4665-b9e0-9b8b3874f1ee",
   "metadata": {},
   "outputs": [],
   "source": [
    "def get_cluster(nodes, coords_1, max_distance):\n",
    "    cluster = set()\n",
    "    for index in nodes:\n",
    "        node = nodes[index]\n",
    "        coords_2 = (node['x'], node['y'])\n",
    "        dist = EscherCluster.distance(coords_1, coords_2)\n",
    "        if dist < max_distance:\n",
    "            cluster.add(index)\n",
    "    return cluster\n",
    "\n",
    "g = nx.Graph()\n",
    "for index in nodes:\n",
    "    #index_map[index] = set()\n",
    "    node = nodes[index]\n",
    "    coords_1 = (node['x'], node['y'])\n",
    "    cluster = list(get_cluster(nodes, coords_1, max_distance))\n",
    "    if len(cluster) > 1:\n",
    "        prev = cluster[0]\n",
    "        for i in range(len(cluster) - 1):\n",
    "            g.add_edge(prev, cluster[i + 1])\n",
    "cc = list(nx.algorithms.connected_components(g))"
   ]
  },
  {
   "cell_type": "code",
   "execution_count": 119,
   "id": "3c31bda7-b8f5-4dcd-9b14-c6ba99de7a59",
   "metadata": {
    "tags": []
   },
   "outputs": [
    {
     "ename": "KeyError",
     "evalue": "'bigg_id'",
     "output_type": "error",
     "traceback": [
      "\u001b[0;31m---------------------------------------------------------------------------\u001b[0m",
      "\u001b[0;31mKeyError\u001b[0m                                  Traceback (most recent call last)",
      "\u001b[0;32m<ipython-input-119-4cbc28f32338>\u001b[0m in \u001b[0;36m<module>\u001b[0;34m\u001b[0m\n\u001b[1;32m      1\u001b[0m \u001b[0;32mfor\u001b[0m \u001b[0ms\u001b[0m \u001b[0;32min\u001b[0m \u001b[0mcc\u001b[0m\u001b[0;34m:\u001b[0m\u001b[0;34m\u001b[0m\u001b[0;34m\u001b[0m\u001b[0m\n\u001b[0;32m----> 2\u001b[0;31m     \u001b[0mids\u001b[0m \u001b[0;34m=\u001b[0m \u001b[0;34m{\u001b[0m\u001b[0mnodes\u001b[0m\u001b[0;34m[\u001b[0m\u001b[0mindex\u001b[0m\u001b[0;34m]\u001b[0m\u001b[0;34m[\u001b[0m\u001b[0;34m'bigg_id'\u001b[0m\u001b[0;34m]\u001b[0m \u001b[0;32mfor\u001b[0m \u001b[0mindex\u001b[0m \u001b[0;32min\u001b[0m \u001b[0ms\u001b[0m\u001b[0;34m}\u001b[0m\u001b[0;34m\u001b[0m\u001b[0;34m\u001b[0m\u001b[0m\n\u001b[0m\u001b[1;32m      3\u001b[0m     \u001b[0;32mif\u001b[0m \u001b[0mlen\u001b[0m\u001b[0;34m(\u001b[0m\u001b[0mids\u001b[0m\u001b[0;34m)\u001b[0m \u001b[0;34m>\u001b[0m \u001b[0;36m1\u001b[0m\u001b[0;34m:\u001b[0m\u001b[0;34m\u001b[0m\u001b[0;34m\u001b[0m\u001b[0m\n\u001b[1;32m      4\u001b[0m         \u001b[0mprint\u001b[0m\u001b[0;34m(\u001b[0m\u001b[0mids\u001b[0m\u001b[0;34m)\u001b[0m\u001b[0;34m\u001b[0m\u001b[0;34m\u001b[0m\u001b[0m\n",
      "\u001b[0;32m<ipython-input-119-4cbc28f32338>\u001b[0m in \u001b[0;36m<setcomp>\u001b[0;34m(.0)\u001b[0m\n\u001b[1;32m      1\u001b[0m \u001b[0;32mfor\u001b[0m \u001b[0ms\u001b[0m \u001b[0;32min\u001b[0m \u001b[0mcc\u001b[0m\u001b[0;34m:\u001b[0m\u001b[0;34m\u001b[0m\u001b[0;34m\u001b[0m\u001b[0m\n\u001b[0;32m----> 2\u001b[0;31m     \u001b[0mids\u001b[0m \u001b[0;34m=\u001b[0m \u001b[0;34m{\u001b[0m\u001b[0mnodes\u001b[0m\u001b[0;34m[\u001b[0m\u001b[0mindex\u001b[0m\u001b[0;34m]\u001b[0m\u001b[0;34m[\u001b[0m\u001b[0;34m'bigg_id'\u001b[0m\u001b[0;34m]\u001b[0m \u001b[0;32mfor\u001b[0m \u001b[0mindex\u001b[0m \u001b[0;32min\u001b[0m \u001b[0ms\u001b[0m\u001b[0;34m}\u001b[0m\u001b[0;34m\u001b[0m\u001b[0;34m\u001b[0m\u001b[0m\n\u001b[0m\u001b[1;32m      3\u001b[0m     \u001b[0;32mif\u001b[0m \u001b[0mlen\u001b[0m\u001b[0;34m(\u001b[0m\u001b[0mids\u001b[0m\u001b[0;34m)\u001b[0m \u001b[0;34m>\u001b[0m \u001b[0;36m1\u001b[0m\u001b[0;34m:\u001b[0m\u001b[0;34m\u001b[0m\u001b[0;34m\u001b[0m\u001b[0m\n\u001b[1;32m      4\u001b[0m         \u001b[0mprint\u001b[0m\u001b[0;34m(\u001b[0m\u001b[0mids\u001b[0m\u001b[0;34m)\u001b[0m\u001b[0;34m\u001b[0m\u001b[0;34m\u001b[0m\u001b[0m\n",
      "\u001b[0;31mKeyError\u001b[0m: 'bigg_id'"
     ]
    }
   ],
   "source": [
    "for s in cc:\n",
    "    ids = {nodes[index]['bigg_id'] for index in s}\n",
    "    if len(ids) > 1:\n",
    "        print(ids)"
   ]
  },
  {
   "cell_type": "code",
   "execution_count": 163,
   "id": "b6816fee-6af6-4cbb-aa79-e9731b977f71",
   "metadata": {},
   "outputs": [],
   "source": [
    "pointers = {}\n",
    "for c in cc:\n",
    "    for index1 in c:\n",
    "        pointers[index1] = set()\n",
    "        for index2 in c:\n",
    "            if index1 != index2:\n",
    "                pointers[index1].add(index2)"
   ]
  },
  {
   "cell_type": "code",
   "execution_count": 167,
   "id": "2fc71a54-8c59-4b20-be63-3a7eb6fe37fb",
   "metadata": {},
   "outputs": [
    {
     "data": {
      "text/plain": [
       "{'x': -887.5064892326659,\n",
       " 'y': 3923.422671795898,\n",
       " 'width': 641.8232673410639,\n",
       " 'height': 1467.2343679853511}"
      ]
     },
     "execution_count": 167,
     "metadata": {},
     "output_type": "execute_result"
    }
   ],
   "source": [
    "em1.escher_graph['canvas']"
   ]
  },
  {
   "cell_type": "code",
   "execution_count": 196,
   "id": "15dab569-12eb-4eac-a186-dd479c9a5107",
   "metadata": {},
   "outputs": [
    {
     "data": {
      "text/plain": [
       "{'x': -887.5064892326659,\n",
       " 'y': 3923.422671795898,\n",
       " 'width': 641.8232673410639,\n",
       " 'height': 1467.2343679853511}"
      ]
     },
     "execution_count": 196,
     "metadata": {},
     "output_type": "execute_result"
    }
   ],
   "source": [
    "em1.escher_graph['canvas']"
   ]
  },
  {
   "cell_type": "code",
   "execution_count": 197,
   "id": "43450c15-a5cc-446d-ac00-1df40c708f22",
   "metadata": {},
   "outputs": [
    {
     "data": {
      "text/plain": [
       "{'x': -887.5064892326659,\n",
       " 'y': 3036.631167889648,\n",
       " 'width': 758.9677528146967,\n",
       " 'height': 2339.039543766601}"
      ]
     },
     "execution_count": 197,
     "metadata": {},
     "output_type": "execute_result"
    }
   ],
   "source": [
    "em2.escher_graph['canvas']"
   ]
  },
  {
   "cell_type": "code",
   "execution_count": 198,
   "id": "265722e6-61eb-48fc-a8c2-7920357734f9",
   "metadata": {},
   "outputs": [],
   "source": [
    "def compute_canvas(a):\n",
    "    pass"
   ]
  },
  {
   "cell_type": "code",
   "execution_count": 199,
   "id": "d2150da3-f99c-4603-ab68-827e849b8c5e",
   "metadata": {},
   "outputs": [
    {
     "data": {
      "text/plain": [
       "31"
      ]
     },
     "execution_count": 199,
     "metadata": {},
     "output_type": "execute_result"
    }
   ],
   "source": [
    "em3 = modelseedpy_escher.core.EscherMap([{'map_name': '', 'map_id': '', 'map_description': '', 'homepage': '', 'schema': ''}, \n",
    "                                         {'reactions': {}, 'nodes': {}, 'text_labels': {}, \n",
    "                                          'canvas': {'x': -887.5064892326659,\n",
    " 'y': 3923.422671795898,\n",
    " 'width': 641.8232673410639,\n",
    " 'height': 1467.2343679853511}\n",
    "                                         }\n",
    "                                        ])\n",
    "visited = set()\n",
    "em_uid = 0\n",
    "import copy\n",
    "for stack in map_stack:\n",
    "    for index in stack:\n",
    "        if index not in visited:\n",
    "            #print('copy', nodes[index]['node_type'])\n",
    "            em3.escher_graph['nodes'][em_uid] = copy.deepcopy(nodes[index])\n",
    "            em3.escher_graph['nodes'][em_uid]['uid'] = em_uid\n",
    "            em_uid += 1\n",
    "            visited.add(index)\n",
    "            if index in pointers:\n",
    "                visited |= pointers[index]\n",
    "    #copy seg\n",
    "len(em3.escher_graph['nodes'])"
   ]
  },
  {
   "cell_type": "code",
   "execution_count": 208,
   "id": "768c382b-d636-4ab3-be30-48ce4f02171c",
   "metadata": {},
   "outputs": [
    {
     "data": {
      "text/plain": [
       "{'from_node_id': '2078020',\n",
       " 'to_node_id': '2078027',\n",
       " 'b1': {'y': 4433.4797692187185, 'x': -638.5144458276449},\n",
       " 'b2': {'y': 4452.4802574999685, 'x': -597.5021625024496}}"
      ]
     },
     "execution_count": 208,
     "metadata": {},
     "output_type": "execute_result"
    }
   ],
   "source": [
    "for seg_uid in reaction['segments']:\n",
    "    seg = reaction['segments'][seg_uid]\n",
    "    uid_from = seg['from_node_id']\n",
    "    uid_to = seg['to_node_id']\n",
    "    index_from = None\n",
    "    index_to = None\n",
    "seg"
   ]
  },
  {
   "cell_type": "code",
   "execution_count": 201,
   "id": "9995d773-57db-4d2f-ad97-2b5e3eadc8e8",
   "metadata": {
    "collapsed": true,
    "jupyter": {
     "outputs_hidden": true
    },
    "tags": []
   },
   "outputs": [
    {
     "data": {
      "text/plain": [
       "{'name': 'Fatty-acid-CoA ligase (octadecenoate transport via vectoral Co-A coupling)',\n",
       " 'bigg_id': 'FACOAL181t2pp',\n",
       " 'reversibility': False,\n",
       " 'label_x': -608.5144458276449,\n",
       " 'label_y': 4370.3782067187185,\n",
       " 'gene_reaction_rule': 'b1805 or b1701',\n",
       " 'genes': [{'bigg_id': 'b1805', 'name': 'fadD'},\n",
       "  {'bigg_id': 'b1701', 'name': 'fadK'}],\n",
       " 'metabolites': [{'coefficient': -1, 'bigg_id': 'atp_c'},\n",
       "  {'coefficient': 1, 'bigg_id': 'amp_c'},\n",
       "  {'coefficient': -1, 'bigg_id': 'coa_c'},\n",
       "  {'coefficient': 1, 'bigg_id': 'odecoa_c'},\n",
       "  {'coefficient': 1, 'bigg_id': 'ppi_c'},\n",
       "  {'coefficient': -1, 'bigg_id': 'h_p'},\n",
       "  {'coefficient': -1, 'bigg_id': 'ocdcea_p'},\n",
       "  {'coefficient': 1, 'bigg_id': 'h_c'}],\n",
       " 'segments': {'2587': {'from_node_id': '2078018',\n",
       "   'to_node_id': '2078019',\n",
       "   'b1': None,\n",
       "   'b2': None},\n",
       "  '2588': {'from_node_id': '2078020',\n",
       "   'to_node_id': '2078019',\n",
       "   'b1': None,\n",
       "   'b2': None},\n",
       "  '2589': {'from_node_id': '2078020',\n",
       "   'to_node_id': '2078017',\n",
       "   'b1': {'y': 4429.4797692187185, 'x': -638.5144458276449},\n",
       "   'b2': {'y': 4848.7707848437185, 'x': -645.8436847192464}},\n",
       "  '2590': {'from_node_id': '2078018',\n",
       "   'to_node_id': '2078021',\n",
       "   'b1': {'y': 4321.4797692187185, 'x': -638.5144458276449},\n",
       "   'b2': {'y': 4160.7807946093435, 'x': -637.5267291528402}},\n",
       "  '2591': {'from_node_id': '2078018',\n",
       "   'to_node_id': '2078022',\n",
       "   'b1': {'y': 4321.4797692187185, 'x': -638.5144458276449},\n",
       "   'b2': {'y': 4302.4797692187185, 'x': -617.5144458276449}},\n",
       "  '2592': {'from_node_id': '2078020',\n",
       "   'to_node_id': '2078023',\n",
       "   'b1': {'y': 4433.4797692187185, 'x': -638.5144458276449},\n",
       "   'b2': {'y': 4474.4675621874685, 'x': -659.5144458276449}},\n",
       "  '2593': {'from_node_id': '2078018',\n",
       "   'to_node_id': '2078024',\n",
       "   'b1': {'y': 4325.4797692187185, 'x': -638.5144458276449},\n",
       "   'b2': {'y': 4145.6101403124685, 'x': -633.6282916528402}},\n",
       "  '2594': {'from_node_id': '2078018',\n",
       "   'to_node_id': '2078025',\n",
       "   'b1': {'y': 4321.4797692187185, 'x': -638.5144458276449},\n",
       "   'b2': {'y': 4302.4797692187185, 'x': -575.5144458276449}},\n",
       "  '2595': {'from_node_id': '2078020',\n",
       "   'to_node_id': '2078026',\n",
       "   'b1': {'y': 4433.4797692187185, 'x': -638.5144458276449},\n",
       "   'b2': {'y': 4474.4675621874685, 'x': -617.5144458276449}},\n",
       "  '2596': {'from_node_id': '2078020',\n",
       "   'to_node_id': '2078027',\n",
       "   'b1': {'y': 4433.4797692187185, 'x': -638.5144458276449},\n",
       "   'b2': {'y': 4452.4802574999685, 'x': -597.5021625024496}}},\n",
       " 'uid': '2076258'}"
      ]
     },
     "execution_count": 201,
     "metadata": {},
     "output_type": "execute_result"
    }
   ],
   "source": [
    "for em in maps:\n",
    "    for reaction in em.reactions:\n",
    "        break\n",
    "reaction"
   ]
  },
  {
   "cell_type": "code",
   "execution_count": 200,
   "id": "2829a424-e0f7-4c00-b732-4a5bdf59aa89",
   "metadata": {},
   "outputs": [
    {
     "name": "stdout",
     "output_type": "stream",
     "text": [
      "Some functions (e.g. saving maps) are not available in the notebook. Use Builder.display_in_browser() for a full-featured Escher Builder.\n"
     ]
    },
    {
     "data": {
      "text/html": [
       "\n",
       "\n",
       "\n",
       "  \n",
       "  \n",
       "\n",
       "  \n",
       "  \n",
       "    <link rel=\"stylesheet\" href=\"//unpkg.com/escher-vis@1.6.0/css/dist/builder.min.css\"/>\n",
       "  \n",
       "\n",
       "\n",
       "\n",
       "  <div style=\"height: 500px; width: 100%;\" id=\"kgnlkubtyf\"></div>\n",
       "\n",
       "  <script>\n",
       "   /* Closure to make sure data only applies to this map. */\n",
       "   (function() {\n",
       "       /* data from python */\n",
       "       var data = get_data();\n",
       "\n",
       "       function load_lib(url, callback) {\n",
       "           /** Dynamically load a JavaScript file */\n",
       "           var s = document.createElement('script');\n",
       "           s.src = url;\n",
       "           s.async = true;\n",
       "           s.onreadystatechange = s.onload = callback;\n",
       "           s.onerror = function() {\n",
       "               console.warn('Failed to load library ' + url);\n",
       "           };\n",
       "           document.getElementsByTagName('head')[0].appendChild(s);\n",
       "       }\n",
       "\n",
       "       function check_global_and_load(name, url, callback) {\n",
       "           /** Look for the name in the global scope. If it isn't present, then\n",
       "              load the library at url. Returns the object. */\n",
       "           if (window[name] !== undefined) {\n",
       "               callback(window[name]);\n",
       "           } else {\n",
       "               load_lib(url, function() {\n",
       "                   callback(window[name]);\n",
       "               });\n",
       "           }\n",
       "       }\n",
       "\n",
       "       function draw_escher(escher) {\n",
       "           /** Get data and draw */\n",
       "           var load = function(t_map_data, t_model_data, t_options) {\n",
       "               escher.Builder(t_map_data, t_model_data, data.builder_embed_css,\n",
       "                              escher.libs.d3_select('#' + data.id), t_options);\n",
       "           }\n",
       "\n",
       "           // for the static site, use the url attributes for the map and model\n",
       "           // information\n",
       "           if (data.static_site_index !== null) {\n",
       "               escher.static.load_map_model_from_url(data.map_download_url, data.model_download_url,\n",
       "                                                     data.static_site_index, data.options, load);\n",
       "           } else {\n",
       "               load(data.map_data, data.model_data, data.options);\n",
       "           }\n",
       "       }\n",
       "\n",
       "       // Load dependencies and draw\n",
       "       if (typeof define === 'function' && define.amd) {\n",
       "           // require.js is available: use it to load escher\n",
       "           require.config({\n",
       "             paths: {\n",
       "               escher: '//unpkg.com/escher-vis@1.6.0/js/dist/escher.min',\n",
       "             },\n",
       "             // Override urlArgs that adds ?v= to the end of the escher URL and\n",
       "             // messes up unpkg links. Honestly, I'm not sure if this will lead\n",
       "             // to downstream bugs in the notebook, but they really shouldn't be\n",
       "             // doing this cache-busting anyway.\n",
       "             urlArgs: null,\n",
       "           })\n",
       "           require([ 'escher' ], function(escher) {\n",
       "               draw_escher(escher);\n",
       "           })\n",
       "       } else {\n",
       "           // require.js not available: dynamically load escher\n",
       "           check_global_and_load('escher', '//unpkg.com/escher-vis@1.6.0/js/dist/escher.min.js', function(escher) {\n",
       "               draw_escher(escher);\n",
       "           })\n",
       "       }\n",
       "\n",
       "       // Put this at the end so Chrome doesn't cut off the code above.\n",
       "       function get_data() {\n",
       "           /** Return the data passed in by the Python module. */\n",
       "           return {\n",
       "               id: JSON.parse('\"kgnlkubtyf\"'),\n",
       "               map_download_url: JSON.parse('\"//escher.github.io/1-0-0/5/maps/\"'),\n",
       "               model_download_url: JSON.parse('\"//escher.github.io/1-0-0/5/models/\"'),\n",
       "               options: JSON.parse('{\"menu\": \"all\", \"enable_keys\": false, \"enable_editing\": true, \"scroll_behavior\": \"none\", \"fill_screen\": false, \"ignore_bootstrap\": true, \"never_ask_before_quit\": true, \"reaction_data\": null, \"metabolite_data\": null, \"gene_data\": null}'),\n",
       "               builder_embed_css: JSON.parse('null'),\n",
       "               map_data: JSON.parse('[{\"map_name\": \"\", \"map_id\": \"\", \"map_description\": \"\", \"homepage\": \"\", \"schema\": \"\"}, {\"reactions\": {}, \"nodes\": {\"0\": {\"node_type\": \"metabolite\", \"x\": -645.8436847192464, \"y\": 4901.2707848437185, \"bigg_id\": \"odecoa_c\", \"name\": \"Octadecenoyl-CoA (n-C18:1CoA)\", \"label_x\": -739.8191180688558, \"label_y\": 4946.7785973437185, \"node_is_primary\": true, \"uid\": 0}, \"1\": {\"node_type\": \"multimarker\", \"x\": -638.5144458276449, \"y\": 4357.4797692187185, \"uid\": 1}, \"2\": {\"node_type\": \"midmarker\", \"x\": -638.5144458276449, \"y\": 4377.4797692187185, \"uid\": 2}, \"3\": {\"node_type\": \"multimarker\", \"x\": -638.5144458276449, \"y\": 4397.4797692187185, \"uid\": 3}, \"4\": {\"node_type\": \"metabolite\", \"x\": -700.5021625024496, \"y\": 4098.9072594530935, \"bigg_id\": \"h_p\", \"name\": \"H+\", \"label_x\": -763.339183376473, \"label_y\": 4106.4641442187185, \"node_is_primary\": false, \"uid\": 4}, \"5\": {\"node_type\": \"metabolite\", \"x\": -598.5144458276449, \"y\": 4267.4797692187185, \"bigg_id\": \"atp_c\", \"name\": \"ATP\", \"label_x\": -568.5144458276449, \"label_y\": 4277.4797692187185, \"node_is_primary\": false, \"uid\": 5}, \"6\": {\"node_type\": \"metabolite\", \"x\": -678.5144458276449, \"y\": 4509.4675621874685, \"bigg_id\": \"ppi_c\", \"name\": \"Diphosphate\", \"label_x\": -748.6807055932699, \"label_y\": 4534.1262535937185, \"node_is_primary\": false, \"uid\": 6}, \"7\": {\"node_type\": \"metabolite\", \"x\": -633.6282916528402, \"y\": 4093.1101403124685, \"bigg_id\": \"ocdcea_p\", \"name\": \"Octadecenoate (n-C18:1)\", \"label_x\": -603.6282916528402, \"label_y\": 4103.1101403124685, \"node_is_primary\": true, \"uid\": 7}, \"8\": {\"node_type\": \"metabolite\", \"x\": -518.5144458276449, \"y\": 4267.4797692187185, \"bigg_id\": \"coa_c\", \"name\": \"Coenzyme A\", \"label_x\": -488.51444582764486, \"label_y\": 4277.4797692187185, \"node_is_primary\": false, \"uid\": 8}, \"9\": {\"node_type\": \"metabolite\", \"x\": -598.5144458276449, \"y\": 4509.4675621874685, \"bigg_id\": \"h_c\", \"name\": \"H+\", \"label_x\": -568.5144458276449, \"label_y\": 4519.4675621874685, \"node_is_primary\": false, \"uid\": 9}, \"10\": {\"node_type\": \"metabolite\", \"x\": -540.5021625024496, \"y\": 4487.4802574999685, \"bigg_id\": \"amp_c\", \"name\": \"AMP\", \"label_x\": -510.50216250244955, \"label_y\": 4497.4802574999685, \"node_is_primary\": false, \"uid\": 10}, \"11\": {\"node_type\": \"multimarker\", \"x\": -645.8436847192464, \"y\": 5056.2707848437185, \"uid\": 11}, \"12\": {\"node_type\": \"midmarker\", \"x\": -645.8436847192464, \"y\": 5076.2707848437185, \"uid\": 12}, \"13\": {\"node_type\": \"multimarker\", \"x\": -645.8436847192464, \"y\": 5096.2707848437185, \"uid\": 13}, \"14\": {\"node_type\": \"metabolite\", \"x\": -565.8436847192464, \"y\": 5181.2707848437185, \"bigg_id\": \"coa_c\", \"name\": \"Coenzyme A\", \"label_x\": -550.8436847192464, \"label_y\": 5181.2707848437185, \"node_is_primary\": false, \"uid\": 14}, \"15\": {\"node_type\": \"metabolite\", \"x\": -725.8436847192464, \"y\": 4971.2707848437185, \"bigg_id\": \"h2o_c\", \"name\": \"H2O H2O\", \"label_x\": -770.8436847192464, \"label_y\": 5001.2707848437185, \"node_is_primary\": false, \"uid\": 15}, \"16\": {\"node_type\": \"metabolite\", \"x\": -725.8436847192464, \"y\": 5181.2707848437185, \"bigg_id\": \"h_c\", \"name\": \"H+\", \"label_x\": -752.8436847192464, \"label_y\": 5211.2707848437185, \"node_is_primary\": false, \"uid\": 16}, \"17\": {\"node_type\": \"metabolite\", \"x\": -645.8436847192464, \"y\": 5251.2707848437185, \"bigg_id\": \"ocdcea_c\", \"name\": \"Octadecenoate (n-C18:1)\", \"label_x\": -620.8436847192464, \"label_y\": 5251.2707848437185, \"node_is_primary\": true, \"uid\": 17}, \"18\": {\"node_type\": \"multimarker\", \"x\": -633.6282916528402, \"y\": 3898.1101403124685, \"uid\": 18}, \"19\": {\"node_type\": \"midmarker\", \"x\": -633.6282916528402, \"y\": 3918.1101403124685, \"uid\": 19}, \"20\": {\"node_type\": \"multimarker\", \"x\": -633.6282916528402, \"y\": 3938.1101403124685, \"uid\": 20}, \"21\": {\"node_type\": \"metabolite\", \"x\": -633.6282916528402, \"y\": 3743.1101403124685, \"bigg_id\": \"1agpg181_p\", \"name\": \"1-Acyl-sn-glycero-3-phosphoglycerol (n-C18:1)\", \"label_x\": -608.6282916528402, \"label_y\": 3743.1101403124685, \"node_is_primary\": true, \"uid\": 21}, \"22\": {\"node_type\": \"metabolite\", \"x\": -713.6282916528402, \"y\": 4023.1101403124685, \"bigg_id\": \"g3pg_p\", \"name\": \"Glycerophosphoglycerol\", \"label_x\": -767.6282916528402, \"label_y\": 4053.1101403124685, \"node_is_primary\": false, \"uid\": 22}, \"23\": {\"node_type\": \"metabolite\", \"x\": -711.0326495629964, \"y\": 3816.9184899218435, \"bigg_id\": \"h2o_p\", \"name\": \"H2O H2O\", \"label_x\": -730.3062091333089, \"label_y\": 3797.8774742968435, \"node_is_primary\": false, \"uid\": 23}, \"24\": {\"node_type\": \"metabolite\", \"x\": -718.6489825708089, \"y\": 3978.6816735155935, \"bigg_id\": \"h_p\", \"name\": \"H+\", \"label_x\": -758.2327228051839, \"label_y\": 3957.1018395312185, \"node_is_primary\": false, \"uid\": 24}, \"25\": {\"node_type\": \"multimarker\", \"x\": -633.6282916528402, \"y\": 3548.1101403124685, \"uid\": 25}, \"26\": {\"node_type\": \"midmarker\", \"x\": -633.6282916528402, \"y\": 3568.1101403124685, \"uid\": 26}, \"27\": {\"node_type\": \"multimarker\", \"x\": -633.6282916528402, \"y\": 3588.1101403124685, \"uid\": 27}, \"28\": {\"node_type\": \"metabolite\", \"x\": -553.6282916528402, \"y\": 3463.1101403124685, \"bigg_id\": \"h2o_p\", \"name\": \"H2O H2O\", \"label_x\": -538.6282916528402, \"label_y\": 3463.1101403124685, \"node_is_primary\": false, \"uid\": 28}, \"29\": {\"node_type\": \"metabolite\", \"x\": -713.6282916528402, \"y\": 3673.1101403124685, \"bigg_id\": \"h_p\", \"name\": \"H+\", \"label_x\": -740.6282916528402, \"label_y\": 3703.1101403124685, \"node_is_primary\": false, \"uid\": 29}, \"30\": {\"node_type\": \"metabolite\", \"x\": -633.6282916528402, \"y\": 3393.1101403124685, \"bigg_id\": \"pg181_p\", \"name\": \"Phosphatidylglycerol (dioctadec-11-enoyl, n-C18:1)\", \"label_x\": -608.6282916528402, \"label_y\": 3393.1101403124685, \"node_is_primary\": true, \"uid\": 30}}, \"text_labels\": {}, \"canvas\": {\"x\": -887.5064892326659, \"y\": 3923.422671795898, \"width\": 641.8232673410639, \"height\": 1467.2343679853511}}]'),\n",
       "               model_data: JSON.parse('null'),\n",
       "               static_site_index: JSON.parse('null'),\n",
       "           };\n",
       "       }\n",
       "   })();\n",
       "  </script>\n"
      ],
      "text/plain": [
       "<IPython.core.display.HTML object>"
      ]
     },
     "execution_count": 200,
     "metadata": {},
     "output_type": "execute_result"
    }
   ],
   "source": [
    "em3.display_in_notebook(True)"
   ]
  },
  {
   "cell_type": "code",
   "execution_count": null,
   "id": "aa14f08a-ddf6-49d9-a231-15c1f9970d64",
   "metadata": {},
   "outputs": [],
   "source": [
    "import networkx as nx\n",
    "def compute_all_metabolite_clusters(nodes):\n",
    "    g = nx.Graph()\n",
    "    for node_id in escher_graph['nodes']:\n",
    "        node = escher_graph['nodes'][node_id]\n",
    "        if not node_id in g.nodes and node['node_type'] == node_type:\n",
    "            node = escher_graph['nodes'][node_id]\n",
    "            coords_1 = (node['x'], node['y'])\n",
    "            cluster = self.get_cluster(escher_graph, coords_1, self.max_distance, node_type)\n",
    "            cluster = list(cluster)\n",
    "            if len(cluster) > 1:\n",
    "                prev = cluster[0]\n",
    "                for i in range(len(cluster) - 1):\n",
    "                    g.add_edge(prev, cluster[i + 1])\n",
    "\n",
    "    cc = list(nx.algorithms.connected_components(g))\n",
    "    return cc"
   ]
  }
 ],
 "metadata": {
  "kernelspec": {
   "display_name": "Python 3",
   "language": "python",
   "name": "python3"
  },
  "language_info": {
   "codemirror_mode": {
    "name": "ipython",
    "version": 3
   },
   "file_extension": ".py",
   "mimetype": "text/x-python",
   "name": "python",
   "nbconvert_exporter": "python",
   "pygments_lexer": "ipython3",
   "version": "3.8.10"
  }
 },
 "nbformat": 4,
 "nbformat_minor": 5
}
