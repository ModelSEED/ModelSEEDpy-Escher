{
 "cells": [
  {
   "cell_type": "code",
   "execution_count": 1,
   "id": "a81ff5da-fce3-4c4c-b651-51bce823f3a0",
   "metadata": {},
   "outputs": [],
   "source": [
    "import modelseedpy_escher\n",
    "import logging\n",
    "from modelseedpy_escher.map.merge_map import EscherMerge\n",
    "from modelseedpy_escher.io import load_json_map\n",
    "from modelseedpy_escher.io.json import to_json\n",
    "from modelseedpy_escher.map.merge_map import logger as logger_escher_merge"
   ]
  },
  {
   "cell_type": "code",
   "execution_count": 2,
   "id": "31b11d4d-a751-4f74-a17a-41448ec12ce8",
   "metadata": {},
   "outputs": [
    {
     "data": {
      "text/plain": [
       "<Logger modelseedpy_escher.map.merge_map (DEBUG)>"
      ]
     },
     "execution_count": 2,
     "metadata": {},
     "output_type": "execute_result"
    }
   ],
   "source": [
    "logger_escher_merge.setLevel(logging.DEBUG)\n",
    "logger_escher_merge"
   ]
  },
  {
   "cell_type": "code",
   "execution_count": 3,
   "id": "9396d442-a202-40e3-a43e-5502e5db0afc",
   "metadata": {},
   "outputs": [
    {
     "name": "stderr",
     "output_type": "stream",
     "text": [
      "RXN  FACOAL181t2pp\n",
      "SEG  MAP[0] 2078018[1] -> 2078019[2] t:(1, 2)\n",
      "SEG  MAP[0] 2078020[3] -> 2078019[2] t:(2, 3)\n",
      "SEG  MAP[0] 2078020[3] -> 2078017[0] t:(0, 3)\n",
      "SEG  MAP[0] 2078018[1] -> 2078021[4] t:(1, 4)\n",
      "SEG  MAP[0] 2078018[1] -> 2078022[5] t:(1, 5)\n",
      "SEG  MAP[0] 2078020[3] -> 2078023[6] t:(3, 6)\n",
      "SEG  MAP[0] 2078018[1] -> 2078024[7] t:(1, 7)\n",
      "SEG  MAP[0] 2078018[1] -> 2078025[8] t:(1, 8)\n",
      "SEG  MAP[0] 2078020[3] -> 2078026[9] t:(3, 9)\n",
      "SEG  MAP[0] 2078020[3] -> 2078027[10] t:(3, 10)\n",
      "RXN  FACOAE181\n",
      "SEG  MAP[0] 2078056[11] -> 2078057[12] t:(11, 12)\n",
      "SEG  MAP[0] 2078058[13] -> 2078057[12] t:(12, 13)\n",
      "SEG  MAP[0] 2078058[13] -> 2078059[14] t:(13, 14)\n",
      "SEG  MAP[0] 2078056[11] -> 2078060[15] t:(11, 15)\n",
      "SEG  MAP[0] 2078058[13] -> 2078061[16] t:(13, 16)\n",
      "SEG  MAP[0] 2078058[13] -> 2078062[17] t:(13, 17)\n",
      "SEG  MAP[0] 2078056[11] -> 2078017[0] t:(0, 11)\n",
      "RXN  FACOAL181t2pp\n",
      "SEG  MAP[1] 2078018[19] -> 2078019[20] t:(1, 2)\n",
      "SKIP SEG 19 20\n",
      "SEG  MAP[1] 2078020[21] -> 2078019[20] t:(2, 3)\n",
      "SKIP SEG 21 20\n",
      "SEG  MAP[1] 2078020[21] -> 2078017[18] t:(0, 3)\n",
      "SKIP SEG 21 18\n",
      "SEG  MAP[1] 2078018[19] -> 2078021[22] t:(1, 4)\n",
      "SKIP SEG 19 22\n",
      "SEG  MAP[1] 2078018[19] -> 2078022[23] t:(1, 5)\n",
      "SKIP SEG 19 23\n",
      "SEG  MAP[1] 2078020[21] -> 2078023[24] t:(3, 6)\n",
      "SKIP SEG 21 24\n",
      "SEG  MAP[1] 2078018[19] -> 2078024[25] t:(1, 7)\n",
      "SKIP SEG 19 25\n",
      "SEG  MAP[1] 2078018[19] -> 2078025[26] t:(1, 8)\n",
      "SKIP SEG 19 26\n",
      "SEG  MAP[1] 2078020[21] -> 2078026[27] t:(3, 9)\n",
      "SKIP SEG 21 27\n",
      "SEG  MAP[1] 2078020[21] -> 2078027[28] t:(3, 10)\n",
      "SKIP SEG 21 28\n",
      "RXN  LPLIPAL1G181pp\n",
      "SEG  MAP[1] 2078056[29] -> 2078057[30] t:(29, 30)\n",
      "SEG  MAP[1] 2078058[31] -> 2078057[30] t:(30, 31)\n",
      "SEG  MAP[1] 2078056[29] -> 2078059[32] t:(29, 32)\n",
      "SEG  MAP[1] 2078058[31] -> 2078060[33] t:(31, 33)\n",
      "SEG  MAP[1] 2078056[29] -> 2078061[34] t:(29, 34)\n",
      "SEG  MAP[1] 2078058[31] -> 2078062[35] t:(31, 35)\n",
      "SEG  MAP[1] 2078058[31] -> 2078024[25] t:(7, 31)\n",
      "RXN  PLIPA2G181pp\n",
      "SEG  MAP[1] 2078160[36] -> 2078161[37] t:(36, 37)\n",
      "SEG  MAP[1] 2078162[38] -> 2078161[37] t:(37, 38)\n",
      "SEG  MAP[1] 2078162[38] -> 2078059[32] t:(32, 38)\n",
      "SEG  MAP[1] 2078160[36] -> 2078163[39] t:(36, 39)\n",
      "SEG  MAP[1] 2078162[38] -> 2078164[40] t:(38, 40)\n",
      "SEG  MAP[1] 2078162[38] -> 2078024[25] t:(7, 38)\n",
      "SEG  MAP[1] 2078160[36] -> 2078166[41] t:(36, 41)\n"
     ]
    }
   ],
   "source": [
    "em1 = load_json_map('map_merge1_small.json')\n",
    "em2 = load_json_map('map_merge2_small.json')\n",
    "escher_merge = EscherMerge()\n",
    "em3 = escher_merge.merge([em1, em2])"
   ]
  },
  {
   "cell_type": "code",
   "execution_count": 5,
   "id": "9266829a-9d59-45dd-acf9-a797e839a182",
   "metadata": {},
   "outputs": [
    {
     "name": "stdout",
     "output_type": "stream",
     "text": [
      "Some functions (e.g. saving maps) are not available in the notebook. Use Builder.display_in_browser() for a full-featured Escher Builder.\n"
     ]
    },
    {
     "data": {
      "text/html": [
       "\n",
       "\n",
       "\n",
       "  \n",
       "  \n",
       "\n",
       "  \n",
       "  \n",
       "    <link rel=\"stylesheet\" href=\"//unpkg.com/escher-vis@1.6.0/css/dist/builder.min.css\"/>\n",
       "  \n",
       "\n",
       "\n",
       "\n",
       "  <div style=\"height: 500px; width: 100%;\" id=\"ljfcnrtafl\"></div>\n",
       "\n",
       "  <script>\n",
       "   /* Closure to make sure data only applies to this map. */\n",
       "   (function() {\n",
       "       /* data from python */\n",
       "       var data = get_data();\n",
       "\n",
       "       function load_lib(url, callback) {\n",
       "           /** Dynamically load a JavaScript file */\n",
       "           var s = document.createElement('script');\n",
       "           s.src = url;\n",
       "           s.async = true;\n",
       "           s.onreadystatechange = s.onload = callback;\n",
       "           s.onerror = function() {\n",
       "               console.warn('Failed to load library ' + url);\n",
       "           };\n",
       "           document.getElementsByTagName('head')[0].appendChild(s);\n",
       "       }\n",
       "\n",
       "       function check_global_and_load(name, url, callback) {\n",
       "           /** Look for the name in the global scope. If it isn't present, then\n",
       "              load the library at url. Returns the object. */\n",
       "           if (window[name] !== undefined) {\n",
       "               callback(window[name]);\n",
       "           } else {\n",
       "               load_lib(url, function() {\n",
       "                   callback(window[name]);\n",
       "               });\n",
       "           }\n",
       "       }\n",
       "\n",
       "       function draw_escher(escher) {\n",
       "           /** Get data and draw */\n",
       "           var load = function(t_map_data, t_model_data, t_options) {\n",
       "               escher.Builder(t_map_data, t_model_data, data.builder_embed_css,\n",
       "                              escher.libs.d3_select('#' + data.id), t_options);\n",
       "           }\n",
       "\n",
       "           // for the static site, use the url attributes for the map and model\n",
       "           // information\n",
       "           if (data.static_site_index !== null) {\n",
       "               escher.static.load_map_model_from_url(data.map_download_url, data.model_download_url,\n",
       "                                                     data.static_site_index, data.options, load);\n",
       "           } else {\n",
       "               load(data.map_data, data.model_data, data.options);\n",
       "           }\n",
       "       }\n",
       "\n",
       "       // Load dependencies and draw\n",
       "       if (typeof define === 'function' && define.amd) {\n",
       "           // require.js is available: use it to load escher\n",
       "           require.config({\n",
       "             paths: {\n",
       "               escher: '//unpkg.com/escher-vis@1.6.0/js/dist/escher.min',\n",
       "             },\n",
       "             // Override urlArgs that adds ?v= to the end of the escher URL and\n",
       "             // messes up unpkg links. Honestly, I'm not sure if this will lead\n",
       "             // to downstream bugs in the notebook, but they really shouldn't be\n",
       "             // doing this cache-busting anyway.\n",
       "             urlArgs: null,\n",
       "           })\n",
       "           require([ 'escher' ], function(escher) {\n",
       "               draw_escher(escher);\n",
       "           })\n",
       "       } else {\n",
       "           // require.js not available: dynamically load escher\n",
       "           check_global_and_load('escher', '//unpkg.com/escher-vis@1.6.0/js/dist/escher.min.js', function(escher) {\n",
       "               draw_escher(escher);\n",
       "           })\n",
       "       }\n",
       "\n",
       "       // Put this at the end so Chrome doesn't cut off the code above.\n",
       "       function get_data() {\n",
       "           /** Return the data passed in by the Python module. */\n",
       "           return {\n",
       "               id: JSON.parse('\"ljfcnrtafl\"'),\n",
       "               map_download_url: JSON.parse('\"//escher.github.io/1-0-0/5/maps/\"'),\n",
       "               model_download_url: JSON.parse('\"//escher.github.io/1-0-0/5/models/\"'),\n",
       "               options: JSON.parse('{\"menu\": \"all\", \"enable_keys\": false, \"enable_editing\": true, \"scroll_behavior\": \"none\", \"fill_screen\": false, \"ignore_bootstrap\": true, \"never_ask_before_quit\": true, \"reaction_data\": null, \"metabolite_data\": null, \"gene_data\": null}'),\n",
       "               builder_embed_css: JSON.parse('null'),\n",
       "               map_data: JSON.parse('[{\"map_name\": \"\", \"map_id\": \"\", \"map_description\": \"\", \"homepage\": \"\", \"schema\": \"\"}, {\"reactions\": {\"41\": {\"name\": \"Fatty-acid-CoA ligase (octadecenoate transport via vectoral Co-A coupling)\", \"bigg_id\": \"FACOAL181t2pp\", \"reversibility\": false, \"label_x\": -608.5144458276449, \"label_y\": 4370.3782067187185, \"gene_reaction_rule\": \"b1805 or b1701\", \"genes\": [{\"bigg_id\": \"b1805\", \"name\": \"fadD\"}, {\"bigg_id\": \"b1701\", \"name\": \"fadK\"}], \"metabolites\": [{\"coefficient\": -1, \"bigg_id\": \"atp_c\"}, {\"coefficient\": 1, \"bigg_id\": \"amp_c\"}, {\"coefficient\": -1, \"bigg_id\": \"coa_c\"}, {\"coefficient\": 1, \"bigg_id\": \"odecoa_c\"}, {\"coefficient\": 1, \"bigg_id\": \"ppi_c\"}, {\"coefficient\": -1, \"bigg_id\": \"h_p\"}, {\"coefficient\": -1, \"bigg_id\": \"ocdcea_p\"}, {\"coefficient\": 1, \"bigg_id\": \"h_c\"}], \"segments\": {\"31\": {\"from_node_id\": 1, \"to_node_id\": 2, \"b1\": null, \"b2\": null}, \"32\": {\"from_node_id\": 3, \"to_node_id\": 2, \"b1\": null, \"b2\": null}, \"33\": {\"from_node_id\": 3, \"to_node_id\": 0, \"b1\": {\"y\": 4429.4797692187185, \"x\": -638.5144458276449}, \"b2\": {\"y\": 4848.7707848437185, \"x\": -645.8436847192464}}, \"34\": {\"from_node_id\": 1, \"to_node_id\": 4, \"b1\": {\"y\": 4321.4797692187185, \"x\": -638.5144458276449}, \"b2\": {\"y\": 4160.7807946093435, \"x\": -637.5267291528402}}, \"35\": {\"from_node_id\": 1, \"to_node_id\": 5, \"b1\": {\"y\": 4321.4797692187185, \"x\": -638.5144458276449}, \"b2\": {\"y\": 4302.4797692187185, \"x\": -617.5144458276449}}, \"36\": {\"from_node_id\": 3, \"to_node_id\": 6, \"b1\": {\"y\": 4433.4797692187185, \"x\": -638.5144458276449}, \"b2\": {\"y\": 4474.4675621874685, \"x\": -659.5144458276449}}, \"37\": {\"from_node_id\": 1, \"to_node_id\": 7, \"b1\": {\"y\": 4325.4797692187185, \"x\": -638.5144458276449}, \"b2\": {\"y\": 4145.6101403124685, \"x\": -633.6282916528402}}, \"38\": {\"from_node_id\": 1, \"to_node_id\": 8, \"b1\": {\"y\": 4321.4797692187185, \"x\": -638.5144458276449}, \"b2\": {\"y\": 4302.4797692187185, \"x\": -575.5144458276449}}, \"39\": {\"from_node_id\": 3, \"to_node_id\": 9, \"b1\": {\"y\": 4433.4797692187185, \"x\": -638.5144458276449}, \"b2\": {\"y\": 4474.4675621874685, \"x\": -617.5144458276449}}, \"40\": {\"from_node_id\": 3, \"to_node_id\": 10, \"b1\": {\"y\": 4433.4797692187185, \"x\": -638.5144458276449}, \"b2\": {\"y\": 4452.4802574999685, \"x\": -597.5021625024496}}}, \"uid\": \"2076258\"}, \"49\": {\"name\": \"Fatty-acid-CoA thioesterase (octadecenoate)\", \"bigg_id\": \"FACOAE181\", \"reversibility\": false, \"label_x\": -630.8436847192464, \"label_y\": 5086.2707848437185, \"gene_reaction_rule\": \"b0452\", \"genes\": [{\"name\": \"tesB\", \"notes\": {\"original_bigg_ids\": [\"b0452\"]}, \"bigg_id\": \"b0452\"}], \"metabolites\": [{\"bigg_id\": \"coa_c\", \"coefficient\": 1}, {\"bigg_id\": \"h2o_c\", \"coefficient\": -1}, {\"bigg_id\": \"h_c\", \"coefficient\": 1}, {\"bigg_id\": \"ocdcea_c\", \"coefficient\": 1}, {\"bigg_id\": \"odecoa_c\", \"coefficient\": -1}], \"segments\": {\"42\": {\"from_node_id\": 11, \"to_node_id\": 12, \"b1\": null, \"b2\": null}, \"43\": {\"from_node_id\": 13, \"to_node_id\": 12, \"b1\": null, \"b2\": null}, \"44\": {\"from_node_id\": 13, \"to_node_id\": 14, \"b1\": {\"x\": -645.8436847192464, \"y\": 5142.2707848437185}, \"b2\": {\"x\": -627.8436847192464, \"y\": 5147.5207848437185}}, \"45\": {\"from_node_id\": 11, \"to_node_id\": 15, \"b1\": {\"x\": -645.8436847192464, \"y\": 5010.2707848437185}, \"b2\": {\"x\": -663.8436847192464, \"y\": 5005.0207848437185}}, \"46\": {\"from_node_id\": 13, \"to_node_id\": 16, \"b1\": {\"x\": -645.8436847192464, \"y\": 5142.2707848437185}, \"b2\": {\"x\": -663.8436847192464, \"y\": 5147.5207848437185}}, \"47\": {\"from_node_id\": 13, \"to_node_id\": 17, \"b1\": {\"x\": -645.8436847192464, \"y\": 5138.2707848437185}, \"b2\": {\"x\": -645.8436847192464, \"y\": 5192.5207848437185}}, \"48\": {\"from_node_id\": 11, \"to_node_id\": 0, \"b1\": {\"x\": -645.8436847192464, \"y\": 5014.2707848437185}, \"b2\": {\"x\": -645.8436847192464, \"y\": 4960.0207848437185}}}, \"uid\": \"2076263\"}, \"57\": {\"name\": \"Lysophospholipase L1 (2-acylglycerophosphoglycerol, n-C18:1) (periplasm)\", \"bigg_id\": \"LPLIPAL1G181pp\", \"reversibility\": false, \"label_x\": -618.6282916528402, \"label_y\": 3928.1101403124685, \"gene_reaction_rule\": \"b0494\", \"genes\": [{\"name\": \"tesA\", \"notes\": {\"original_bigg_ids\": [\"b0494\"]}, \"bigg_id\": \"b0494\"}], \"metabolites\": [{\"bigg_id\": \"1agpg181_p\", \"coefficient\": -1}, {\"bigg_id\": \"g3pg_p\", \"coefficient\": 1}, {\"bigg_id\": \"h2o_p\", \"coefficient\": -1}, {\"bigg_id\": \"h_p\", \"coefficient\": 1}, {\"bigg_id\": \"ocdcea_p\", \"coefficient\": 1}], \"segments\": {\"50\": {\"from_node_id\": 18, \"to_node_id\": 19, \"b1\": null, \"b2\": null}, \"51\": {\"from_node_id\": 20, \"to_node_id\": 19, \"b1\": null, \"b2\": null}, \"52\": {\"from_node_id\": 18, \"to_node_id\": 21, \"b1\": {\"x\": -633.6282916528402, \"y\": 3856.1101403124685}, \"b2\": {\"x\": -633.6282916528402, \"y\": 3801.8601403124685}}, \"53\": {\"from_node_id\": 20, \"to_node_id\": 22, \"b1\": {\"x\": -633.6282916528402, \"y\": 3984.1101403124685}, \"b2\": {\"x\": -651.6282916528402, \"y\": 3989.3601403124685}}, \"54\": {\"from_node_id\": 18, \"to_node_id\": 23, \"b1\": {\"x\": -633.6282916528402, \"y\": 3852.1101403124685}, \"b2\": {\"x\": -668.9426837426839, \"y\": 3822.7417321093435}}, \"55\": {\"from_node_id\": 20, \"to_node_id\": 24, \"b1\": {\"x\": -633.6282916528402, \"y\": 3984.1101403124685}, \"b2\": {\"x\": -668.9426227075277, \"y\": 3970.3193688280935}}, \"56\": {\"from_node_id\": 20, \"to_node_id\": 7, \"b1\": {\"x\": -633.6282916528402, \"y\": 3980.1101403124685}, \"b2\": {\"x\": -633.6282916528402, \"y\": 4034.3601403124685}}}, \"uid\": \"2076263\"}, \"65\": {\"name\": \"Phospholipase A2 (phosphatidylglycerol, n-C18:1) (periplasm)\", \"bigg_id\": \"PLIPA2G181pp\", \"reversibility\": false, \"label_x\": -618.6282916528402, \"label_y\": 3578.1101403124685, \"gene_reaction_rule\": \"b3821\", \"genes\": [{\"name\": \"pldA\", \"notes\": {\"original_bigg_ids\": [\"b3821\"]}, \"bigg_id\": \"b3821\"}], \"metabolites\": [{\"bigg_id\": \"1agpg181_p\", \"coefficient\": 1}, {\"bigg_id\": \"h2o_p\", \"coefficient\": -1}, {\"bigg_id\": \"h_p\", \"coefficient\": 1}, {\"bigg_id\": \"ocdcea_p\", \"coefficient\": 1}, {\"bigg_id\": \"pg181_p\", \"coefficient\": -1}], \"segments\": {\"58\": {\"from_node_id\": 25, \"to_node_id\": 26, \"b1\": null, \"b2\": null}, \"59\": {\"from_node_id\": 27, \"to_node_id\": 26, \"b1\": null, \"b2\": null}, \"60\": {\"from_node_id\": 27, \"to_node_id\": 21, \"b1\": {\"x\": -633.6282916528402, \"y\": 3630.1101403124685}, \"b2\": {\"x\": -633.6282916528402, \"y\": 3684.3601403124685}}, \"61\": {\"from_node_id\": 25, \"to_node_id\": 28, \"b1\": {\"x\": -633.6282916528402, \"y\": 3502.1101403124685}, \"b2\": {\"x\": -615.6282916528402, \"y\": 3496.8601403124685}}, \"62\": {\"from_node_id\": 27, \"to_node_id\": 29, \"b1\": {\"x\": -633.6282916528402, \"y\": 3634.1101403124685}, \"b2\": {\"x\": -651.6282916528402, \"y\": 3639.3601403124685}}, \"63\": {\"from_node_id\": 27, \"to_node_id\": 7, \"b1\": {\"x\": -633.6282916528402, \"y\": 3634.1101403124685}, \"b2\": {\"x\": -241.1581531030355, \"y\": 3880.5444664843435}}, \"64\": {\"from_node_id\": 25, \"to_node_id\": 30, \"b1\": {\"x\": -633.6282916528402, \"y\": 3506.1101403124685}, \"b2\": {\"x\": -633.6282916528402, \"y\": 3451.8601403124685}}}, \"uid\": \"2076279\"}}, \"nodes\": {\"0\": {\"node_type\": \"metabolite\", \"x\": -645.8436847192464, \"y\": 4901.2707848437185, \"bigg_id\": \"odecoa_c\", \"name\": \"Octadecenoyl-CoA (n-C18:1CoA)\", \"label_x\": -739.8191180688558, \"label_y\": 4946.7785973437185, \"node_is_primary\": true, \"uid\": 0}, \"1\": {\"node_type\": \"multimarker\", \"x\": -638.5144458276449, \"y\": 4357.4797692187185, \"uid\": 1}, \"2\": {\"node_type\": \"midmarker\", \"x\": -638.5144458276449, \"y\": 4377.4797692187185, \"uid\": 2}, \"3\": {\"node_type\": \"multimarker\", \"x\": -638.5144458276449, \"y\": 4397.4797692187185, \"uid\": 3}, \"4\": {\"node_type\": \"metabolite\", \"x\": -700.5021625024496, \"y\": 4098.9072594530935, \"bigg_id\": \"h_p\", \"name\": \"H+\", \"label_x\": -763.339183376473, \"label_y\": 4106.4641442187185, \"node_is_primary\": false, \"uid\": 4}, \"5\": {\"node_type\": \"metabolite\", \"x\": -598.5144458276449, \"y\": 4267.4797692187185, \"bigg_id\": \"atp_c\", \"name\": \"ATP\", \"label_x\": -568.5144458276449, \"label_y\": 4277.4797692187185, \"node_is_primary\": false, \"uid\": 5}, \"6\": {\"node_type\": \"metabolite\", \"x\": -678.5144458276449, \"y\": 4509.4675621874685, \"bigg_id\": \"ppi_c\", \"name\": \"Diphosphate\", \"label_x\": -748.6807055932699, \"label_y\": 4534.1262535937185, \"node_is_primary\": false, \"uid\": 6}, \"7\": {\"node_type\": \"metabolite\", \"x\": -633.6282916528402, \"y\": 4093.1101403124685, \"bigg_id\": \"ocdcea_p\", \"name\": \"Octadecenoate (n-C18:1)\", \"label_x\": -603.6282916528402, \"label_y\": 4103.1101403124685, \"node_is_primary\": true, \"uid\": 7}, \"8\": {\"node_type\": \"metabolite\", \"x\": -518.5144458276449, \"y\": 4267.4797692187185, \"bigg_id\": \"coa_c\", \"name\": \"Coenzyme A\", \"label_x\": -488.51444582764486, \"label_y\": 4277.4797692187185, \"node_is_primary\": false, \"uid\": 8}, \"9\": {\"node_type\": \"metabolite\", \"x\": -598.5144458276449, \"y\": 4509.4675621874685, \"bigg_id\": \"h_c\", \"name\": \"H+\", \"label_x\": -568.5144458276449, \"label_y\": 4519.4675621874685, \"node_is_primary\": false, \"uid\": 9}, \"10\": {\"node_type\": \"metabolite\", \"x\": -540.5021625024496, \"y\": 4487.4802574999685, \"bigg_id\": \"amp_c\", \"name\": \"AMP\", \"label_x\": -510.50216250244955, \"label_y\": 4497.4802574999685, \"node_is_primary\": false, \"uid\": 10}, \"11\": {\"node_type\": \"multimarker\", \"x\": -645.8436847192464, \"y\": 5056.2707848437185, \"uid\": 11}, \"12\": {\"node_type\": \"midmarker\", \"x\": -645.8436847192464, \"y\": 5076.2707848437185, \"uid\": 12}, \"13\": {\"node_type\": \"multimarker\", \"x\": -645.8436847192464, \"y\": 5096.2707848437185, \"uid\": 13}, \"14\": {\"node_type\": \"metabolite\", \"x\": -565.8436847192464, \"y\": 5181.2707848437185, \"bigg_id\": \"coa_c\", \"name\": \"Coenzyme A\", \"label_x\": -550.8436847192464, \"label_y\": 5181.2707848437185, \"node_is_primary\": false, \"uid\": 14}, \"15\": {\"node_type\": \"metabolite\", \"x\": -725.8436847192464, \"y\": 4971.2707848437185, \"bigg_id\": \"h2o_c\", \"name\": \"H2O H2O\", \"label_x\": -770.8436847192464, \"label_y\": 5001.2707848437185, \"node_is_primary\": false, \"uid\": 15}, \"16\": {\"node_type\": \"metabolite\", \"x\": -725.8436847192464, \"y\": 5181.2707848437185, \"bigg_id\": \"h_c\", \"name\": \"H+\", \"label_x\": -752.8436847192464, \"label_y\": 5211.2707848437185, \"node_is_primary\": false, \"uid\": 16}, \"17\": {\"node_type\": \"metabolite\", \"x\": -645.8436847192464, \"y\": 5251.2707848437185, \"bigg_id\": \"ocdcea_c\", \"name\": \"Octadecenoate (n-C18:1)\", \"label_x\": -620.8436847192464, \"label_y\": 5251.2707848437185, \"node_is_primary\": true, \"uid\": 17}, \"18\": {\"node_type\": \"multimarker\", \"x\": -633.6282916528402, \"y\": 3898.1101403124685, \"uid\": 18}, \"19\": {\"node_type\": \"midmarker\", \"x\": -633.6282916528402, \"y\": 3918.1101403124685, \"uid\": 19}, \"20\": {\"node_type\": \"multimarker\", \"x\": -633.6282916528402, \"y\": 3938.1101403124685, \"uid\": 20}, \"21\": {\"node_type\": \"metabolite\", \"x\": -633.6282916528402, \"y\": 3743.1101403124685, \"bigg_id\": \"1agpg181_p\", \"name\": \"1-Acyl-sn-glycero-3-phosphoglycerol (n-C18:1)\", \"label_x\": -608.6282916528402, \"label_y\": 3743.1101403124685, \"node_is_primary\": true, \"uid\": 21}, \"22\": {\"node_type\": \"metabolite\", \"x\": -713.6282916528402, \"y\": 4023.1101403124685, \"bigg_id\": \"g3pg_p\", \"name\": \"Glycerophosphoglycerol\", \"label_x\": -767.6282916528402, \"label_y\": 4053.1101403124685, \"node_is_primary\": false, \"uid\": 22}, \"23\": {\"node_type\": \"metabolite\", \"x\": -711.0326495629964, \"y\": 3816.9184899218435, \"bigg_id\": \"h2o_p\", \"name\": \"H2O H2O\", \"label_x\": -730.3062091333089, \"label_y\": 3797.8774742968435, \"node_is_primary\": false, \"uid\": 23}, \"24\": {\"node_type\": \"metabolite\", \"x\": -718.6489825708089, \"y\": 3978.6816735155935, \"bigg_id\": \"h_p\", \"name\": \"H+\", \"label_x\": -758.2327228051839, \"label_y\": 3957.1018395312185, \"node_is_primary\": false, \"uid\": 24}, \"25\": {\"node_type\": \"multimarker\", \"x\": -633.6282916528402, \"y\": 3548.1101403124685, \"uid\": 25}, \"26\": {\"node_type\": \"midmarker\", \"x\": -633.6282916528402, \"y\": 3568.1101403124685, \"uid\": 26}, \"27\": {\"node_type\": \"multimarker\", \"x\": -633.6282916528402, \"y\": 3588.1101403124685, \"uid\": 27}, \"28\": {\"node_type\": \"metabolite\", \"x\": -553.6282916528402, \"y\": 3463.1101403124685, \"bigg_id\": \"h2o_p\", \"name\": \"H2O H2O\", \"label_x\": -538.6282916528402, \"label_y\": 3463.1101403124685, \"node_is_primary\": false, \"uid\": 28}, \"29\": {\"node_type\": \"metabolite\", \"x\": -713.6282916528402, \"y\": 3673.1101403124685, \"bigg_id\": \"h_p\", \"name\": \"H+\", \"label_x\": -740.6282916528402, \"label_y\": 3703.1101403124685, \"node_is_primary\": false, \"uid\": 29}, \"30\": {\"node_type\": \"metabolite\", \"x\": -633.6282916528402, \"y\": 3393.1101403124685, \"bigg_id\": \"pg181_p\", \"name\": \"Phosphatidylglycerol (dioctadec-11-enoyl, n-C18:1)\", \"label_x\": -608.6282916528402, \"label_y\": 3393.1101403124685, \"node_is_primary\": true, \"uid\": 30}}, \"text_labels\": {}, \"canvas\": {\"x\": -887.5064892326659, \"y\": 3036.631167889648, \"width\": 758.9677528146967, \"height\": 2354.025871891601}}]'),\n",
       "               model_data: JSON.parse('null'),\n",
       "               static_site_index: JSON.parse('null'),\n",
       "           };\n",
       "       }\n",
       "   })();\n",
       "  </script>\n"
      ],
      "text/plain": [
       "<IPython.core.display.HTML object>"
      ]
     },
     "execution_count": 5,
     "metadata": {},
     "output_type": "execute_result"
    }
   ],
   "source": [
    "em3.display_in_notebook(True)"
   ]
  },
  {
   "cell_type": "code",
   "execution_count": 24,
   "id": "18e068d2-7359-4781-99fb-2e2cbe0002b5",
   "metadata": {},
   "outputs": [
    {
     "data": {
      "text/plain": [
       "{0: 0,\n",
       " 1: 1,\n",
       " 2: 2,\n",
       " 3: 3,\n",
       " 4: 4,\n",
       " 5: 5,\n",
       " 6: 6,\n",
       " 7: 7,\n",
       " 8: 8,\n",
       " 9: 9,\n",
       " 10: 10,\n",
       " 11: 11,\n",
       " 12: 12,\n",
       " 13: 13,\n",
       " 14: 14,\n",
       " 15: 15,\n",
       " 16: 16,\n",
       " 17: 17,\n",
       " 29: 18,\n",
       " 30: 19,\n",
       " 31: 20,\n",
       " 32: 21,\n",
       " 33: 22,\n",
       " 34: 23,\n",
       " 35: 24,\n",
       " 36: 25,\n",
       " 37: 26,\n",
       " 38: 27,\n",
       " 39: 28,\n",
       " 40: 29,\n",
       " 41: 30}"
      ]
     },
     "execution_count": 24,
     "metadata": {},
     "output_type": "execute_result"
    }
   ],
   "source": [
    "escher_merge.uid_mapping"
   ]
  },
  {
   "cell_type": "code",
   "execution_count": null,
   "id": "148be68f-62fb-4d98-ac27-5f015278796e",
   "metadata": {},
   "outputs": [],
   "source": []
  },
  {
   "cell_type": "code",
   "execution_count": 22,
   "id": "739da06a-8b96-436e-9642-215da4d4e638",
   "metadata": {},
   "outputs": [
    {
     "data": {
      "text/plain": [
       "{7, 25}"
      ]
     },
     "execution_count": 22,
     "metadata": {},
     "output_type": "execute_result"
    }
   ],
   "source": [
    "escher_merge.pointers[25] | {25}"
   ]
  },
  {
   "cell_type": "code",
   "execution_count": 19,
   "id": "31ed9074-8d98-48bb-bcb8-2867015f0524",
   "metadata": {},
   "outputs": [
    {
     "data": {
      "text/plain": [
       "{7}"
      ]
     },
     "execution_count": 19,
     "metadata": {},
     "output_type": "execute_result"
    }
   ],
   "source": [
    "escher_merge.pointers[25]"
   ]
  },
  {
   "cell_type": "code",
   "execution_count": 17,
   "id": "3f625a5c-71ec-466c-93c0-b5e823a22ab5",
   "metadata": {},
   "outputs": [
    {
     "data": {
      "text/plain": [
       "{0: 0,\n",
       " 1: 1,\n",
       " 2: 2,\n",
       " 3: 3,\n",
       " 4: 4,\n",
       " 5: 5,\n",
       " 6: 6,\n",
       " 7: 7,\n",
       " 8: 8,\n",
       " 9: 9,\n",
       " 10: 10,\n",
       " 11: 11,\n",
       " 12: 12,\n",
       " 13: 13,\n",
       " 14: 14,\n",
       " 15: 15,\n",
       " 16: 16,\n",
       " 17: 17,\n",
       " 29: 18,\n",
       " 30: 19,\n",
       " 31: 20,\n",
       " 32: 21,\n",
       " 33: 22,\n",
       " 34: 23,\n",
       " 35: 24,\n",
       " 36: 25,\n",
       " 37: 26,\n",
       " 38: 27,\n",
       " 39: 28,\n",
       " 40: 29,\n",
       " 41: 30}"
      ]
     },
     "execution_count": 17,
     "metadata": {},
     "output_type": "execute_result"
    }
   ],
   "source": [
    "escher_merge.uid_mapping"
   ]
  },
  {
   "cell_type": "code",
   "execution_count": 15,
   "id": "a5d80b59-572a-412f-912a-0d5fc1c1612b",
   "metadata": {},
   "outputs": [
    {
     "name": "stdout",
     "output_type": "stream",
     "text": [
      "{'node_type': 'metabolite', 'x': -633.6282916528402, 'y': 3393.1101403124685, 'bigg_id': '2078166', 'name': 'Phosphatidylglycerol (dioctadec-11-enoyl, n-C18:1)', 'label_x': -608.6282916528402, 'label_y': 3393.1101403124685, 'node_is_primary': True, 'uid': '2078166'}\n"
     ]
    }
   ],
   "source": [
    "for n in em2.nodes:\n",
    "    n['bigg_id'] = n['uid']\n",
    "    if 'label_x' not in n:\n",
    "        n['label_x'] = n['x']\n",
    "    if 'label_y' not in n:\n",
    "        n['label_y'] = n['y']\n",
    "print(n)\n",
    "#em2.display_in_notebook()"
   ]
  },
  {
   "cell_type": "code",
   "execution_count": 18,
   "id": "f2f3f55b-90c5-4879-81d7-447d340147a3",
   "metadata": {},
   "outputs": [
    {
     "data": {
      "text/plain": [
       "{'node_type': 'metabolite',\n",
       " 'x': -633.6282916528402,\n",
       " 'y': 4093.1101403124685,\n",
       " 'bigg_id': '2078024',\n",
       " 'name': 'Octadecenoate (n-C18:1)',\n",
       " 'label_x': -603.6282916528402,\n",
       " 'label_y': 4103.1101403124685,\n",
       " 'node_is_primary': True,\n",
       " 'uid': '2078024'}"
      ]
     },
     "execution_count": 18,
     "metadata": {},
     "output_type": "execute_result"
    }
   ],
   "source": [
    "escher_merge.nodes[25]"
   ]
  },
  {
   "cell_type": "code",
   "execution_count": 3,
   "id": "81dd0d7e-a2d6-4f76-b3a2-cda4bdf8393c",
   "metadata": {
    "collapsed": true,
    "jupyter": {
     "outputs_hidden": true
    },
    "tags": []
   },
   "outputs": [
    {
     "name": "stdout",
     "output_type": "stream",
     "text": [
      "cobrakbase 0.2.8\n"
     ]
    },
    {
     "ename": "ServerError",
     "evalue": "JSONRPCError: -32400. Token validation failed: Login failed! Server responded with code 401 Unauthorized\nus.kbase.auth.AuthException: Login failed! Server responded with code 401 Unauthorized\n\tat us.kbase.auth.AuthService.fetchUser(AuthService.java:344)\n\tat us.kbase.auth.AuthService.validateToken(AuthService.java:428)\n\tat us.kbase.auth.ConfigurableAuthService.validateToken(ConfigurableAuthService.java:210)\n\tat us.kbase.common.service.JsonServerServlet$DefaultAuthenticationHandler.validateToken(JsonServerServlet.java:273)\n\tat us.kbase.common.service.JsonServerServlet.validateToken(JsonServerServlet.java:719)\n\tat us.kbase.common.service.JsonServerServlet.processRpcCall(JsonServerServlet.java:633)\n\tat us.kbase.common.service.JsonServerServlet.doPost(JsonServerServlet.java:553)\n\tat javax.servlet.http.HttpServlet.service(HttpServlet.java:660)\n\tat javax.servlet.http.HttpServlet.service(HttpServlet.java:741)\n\tat org.apache.catalina.core.ApplicationFilterChain.internalDoFilter(ApplicationFilterChain.java:231)\n\tat org.apache.catalina.core.ApplicationFilterChain.doFilter(ApplicationFilterChain.java:166)\n\tat org.apache.tomcat.websocket.server.WsFilter.doFilter(WsFilter.java:52)\n\tat org.apache.catalina.core.ApplicationFilterChain.internalDoFilter(ApplicationFilterChain.java:193)\n\tat org.apache.catalina.core.ApplicationFilterChain.doFilter(ApplicationFilterChain.java:166)\n\tat org.apache.catalina.core.StandardWrapperValve.invoke(StandardWrapperValve.java:200)\n\tat org.apache.catalina.core.StandardContextValve.invoke(StandardContextValve.java:96)\n\tat org.apache.catalina.authenticator.AuthenticatorBase.invoke(AuthenticatorBase.java:543)\n\tat org.apache.catalina.core.StandardHostValve.invoke(StandardHostValve.java:139)\n\tat org.apache.catalina.valves.ErrorReportValve.invoke(ErrorReportValve.java:81)\n\tat org.apache.catalina.valves.AbstractAccessLogValve.invoke(AbstractAccessLogValve.java:678)\n\tat org.apache.catalina.core.StandardEngineValve.invoke(StandardEngineValve.java:87)\n\tat org.apache.catalina.connector.CoyoteAdapter.service(CoyoteAdapter.java:343)\n\tat org.apache.coyote.http11.Http11Processor.service(Http11Processor.java:609)\n\tat org.apache.coyote.AbstractProcessorLight.process(AbstractProcessorLight.java:65)\n\tat org.apache.coyote.AbstractProtocol$ConnectionHandler.process(AbstractProtocol.java:810)\n\tat org.apache.tomcat.util.net.Nio2Endpoint$SocketProcessor.doRun(Nio2Endpoint.java:1630)\n\tat org.apache.tomcat.util.net.SocketProcessorBase.run(SocketProcessorBase.java:49)\n\tat org.apache.tomcat.util.net.AbstractEndpoint.processSocket(AbstractEndpoint.java:1082)\n\tat org.apache.tomcat.util.net.Nio2Endpoint$Nio2SocketWrapper$2.completed(Nio2Endpoint.java:566)\n\tat org.apache.tomcat.util.net.Nio2Endpoint$Nio2SocketWrapper$2.completed(Nio2Endpoint.java:544)\n\tat sun.nio.ch.Invoker.invokeUnchecked(Invoker.java:126)\n\tat sun.nio.ch.Invoker$2.run(Invoker.java:218)\n\tat sun.nio.ch.AsynchronousChannelGroupImpl$1.run(AsynchronousChannelGroupImpl.java:112)\n\tat java.util.concurrent.ThreadPoolExecutor.runWorker(ThreadPoolExecutor.java:1149)\n\tat java.util.concurrent.ThreadPoolExecutor$Worker.run(ThreadPoolExecutor.java:624)\n\tat java.lang.Thread.run(Thread.java:748)\n",
     "output_type": "error",
     "traceback": [
      "\u001b[0;31m---------------------------------------------------------------------------\u001b[0m",
      "\u001b[0;31mServerError\u001b[0m                               Traceback (most recent call last)",
      "\u001b[0;32m<ipython-input-3-bc6fd3554fa5>\u001b[0m in \u001b[0;36m<module>\u001b[0;34m\u001b[0m\n\u001b[1;32m      2\u001b[0m \u001b[0mkbase\u001b[0m \u001b[0;34m=\u001b[0m \u001b[0mcobrakbase\u001b[0m\u001b[0;34m.\u001b[0m\u001b[0mKBaseAPI\u001b[0m\u001b[0;34m(\u001b[0m\u001b[0;34m)\u001b[0m\u001b[0;34m\u001b[0m\u001b[0;34m\u001b[0m\u001b[0m\n\u001b[1;32m      3\u001b[0m \u001b[0mem1\u001b[0m \u001b[0;34m=\u001b[0m \u001b[0mcobrakbase\u001b[0m\u001b[0;34m.\u001b[0m\u001b[0mcore\u001b[0m\u001b[0;34m.\u001b[0m\u001b[0mkbasefba\u001b[0m\u001b[0;34m.\u001b[0m\u001b[0meschermap\u001b[0m\u001b[0;34m.\u001b[0m\u001b[0mEscherMap\u001b[0m\u001b[0;34m(\u001b[0m\u001b[0mto_json\u001b[0m\u001b[0;34m(\u001b[0m\u001b[0mload_json_map\u001b[0m\u001b[0;34m(\u001b[0m\u001b[0;34m'iMM904.SEED_Test.json'\u001b[0m\u001b[0;34m)\u001b[0m\u001b[0;34m)\u001b[0m\u001b[0;34m)\u001b[0m\u001b[0;34m\u001b[0m\u001b[0;34m\u001b[0m\u001b[0m\n\u001b[0;32m----> 4\u001b[0;31m \u001b[0mkbase\u001b[0m\u001b[0;34m.\u001b[0m\u001b[0msave_object\u001b[0m\u001b[0;34m(\u001b[0m\u001b[0;34m'iMM904.SEED_TEST'\u001b[0m\u001b[0;34m,\u001b[0m \u001b[0;36m56171\u001b[0m\u001b[0;34m,\u001b[0m \u001b[0mem1\u001b[0m\u001b[0;34m.\u001b[0m\u001b[0minfo\u001b[0m\u001b[0;34m.\u001b[0m\u001b[0mtype\u001b[0m\u001b[0;34m,\u001b[0m \u001b[0mem1\u001b[0m\u001b[0;34m)\u001b[0m\u001b[0;34m\u001b[0m\u001b[0;34m\u001b[0m\u001b[0m\n\u001b[0m",
      "\u001b[0;32m/usr/local/lib/python3.8/site-packages/cobrakbase/kbaseapi.py\u001b[0m in \u001b[0;36msave_object\u001b[0;34m(self, object_id, ws, object_type, data, meta)\u001b[0m\n\u001b[1;32m    222\u001b[0m         \u001b[0;32melse\u001b[0m\u001b[0;34m:\u001b[0m\u001b[0;34m\u001b[0m\u001b[0;34m\u001b[0m\u001b[0m\n\u001b[1;32m    223\u001b[0m             \u001b[0mparams\u001b[0m\u001b[0;34m[\u001b[0m\u001b[0;34m\"workspace\"\u001b[0m\u001b[0;34m]\u001b[0m \u001b[0;34m=\u001b[0m \u001b[0mws\u001b[0m\u001b[0;34m\u001b[0m\u001b[0;34m\u001b[0m\u001b[0m\n\u001b[0;32m--> 224\u001b[0;31m         \u001b[0;32mreturn\u001b[0m \u001b[0mself\u001b[0m\u001b[0;34m.\u001b[0m\u001b[0mws_client\u001b[0m\u001b[0;34m.\u001b[0m\u001b[0msave_objects\u001b[0m\u001b[0;34m(\u001b[0m\u001b[0mparams\u001b[0m\u001b[0;34m)\u001b[0m\u001b[0;34m\u001b[0m\u001b[0;34m\u001b[0m\u001b[0m\n\u001b[0m\u001b[1;32m    225\u001b[0m \u001b[0;34m\u001b[0m\u001b[0m\n\u001b[1;32m    226\u001b[0m     \u001b[0;32mdef\u001b[0m \u001b[0msave_model\u001b[0m\u001b[0;34m(\u001b[0m\u001b[0mself\u001b[0m\u001b[0;34m,\u001b[0m \u001b[0mobject_id\u001b[0m\u001b[0;34m,\u001b[0m \u001b[0mws\u001b[0m\u001b[0;34m,\u001b[0m \u001b[0mdata\u001b[0m\u001b[0;34m)\u001b[0m\u001b[0;34m:\u001b[0m\u001b[0;34m\u001b[0m\u001b[0;34m\u001b[0m\u001b[0m\n",
      "\u001b[0;32m/usr/local/lib/python3.8/site-packages/cobrakbase/Workspace/WorkspaceClient.py\u001b[0m in \u001b[0;36msave_objects\u001b[0;34m(self, params, context)\u001b[0m\n\u001b[1;32m    896\u001b[0m            the user.) -> mapping from String to String\n\u001b[1;32m    897\u001b[0m         \"\"\"\n\u001b[0;32m--> 898\u001b[0;31m         return self._client.call_method(\n\u001b[0m\u001b[1;32m    899\u001b[0m             \u001b[0;34m'Workspace.save_objects'\u001b[0m\u001b[0;34m,\u001b[0m\u001b[0;34m\u001b[0m\u001b[0;34m\u001b[0m\u001b[0m\n\u001b[1;32m    900\u001b[0m             [params], self._service_ver, context)\n",
      "\u001b[0;32m/usr/local/lib/python3.8/site-packages/cobrakbase/Workspace/baseclient.py\u001b[0m in \u001b[0;36mcall_method\u001b[0;34m(self, service_method, args, service_ver, context)\u001b[0m\n\u001b[1;32m    266\u001b[0m         \u001b[0murl\u001b[0m \u001b[0;34m=\u001b[0m \u001b[0mself\u001b[0m\u001b[0;34m.\u001b[0m\u001b[0m_get_service_url\u001b[0m\u001b[0;34m(\u001b[0m\u001b[0mservice_method\u001b[0m\u001b[0;34m,\u001b[0m \u001b[0mservice_ver\u001b[0m\u001b[0;34m)\u001b[0m\u001b[0;34m\u001b[0m\u001b[0;34m\u001b[0m\u001b[0m\n\u001b[1;32m    267\u001b[0m         \u001b[0mcontext\u001b[0m \u001b[0;34m=\u001b[0m \u001b[0mself\u001b[0m\u001b[0;34m.\u001b[0m\u001b[0m_set_up_context\u001b[0m\u001b[0;34m(\u001b[0m\u001b[0mservice_ver\u001b[0m\u001b[0;34m,\u001b[0m \u001b[0mcontext\u001b[0m\u001b[0;34m)\u001b[0m\u001b[0;34m\u001b[0m\u001b[0;34m\u001b[0m\u001b[0m\n\u001b[0;32m--> 268\u001b[0;31m         \u001b[0;32mreturn\u001b[0m \u001b[0mself\u001b[0m\u001b[0;34m.\u001b[0m\u001b[0m_call\u001b[0m\u001b[0;34m(\u001b[0m\u001b[0murl\u001b[0m\u001b[0;34m,\u001b[0m \u001b[0mservice_method\u001b[0m\u001b[0;34m,\u001b[0m \u001b[0margs\u001b[0m\u001b[0;34m,\u001b[0m \u001b[0mcontext\u001b[0m\u001b[0;34m)\u001b[0m\u001b[0;34m\u001b[0m\u001b[0;34m\u001b[0m\u001b[0m\n\u001b[0m",
      "\u001b[0;32m/usr/local/lib/python3.8/site-packages/cobrakbase/Workspace/baseclient.py\u001b[0m in \u001b[0;36m_call\u001b[0;34m(self, url, method, params, context)\u001b[0m\n\u001b[1;32m    181\u001b[0m                 \u001b[0merr\u001b[0m \u001b[0;34m=\u001b[0m \u001b[0mret\u001b[0m\u001b[0;34m.\u001b[0m\u001b[0mjson\u001b[0m\u001b[0;34m(\u001b[0m\u001b[0;34m)\u001b[0m\u001b[0;34m\u001b[0m\u001b[0;34m\u001b[0m\u001b[0m\n\u001b[1;32m    182\u001b[0m                 \u001b[0;32mif\u001b[0m \u001b[0;34m'error'\u001b[0m \u001b[0;32min\u001b[0m \u001b[0merr\u001b[0m\u001b[0;34m:\u001b[0m\u001b[0;34m\u001b[0m\u001b[0;34m\u001b[0m\u001b[0m\n\u001b[0;32m--> 183\u001b[0;31m                     \u001b[0;32mraise\u001b[0m \u001b[0mServerError\u001b[0m\u001b[0;34m(\u001b[0m\u001b[0;34m**\u001b[0m\u001b[0merr\u001b[0m\u001b[0;34m[\u001b[0m\u001b[0;34m'error'\u001b[0m\u001b[0;34m]\u001b[0m\u001b[0;34m)\u001b[0m\u001b[0;34m\u001b[0m\u001b[0;34m\u001b[0m\u001b[0m\n\u001b[0m\u001b[1;32m    184\u001b[0m                 \u001b[0;32melse\u001b[0m\u001b[0;34m:\u001b[0m\u001b[0;34m\u001b[0m\u001b[0;34m\u001b[0m\u001b[0m\n\u001b[1;32m    185\u001b[0m                     \u001b[0;32mraise\u001b[0m \u001b[0mServerError\u001b[0m\u001b[0;34m(\u001b[0m\u001b[0;34m'Unknown'\u001b[0m\u001b[0;34m,\u001b[0m \u001b[0;36m0\u001b[0m\u001b[0;34m,\u001b[0m \u001b[0mret\u001b[0m\u001b[0;34m.\u001b[0m\u001b[0mtext\u001b[0m\u001b[0;34m)\u001b[0m\u001b[0;34m\u001b[0m\u001b[0;34m\u001b[0m\u001b[0m\n",
      "\u001b[0;31mServerError\u001b[0m: JSONRPCError: -32400. Token validation failed: Login failed! Server responded with code 401 Unauthorized\nus.kbase.auth.AuthException: Login failed! Server responded with code 401 Unauthorized\n\tat us.kbase.auth.AuthService.fetchUser(AuthService.java:344)\n\tat us.kbase.auth.AuthService.validateToken(AuthService.java:428)\n\tat us.kbase.auth.ConfigurableAuthService.validateToken(ConfigurableAuthService.java:210)\n\tat us.kbase.common.service.JsonServerServlet$DefaultAuthenticationHandler.validateToken(JsonServerServlet.java:273)\n\tat us.kbase.common.service.JsonServerServlet.validateToken(JsonServerServlet.java:719)\n\tat us.kbase.common.service.JsonServerServlet.processRpcCall(JsonServerServlet.java:633)\n\tat us.kbase.common.service.JsonServerServlet.doPost(JsonServerServlet.java:553)\n\tat javax.servlet.http.HttpServlet.service(HttpServlet.java:660)\n\tat javax.servlet.http.HttpServlet.service(HttpServlet.java:741)\n\tat org.apache.catalina.core.ApplicationFilterChain.internalDoFilter(ApplicationFilterChain.java:231)\n\tat org.apache.catalina.core.ApplicationFilterChain.doFilter(ApplicationFilterChain.java:166)\n\tat org.apache.tomcat.websocket.server.WsFilter.doFilter(WsFilter.java:52)\n\tat org.apache.catalina.core.ApplicationFilterChain.internalDoFilter(ApplicationFilterChain.java:193)\n\tat org.apache.catalina.core.ApplicationFilterChain.doFilter(ApplicationFilterChain.java:166)\n\tat org.apache.catalina.core.StandardWrapperValve.invoke(StandardWrapperValve.java:200)\n\tat org.apache.catalina.core.StandardContextValve.invoke(StandardContextValve.java:96)\n\tat org.apache.catalina.authenticator.AuthenticatorBase.invoke(AuthenticatorBase.java:543)\n\tat org.apache.catalina.core.StandardHostValve.invoke(StandardHostValve.java:139)\n\tat org.apache.catalina.valves.ErrorReportValve.invoke(ErrorReportValve.java:81)\n\tat org.apache.catalina.valves.AbstractAccessLogValve.invoke(AbstractAccessLogValve.java:678)\n\tat org.apache.catalina.core.StandardEngineValve.invoke(StandardEngineValve.java:87)\n\tat org.apache.catalina.connector.CoyoteAdapter.service(CoyoteAdapter.java:343)\n\tat org.apache.coyote.http11.Http11Processor.service(Http11Processor.java:609)\n\tat org.apache.coyote.AbstractProcessorLight.process(AbstractProcessorLight.java:65)\n\tat org.apache.coyote.AbstractProtocol$ConnectionHandler.process(AbstractProtocol.java:810)\n\tat org.apache.tomcat.util.net.Nio2Endpoint$SocketProcessor.doRun(Nio2Endpoint.java:1630)\n\tat org.apache.tomcat.util.net.SocketProcessorBase.run(SocketProcessorBase.java:49)\n\tat org.apache.tomcat.util.net.AbstractEndpoint.processSocket(AbstractEndpoint.java:1082)\n\tat org.apache.tomcat.util.net.Nio2Endpoint$Nio2SocketWrapper$2.completed(Nio2Endpoint.java:566)\n\tat org.apache.tomcat.util.net.Nio2Endpoint$Nio2SocketWrapper$2.completed(Nio2Endpoint.java:544)\n\tat sun.nio.ch.Invoker.invokeUnchecked(Invoker.java:126)\n\tat sun.nio.ch.Invoker$2.run(Invoker.java:218)\n\tat sun.nio.ch.AsynchronousChannelGroupImpl$1.run(AsynchronousChannelGroupImpl.java:112)\n\tat java.util.concurrent.ThreadPoolExecutor.runWorker(ThreadPoolExecutor.java:1149)\n\tat java.util.concurrent.ThreadPoolExecutor$Worker.run(ThreadPoolExecutor.java:624)\n\tat java.lang.Thread.run(Thread.java:748)\n"
     ]
    }
   ],
   "source": [
    "import cobrakbase\n",
    "kbase = cobrakbase.KBaseAPI()\n",
    "em1 = cobrakbase.core.kbasefba.eschermap.EscherMap(to_json(load_json_map('iMM904.SEED_Test.json')))\n",
    "kbase.save_object('iMM904.SEED_TEST', 56171, em1.info.type, em1)"
   ]
  },
  {
   "cell_type": "code",
   "execution_count": 5,
   "id": "b355ee42-e141-4d7a-913a-ce01b493ce41",
   "metadata": {},
   "outputs": [
    {
     "ename": "AttributeError",
     "evalue": "'EscherMerge' object has no attribute 'map_pppp'",
     "output_type": "error",
     "traceback": [
      "\u001b[0;31m---------------------------------------------------------------------------\u001b[0m",
      "\u001b[0;31mAttributeError\u001b[0m                            Traceback (most recent call last)",
      "\u001b[0;32m<ipython-input-5-03cb235b6dfa>\u001b[0m in \u001b[0;36m<module>\u001b[0;34m\u001b[0m\n\u001b[1;32m      1\u001b[0m \u001b[0mescher_merge\u001b[0m \u001b[0;34m=\u001b[0m \u001b[0mEscherMerge\u001b[0m\u001b[0;34m(\u001b[0m\u001b[0;34m)\u001b[0m\u001b[0;34m\u001b[0m\u001b[0;34m\u001b[0m\u001b[0m\n\u001b[0;32m----> 2\u001b[0;31m \u001b[0mem3\u001b[0m \u001b[0;34m=\u001b[0m \u001b[0mescher_merge\u001b[0m\u001b[0;34m.\u001b[0m\u001b[0mmerge\u001b[0m\u001b[0;34m(\u001b[0m\u001b[0;34m[\u001b[0m\u001b[0mem1\u001b[0m\u001b[0;34m,\u001b[0m \u001b[0mem2\u001b[0m\u001b[0;34m]\u001b[0m\u001b[0;34m)\u001b[0m\u001b[0;34m\u001b[0m\u001b[0;34m\u001b[0m\u001b[0m\n\u001b[0m",
      "\u001b[0;32m/usr/local/lib/python3.8/site-packages/modelseedpy_escher/map/merge_map.py\u001b[0m in \u001b[0;36mmerge\u001b[0;34m(self, maps, max_distance)\u001b[0m\n\u001b[1;32m    162\u001b[0m         \u001b[0mvisited\u001b[0m \u001b[0;34m=\u001b[0m \u001b[0mset\u001b[0m\u001b[0;34m(\u001b[0m\u001b[0;34m)\u001b[0m\u001b[0;34m\u001b[0m\u001b[0;34m\u001b[0m\u001b[0m\n\u001b[1;32m    163\u001b[0m         \u001b[0mplaced\u001b[0m \u001b[0;34m=\u001b[0m \u001b[0mset\u001b[0m\u001b[0;34m(\u001b[0m\u001b[0;34m)\u001b[0m\u001b[0;34m\u001b[0m\u001b[0;34m\u001b[0m\u001b[0m\n\u001b[0;32m--> 164\u001b[0;31m         \u001b[0mreactions\u001b[0m\u001b[0;34m.\u001b[0m\u001b[0mupdate\u001b[0m\u001b[0;34m(\u001b[0m\u001b[0mself\u001b[0m\u001b[0;34m.\u001b[0m\u001b[0mcompute_reactions\u001b[0m\u001b[0;34m(\u001b[0m\u001b[0mmaps\u001b[0m\u001b[0;34m[\u001b[0m\u001b[0;36m0\u001b[0m\u001b[0;34m]\u001b[0m\u001b[0;34m,\u001b[0m \u001b[0muid_mapping\u001b[0m\u001b[0;34m,\u001b[0m \u001b[0mvisited\u001b[0m\u001b[0;34m,\u001b[0m \u001b[0mplaced\u001b[0m\u001b[0;34m)\u001b[0m\u001b[0;34m)\u001b[0m\u001b[0;34m\u001b[0m\u001b[0;34m\u001b[0m\u001b[0m\n\u001b[0m\u001b[1;32m    165\u001b[0m         \u001b[0;32mfor\u001b[0m \u001b[0mmap_index\u001b[0m \u001b[0;32min\u001b[0m \u001b[0mrange\u001b[0m\u001b[0;34m(\u001b[0m\u001b[0;36m1\u001b[0m\u001b[0;34m,\u001b[0m \u001b[0mlen\u001b[0m\u001b[0;34m(\u001b[0m\u001b[0mmaps\u001b[0m\u001b[0;34m)\u001b[0m\u001b[0;34m)\u001b[0m\u001b[0;34m:\u001b[0m\u001b[0;34m\u001b[0m\u001b[0;34m\u001b[0m\u001b[0m\n\u001b[1;32m    166\u001b[0m             \u001b[0mreactions\u001b[0m\u001b[0;34m.\u001b[0m\u001b[0mupdate\u001b[0m\u001b[0;34m(\u001b[0m\u001b[0mself\u001b[0m\u001b[0;34m.\u001b[0m\u001b[0mcompute_reactions\u001b[0m\u001b[0;34m(\u001b[0m\u001b[0mmaps\u001b[0m\u001b[0;34m[\u001b[0m\u001b[0mmap_index\u001b[0m\u001b[0;34m]\u001b[0m\u001b[0;34m,\u001b[0m \u001b[0muid_mapping\u001b[0m\u001b[0;34m,\u001b[0m \u001b[0mvisited\u001b[0m\u001b[0;34m,\u001b[0m \u001b[0mplaced\u001b[0m\u001b[0;34m)\u001b[0m\u001b[0;34m)\u001b[0m\u001b[0;34m\u001b[0m\u001b[0;34m\u001b[0m\u001b[0m\n",
      "\u001b[0;32m/usr/local/lib/python3.8/site-packages/modelseedpy_escher/map/merge_map.py\u001b[0m in \u001b[0;36mcompute_reactions\u001b[0;34m(self, em, uid_mapping, visited, placed)\u001b[0m\n\u001b[1;32m    102\u001b[0m             \u001b[0;31m# print(reaction['bigg_id'])\u001b[0m\u001b[0;34m\u001b[0m\u001b[0;34m\u001b[0m\u001b[0;34m\u001b[0m\u001b[0m\n\u001b[1;32m    103\u001b[0m             \u001b[0mr\u001b[0m \u001b[0;34m=\u001b[0m \u001b[0mcopy\u001b[0m\u001b[0;34m.\u001b[0m\u001b[0mdeepcopy\u001b[0m\u001b[0;34m(\u001b[0m\u001b[0mreaction\u001b[0m\u001b[0;34m)\u001b[0m\u001b[0;34m\u001b[0m\u001b[0;34m\u001b[0m\u001b[0m\n\u001b[0;32m--> 104\u001b[0;31m             \u001b[0msegments\u001b[0m \u001b[0;34m=\u001b[0m \u001b[0mself\u001b[0m\u001b[0;34m.\u001b[0m\u001b[0mcompute_segments\u001b[0m\u001b[0;34m(\u001b[0m\u001b[0mreaction\u001b[0m\u001b[0;34m,\u001b[0m \u001b[0muid_mapping\u001b[0m\u001b[0;34m,\u001b[0m \u001b[0mvisited\u001b[0m\u001b[0;34m,\u001b[0m \u001b[0mplaced\u001b[0m\u001b[0;34m)\u001b[0m\u001b[0;34m\u001b[0m\u001b[0;34m\u001b[0m\u001b[0m\n\u001b[0m\u001b[1;32m    105\u001b[0m             \u001b[0;32mif\u001b[0m \u001b[0mlen\u001b[0m\u001b[0;34m(\u001b[0m\u001b[0msegments\u001b[0m\u001b[0;34m)\u001b[0m \u001b[0;34m>\u001b[0m \u001b[0;36m0\u001b[0m\u001b[0;34m:\u001b[0m\u001b[0;34m\u001b[0m\u001b[0;34m\u001b[0m\u001b[0m\n\u001b[1;32m    106\u001b[0m                 \u001b[0mr\u001b[0m\u001b[0;34m[\u001b[0m\u001b[0;34m'segments'\u001b[0m\u001b[0;34m]\u001b[0m \u001b[0;34m=\u001b[0m \u001b[0msegments\u001b[0m\u001b[0;34m\u001b[0m\u001b[0;34m\u001b[0m\u001b[0m\n",
      "\u001b[0;32m/usr/local/lib/python3.8/site-packages/modelseedpy_escher/map/merge_map.py\u001b[0m in \u001b[0;36mcompute_segments\u001b[0;34m(self, reaction, uid_mapping, visited, placed)\u001b[0m\n\u001b[1;32m     77\u001b[0m         \u001b[0;32mfor\u001b[0m \u001b[0mseg_uid\u001b[0m \u001b[0;32min\u001b[0m \u001b[0mreaction\u001b[0m\u001b[0;34m[\u001b[0m\u001b[0;34m'segments'\u001b[0m\u001b[0;34m]\u001b[0m\u001b[0;34m:\u001b[0m\u001b[0;34m\u001b[0m\u001b[0;34m\u001b[0m\u001b[0m\n\u001b[1;32m     78\u001b[0m             \u001b[0mseg\u001b[0m \u001b[0;34m=\u001b[0m \u001b[0mreaction\u001b[0m\u001b[0;34m[\u001b[0m\u001b[0;34m'segments'\u001b[0m\u001b[0;34m]\u001b[0m\u001b[0;34m[\u001b[0m\u001b[0mseg_uid\u001b[0m\u001b[0;34m]\u001b[0m\u001b[0;34m\u001b[0m\u001b[0;34m\u001b[0m\u001b[0m\n\u001b[0;32m---> 79\u001b[0;31m             \u001b[0mindex_from\u001b[0m \u001b[0;34m=\u001b[0m \u001b[0mself\u001b[0m\u001b[0;34m.\u001b[0m\u001b[0mmap_pppp\u001b[0m\u001b[0;34m[\u001b[0m\u001b[0;34m(\u001b[0m\u001b[0;36m0\u001b[0m\u001b[0;34m,\u001b[0m \u001b[0mseg\u001b[0m\u001b[0;34m[\u001b[0m\u001b[0;34m'from_node_id'\u001b[0m\u001b[0;34m]\u001b[0m\u001b[0;34m)\u001b[0m\u001b[0;34m]\u001b[0m\u001b[0;34m\u001b[0m\u001b[0;34m\u001b[0m\u001b[0m\n\u001b[0m\u001b[1;32m     80\u001b[0m             \u001b[0mindex_to\u001b[0m \u001b[0;34m=\u001b[0m \u001b[0mself\u001b[0m\u001b[0;34m.\u001b[0m\u001b[0mmap_ppp\u001b[0m\u001b[0;34m[\u001b[0m\u001b[0;34m(\u001b[0m\u001b[0;36m0\u001b[0m\u001b[0;34m,\u001b[0m \u001b[0mseg\u001b[0m\u001b[0;34m[\u001b[0m\u001b[0;34m'to_node_id'\u001b[0m\u001b[0;34m]\u001b[0m\u001b[0;34m)\u001b[0m\u001b[0;34m]\u001b[0m\u001b[0;34m\u001b[0m\u001b[0;34m\u001b[0m\u001b[0m\n\u001b[1;32m     81\u001b[0m             \u001b[0mt\u001b[0m \u001b[0;34m=\u001b[0m \u001b[0mtuple\u001b[0m\u001b[0;34m(\u001b[0m\u001b[0msorted\u001b[0m\u001b[0;34m(\u001b[0m\u001b[0;34m[\u001b[0m\u001b[0mmin\u001b[0m\u001b[0;34m(\u001b[0m\u001b[0mf\u001b[0m\u001b[0;34m(\u001b[0m\u001b[0mindex_from\u001b[0m\u001b[0;34m)\u001b[0m\u001b[0;34m)\u001b[0m\u001b[0;34m,\u001b[0m \u001b[0mmin\u001b[0m\u001b[0;34m(\u001b[0m\u001b[0mf\u001b[0m\u001b[0;34m(\u001b[0m\u001b[0mindex_to\u001b[0m\u001b[0;34m)\u001b[0m\u001b[0;34m)\u001b[0m\u001b[0;34m]\u001b[0m\u001b[0;34m)\u001b[0m\u001b[0;34m)\u001b[0m\u001b[0;34m\u001b[0m\u001b[0;34m\u001b[0m\u001b[0m\n",
      "\u001b[0;31mAttributeError\u001b[0m: 'EscherMerge' object has no attribute 'map_pppp'"
     ]
    }
   ],
   "source": []
  },
  {
   "cell_type": "code",
   "execution_count": 4,
   "id": "2f45b831-1172-45d1-940b-5026c6629285",
   "metadata": {},
   "outputs": [],
   "source": [
    "from modelseedpy_escher.map import EscherCluster"
   ]
  },
  {
   "cell_type": "code",
   "execution_count": 5,
   "id": "d973731d-7702-445b-ac4f-739b6f54250f",
   "metadata": {},
   "outputs": [],
   "source": [
    "cluster = EscherCluster()"
   ]
  },
  {
   "cell_type": "code",
   "execution_count": 6,
   "id": "0fcd0008-0369-48b5-95ad-8119419310ea",
   "metadata": {},
   "outputs": [],
   "source": [
    "import networkx as nx"
   ]
  },
  {
   "cell_type": "code",
   "execution_count": 39,
   "id": "e4529a39-bbc4-48ea-b2ee-98a119fe699d",
   "metadata": {},
   "outputs": [
    {
     "name": "stdout",
     "output_type": "stream",
     "text": [
      "{'x': -887.5064892326659, 'y': 3923.422671795898, 'width': 641.8232673410639, 'height': 1467.2343679853511}\n"
     ]
    }
   ],
   "source": [
    "print(em1.escher_graph['canvas'])\n",
    "#em1.display_in_notebook()"
   ]
  },
  {
   "cell_type": "code",
   "execution_count": 40,
   "id": "0dd27f5a-aae3-4267-aeca-a57de49a36de",
   "metadata": {},
   "outputs": [
    {
     "name": "stdout",
     "output_type": "stream",
     "text": [
      "{'x': -887.5064892326659, 'y': 3036.631167889648, 'width': 758.9677528146967, 'height': 2339.039543766601}\n"
     ]
    }
   ],
   "source": [
    "print(em2.escher_graph['canvas'])\n",
    "#em2.display_in_notebook()"
   ]
  },
  {
   "cell_type": "code",
   "execution_count": 255,
   "id": "e6f19711-79b9-475f-b5b4-b93efe9cbde0",
   "metadata": {
    "tags": []
   },
   "outputs": [],
   "source": [
    "em3.escher_graph['reactions'] = reactions"
   ]
  },
  {
   "cell_type": "code",
   "execution_count": 12,
   "id": "3c31bda7-b8f5-4dcd-9b14-c6ba99de7a59",
   "metadata": {
    "tags": []
   },
   "outputs": [
    {
     "ename": "KeyError",
     "evalue": "'bigg_id'",
     "output_type": "error",
     "traceback": [
      "\u001b[0;31m---------------------------------------------------------------------------\u001b[0m",
      "\u001b[0;31mKeyError\u001b[0m                                  Traceback (most recent call last)",
      "\u001b[0;32m<ipython-input-12-4cbc28f32338>\u001b[0m in \u001b[0;36m<module>\u001b[0;34m\u001b[0m\n\u001b[1;32m      1\u001b[0m \u001b[0;32mfor\u001b[0m \u001b[0ms\u001b[0m \u001b[0;32min\u001b[0m \u001b[0mcc\u001b[0m\u001b[0;34m:\u001b[0m\u001b[0;34m\u001b[0m\u001b[0;34m\u001b[0m\u001b[0m\n\u001b[0;32m----> 2\u001b[0;31m     \u001b[0mids\u001b[0m \u001b[0;34m=\u001b[0m \u001b[0;34m{\u001b[0m\u001b[0mnodes\u001b[0m\u001b[0;34m[\u001b[0m\u001b[0mindex\u001b[0m\u001b[0;34m]\u001b[0m\u001b[0;34m[\u001b[0m\u001b[0;34m'bigg_id'\u001b[0m\u001b[0;34m]\u001b[0m \u001b[0;32mfor\u001b[0m \u001b[0mindex\u001b[0m \u001b[0;32min\u001b[0m \u001b[0ms\u001b[0m\u001b[0;34m}\u001b[0m\u001b[0;34m\u001b[0m\u001b[0;34m\u001b[0m\u001b[0m\n\u001b[0m\u001b[1;32m      3\u001b[0m     \u001b[0;32mif\u001b[0m \u001b[0mlen\u001b[0m\u001b[0;34m(\u001b[0m\u001b[0mids\u001b[0m\u001b[0;34m)\u001b[0m \u001b[0;34m>\u001b[0m \u001b[0;36m1\u001b[0m\u001b[0;34m:\u001b[0m\u001b[0;34m\u001b[0m\u001b[0;34m\u001b[0m\u001b[0m\n\u001b[1;32m      4\u001b[0m         \u001b[0mprint\u001b[0m\u001b[0;34m(\u001b[0m\u001b[0mids\u001b[0m\u001b[0;34m)\u001b[0m\u001b[0;34m\u001b[0m\u001b[0;34m\u001b[0m\u001b[0m\n",
      "\u001b[0;32m<ipython-input-12-4cbc28f32338>\u001b[0m in \u001b[0;36m<setcomp>\u001b[0;34m(.0)\u001b[0m\n\u001b[1;32m      1\u001b[0m \u001b[0;32mfor\u001b[0m \u001b[0ms\u001b[0m \u001b[0;32min\u001b[0m \u001b[0mcc\u001b[0m\u001b[0;34m:\u001b[0m\u001b[0;34m\u001b[0m\u001b[0;34m\u001b[0m\u001b[0m\n\u001b[0;32m----> 2\u001b[0;31m     \u001b[0mids\u001b[0m \u001b[0;34m=\u001b[0m \u001b[0;34m{\u001b[0m\u001b[0mnodes\u001b[0m\u001b[0;34m[\u001b[0m\u001b[0mindex\u001b[0m\u001b[0;34m]\u001b[0m\u001b[0;34m[\u001b[0m\u001b[0;34m'bigg_id'\u001b[0m\u001b[0;34m]\u001b[0m \u001b[0;32mfor\u001b[0m \u001b[0mindex\u001b[0m \u001b[0;32min\u001b[0m \u001b[0ms\u001b[0m\u001b[0;34m}\u001b[0m\u001b[0;34m\u001b[0m\u001b[0;34m\u001b[0m\u001b[0m\n\u001b[0m\u001b[1;32m      3\u001b[0m     \u001b[0;32mif\u001b[0m \u001b[0mlen\u001b[0m\u001b[0;34m(\u001b[0m\u001b[0mids\u001b[0m\u001b[0;34m)\u001b[0m \u001b[0;34m>\u001b[0m \u001b[0;36m1\u001b[0m\u001b[0;34m:\u001b[0m\u001b[0;34m\u001b[0m\u001b[0;34m\u001b[0m\u001b[0m\n\u001b[1;32m      4\u001b[0m         \u001b[0mprint\u001b[0m\u001b[0;34m(\u001b[0m\u001b[0mids\u001b[0m\u001b[0;34m)\u001b[0m\u001b[0;34m\u001b[0m\u001b[0;34m\u001b[0m\u001b[0m\n",
      "\u001b[0;31mKeyError\u001b[0m: 'bigg_id'"
     ]
    }
   ],
   "source": [
    "for s in cc:\n",
    "    ids = {nodes[index]['bigg_id'] for index in s}\n",
    "    if len(ids) > 1:\n",
    "        print(ids)"
   ]
  },
  {
   "cell_type": "code",
   "execution_count": null,
   "id": "d110bdba-ee24-4212-947e-8cf50fa16a0d",
   "metadata": {},
   "outputs": [],
   "source": []
  },
  {
   "cell_type": "code",
   "execution_count": 208,
   "id": "768c382b-d636-4ab3-be30-48ce4f02171c",
   "metadata": {},
   "outputs": [
    {
     "data": {
      "text/plain": [
       "{'from_node_id': '2078020',\n",
       " 'to_node_id': '2078027',\n",
       " 'b1': {'y': 4433.4797692187185, 'x': -638.5144458276449},\n",
       " 'b2': {'y': 4452.4802574999685, 'x': -597.5021625024496}}"
      ]
     },
     "execution_count": 208,
     "metadata": {},
     "output_type": "execute_result"
    }
   ],
   "source": []
  },
  {
   "cell_type": "code",
   "execution_count": 201,
   "id": "9995d773-57db-4d2f-ad97-2b5e3eadc8e8",
   "metadata": {
    "tags": []
   },
   "outputs": [
    {
     "data": {
      "text/plain": [
       "{'name': 'Fatty-acid-CoA ligase (octadecenoate transport via vectoral Co-A coupling)',\n",
       " 'bigg_id': 'FACOAL181t2pp',\n",
       " 'reversibility': False,\n",
       " 'label_x': -608.5144458276449,\n",
       " 'label_y': 4370.3782067187185,\n",
       " 'gene_reaction_rule': 'b1805 or b1701',\n",
       " 'genes': [{'bigg_id': 'b1805', 'name': 'fadD'},\n",
       "  {'bigg_id': 'b1701', 'name': 'fadK'}],\n",
       " 'metabolites': [{'coefficient': -1, 'bigg_id': 'atp_c'},\n",
       "  {'coefficient': 1, 'bigg_id': 'amp_c'},\n",
       "  {'coefficient': -1, 'bigg_id': 'coa_c'},\n",
       "  {'coefficient': 1, 'bigg_id': 'odecoa_c'},\n",
       "  {'coefficient': 1, 'bigg_id': 'ppi_c'},\n",
       "  {'coefficient': -1, 'bigg_id': 'h_p'},\n",
       "  {'coefficient': -1, 'bigg_id': 'ocdcea_p'},\n",
       "  {'coefficient': 1, 'bigg_id': 'h_c'}],\n",
       " 'segments': {'2587': {'from_node_id': '2078018',\n",
       "   'to_node_id': '2078019',\n",
       "   'b1': None,\n",
       "   'b2': None},\n",
       "  '2588': {'from_node_id': '2078020',\n",
       "   'to_node_id': '2078019',\n",
       "   'b1': None,\n",
       "   'b2': None},\n",
       "  '2589': {'from_node_id': '2078020',\n",
       "   'to_node_id': '2078017',\n",
       "   'b1': {'y': 4429.4797692187185, 'x': -638.5144458276449},\n",
       "   'b2': {'y': 4848.7707848437185, 'x': -645.8436847192464}},\n",
       "  '2590': {'from_node_id': '2078018',\n",
       "   'to_node_id': '2078021',\n",
       "   'b1': {'y': 4321.4797692187185, 'x': -638.5144458276449},\n",
       "   'b2': {'y': 4160.7807946093435, 'x': -637.5267291528402}},\n",
       "  '2591': {'from_node_id': '2078018',\n",
       "   'to_node_id': '2078022',\n",
       "   'b1': {'y': 4321.4797692187185, 'x': -638.5144458276449},\n",
       "   'b2': {'y': 4302.4797692187185, 'x': -617.5144458276449}},\n",
       "  '2592': {'from_node_id': '2078020',\n",
       "   'to_node_id': '2078023',\n",
       "   'b1': {'y': 4433.4797692187185, 'x': -638.5144458276449},\n",
       "   'b2': {'y': 4474.4675621874685, 'x': -659.5144458276449}},\n",
       "  '2593': {'from_node_id': '2078018',\n",
       "   'to_node_id': '2078024',\n",
       "   'b1': {'y': 4325.4797692187185, 'x': -638.5144458276449},\n",
       "   'b2': {'y': 4145.6101403124685, 'x': -633.6282916528402}},\n",
       "  '2594': {'from_node_id': '2078018',\n",
       "   'to_node_id': '2078025',\n",
       "   'b1': {'y': 4321.4797692187185, 'x': -638.5144458276449},\n",
       "   'b2': {'y': 4302.4797692187185, 'x': -575.5144458276449}},\n",
       "  '2595': {'from_node_id': '2078020',\n",
       "   'to_node_id': '2078026',\n",
       "   'b1': {'y': 4433.4797692187185, 'x': -638.5144458276449},\n",
       "   'b2': {'y': 4474.4675621874685, 'x': -617.5144458276449}},\n",
       "  '2596': {'from_node_id': '2078020',\n",
       "   'to_node_id': '2078027',\n",
       "   'b1': {'y': 4433.4797692187185, 'x': -638.5144458276449},\n",
       "   'b2': {'y': 4452.4802574999685, 'x': -597.5021625024496}}},\n",
       " 'uid': '2076258'}"
      ]
     },
     "execution_count": 201,
     "metadata": {},
     "output_type": "execute_result"
    }
   ],
   "source": [
    "for em in maps:\n",
    "    for reaction in em.reactions:\n",
    "        break\n",
    "reaction"
   ]
  },
  {
   "cell_type": "code",
   "execution_count": null,
   "id": "aa14f08a-ddf6-49d9-a231-15c1f9970d64",
   "metadata": {},
   "outputs": [],
   "source": [
    "import networkx as nx\n",
    "def compute_all_metabolite_clusters(nodes):\n",
    "    g = nx.Graph()\n",
    "    for node_id in escher_graph['nodes']:\n",
    "        node = escher_graph['nodes'][node_id]\n",
    "        if not node_id in g.nodes and node['node_type'] == node_type:\n",
    "            node = escher_graph['nodes'][node_id]\n",
    "            coords_1 = (node['x'], node['y'])\n",
    "            cluster = self.get_cluster(escher_graph, coords_1, self.max_distance, node_type)\n",
    "            cluster = list(cluster)\n",
    "            if len(cluster) > 1:\n",
    "                prev = cluster[0]\n",
    "                for i in range(len(cluster) - 1):\n",
    "                    g.add_edge(prev, cluster[i + 1])\n",
    "\n",
    "    cc = list(nx.algorithms.connected_components(g))\n",
    "    return cc"
   ]
  }
 ],
 "metadata": {
  "kernelspec": {
   "display_name": "Python 3",
   "language": "python",
   "name": "python3"
  },
  "language_info": {
   "codemirror_mode": {
    "name": "ipython",
    "version": 3
   },
   "file_extension": ".py",
   "mimetype": "text/x-python",
   "name": "python",
   "nbconvert_exporter": "python",
   "pygments_lexer": "ipython3",
   "version": "3.8.10"
  }
 },
 "nbformat": 4,
 "nbformat_minor": 5
}
