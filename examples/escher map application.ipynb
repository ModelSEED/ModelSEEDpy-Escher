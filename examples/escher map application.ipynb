{
 "cells": [
  {
   "cell_type": "code",
   "execution_count": 1,
   "metadata": {},
   "outputs": [
    {
     "name": "stdout",
     "output_type": "stream",
     "text": [
      "cobrakbase 0.2.8\n"
     ]
    }
   ],
   "source": [
    "import os\n",
    "\n",
    "import cobra\n",
    "from cobra import Model, Reaction, Metabolite\n",
    "import cobra.test  #needed for the model, not necessary\n",
    "\n",
    "os.environ[\"HOME\"] = \"C:\\\\Users\\\\Jason\\\\Documents\\\\Agronne\"  # needed this for cobrakbase import to work properly\n",
    "import cobrakbase\n",
    "from cobrakbase.core.fbahelper import FBAHelper  #fbahelper is what you need from cobrakbase\n",
    "\n",
    "#jinja / display imports\n",
    "import jinja2\n",
    "from jinja2 import Environment, PackageLoader, select_autoescape\n",
    "from IPython.core.display import HTML\n",
    "from IPython.display import IFrame\n",
    "from IPython.core.display import display\n",
    "\n",
    "#import json to read and write files\n",
    "import json\n",
    "\n",
    "# generate the api\n",
    "from modelseed_escher.core.eschermapapi import EscherMapAPIBiGG as EscherMapAPI  #need escher map API\n",
    "api = EscherMapAPI()"
   ]
  },
  {
   "cell_type": "markdown",
   "metadata": {},
   "source": [
    "**Unusued Functions** - functions written but not used in final product"
   ]
  },
  {
   "cell_type": "code",
   "execution_count": 2,
   "metadata": {},
   "outputs": [],
   "source": [
    "def generate_map_database(model_hash, maps):\n",
    "    #generates a very large dicitonary with all accessable data\n",
    "    #orcestrated in the following format\n",
    "    # map_id : dictionary with 3 indexes: row, map_data, and reaction_data\n",
    "    database = {}\n",
    "    map_data = generate_map_data(maps)\n",
    "    \n",
    "    for E_map in maps:\n",
    "        tmp_dct = {}\n",
    "        emid, rxn_pct, gene, rxn_dict = find_reaction_overlap_and_genes(E_map, model_hash)\n",
    "\n",
    "        row = {}\n",
    "        row['id'] = emid\n",
    "        row['reactions'] = round(rxn_pct, 2)\n",
    "        row['genes'] = gene\n",
    "\n",
    "        tmp_dct['row'] = row\n",
    "        tmp_dct['data'] = map_data[emid]\n",
    "        tmp_dct['reactions'] = rxn_dict\n",
    "\n",
    "        database[emid] = tmp_dct\n",
    "        \n",
    "    return database"
   ]
  },
  {
   "cell_type": "markdown",
   "metadata": {},
   "source": [
    "**Supporting functions** - functions not used in app, but used for other purposes"
   ]
  },
  {
   "cell_type": "code",
   "execution_count": 8,
   "metadata": {},
   "outputs": [],
   "source": [
    "def generate_map_data(map_id, filepath = \"\"):\n",
    "    #uses an escher map id to generate a map json file  \n",
    "    #note, this does not seem to be working properly, i think .escher_data is off\n",
    "    \n",
    "    map_json = json.dumps(api.get_map(map_id).escher_data)\n",
    "    filename = filepath + '/'+ map_id + '.json'\n",
    "    with open(filename, \"w\") as outfile: \n",
    "        json.dump(map_json, outfile)\n",
    "\n",
    "def save_maps(map_list, filepath = \"\"):\n",
    "    for escher_map in map_list:\n",
    "        generate_map_data(escher_map['id'], filepath)"
   ]
  },
  {
   "cell_type": "code",
   "execution_count": 9,
   "metadata": {},
   "outputs": [],
   "source": [
    "save_maps(api.list_maps(), filepath = \"map_json_data\")"
   ]
  },
  {
   "cell_type": "markdown",
   "metadata": {},
   "source": [
    "**Used Functions**"
   ]
  },
  {
   "cell_type": "code",
   "execution_count": 8,
   "metadata": {},
   "outputs": [],
   "source": [
    "def hash_model_reactions(model, helper_function = FBAHelper.modelseed_id_from_cobra_reaction):\n",
    "    # create a hash linking modelseed_id: cobra_reaction_object\n",
    "    hsh = {}\n",
    "    for rxnobj in model.reactions:\n",
    "        if helper_function is None:\n",
    "            hsh[rxnobj.id] = rxnobj\n",
    "        else:\n",
    "            hsh[helper_function(rxnobj)] = rxnobj\n",
    "        \n",
    "    return hsh\n",
    "\n",
    "def find_reaction_overlap_and_genes(escher_map, model_hash, return_reaction_list = False):\n",
    "    #HELPER FUNCTION - CALLED IN GENERATE TABLE\n",
    "    #look at map modelseed reaction ids\n",
    "    #look through modelseed ids in the hash from the cobra model\n",
    "    #find the number of overlaps\n",
    "    #result is a dictionary of all overlaps linking modelseed_id --> cobra reaction object\n",
    "    #look through the newly created dict of rections\n",
    "    # compile a dict of genes that are in the reactions (dict so overlaps ar enot counted, could be a set)\n",
    "    #return the map id, the ratio of overlap_length / model_hash length, and then gene dict length\n",
    "    genes = {}\n",
    "    rxns = {}\n",
    "    for rxn in escher_map['reactions']:\n",
    "        if rxn in model_hash:\n",
    "            rxns[rxn] = model_hash[rxn]\n",
    "    for rxn in rxns:\n",
    "        genes[rxns[rxn].genes] = rxn\n",
    "        \n",
    "    if return_reaction_list:\n",
    "        return escher_map['id'], 100* len(rxns) / len(model_hash), len(genes), rxns\n",
    "    return escher_map['id'], 100* len(rxns) / len(model_hash), len(genes)\n",
    "\n",
    "def generate_table(model_hash, maps, return_reaction_list = False):\n",
    "    #for each map, create its own dict\n",
    "    #create final list of dicts to be used in the html input\n",
    "    #additionally, create a second dictionary for reaction data, paired map_id : dict of reaction data\n",
    "    table_lst = []\n",
    "    reaction_data = {}\n",
    "    \n",
    "    if return_reaction_list:\n",
    "    \n",
    "        for E_map in maps:\n",
    "            emid, rxn_pct, gene, rxn_dict = find_reaction_overlap_and_genes(E_map, model_hash, return_reaction_list)\n",
    "\n",
    "            reaction_data[emid] = rxn_dict\n",
    "\n",
    "            row = {}\n",
    "            row['id'] = emid\n",
    "            row['reactions'] = round(rxn_pct, 2)\n",
    "            row['genes'] = gene\n",
    "            table_lst.append(row)\n",
    "\n",
    "        return table_lst, reaction_data\n",
    "    \n",
    "    else:\n",
    "        for E_map in maps:\n",
    "            emid, rxn_pct, gene = find_reaction_overlap_and_genes(E_map, model_hash, return_reaction_list)\n",
    "\n",
    "            row = {}\n",
    "            row['id'] = emid\n",
    "            row['reactions'] = round(rxn_pct, 2)\n",
    "            row['genes'] = gene\n",
    "            table_lst.append(row)\n",
    "\n",
    "        return table_lst\n",
    "\n",
    "def render_html(map_lst, template_dir = \"\", html_filename = \"maps_out.html\"):\n",
    "    # render the html and display in an iframe\n",
    "    txt = json.dumps(api.get_map('e_coli_core.Core metabolism').escher_data)\n",
    "    txt = txt.replace('\\n', '\\\\n')\n",
    "    \n",
    "    env = jinja2.Environment(\n",
    "    loader=jinja2.FileSystemLoader(template_dir),\n",
    "    autoescape=jinja2.select_autoescape(['html', 'xml']))\n",
    "    # Return string of html\n",
    "    template_string = env.get_template('Template.html').render(inp_data = map_lst, map_data_json_b64 = txt)\n",
    "    html_file = open(html_filename,\"w\")\n",
    "    html_file.write(template_string)\n",
    "    html_file.close()\n",
    "    display(IFrame(html_filename, '100%', '500px'))\n",
    "    \n",
    "def run_application(cobra_model= cobra.test.create_test_model(\"textbook\"), \n",
    "                    helper_function = FBAHelper.modelseed_id_from_cobra_reaction,\n",
    "                    map_list = EscherMapAPI().list_maps(),\n",
    "                    return_reaction_list = False,\n",
    "                    template_dir = \"\",\n",
    "                    html_filename = \"maps_out.html\"):\n",
    "    \n",
    "    model_hash = hash_model_reactions(cobra_model, helper_function)\n",
    "    map_lst = generate_table(model_hash, map_list, return_reaction_list)\n",
    "    render_html(map_lst, template_dir)\n",
    "    "
   ]
  },
  {
   "cell_type": "code",
   "execution_count": 9,
   "metadata": {},
   "outputs": [
    {
     "data": {
      "text/html": [
       "\n",
       "        <iframe\n",
       "            width=\"100%\"\n",
       "            height=\"500px\"\n",
       "            src=\"maps_out.html\"\n",
       "            frameborder=\"0\"\n",
       "            allowfullscreen\n",
       "        ></iframe>\n",
       "        "
      ],
      "text/plain": [
       "<IPython.lib.display.IFrame at 0x1e562c811c0>"
      ]
     },
     "metadata": {},
     "output_type": "display_data"
    }
   ],
   "source": [
    "run_application(helper_function = None, template_dir = \"Templates\")"
   ]
  },
  {
   "cell_type": "code",
   "execution_count": 6,
   "metadata": {},
   "outputs": [],
   "source": [
    "import cobrakbase"
   ]
  },
  {
   "cell_type": "code",
   "execution_count": 5,
   "metadata": {},
   "outputs": [],
   "source": [
    "?cobrakbase"
   ]
  },
  {
   "cell_type": "code",
   "execution_count": 4,
   "metadata": {},
   "outputs": [
    {
     "data": {
      "text/html": [
       "\n",
       "        <iframe\n",
       "            width=\"100%\"\n",
       "            height=\"500px\"\n",
       "            src=\"maps_out.html\"\n",
       "            frameborder=\"0\"\n",
       "            allowfullscreen\n",
       "        ></iframe>\n",
       "        "
      ],
      "text/plain": [
       "<IPython.lib.display.IFrame at 0x166035cbf70>"
      ]
     },
     "metadata": {},
     "output_type": "display_data"
    }
   ],
   "source": [
    "%run escher_map_visualization.py"
   ]
  }
 ],
 "metadata": {
  "kernelspec": {
   "display_name": "Python 3",
   "language": "python",
   "name": "python3"
  },
  "language_info": {
   "codemirror_mode": {
    "name": "ipython",
    "version": 3
   },
   "file_extension": ".py",
   "mimetype": "text/x-python",
   "name": "python",
   "nbconvert_exporter": "python",
   "pygments_lexer": "ipython3",
   "version": "3.8.3"
  }
 },
 "nbformat": 4,
 "nbformat_minor": 4
}
