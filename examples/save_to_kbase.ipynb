{
 "cells": [
  {
   "cell_type": "code",
   "execution_count": 2,
   "metadata": {},
   "outputs": [
    {
     "name": "stdout",
     "output_type": "stream",
     "text": [
      "cobrakbase 0.2.7\n"
     ]
    }
   ],
   "source": [
    "import json\n",
    "import copy\n",
    "import cobra\n",
    "import cobrakbase"
   ]
  },
  {
   "cell_type": "code",
   "execution_count": 10,
   "metadata": {},
   "outputs": [],
   "source": [
    "kbase = cobrakbase.KBaseAPI()"
   ]
  },
  {
   "cell_type": "code",
   "execution_count": 104,
   "metadata": {},
   "outputs": [],
   "source": []
  },
  {
   "cell_type": "code",
   "execution_count": 7,
   "metadata": {},
   "outputs": [],
   "source": [
    "map_json = None\n",
    "with open('iMM904.Central carbon metabolism.json', 'r') as fh:\n",
    "    map_json = json.loads(fh.read())"
   ]
  },
  {
   "cell_type": "code",
   "execution_count": 94,
   "metadata": {},
   "outputs": [
    {
     "name": "stderr",
     "output_type": "stream",
     "text": [
      "WARNING:cobrakbase.core.kbasefba.fbamodel_builder:unable to add sink for [cpd15302_c0]: not found\n",
      "WARNING:cobrakbase.core.kbasefba.fbamodel_builder:unable to add sink for [cpd11416_c0]: not found\n"
     ]
    }
   ],
   "source": [
    "kbmodel = kbase.get_from_ws('iMM904_KBase3_ExtendedBiomassV1', 28277)"
   ]
  },
  {
   "cell_type": "code",
   "execution_count": 82,
   "metadata": {},
   "outputs": [
    {
     "name": "stdout",
     "output_type": "stream",
     "text": [
      "iMM904\n",
      "iMM904\n"
     ]
    }
   ],
   "source": [
    "ws = 28277\n",
    "fbamodel_json = kbase.get_object('iMM904_KBase3_ExtendedBiomass', ws)\n",
    "print(fbamodel_json['id'])\n",
    "print(fbamodel_json['name'])"
   ]
  },
  {
   "cell_type": "code",
   "execution_count": 99,
   "metadata": {},
   "outputs": [
    {
     "data": {
      "text/html": [
       "\n",
       "<table>\n",
       "  <thead>\n",
       "    <tr>\n",
       "      <td><strong>Attribute</strong></td>\n",
       "      <td><strong>Description</strong></td>\n",
       "      <td><strong>Value</strong></td>\n",
       "    </tr>\n",
       "  </thead>\n",
       "  <tbody>\n",
       "    <tr>\n",
       "      <td><pre>solver</pre></td>\n",
       "      <td>Mathematical optimization solver</td>\n",
       "      <td>cplex</td>\n",
       "    </tr>\n",
       "    <tr>\n",
       "        <td><pre>tolerance</pre></td>\n",
       "        <td>General solver tolerance (feasibility, integrality, etc.)</td>\n",
       "        <td>1e-07</td>\n",
       "    </tr>\n",
       "    <tr>\n",
       "        <td><pre>lower_bound</pre></td>\n",
       "        <td>Default reaction lower bound</td>\n",
       "        <td>-1000.0</td>\n",
       "    </tr>\n",
       "    <tr>\n",
       "        <td><pre>upper_bound</pre></td>\n",
       "        <td>Default reaction upper bound</td>\n",
       "        <td>1000.0</td>\n",
       "    </tr>\n",
       "    <tr>\n",
       "        <td><pre>processes</pre></td>\n",
       "        <td>Number of parallel processes</td>\n",
       "        <td>11</td>\n",
       "    </tr>\n",
       "  </tbody>\n",
       "</table>\n"
      ],
      "text/plain": [
       "\n",
       "solver: cplex\n",
       "tolerance: 1e-07\n",
       "lower_bound: -1000.0\n",
       "upper_bound: 1000.0\n",
       "processes: 11"
      ]
     },
     "execution_count": 99,
     "metadata": {},
     "output_type": "execute_result"
    }
   ],
   "source": [
    "cobra.core.model.configuration"
   ]
  },
  {
   "cell_type": "code",
   "execution_count": null,
   "metadata": {},
   "outputs": [],
   "source": []
  },
  {
   "cell_type": "code",
   "execution_count": 93,
   "metadata": {},
   "outputs": [
    {
     "data": {
      "text/plain": [
       "'iMM904_KBase3_ExtendedBiomassV1'"
      ]
     },
     "execution_count": 93,
     "metadata": {},
     "output_type": "execute_result"
    }
   ],
   "source": [
    "info.id"
   ]
  },
  {
   "cell_type": "code",
   "execution_count": 91,
   "metadata": {},
   "outputs": [],
   "source": [
    "from cobrakbase.kbase_object_info import KBaseObjectInfo\n",
    "info = kbase.get_object_info(70, ws)"
   ]
  },
  {
   "cell_type": "code",
   "execution_count": 88,
   "metadata": {},
   "outputs": [
    {
     "name": "stderr",
     "output_type": "stream",
     "text": [
      "WARNING:cobrakbase.core.kbasefba.fbamodel_builder:unable to add sink for [cpd15302_c0]: not found\n",
      "WARNING:cobrakbase.core.kbasefba.fbamodel_builder:unable to add sink for [cpd11416_c0]: not found\n"
     ]
    }
   ],
   "source": [
    "kbmodel = kbase_api.get_from_ws('iMM904_KBase3_ExtendedBiomass', 28277)"
   ]
  },
  {
   "cell_type": "code",
   "execution_count": 95,
   "metadata": {},
   "outputs": [],
   "source": [
    "cobra.io.save_json_model(kbmodel, '/Users/fliu/workspace/jupyter/iMM904_KBase3_ExtendedBiomassV1.json')"
   ]
  },
  {
   "cell_type": "code",
   "execution_count": 85,
   "metadata": {},
   "outputs": [
    {
     "name": "stderr",
     "output_type": "stream",
     "text": [
      "WARNING:cobrakbase.core.kbasefba.fbamodel_builder:unable to add sink for [cpd15302_c0]: not found\n",
      "WARNING:cobrakbase.core.kbasefba.fbamodel_builder:unable to add sink for [cpd11416_c0]: not found\n"
     ]
    },
    {
     "name": "stdout",
     "output_type": "stream",
     "text": [
      "<class 'cobrakbase.core.kbasefba.fbamodel.FBAModel'>\n",
      "True\n",
      "True\n",
      "True\n",
      "[<class 'cobrakbase.core.kbasefba.fbamodel.FBAModel'>, <class 'cobrakbase.core.kbaseobject.KBaseObject'>, <class 'cobra.core.model.Model'>, <class 'cobra.core.object.Object'>, <class 'object'>]\n"
     ]
    },
    {
     "data": {
      "text/html": [
       "\n",
       "        <table>\n",
       "            <tr>\n",
       "                <td><strong>Name</strong></td>\n",
       "                <td>iMM904</td>\n",
       "            </tr><tr>\n",
       "                <td><strong>Memory address</strong></td>\n",
       "                <td>0x07fcbd84ce850</td>\n",
       "            </tr><tr>\n",
       "                <td><strong>Number of metabolites</strong></td>\n",
       "                <td>1226</td>\n",
       "            </tr><tr>\n",
       "                <td><strong>Number of reactions</strong></td>\n",
       "                <td>1578</td>\n",
       "            </tr><tr>\n",
       "                <td><strong>Number of groups</strong></td>\n",
       "                <td>0</td>\n",
       "            </tr><tr>\n",
       "                <td><strong>Objective expression</strong></td>\n",
       "                <td>1.0*bio1 - 1.0*bio1_reverse_b18f7</td>\n",
       "            </tr><tr>\n",
       "                <td><strong>Compartments</strong></td>\n",
       "                <td>e0, c0, m0, v0, x0, n0, r0, g0</td>\n",
       "            </tr>\n",
       "          </table>"
      ],
      "text/plain": [
       "<FBAModel iMM904 at 0x7fcbd84ce850>"
      ]
     },
     "execution_count": 85,
     "metadata": {},
     "output_type": "execute_result"
    }
   ],
   "source": [
    "from cobrakbase.core.kbasefba.fbamodel_builder import FBAModelBuilder\n",
    "from cobrakbase.core.kbasefba import FBAModel\n",
    "from cobrakbase.core.kbaseobject import KBaseObject\n",
    "from cobra.core import Model\n",
    "b = FBAModelBuilder.from_kbase_json(fbamodel_json, info)\n",
    "model = b.build()\n",
    "print(type(model))\n",
    "print(isinstance(model, FBAModel))\n",
    "print(isinstance(model, Model))\n",
    "print(isinstance(model, KBaseObject))\n",
    "print(FBAModel.mro())\n",
    "model"
   ]
  },
  {
   "cell_type": "code",
   "execution_count": null,
   "metadata": {},
   "outputs": [],
   "source": []
  },
  {
   "cell_type": "code",
   "execution_count": 8,
   "metadata": {},
   "outputs": [],
   "source": [
    "def adapt_map_to_kbase(refactored_escher_data2, map_id):\n",
    "    refactored_escher_data = copy.deepcopy(refactored_escher_data2)\n",
    "    refactored_escher_data[0]['map_name'] = map_id\n",
    "    if not 'authors' in refactored_escher_data[0]:\n",
    "        refactored_escher_data[0]['authors'] = []\n",
    "    \n",
    "    for node_uid in refactored_escher_data[1]['nodes']:\n",
    "        node = refactored_escher_data[1]['nodes'][node_uid]\n",
    "        #if node['node_type'] == 'metabolite':\n",
    "        #    node['bigg_id'] = node['bigg_id'][:-3]\n",
    "    \n",
    "    for rxn_uid in refactored_escher_data[1]['reactions']:\n",
    "        rxn_node = refactored_escher_data[1]['reactions'][rxn_uid]\n",
    "        rxn_node['reversibility'] = 1 if rxn_node['reversibility'] else 0\n",
    "        rxn_node['genes'] = []\n",
    "        #rxn_node['bigg_id'] = rxn_node['bigg_id'][:-3]\n",
    "        #rxn_node['metabolites'] = list(map(lambda x: {\n",
    "        #    'coefficient': x['coefficient'], \n",
    "        #    'bigg_id': x['bigg_id'][:-3]}, rxn_node['metabolites']))\n",
    "        for seg_uid in rxn_node['segments']:\n",
    "            seg = rxn_node['segments'][seg_uid]\n",
    "            if seg['b1'] == None:\n",
    "                del seg['b1']\n",
    "            if seg['b2'] == None:\n",
    "                del seg['b2']\n",
    "                \n",
    "    for node_uid in refactored_escher_data[1]['nodes']:\n",
    "        node = refactored_escher_data[1]['nodes'][node_uid]\n",
    "        if 'node_is_primary' in node:\n",
    "            node['node_is_primary'] = 1 if node['node_is_primary'] else 0\n",
    "            \n",
    "    kbase_escher = {\n",
    "        \"metadata\" : refactored_escher_data[0],\n",
    "        \"layout\" : refactored_escher_data[1]\n",
    "    }\n",
    "    \n",
    "    return kbase_escher, rxn_node['metabolites']\n",
    "kbase_json, a = adapt_map_to_kbase(map_json, 'iMM904.Central carbon metabolism')"
   ]
  },
  {
   "cell_type": "code",
   "execution_count": 21,
   "metadata": {},
   "outputs": [],
   "source": [
    "for uid in kbase_json['layout']['reactions']:\n",
    "    rnode = kbase_json['layout']['reactions'][uid]\n",
    "    if rnode['bigg_id'].endswith('_c'):\n",
    "        rnode['bigg_id'] = rnode['bigg_id'][:-2] + '_c0'\n",
    "    if rnode['bigg_id'].endswith('_e'):\n",
    "        rnode['bigg_id'] = rnode['bigg_id'][:-2] + '_e0'\n",
    "    if rnode['bigg_id'].endswith('_m'):\n",
    "        rnode['bigg_id'] = rnode['bigg_id'][:-2] + '_m0'\n",
    "    if rnode['bigg_id'].endswith('_g'):\n",
    "        rnode['bigg_id'] = rnode['bigg_id'][:-2] + '_g0'"
   ]
  },
  {
   "cell_type": "code",
   "execution_count": 22,
   "metadata": {},
   "outputs": [
    {
     "data": {
      "text/plain": [
       "[[25,\n",
       "  'iMM904.Central_carbon_metabolism',\n",
       "  'KBaseFBA.EscherMap-1.0',\n",
       "  '2021-03-23T17:16:52+0000',\n",
       "  2,\n",
       "  'filipeliu',\n",
       "  56171,\n",
       "  'filipeliu:narrative_1582257065401',\n",
       "  'b624309c991a4b226065cbb8e479a26b',\n",
       "  814910,\n",
       "  {}]]"
      ]
     },
     "execution_count": 22,
     "metadata": {},
     "output_type": "execute_result"
    }
   ],
   "source": [
    "kbase.save_object(\"iMM904.Central_carbon_metabolism\",\"filipeliu:narrative_1582257065401\", \"KBaseFBA.EscherMap\", kbase_json)"
   ]
  },
  {
   "cell_type": "code",
   "execution_count": null,
   "metadata": {},
   "outputs": [],
   "source": []
  },
  {
   "cell_type": "code",
   "execution_count": null,
   "metadata": {},
   "outputs": [],
   "source": []
  }
 ],
 "metadata": {
  "kernelspec": {
   "display_name": "Python 3",
   "language": "python",
   "name": "python3"
  },
  "language_info": {
   "codemirror_mode": {
    "name": "ipython",
    "version": 3
   },
   "file_extension": ".py",
   "mimetype": "text/x-python",
   "name": "python",
   "nbconvert_exporter": "python",
   "pygments_lexer": "ipython3",
   "version": "3.7.4"
  }
 },
 "nbformat": 4,
 "nbformat_minor": 4
}
