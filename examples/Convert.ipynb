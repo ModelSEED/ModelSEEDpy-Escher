{
 "cells": [
  {
   "cell_type": "code",
   "execution_count": 1,
   "metadata": {},
   "outputs": [
    {
     "name": "stdout",
     "output_type": "stream",
     "text": [
      "cobrakbase 0.2.7\n"
     ]
    }
   ],
   "source": [
    "import logging\n",
    "logger = logging.getLogger(__name__)\n",
    "import escher\n",
    "import cobrakbase\n",
    "import modelseed_escher\n",
    "%run ../../scripts/bios_utils.py\n",
    "import copy\n",
    "def clone_escher_map(em):\n",
    "    data = copy.deepcopy(em.escher_map)\n",
    "    return modelseed_escher.core.EscherMap(data)"
   ]
  },
  {
   "cell_type": "code",
   "execution_count": 2,
   "metadata": {},
   "outputs": [],
   "source": [
    "modelseed_local = cobrakbase.modelseed.from_local('/Users/fliu/workspace/jupyter/ModelSEEDDatabase')"
   ]
  },
  {
   "cell_type": "code",
   "execution_count": 33,
   "metadata": {},
   "outputs": [],
   "source": [
    "import json\n",
    "from modelseed_escher.core import EscherMap\n",
    "em = None\n",
    "with open('/Users/fliu/workspace/jupyter/data/escher/maps/ModelSEED/ModelSEED.Chorismate Synthesis.json', 'r') as fh:\n",
    "    em = EscherMap(json.loads(fh.read()))"
   ]
  },
  {
   "cell_type": "code",
   "execution_count": null,
   "metadata": {},
   "outputs": [],
   "source": []
  },
  {
   "cell_type": "code",
   "execution_count": 41,
   "metadata": {},
   "outputs": [],
   "source": []
  },
  {
   "cell_type": "code",
   "execution_count": 38,
   "metadata": {},
   "outputs": [],
   "source": [
    "from modelseed_escher.map.model_merge import RefitMap"
   ]
  },
  {
   "cell_type": "code",
   "execution_count": 42,
   "metadata": {},
   "outputs": [],
   "source": [
    "%run ../modelseed_escher/map/model_merge.py"
   ]
  },
  {
   "cell_type": "code",
   "execution_count": 43,
   "metadata": {},
   "outputs": [],
   "source": [
    "refit = RefitMap(modelseed_local)"
   ]
  },
  {
   "cell_type": "code",
   "execution_count": null,
   "metadata": {},
   "outputs": [],
   "source": []
  },
  {
   "cell_type": "code",
   "execution_count": 51,
   "metadata": {},
   "outputs": [
    {
     "name": "stdout",
     "output_type": "stream",
     "text": [
      "refit_map_reaction rxn01740 {'0': ''}  0\n",
      "refit_map_reaction rxn01742 {'0': ''}  0\n",
      "refit_map_reaction rxn02212 {'0': ''}  0\n",
      "refit_map_reaction rxn01332 {'0': ''}  0\n",
      "refit_map_reaction rxn01255 {'0': ''}  0\n",
      "refit_map_reaction rxn02476 {'0': ''}  0\n",
      "refit_map_reaction rxn02213 {'0': ''}  0\n",
      "refit_map_reaction rxn01739 {'0': ''}  0\n"
     ]
    }
   ],
   "source": [
    "cmp_config = {'0' : ''}\n",
    "em_refit = refit.refit(em, cmp_config)\n",
    "#em.display_in_notebook()"
   ]
  },
  {
   "cell_type": "code",
   "execution_count": null,
   "metadata": {},
   "outputs": [],
   "source": []
  },
  {
   "cell_type": "code",
   "execution_count": 33,
   "metadata": {},
   "outputs": [],
   "source": [
    "def from_file(file):\n",
    "    return modelseed_escher.core.EscherMap(read_json(map_file))"
   ]
  },
  {
   "cell_type": "code",
   "execution_count": 5,
   "metadata": {},
   "outputs": [],
   "source": []
  },
  {
   "cell_type": "code",
   "execution_count": 4,
   "metadata": {},
   "outputs": [
    {
     "name": "stdout",
     "output_type": "stream",
     "text": [
      "iMM904.Central carbon metabolism Large.json\n",
      "iMM904.Central carbon metabolism+Glycogen.json\n",
      "iMM904.Central carbon metabolism+purines.json\n",
      "iMM904.Central carbon metabolism.json\n",
      "iMM904.Central carbon metabolism_ribflv_nad.json\n",
      "iMM904.Glycogen.json\n",
      "iMM904.complex_etoh+nitrogen+ttp.json\n",
      "iMM904.complex_etoh_final.json\n",
      "iMM904.nucleus_metabolism.json\n",
      "iMM904.phospho_bio_final.json\n",
      "iMM904.phospho_bio_final2.json\n",
      "iMM904.pyrimidine.json\n",
      "iMM904.sterol_final.json\n",
      "iMM904_SEED.Central carbon metabolism Large.json\n"
     ]
    }
   ],
   "source": [
    "ls '/Users/fliu/Library/Caches/escher/1-0-0/5/maps/Saccharomyces cerevisiae/'"
   ]
  },
  {
   "cell_type": "code",
   "execution_count": 5,
   "metadata": {},
   "outputs": [],
   "source": [
    "%run convert_utils.py\n",
    "\n",
    "def get_raw_stoich(db_id, target_db):\n",
    "    for r in raw_model['reactions']:\n",
    "        #print(r['id'], r['id'].endswith('@' + target_db))\n",
    "        if r['id'].endswith('@' + target_db):\n",
    "            rxn_id, namespace = r['id'].split('@')\n",
    "            if rxn_id == db_id:\n",
    "                cstoich = {}\n",
    "                for m in r['metabolites']:\n",
    "                    cstoich[(m, '0')] = r['metabolites'][m]\n",
    "                return cstoich\n",
    "    return None"
   ]
  },
  {
   "cell_type": "code",
   "execution_count": 7,
   "metadata": {},
   "outputs": [],
   "source": [
    "base = '/Users/fliu/Library/Caches/escher/1-0-0/5/maps/'\n",
    "map_file = base + '/Saccharomyces cerevisiae/iMM904.Central carbon metabolism Large.json'\n",
    "map_file = base + '/Saccharomyces cerevisiae/iMM904_SEED.Central carbon metabolism Large.json'\n",
    "#map_file = base + '/Escherichia coli/iJO1366.Fatty acid beta-oxidation.json'\n",
    "#map_file = base + '/Escherichia coli/iJO1366.Fatty acid biosynthesis (saturated).json'\n",
    "em_bigg = modelseed_escher.core.EscherMap(read_json(map_file))\n",
    "cpd_remap = {\n",
    "    '2pg_c' : 'swaped!'\n",
    "}\n",
    "rxn_remap = {}\n",
    "res = em_bigg.add_uid_to_reaction_metabolites()\n",
    "#add_uid_to_reaction_metabolites(em_bigg)\n",
    "#pass\n",
    "#em.swap_ids(cpd_remap, rxn_remap)"
   ]
  },
  {
   "cell_type": "code",
   "execution_count": 71,
   "metadata": {},
   "outputs": [],
   "source": [
    "base = '/Users/fliu/workspace/jupyter/data/www/fungi_viz/ModelSEED.MergeTest.json'\n",
    "map_file = base + ''\n",
    "#map_file = base + '/Escherichia coli/iJO1366.Fatty acid beta-oxidation.json'\n",
    "#map_file = base + '/Escherichia coli/iJO1366.Fatty acid biosynthesis (saturated).json'\n",
    "em_base_seed = modelseed_escher.core.EscherMap(read_json(map_file))\n",
    "cpd_remap = {\n",
    "    '2pg_c' : 'swaped!'\n",
    "}\n",
    "rxn_remap = {}\n",
    "add_uid_to_reaction_metabolites(em_base_seed)\n",
    "def add_default_compartment(em, default_cmp):\n",
    "    swap = {}\n",
    "    for node_uid in em.escher_graph['nodes']:\n",
    "        node = em.escher_graph['nodes'][node_uid]\n",
    "        if node['node_type'] == 'metabolite':\n",
    "            node['compartment'] = default_cmp\n",
    "            swap[node['bigg_id']] = node['bigg_id'] + '@SEED'\n",
    "    return swap\n",
    "cpd_remap = add_default_compartment(em_base_seed, 'c')\n",
    "em_base_seed.swap_ids(cpd_remap, rxn_remap)"
   ]
  },
  {
   "cell_type": "code",
   "execution_count": null,
   "metadata": {},
   "outputs": [],
   "source": []
  },
  {
   "cell_type": "code",
   "execution_count": 16,
   "metadata": {},
   "outputs": [
    {
     "name": "stderr",
     "output_type": "stream",
     "text": [
      "DEBUG:__main__:[0, 0]\n",
      "DEBUG:__main__:[0, 1]\n",
      "DEBUG:__main__:[DRAW] 1 next_id: 56\n"
     ]
    },
    {
     "name": "stdout",
     "output_type": "stream",
     "text": [
      "56\n"
     ]
    }
   ],
   "source": [
    "base = '/Users/fliu/Library/Caches/escher/1-0-0/5/maps/'\n",
    "map_files = [\n",
    "    '/ModelSEED/ModelSEED.Chorismate Synthesis.json',\n",
    "    '/ModelSEED/ModelSEED.Phenylalanine and Tyrosine Branches from Chorismate.json',\n",
    "]\n",
    "em_maps = []\n",
    "for map_file in map_files:\n",
    "    map_file = base + map_file\n",
    "    em_base_seed = modelseed_escher.core.EscherMap(read_json(map_file))\n",
    "    add_uid_to_reaction_metabolites(em_base_seed)\n",
    "    em_maps.append(em_base_seed)\n",
    "master = grid_maps(em_maps, (2, 1))\n",
    "#em.swap_ids(cpd_remap, rxn_remap)"
   ]
  },
  {
   "cell_type": "code",
   "execution_count": 27,
   "metadata": {},
   "outputs": [],
   "source": []
  },
  {
   "cell_type": "code",
   "execution_count": 24,
   "metadata": {},
   "outputs": [
    {
     "data": {
      "text/plain": [
       "'rxn00001'"
      ]
     },
     "execution_count": 24,
     "metadata": {},
     "output_type": "execute_result"
    }
   ],
   "source": [
    "rxn = modelseed_local.get_seed_reaction('rxn00001')\n",
    "modelseed_local.get_non_obsolete(rxn.data)\n",
    "#get_raw_stoich('META:PYRUVATEORTHOPHOSPHATE-DIKINASE-RXN', 'META')"
   ]
  },
  {
   "cell_type": "code",
   "execution_count": 8,
   "metadata": {},
   "outputs": [],
   "source": [
    "cpd_bigg_to_seed, rxn_bigg_to_seed = get_mapping_from(modelseed_local, 'BiGG')\n",
    "cpd_bigg_to_seed = add_namespace(cpd_bigg_to_seed, None, 'SEED')\n",
    "rxn_bigg_to_seed = add_namespace(rxn_bigg_to_seed, None, 'SEED')\n",
    "cpd_bigg_to_seed['h2o'] = set(['cpd00001@SEED'])\n",
    "rxn_bigg_to_seed['ALCD2x_copy1'] = rxn_bigg_to_seed['ALCD2x']\n",
    "rxn_bigg_to_seed['GCC2cm_copy1'] = rxn_bigg_to_seed['GCC2cm']"
   ]
  },
  {
   "cell_type": "code",
   "execution_count": null,
   "metadata": {},
   "outputs": [],
   "source": []
  },
  {
   "cell_type": "code",
   "execution_count": 6,
   "metadata": {},
   "outputs": [],
   "source": []
  },
  {
   "cell_type": "code",
   "execution_count": 9,
   "metadata": {},
   "outputs": [],
   "source": [
    "cpd_bigg_to_seed = dict(map(lambda x : (x, set([x + '@SEED'])), modelseed_local.compounds))\n",
    "rxn_bigg_to_seed = dict(map(lambda x : (x, set([x + '@SEED'])), modelseed_local.reactions))\n",
    "#get_stoichiometry(rnode)"
   ]
  },
  {
   "cell_type": "code",
   "execution_count": 8,
   "metadata": {},
   "outputs": [
    {
     "ename": "NameError",
     "evalue": "name 'map_compound_remap' is not defined",
     "output_type": "error",
     "traceback": [
      "\u001b[0;31m---------------------------------------------------------------------------\u001b[0m",
      "\u001b[0;31mNameError\u001b[0m                                 Traceback (most recent call last)",
      "\u001b[0;32m<ipython-input-8-58a7ec96e9f9>\u001b[0m in \u001b[0;36m<module>\u001b[0;34m()\u001b[0m\n\u001b[1;32m      1\u001b[0m \u001b[0mto_match\u001b[0m \u001b[0;34m=\u001b[0m \u001b[0;34m{\u001b[0m\u001b[0;34m'cpd03126'\u001b[0m\u001b[0;34m,\u001b[0m \u001b[0;34m'cpd03113'\u001b[0m\u001b[0;34m,\u001b[0m \u001b[0;34m'cpd00001'\u001b[0m\u001b[0;34m}\u001b[0m\u001b[0;34m\u001b[0m\u001b[0m\n\u001b[1;32m      2\u001b[0m \u001b[0mmap_stoichiometry\u001b[0m \u001b[0;34m=\u001b[0m \u001b[0;34m{\u001b[0m\u001b[0;34m'h2o_c'\u001b[0m\u001b[0;34m:\u001b[0m \u001b[0;36m1.0\u001b[0m\u001b[0;34m,\u001b[0m \u001b[0;34m'hdd2coa_c'\u001b[0m\u001b[0;34m:\u001b[0m \u001b[0;36m1.0\u001b[0m\u001b[0;34m,\u001b[0m \u001b[0;34m'3hhdcoa_c'\u001b[0m\u001b[0;34m:\u001b[0m \u001b[0;34m-\u001b[0m\u001b[0;36m1.0\u001b[0m\u001b[0;34m}\u001b[0m\u001b[0;34m\u001b[0m\u001b[0m\n\u001b[0;32m----> 3\u001b[0;31m \u001b[0mmapping\u001b[0m\u001b[0;34m,\u001b[0m \u001b[0mmissing\u001b[0m\u001b[0;34m,\u001b[0m \u001b[0mto_match\u001b[0m \u001b[0;34m=\u001b[0m \u001b[0mmatch2\u001b[0m\u001b[0;34m(\u001b[0m\u001b[0mto_match\u001b[0m\u001b[0;34m,\u001b[0m \u001b[0mmap_stoichiometry\u001b[0m\u001b[0;34m,\u001b[0m \u001b[0mmap_compound_remap\u001b[0m\u001b[0;34m)\u001b[0m\u001b[0;34m\u001b[0m\u001b[0m\n\u001b[0m\u001b[1;32m      4\u001b[0m \u001b[0mprint\u001b[0m\u001b[0;34m(\u001b[0m\u001b[0mmapping\u001b[0m\u001b[0;34m,\u001b[0m \u001b[0mmissing\u001b[0m\u001b[0;34m,\u001b[0m \u001b[0mto_match\u001b[0m\u001b[0;34m)\u001b[0m\u001b[0;34m\u001b[0m\u001b[0m\n\u001b[1;32m      5\u001b[0m \u001b[0ma\u001b[0m \u001b[0;34m=\u001b[0m \u001b[0;34m{\u001b[0m\u001b[0;34m'cpd15238'\u001b[0m\u001b[0;34m,\u001b[0m \u001b[0;34m'cpd00012'\u001b[0m\u001b[0;34m,\u001b[0m \u001b[0;34m'cpd00002'\u001b[0m\u001b[0;34m,\u001b[0m \u001b[0;34m'cpd00018'\u001b[0m\u001b[0;34m,\u001b[0m \u001b[0;34m'cpd00010'\u001b[0m\u001b[0;34m,\u001b[0m \u001b[0;34m'cpd15237'\u001b[0m\u001b[0;34m}\u001b[0m\u001b[0;34m\u001b[0m\u001b[0m\n",
      "\u001b[0;31mNameError\u001b[0m: name 'map_compound_remap' is not defined"
     ]
    }
   ],
   "source": [
    "to_match = {'cpd03126', 'cpd03113', 'cpd00001'}\n",
    "map_stoichiometry = {'h2o_c': 1.0, 'hdd2coa_c': 1.0, '3hhdcoa_c': -1.0}\n",
    "mapping, missing, to_match = match2(to_match, map_stoichiometry, map_compound_remap)\n",
    "print(mapping, missing, to_match)\n",
    "a = {'cpd15238', 'cpd00012', 'cpd00002', 'cpd00018', 'cpd00010', 'cpd15237'}\n",
    "b = {'atp_c': -1.0, 'hdcoa_c': 1.0, 'coa_c': -1.0, 'amp_c': 1.0, 'ppi_c': 1.0, 'h_p': -1.0, 'hdcea_p': -1.0, 'h_c': 1.0}"
   ]
  },
  {
   "cell_type": "code",
   "execution_count": null,
   "metadata": {},
   "outputs": [],
   "source": []
  },
  {
   "cell_type": "code",
   "execution_count": 10,
   "metadata": {},
   "outputs": [
    {
     "ename": "NameError",
     "evalue": "name 'em' is not defined",
     "output_type": "error",
     "traceback": [
      "\u001b[0;31m---------------------------------------------------------------------------\u001b[0m",
      "\u001b[0;31mNameError\u001b[0m                                 Traceback (most recent call last)",
      "\u001b[0;32m<ipython-input-10-4c5debe8f43e>\u001b[0m in \u001b[0;36m<module>\u001b[0;34m\u001b[0m\n\u001b[1;32m     38\u001b[0m     \u001b[0;32mreturn\u001b[0m \u001b[0mmap_reaction_remap\u001b[0m\u001b[0;34m,\u001b[0m \u001b[0munmaped_rxn\u001b[0m\u001b[0;34m\u001b[0m\u001b[0m\n\u001b[1;32m     39\u001b[0m \u001b[0;34m\u001b[0m\u001b[0m\n\u001b[0;32m---> 40\u001b[0;31m map_reaction_remap, unmaped_rxn = remap_map_reactions(em, rxn_bigg_to_seed, map_compound_remap, \n\u001b[0m\u001b[1;32m     41\u001b[0m                                                       \u001b[0;32mlambda\u001b[0m \u001b[0mx\u001b[0m \u001b[0;34m:\u001b[0m \u001b[0mmodelseed_local\u001b[0m\u001b[0;34m.\u001b[0m\u001b[0mget_seed_reaction\u001b[0m\u001b[0;34m(\u001b[0m\u001b[0mx\u001b[0m\u001b[0;34m.\u001b[0m\u001b[0msplit\u001b[0m\u001b[0;34m(\u001b[0m\u001b[0;34m'@'\u001b[0m\u001b[0;34m)\u001b[0m\u001b[0;34m[\u001b[0m\u001b[0;36m0\u001b[0m\u001b[0;34m]\u001b[0m\u001b[0;34m)\u001b[0m\u001b[0;34m.\u001b[0m\u001b[0mcstoichiometry\u001b[0m\u001b[0;34m,\u001b[0m\u001b[0;34m\u001b[0m\u001b[0m\n\u001b[1;32m     42\u001b[0m                                                       lambda x : x + '@SEED', lambda x : x[:-2])\n",
      "\u001b[0;31mNameError\u001b[0m: name 'em' is not defined"
     ]
    }
   ],
   "source": [
    "def remap_map_reactions(em, bigg_to_seed_rxn, map_compound_remap, get_rxn, to_match_func = lambda x : x, id_func = lambda x : x):\n",
    "    unmaped_rxn = set()\n",
    "    map_reaction_remap = {}\n",
    "    for map_uid in em.escher_graph['reactions']:\n",
    "        rnode = em.escher_graph['reactions'][map_uid]\n",
    "        node_id = id_func(rnode['bigg_id'])\n",
    "        if node_id in bigg_to_seed_rxn:\n",
    "            for db_id in bigg_to_seed_rxn[node_id]:\n",
    "                map_stoichiometry = get_stoichiometry(rnode)\n",
    "                #print(db_id)\n",
    "                #NEED KEGG/METACYC/BIGG provenance\n",
    "                rxn_cstoich = get_rxn(db_id)\n",
    "                \n",
    "                #print(rxn_cstoich)\n",
    "                if rxn_cstoich != None:\n",
    "                    to_match = set(map(lambda x : to_match_func(x[0]), rxn_cstoich.keys()))\n",
    "                    \n",
    "                    #print(to_match, map_stoichiometry)\n",
    "                    mapping, missing, to_match = match2(to_match, map_stoichiometry, map_compound_remap)\n",
    "                    missing -= ALLOW_MISSING\n",
    "                    #print(missing)\n",
    "                    if len(missing) == 0:\n",
    "                        #print(map_uid, node_id, db_id, map_stoichiometry, rxn.cstoichiometry)\n",
    "                        #print(mapping, missing, to_match)\n",
    "                        if not node_id in map_reaction_remap:\n",
    "                            map_reaction_remap[rnode['bigg_id']] = set()\n",
    "                        map_reaction_remap[rnode['bigg_id']].add(db_id)\n",
    "                        for s_id in rnode['segments']:\n",
    "                            s = rnode['segments'][s_id]\n",
    "                            #print(s_id, s)\n",
    "                            break\n",
    "                    else:\n",
    "                        print(node_id, db_id, missing)\n",
    "                        unmaped_rxn.add(node_id)\n",
    "        else:\n",
    "            print(node_id, \"?\")\n",
    "            unmaped_rxn.add(node_id)\n",
    "    return map_reaction_remap, unmaped_rxn\n",
    "\n",
    "map_reaction_remap, unmaped_rxn = remap_map_reactions(em, rxn_bigg_to_seed, map_compound_remap, \n",
    "                                                      lambda x : modelseed_local.get_seed_reaction(x.split('@')[0]).cstoichiometry,\n",
    "                                                      lambda x : x + '@SEED', lambda x : x[:-2])"
   ]
  },
  {
   "cell_type": "code",
   "execution_count": 11,
   "metadata": {},
   "outputs": [],
   "source": [
    "ALLOW_MISSING.add('cpd00067@SEED')\n",
    "em = clone_escher_map(em_bigg)\n",
    "map_compound_remap, unmaped_cpd, node_uid_cmp = remap_map_compounds(em, cpd_bigg_to_seed, \n",
    "                                                                    lambda x : (x[:-2], x[-1:]))\n",
    "map_reaction_remap, unmaped_rxn = remap_map_reactions(em, rxn_bigg_to_seed, map_compound_remap, \n",
    "                                                      lambda x : modelseed_local.get_seed_reaction(x.split('@')[0]).cstoichiometry,\n",
    "                                                      lambda x : x + '@SEED',\n",
    "                                                      lambda x : x[:-2])"
   ]
  },
  {
   "cell_type": "code",
   "execution_count": null,
   "metadata": {},
   "outputs": [],
   "source": []
  },
  {
   "cell_type": "code",
   "execution_count": 88,
   "metadata": {
    "collapsed": true,
    "jupyter": {
     "outputs_hidden": true
    }
   },
   "outputs": [
    {
     "name": "stdout",
     "output_type": "stream",
     "text": [
      "rxn00558_c ?\n",
      "rxn08428_e ?\n",
      "rxn05211_e ?\n",
      "rxn00247_c ?\n",
      "rxn00799_m ?\n",
      "rxn05469_m ?\n",
      "rxn00161_m ?\n",
      "rxn00459_c ?\n",
      "rxn00507_m ?\n",
      "rxn00154_m ?\n",
      "rxn00973_m ?\n",
      "rxn08617_e ?\n",
      "rxn09777_m ?\n",
      "rxn00148_c ?\n",
      "rxn05467_m ?\n",
      "rxn00248_m ?\n",
      "rxn01100_c ?\n",
      "rxn00505_m ?\n",
      "rxn01106_c ?\n",
      "rxn09417_m ?\n",
      "rxn00248_c ?\n",
      "rxn00506_m ?\n",
      "rxn00001_m ?\n",
      "rxn08032_e ?\n",
      "rxn00545_c ?\n",
      "rxn01870_c ?\n",
      "rxn00168_c ?\n",
      "rxn05467_e ?\n",
      "rxn00216_c ?\n",
      "rxn09733_m ?\n",
      "rxn01492_c ?\n",
      "rxn00285_m ?\n",
      "rxn00786_c ?\n",
      "rxn00288_m ?\n",
      "rxn00159_m ?\n",
      "rxn00175_m ?\n",
      "rxn00175_c ?\n",
      "rxn00781_c ?\n",
      "rxn00256_m ?\n",
      "rxn00198_m ?\n",
      "rxn00747_c ?\n",
      "rxn09739_m ?\n",
      "rxn05561_e ?\n",
      "rxn00549_c ?\n",
      "rxn09273_m ?\n",
      "rxn05605_e ?\n",
      "rxn01241_m ?\n",
      "rxn08063_m ?\n",
      "rxn05312_m ?\n",
      "rxn01216_c ?\n",
      "rxn09713_m ?\n",
      "rxn05469_e ?\n",
      "rxn00507_c ?\n",
      "rxn00001_c ?\n",
      "rxn00250_c ?\n",
      "rxn08428_m ?\n",
      "rxn05488_e ?\n",
      "rxn00543_c ?\n",
      "rxn00604_c ?\n",
      "rxn01476_c ?\n",
      "rxn01115_c ?\n",
      "rxn15228_c ?\n",
      "rxn00785_c ?\n",
      "rxn01333_c ?\n",
      "rxn01343_c ?\n",
      "rxn01334_c ?\n",
      "rxn00543_m ?\n",
      "rxn09502_c ?\n",
      "rxn02380_c ?\n",
      "rxn01116_c ?\n",
      "rxn15114_c ?\n",
      "rxn05312_e ?\n",
      "rxn09694_e ?\n",
      "rxn00543_c ?\n",
      "rxn09528_m ?\n",
      "rxn05319_e ?\n",
      "rxn05319_m ?\n",
      "rxn01169_c ?\n",
      "rxn01171_c ?\n",
      "rxn27702_c ?\n",
      "rxn15249_c ?\n",
      "rxn34297_c ?\n",
      "rxn15364_c ?\n",
      "rxn20522_c ?\n",
      "rxn15116_c ?\n",
      "rxn15493_c ?\n",
      "rxn33602_c ?\n",
      "rxn31240_c ?\n",
      "rxn01975_c ?\n",
      "rxn01977_c ?\n",
      "rxn33698_c ?\n",
      "rxn15494_c ?\n",
      "rxn15271_c ?\n",
      "rxn00197_m ?\n",
      "rxn00441_m ?\n",
      "rxn02376_m ?\n",
      "rxn01872_m ?\n",
      "rxn31235_m ?\n",
      "rxn39307_m ?\n",
      "rxn01243_m ?\n",
      "rxn15694_m ?\n",
      "rxn11274_c ?\n",
      "rxn00251_c ?\n"
     ]
    }
   ],
   "source": [
    "ALLOW_MISSING.add('cpd00067@SEED')\n",
    "em = clone_escher_map(em_bigg)\n",
    "map_compound_remap, unmaped_cpd, node_uid_cmp = remap_map_compounds(em, cpd_bigg_to_seed, \n",
    "                                                                    lambda x : (x[:-2], x[-1:]))\n",
    "map_reaction_remap, unmaped_rxn = remap_map_reactions(em, rxn_bigg_to_seed, map_compound_remap, \n",
    "                                                      lambda x : modelseed_local.get_seed_reaction(x.split('@')[0]).cstoichiometry,\n",
    "                                                      lambda x : x + '@SEED')"
   ]
  },
  {
   "cell_type": "code",
   "execution_count": null,
   "metadata": {},
   "outputs": [],
   "source": []
  },
  {
   "cell_type": "code",
   "execution_count": 8,
   "metadata": {},
   "outputs": [],
   "source": [
    "map_compound_remap['icit_c'] = set(['cpd00260@SEED'])\n",
    "map_compound_remap['icit_m'] = set(['cpd00260@SEED'])\n",
    "map_compound_remap['f6p_c'] = set(['cpd00072@SEED'])\n",
    "map_compound_remap['fdp_c'] = set(['cpd00290@SEED'])\n",
    "map_compound_remap['lpam_m'] = set(['cpd00213@SEED'])"
   ]
  },
  {
   "cell_type": "code",
   "execution_count": 9,
   "metadata": {},
   "outputs": [
    {
     "name": "stdout",
     "output_type": "stream",
     "text": [
      "sdhlam_m {'cpd19179@SEED', 'cpd00860@SEED'}\n",
      "dhlam_m {'cpd00449@SEED', 'cpd19172@SEED'}\n",
      "r5p_c {'cpd00101@SEED', 'cpd19028@SEED'}\n"
     ]
    }
   ],
   "source": [
    "for k in map_compound_remap:\n",
    "    if len(map_compound_remap[k]) > 1:\n",
    "        print(k, map_compound_remap[k])"
   ]
  },
  {
   "cell_type": "code",
   "execution_count": null,
   "metadata": {},
   "outputs": [],
   "source": []
  },
  {
   "cell_type": "code",
   "execution_count": 9,
   "metadata": {},
   "outputs": [
    {
     "ename": "NameError",
     "evalue": "name 'add_compartment' is not defined",
     "output_type": "error",
     "traceback": [
      "\u001b[0;31m---------------------------------------------------------------------------\u001b[0m",
      "\u001b[0;31mNameError\u001b[0m                                 Traceback (most recent call last)",
      "\u001b[0;32m<ipython-input-9-d5e3283c6835>\u001b[0m in \u001b[0;36m<module>\u001b[0;34m\u001b[0m\n\u001b[0;32m----> 1\u001b[0;31m \u001b[0madd_compartment\u001b[0m\u001b[0;34m(\u001b[0m\u001b[0mem\u001b[0m\u001b[0;34m,\u001b[0m \u001b[0mnode_uid_cmp\u001b[0m\u001b[0;34m)\u001b[0m\u001b[0;34m\u001b[0m\u001b[0;34m\u001b[0m\u001b[0m\n\u001b[0m\u001b[1;32m      2\u001b[0m \u001b[0mem\u001b[0m\u001b[0;34m.\u001b[0m\u001b[0mdelete_reactions\u001b[0m\u001b[0;34m(\u001b[0m\u001b[0munmaped_rxn\u001b[0m\u001b[0;34m)\u001b[0m\u001b[0;34m\u001b[0m\u001b[0;34m\u001b[0m\u001b[0m\n\u001b[1;32m      3\u001b[0m \u001b[0;32mfor\u001b[0m \u001b[0mk\u001b[0m \u001b[0;32min\u001b[0m \u001b[0mmap_compound_remap\u001b[0m\u001b[0;34m:\u001b[0m\u001b[0;34m\u001b[0m\u001b[0;34m\u001b[0m\u001b[0m\n\u001b[1;32m      4\u001b[0m     \u001b[0mcpd_remap\u001b[0m\u001b[0;34m[\u001b[0m\u001b[0mk\u001b[0m\u001b[0;34m]\u001b[0m \u001b[0;34m=\u001b[0m \u001b[0mlist\u001b[0m\u001b[0;34m(\u001b[0m\u001b[0mmap_compound_remap\u001b[0m\u001b[0;34m[\u001b[0m\u001b[0mk\u001b[0m\u001b[0;34m]\u001b[0m\u001b[0;34m)\u001b[0m\u001b[0;34m[\u001b[0m\u001b[0;36m0\u001b[0m\u001b[0;34m]\u001b[0m\u001b[0;34m\u001b[0m\u001b[0;34m\u001b[0m\u001b[0m\n\u001b[1;32m      5\u001b[0m \u001b[0;32mfor\u001b[0m \u001b[0mk\u001b[0m \u001b[0;32min\u001b[0m \u001b[0mmap_reaction_remap\u001b[0m\u001b[0;34m:\u001b[0m\u001b[0;34m\u001b[0m\u001b[0;34m\u001b[0m\u001b[0m\n",
      "\u001b[0;31mNameError\u001b[0m: name 'add_compartment' is not defined"
     ]
    }
   ],
   "source": [
    "add_compartment(em, node_uid_cmp)\n",
    "em.delete_reactions(unmaped_rxn)\n",
    "for k in map_compound_remap:\n",
    "    cpd_remap[k] = list(map_compound_remap[k])[0]\n",
    "for k in map_reaction_remap:\n",
    "    rxn_remap[k] = list(map_reaction_remap[k])[0]\n",
    "em.swap_ids(cpd_remap, rxn_remap)\n",
    "\n",
    "em_seed = clone_escher_map(em)\n",
    "\n",
    "b = escher.Builder(map_json=json.dumps(em.escher_map), model_json=None)\n",
    "#b.set_highlight_missing(True)\n",
    "b.display_in_notebook(enable_editing=False)\n",
    "#b.save_html('../../../data/www/fungi_viz/expanded_seed_central.html')"
   ]
  },
  {
   "cell_type": "code",
   "execution_count": 8,
   "metadata": {},
   "outputs": [
    {
     "ename": "NameError",
     "evalue": "name 'clone_escher_map' is not defined",
     "output_type": "error",
     "traceback": [
      "\u001b[0;31m---------------------------------------------------------------------------\u001b[0m",
      "\u001b[0;31mNameError\u001b[0m                                 Traceback (most recent call last)",
      "\u001b[0;32m<ipython-input-8-af999ed50d87>\u001b[0m in \u001b[0;36m<module>\u001b[0;34m\u001b[0m\n\u001b[0;32m----> 1\u001b[0;31m \u001b[0mem_seed_cmp\u001b[0m \u001b[0;34m=\u001b[0m \u001b[0mclone_escher_map\u001b[0m\u001b[0;34m(\u001b[0m\u001b[0mem_seed\u001b[0m\u001b[0;34m)\u001b[0m\u001b[0;34m\u001b[0m\u001b[0;34m\u001b[0m\u001b[0m\n\u001b[0m\u001b[1;32m      2\u001b[0m \u001b[0;34m\u001b[0m\u001b[0m\n\u001b[1;32m      3\u001b[0m \u001b[0mcpd_remap\u001b[0m \u001b[0;34m=\u001b[0m \u001b[0;34m{\u001b[0m\u001b[0;34m}\u001b[0m\u001b[0;34m\u001b[0m\u001b[0;34m\u001b[0m\u001b[0m\n\u001b[1;32m      4\u001b[0m \u001b[0mrxn_remap\u001b[0m \u001b[0;34m=\u001b[0m \u001b[0;34m{\u001b[0m\u001b[0;34m}\u001b[0m\u001b[0;34m\u001b[0m\u001b[0;34m\u001b[0m\u001b[0m\n\u001b[1;32m      5\u001b[0m \u001b[0mcpd_cmp\u001b[0m \u001b[0;34m=\u001b[0m \u001b[0;34m{\u001b[0m\u001b[0;34m}\u001b[0m\u001b[0;34m\u001b[0m\u001b[0;34m\u001b[0m\u001b[0m\n",
      "\u001b[0;31mNameError\u001b[0m: name 'clone_escher_map' is not defined"
     ]
    }
   ],
   "source": [
    "em_seed_cmp = clone_escher_map(em_seed)\n",
    "\n",
    "cpd_remap = {}\n",
    "rxn_remap = {}\n",
    "cpd_cmp = {}\n",
    "for node_id in em_seed.nodes:\n",
    "    node = em_seed.nodes[node_id]\n",
    "    if node['node_type'] == 'metabolite':\n",
    "        m = node\n",
    "        seed_id = m['bigg_id'].split('@')[0]\n",
    "        cmp = m['compartment']\n",
    "        cpd_remap[(m['bigg_id'], cmp)] = \"{}_{}\".format(seed_id, cmp)\n",
    "        cpd_cmp[node_id] = cmp\n",
    "    \n",
    "for o in em_seed.reactions:\n",
    "    seed_id = o['bigg_id'].split('@')[0]\n",
    "    map_stoichiometry = get_stoichiometry(o)\n",
    "    cstoich_list = get_cstoich_list(em, o)\n",
    "    rxn_cmps = tuple(sorted(set(map(lambda x : x[1] + '0', cstoich_list))))\n",
    "    cmps = set(map(lambda x : cpd_cmp[x['node_uid']], o['metabolites']))\n",
    "    cmp = 'c'\n",
    "    if len(cmps) == 1:\n",
    "        cmp = cmps.pop()\n",
    "    elif 'e' in cmps:\n",
    "        cmp = 'e'\n",
    "    elif 'm' in cmps:\n",
    "        cmp = 'm'\n",
    "    rxn_remap[(o['bigg_id'], rxn_cmps)] = \"{}_{}\".format(seed_id, cmp)\n",
    "\n",
    "swap_ids2(em_seed_cmp, cpd_remap, rxn_remap)\n",
    "#em_seed_cmp.swap_ids(cpd_remap, rxn_remap)\n",
    "b = escher.Builder(map_json=json.dumps(em_seed_cmp.escher_map), model_json=None)\n",
    "b.display_in_notebook(enable_editing=False)\n"
   ]
  },
  {
   "cell_type": "code",
   "execution_count": 66,
   "metadata": {},
   "outputs": [
    {
     "data": {
      "text/plain": [
       "'../../../data/www/fungi_viz/expanded_seed_central_seed.html'"
      ]
     },
     "execution_count": 66,
     "metadata": {},
     "output_type": "execute_result"
    }
   ],
   "source": [
    "b.save_html('../../../data/www/fungi_viz/expanded_seed_central_seed.html', overwrite=True)"
   ]
  },
  {
   "cell_type": "code",
   "execution_count": null,
   "metadata": {},
   "outputs": [],
   "source": []
  },
  {
   "cell_type": "code",
   "execution_count": null,
   "metadata": {},
   "outputs": [],
   "source": []
  },
  {
   "cell_type": "code",
   "execution_count": null,
   "metadata": {},
   "outputs": [],
   "source": []
  },
  {
   "cell_type": "code",
   "execution_count": 28,
   "metadata": {},
   "outputs": [
    {
     "data": {
      "text/plain": [
       "[{'coefficient': -1, 'bigg_id': 'cpd00079@SEED', 'node_uid': '672376'},\n",
       " {'coefficient': 1, 'bigg_id': 'cpd00072@SEED', 'node_uid': '668387'}]"
      ]
     },
     "execution_count": 28,
     "metadata": {},
     "output_type": "execute_result"
    }
   ],
   "source": []
  },
  {
   "cell_type": "code",
   "execution_count": 27,
   "metadata": {},
   "outputs": [],
   "source": [
    "cpd_seed_to_target, rxn_seed_to_target = get_mapping_to(modelseed_local, 'KEGG')\n",
    "cpd_seed_to_target = add_namespace(cpd_seed_to_target, 'SEED', 'KEGG')\n",
    "rxn_seed_to_target = add_namespace(rxn_seed_to_target, 'SEED', 'KEGG')\n",
    "cpd_seed_to_target['cpd00001@SEED'] = set(['C00001@KEGG'])\n",
    "cpd_seed_to_target['cpd00008@SEED'] = set(['C00008@KEGG'])\n",
    "cpd_seed_to_target['cpd00014@SEED'] = set(['C00015@KEGG'])\n",
    "cpd_seed_to_target['cpd00242@SEED'] = set(['C00288@KEGG'])"
   ]
  },
  {
   "cell_type": "code",
   "execution_count": null,
   "metadata": {},
   "outputs": [],
   "source": []
  },
  {
   "cell_type": "code",
   "execution_count": 28,
   "metadata": {},
   "outputs": [
    {
     "ename": "NameError",
     "evalue": "name 'raw_model' is not defined",
     "output_type": "error",
     "traceback": [
      "\u001b[0;31m---------------------------------------------------------------------------\u001b[0m",
      "\u001b[0;31mNameError\u001b[0m                                 Traceback (most recent call last)",
      "\u001b[0;32m<ipython-input-28-499c5d7aeb9e>\u001b[0m in \u001b[0;36m<module>\u001b[0;34m()\u001b[0m\n\u001b[1;32m      2\u001b[0m \u001b[0mem_kegg\u001b[0m \u001b[0;34m=\u001b[0m \u001b[0mclone_escher_map\u001b[0m\u001b[0;34m(\u001b[0m\u001b[0mem_seed\u001b[0m\u001b[0;34m)\u001b[0m\u001b[0;34m\u001b[0m\u001b[0m\n\u001b[1;32m      3\u001b[0m \u001b[0mmap_compound_remap\u001b[0m\u001b[0;34m,\u001b[0m \u001b[0munmaped_cpd\u001b[0m\u001b[0;34m,\u001b[0m \u001b[0mnode_uid_cmp\u001b[0m \u001b[0;34m=\u001b[0m \u001b[0mremap_map_compounds\u001b[0m\u001b[0;34m(\u001b[0m\u001b[0mem_kegg\u001b[0m\u001b[0;34m,\u001b[0m \u001b[0mcpd_seed_to_target\u001b[0m\u001b[0;34m)\u001b[0m\u001b[0;34m\u001b[0m\u001b[0m\n\u001b[0;32m----> 4\u001b[0;31m \u001b[0mmap_reaction_remap\u001b[0m\u001b[0;34m,\u001b[0m \u001b[0munmaped_rxn\u001b[0m \u001b[0;34m=\u001b[0m \u001b[0mremap_map_reactions\u001b[0m\u001b[0;34m(\u001b[0m\u001b[0mem_kegg\u001b[0m\u001b[0;34m,\u001b[0m \u001b[0mrxn_seed_to_target\u001b[0m\u001b[0;34m,\u001b[0m \u001b[0mmap_compound_remap\u001b[0m\u001b[0;34m,\u001b[0m \u001b[0;32mlambda\u001b[0m \u001b[0mx\u001b[0m \u001b[0;34m:\u001b[0m \u001b[0mget_raw_stoich\u001b[0m\u001b[0;34m(\u001b[0m\u001b[0mx\u001b[0m\u001b[0;34m.\u001b[0m\u001b[0msplit\u001b[0m\u001b[0;34m(\u001b[0m\u001b[0;34m'@'\u001b[0m\u001b[0;34m)\u001b[0m\u001b[0;34m[\u001b[0m\u001b[0;36m0\u001b[0m\u001b[0;34m]\u001b[0m\u001b[0;34m,\u001b[0m \u001b[0;34m'KEGG'\u001b[0m\u001b[0;34m)\u001b[0m\u001b[0;34m)\u001b[0m\u001b[0;34m\u001b[0m\u001b[0m\n\u001b[0m\u001b[1;32m      5\u001b[0m \u001b[0;32mfor\u001b[0m \u001b[0mk\u001b[0m \u001b[0;32min\u001b[0m \u001b[0mmap_compound_remap\u001b[0m\u001b[0;34m:\u001b[0m\u001b[0;34m\u001b[0m\u001b[0m\n\u001b[1;32m      6\u001b[0m     \u001b[0;32mif\u001b[0m \u001b[0mlen\u001b[0m\u001b[0;34m(\u001b[0m\u001b[0mmap_compound_remap\u001b[0m\u001b[0;34m[\u001b[0m\u001b[0mk\u001b[0m\u001b[0;34m]\u001b[0m\u001b[0;34m)\u001b[0m \u001b[0;34m>\u001b[0m \u001b[0;36m1\u001b[0m\u001b[0;34m:\u001b[0m\u001b[0;34m\u001b[0m\u001b[0m\n",
      "\u001b[0;32m~/workspace/jupyter/python3/modelseed-escher/examples/convert_utils.py\u001b[0m in \u001b[0;36mremap_map_reactions\u001b[0;34m(em, bigg_to_seed_rxn, map_compound_remap, get_rxn, to_match_func)\u001b[0m\n\u001b[1;32m     94\u001b[0m                 \u001b[0;31m#print(db_id)\u001b[0m\u001b[0;34m\u001b[0m\u001b[0;34m\u001b[0m\u001b[0m\n\u001b[1;32m     95\u001b[0m                 \u001b[0;31m#NEED KEGG/METACYC/BIGG provenance\u001b[0m\u001b[0;34m\u001b[0m\u001b[0;34m\u001b[0m\u001b[0m\n\u001b[0;32m---> 96\u001b[0;31m                 \u001b[0mrxn_cstoich\u001b[0m \u001b[0;34m=\u001b[0m \u001b[0mget_rxn\u001b[0m\u001b[0;34m(\u001b[0m\u001b[0mdb_id\u001b[0m\u001b[0;34m)\u001b[0m\u001b[0;34m\u001b[0m\u001b[0m\n\u001b[0m\u001b[1;32m     97\u001b[0m \u001b[0;34m\u001b[0m\u001b[0m\n\u001b[1;32m     98\u001b[0m                 \u001b[0;31m#print(rxn_cstoich)\u001b[0m\u001b[0;34m\u001b[0m\u001b[0;34m\u001b[0m\u001b[0m\n",
      "\u001b[0;32m<ipython-input-28-499c5d7aeb9e>\u001b[0m in \u001b[0;36m<lambda>\u001b[0;34m(x)\u001b[0m\n\u001b[1;32m      2\u001b[0m \u001b[0mem_kegg\u001b[0m \u001b[0;34m=\u001b[0m \u001b[0mclone_escher_map\u001b[0m\u001b[0;34m(\u001b[0m\u001b[0mem_seed\u001b[0m\u001b[0;34m)\u001b[0m\u001b[0;34m\u001b[0m\u001b[0m\n\u001b[1;32m      3\u001b[0m \u001b[0mmap_compound_remap\u001b[0m\u001b[0;34m,\u001b[0m \u001b[0munmaped_cpd\u001b[0m\u001b[0;34m,\u001b[0m \u001b[0mnode_uid_cmp\u001b[0m \u001b[0;34m=\u001b[0m \u001b[0mremap_map_compounds\u001b[0m\u001b[0;34m(\u001b[0m\u001b[0mem_kegg\u001b[0m\u001b[0;34m,\u001b[0m \u001b[0mcpd_seed_to_target\u001b[0m\u001b[0;34m)\u001b[0m\u001b[0;34m\u001b[0m\u001b[0m\n\u001b[0;32m----> 4\u001b[0;31m \u001b[0mmap_reaction_remap\u001b[0m\u001b[0;34m,\u001b[0m \u001b[0munmaped_rxn\u001b[0m \u001b[0;34m=\u001b[0m \u001b[0mremap_map_reactions\u001b[0m\u001b[0;34m(\u001b[0m\u001b[0mem_kegg\u001b[0m\u001b[0;34m,\u001b[0m \u001b[0mrxn_seed_to_target\u001b[0m\u001b[0;34m,\u001b[0m \u001b[0mmap_compound_remap\u001b[0m\u001b[0;34m,\u001b[0m \u001b[0;32mlambda\u001b[0m \u001b[0mx\u001b[0m \u001b[0;34m:\u001b[0m \u001b[0mget_raw_stoich\u001b[0m\u001b[0;34m(\u001b[0m\u001b[0mx\u001b[0m\u001b[0;34m.\u001b[0m\u001b[0msplit\u001b[0m\u001b[0;34m(\u001b[0m\u001b[0;34m'@'\u001b[0m\u001b[0;34m)\u001b[0m\u001b[0;34m[\u001b[0m\u001b[0;36m0\u001b[0m\u001b[0;34m]\u001b[0m\u001b[0;34m,\u001b[0m \u001b[0;34m'KEGG'\u001b[0m\u001b[0;34m)\u001b[0m\u001b[0;34m)\u001b[0m\u001b[0;34m\u001b[0m\u001b[0m\n\u001b[0m\u001b[1;32m      5\u001b[0m \u001b[0;32mfor\u001b[0m \u001b[0mk\u001b[0m \u001b[0;32min\u001b[0m \u001b[0mmap_compound_remap\u001b[0m\u001b[0;34m:\u001b[0m\u001b[0;34m\u001b[0m\u001b[0m\n\u001b[1;32m      6\u001b[0m     \u001b[0;32mif\u001b[0m \u001b[0mlen\u001b[0m\u001b[0;34m(\u001b[0m\u001b[0mmap_compound_remap\u001b[0m\u001b[0;34m[\u001b[0m\u001b[0mk\u001b[0m\u001b[0;34m]\u001b[0m\u001b[0;34m)\u001b[0m \u001b[0;34m>\u001b[0m \u001b[0;36m1\u001b[0m\u001b[0;34m:\u001b[0m\u001b[0;34m\u001b[0m\u001b[0m\n",
      "\u001b[0;32m<ipython-input-5-af7fc76f2b1d>\u001b[0m in \u001b[0;36mget_raw_stoich\u001b[0;34m(db_id, target_db)\u001b[0m\n\u001b[1;32m      2\u001b[0m \u001b[0;34m\u001b[0m\u001b[0m\n\u001b[1;32m      3\u001b[0m \u001b[0;32mdef\u001b[0m \u001b[0mget_raw_stoich\u001b[0m\u001b[0;34m(\u001b[0m\u001b[0mdb_id\u001b[0m\u001b[0;34m,\u001b[0m \u001b[0mtarget_db\u001b[0m\u001b[0;34m)\u001b[0m\u001b[0;34m:\u001b[0m\u001b[0;34m\u001b[0m\u001b[0m\n\u001b[0;32m----> 4\u001b[0;31m     \u001b[0;32mfor\u001b[0m \u001b[0mr\u001b[0m \u001b[0;32min\u001b[0m \u001b[0mraw_model\u001b[0m\u001b[0;34m[\u001b[0m\u001b[0;34m'reactions'\u001b[0m\u001b[0;34m]\u001b[0m\u001b[0;34m:\u001b[0m\u001b[0;34m\u001b[0m\u001b[0m\n\u001b[0m\u001b[1;32m      5\u001b[0m         \u001b[0;31m#print(r['id'], r['id'].endswith('@' + target_db))\u001b[0m\u001b[0;34m\u001b[0m\u001b[0;34m\u001b[0m\u001b[0m\n\u001b[1;32m      6\u001b[0m         \u001b[0;32mif\u001b[0m \u001b[0mr\u001b[0m\u001b[0;34m[\u001b[0m\u001b[0;34m'id'\u001b[0m\u001b[0;34m]\u001b[0m\u001b[0;34m.\u001b[0m\u001b[0mendswith\u001b[0m\u001b[0;34m(\u001b[0m\u001b[0;34m'@'\u001b[0m \u001b[0;34m+\u001b[0m \u001b[0mtarget_db\u001b[0m\u001b[0;34m)\u001b[0m\u001b[0;34m:\u001b[0m\u001b[0;34m\u001b[0m\u001b[0m\n",
      "\u001b[0;31mNameError\u001b[0m: name 'raw_model' is not defined"
     ]
    }
   ],
   "source": [
    "ALLOW_MISSING.add('C00080@KEGG')\n",
    "em_kegg = clone_escher_map(em_seed)\n",
    "map_compound_remap, unmaped_cpd, node_uid_cmp = remap_map_compounds(em_kegg, cpd_seed_to_target)\n",
    "map_reaction_remap, unmaped_rxn = remap_map_reactions(em_kegg, rxn_seed_to_target, map_compound_remap, lambda x : get_raw_stoich(x.split('@')[0], 'KEGG'))\n",
    "for k in map_compound_remap:\n",
    "    if len(map_compound_remap[k]) > 1:\n",
    "        print('***', k, map_compound_remap[k])\n",
    "delete_reactions(em_kegg, unmaped_rxn)\n",
    "delete_metabolites(em_kegg, unmaped_cpd)\n",
    "cpd_remap = {}\n",
    "rxn_remap = {}\n",
    "for k in map_compound_remap:\n",
    "    cpd_remap[k] = list(map_compound_remap[k])[0]\n",
    "for k in map_reaction_remap:\n",
    "    rxn_remap[k] = list(map_reaction_remap[k])[0]\n",
    "em_kegg.swap_ids(cpd_remap, rxn_remap)"
   ]
  },
  {
   "cell_type": "code",
   "execution_count": 7,
   "metadata": {},
   "outputs": [
    {
     "ename": "NameError",
     "evalue": "name 'escher' is not defined",
     "output_type": "error",
     "traceback": [
      "\u001b[0;31m---------------------------------------------------------------------------\u001b[0m",
      "\u001b[0;31mNameError\u001b[0m                                 Traceback (most recent call last)",
      "\u001b[0;32m<ipython-input-7-d53855ee36ae>\u001b[0m in \u001b[0;36m<module>\u001b[0;34m\u001b[0m\n\u001b[0;32m----> 1\u001b[0;31m \u001b[0mb\u001b[0m \u001b[0;34m=\u001b[0m \u001b[0mescher\u001b[0m\u001b[0;34m.\u001b[0m\u001b[0mBuilder\u001b[0m\u001b[0;34m(\u001b[0m\u001b[0mmap_json\u001b[0m\u001b[0;34m=\u001b[0m\u001b[0mjson\u001b[0m\u001b[0;34m.\u001b[0m\u001b[0mdumps\u001b[0m\u001b[0;34m(\u001b[0m\u001b[0mem_kegg\u001b[0m\u001b[0;34m.\u001b[0m\u001b[0mescher_map\u001b[0m\u001b[0;34m)\u001b[0m\u001b[0;34m,\u001b[0m \u001b[0mmodel_json\u001b[0m\u001b[0;34m=\u001b[0m\u001b[0;32mNone\u001b[0m\u001b[0;34m)\u001b[0m\u001b[0;34m\u001b[0m\u001b[0;34m\u001b[0m\u001b[0m\n\u001b[0m\u001b[1;32m      2\u001b[0m \u001b[0mb\u001b[0m\u001b[0;34m.\u001b[0m\u001b[0mset_highlight_missing\u001b[0m\u001b[0;34m(\u001b[0m\u001b[0;32mTrue\u001b[0m\u001b[0;34m)\u001b[0m\u001b[0;34m\u001b[0m\u001b[0;34m\u001b[0m\u001b[0m\n\u001b[1;32m      3\u001b[0m \u001b[0mb\u001b[0m\u001b[0;34m.\u001b[0m\u001b[0mdisplay_in_notebook\u001b[0m\u001b[0;34m(\u001b[0m\u001b[0menable_editing\u001b[0m\u001b[0;34m=\u001b[0m\u001b[0;32mFalse\u001b[0m\u001b[0;34m)\u001b[0m\u001b[0;34m\u001b[0m\u001b[0;34m\u001b[0m\u001b[0m\n",
      "\u001b[0;31mNameError\u001b[0m: name 'escher' is not defined"
     ]
    }
   ],
   "source": [
    "b = escher.Builder(map_json=json.dumps(em_kegg.escher_map), model_json=None)\n",
    "b.set_highlight_missing(True)\n",
    "b.display_in_notebook(enable_editing=False)"
   ]
  },
  {
   "cell_type": "code",
   "execution_count": 90,
   "metadata": {},
   "outputs": [],
   "source": [
    "cpd_seed_to_target, rxn_seed_to_target = get_mapping_to(modelseed_local, 'MetaCyc')\n",
    "cpd_seed_to_target = add_namespace(cpd_seed_to_target, 'SEED', 'META')\n",
    "rxn_seed_to_target = add_namespace(rxn_seed_to_target, 'SEED', 'META')\n",
    "cpd_seed_to_target = add_prefix(cpd_seed_to_target, None, 'META:')\n",
    "rxn_seed_to_target = add_prefix(rxn_seed_to_target, None, 'META:')\n",
    "cpd_seed_to_target['cpd00001@SEED'] = set(['META:WATER@META'])\n",
    "cpd_seed_to_target['cpd00009@SEED'] = set(['META:Pi@META'])\n",
    "cpd_seed_to_target['cpd11493@SEED'] = set(['META:ACP@META'])\n",
    "cpd_seed_to_target['cpd00242@SEED'] = set(['META:HCO3@META'])\n",
    "cpd_seed_to_target['cpd11474@SEED'] = set(['META:Decanoyl-ACPs@META'])"
   ]
  },
  {
   "cell_type": "code",
   "execution_count": 91,
   "metadata": {},
   "outputs": [
    {
     "data": {
      "text/plain": [
       "{'cpd12690@SEED',\n",
       " 'cpd15204@SEED',\n",
       " 'cpd15237@SEED',\n",
       " 'cpd15238@SEED',\n",
       " 'cpd15274@SEED',\n",
       " 'cpd15295@SEED',\n",
       " 'cpd15298@SEED',\n",
       " 'cpd25615@SEED',\n",
       " 'cpd26436@SEED'}"
      ]
     },
     "execution_count": 91,
     "metadata": {},
     "output_type": "execute_result"
    }
   ],
   "source": [
    "unmaped_cpd"
   ]
  },
  {
   "cell_type": "code",
   "execution_count": 96,
   "metadata": {},
   "outputs": [],
   "source": [
    "\n",
    "\n"
   ]
  },
  {
   "cell_type": "code",
   "execution_count": 93,
   "metadata": {},
   "outputs": [
    {
     "name": "stdout",
     "output_type": "stream",
     "text": [
      "rxn08453@SEED ?\n",
      "rxn08451@SEED ?\n",
      "rxn08454@SEED ?\n",
      "rxn00946@SEED ?\n",
      "rxn08413@SEED ?\n",
      "rxn08053@SEED ?\n",
      "rxn03246@SEED ?\n",
      "rxn03247@SEED ?\n",
      "rxn02679@SEED ?\n",
      "rxn03251@SEED ?\n",
      "rxn08455@SEED ?\n",
      "rxn08456@SEED ?\n",
      "rxn08457@SEED ?\n",
      "rxn08450@SEED ?\n",
      "rxn08452@SEED ?\n",
      "rxn08448@SEED ?\n",
      "rxn08449@SEED ?\n",
      "rxn00872@SEED ?\n",
      "rxn02803@SEED ?\n",
      "rxn03241@SEED ?\n",
      "rxn06777@SEED ?\n",
      "rxn02720@SEED ?\n",
      "rxn02911@SEED ?\n",
      "rxn03242@SEED ?\n",
      "rxn03253@SEED ?\n",
      "*** cpd03127@SEED {'META:CPD-15568@META', 'META:CPD0-2120@META'}\n"
     ]
    }
   ],
   "source": [
    "em_meta = clone_escher_map(em_seed)\n",
    "map_compound_remap, unmaped_cpd, node_uid_cmp = remap_map_compounds(em_meta, cpd_seed_to_target)\n",
    "map_reaction_remap, unmaped_rxn = remap_map_reactions(em_meta, rxn_seed_to_target, map_compound_remap, lambda x : get_raw_stoich(x.split('@')[0], 'META'))\n",
    "for k in map_compound_remap:\n",
    "    if len(map_compound_remap[k]) > 1:\n",
    "        print('***', k, map_compound_remap[k])\n",
    "delete_reactions(em_meta, unmaped_rxn)\n",
    "delete_metabolites(em_meta, unmaped_cpd)\n",
    "cpd_remap = {}\n",
    "rxn_remap = {}\n",
    "for k in map_compound_remap:\n",
    "    cpd_remap[k] = list(map_compound_remap[k])[0]\n",
    "for k in map_reaction_remap:\n",
    "    rxn_remap[k] = list(map_reaction_remap[k])[0]\n",
    "em_meta.swap_ids(cpd_remap, rxn_remap)"
   ]
  },
  {
   "cell_type": "code",
   "execution_count": 6,
   "metadata": {},
   "outputs": [
    {
     "ename": "NameError",
     "evalue": "name 'escher' is not defined",
     "output_type": "error",
     "traceback": [
      "\u001b[0;31m---------------------------------------------------------------------------\u001b[0m",
      "\u001b[0;31mNameError\u001b[0m                                 Traceback (most recent call last)",
      "\u001b[0;32m<ipython-input-6-c2dca0ff2a8c>\u001b[0m in \u001b[0;36m<module>\u001b[0;34m\u001b[0m\n\u001b[0;32m----> 1\u001b[0;31m \u001b[0mb\u001b[0m \u001b[0;34m=\u001b[0m \u001b[0mescher\u001b[0m\u001b[0;34m.\u001b[0m\u001b[0mBuilder\u001b[0m\u001b[0;34m(\u001b[0m\u001b[0mmap_json\u001b[0m\u001b[0;34m=\u001b[0m\u001b[0mjson\u001b[0m\u001b[0;34m.\u001b[0m\u001b[0mdumps\u001b[0m\u001b[0;34m(\u001b[0m\u001b[0mem_meta\u001b[0m\u001b[0;34m.\u001b[0m\u001b[0mescher_map\u001b[0m\u001b[0;34m)\u001b[0m\u001b[0;34m,\u001b[0m \u001b[0mmodel_json\u001b[0m\u001b[0;34m=\u001b[0m\u001b[0;32mNone\u001b[0m\u001b[0;34m)\u001b[0m\u001b[0;34m\u001b[0m\u001b[0;34m\u001b[0m\u001b[0m\n\u001b[0m\u001b[1;32m      2\u001b[0m \u001b[0mb\u001b[0m\u001b[0;34m.\u001b[0m\u001b[0mset_highlight_missing\u001b[0m\u001b[0;34m(\u001b[0m\u001b[0;32mTrue\u001b[0m\u001b[0;34m)\u001b[0m\u001b[0;34m\u001b[0m\u001b[0;34m\u001b[0m\u001b[0m\n\u001b[1;32m      3\u001b[0m \u001b[0mb\u001b[0m\u001b[0;34m.\u001b[0m\u001b[0mdisplay_in_notebook\u001b[0m\u001b[0;34m(\u001b[0m\u001b[0menable_editing\u001b[0m\u001b[0;34m=\u001b[0m\u001b[0;32mFalse\u001b[0m\u001b[0;34m)\u001b[0m\u001b[0;34m\u001b[0m\u001b[0;34m\u001b[0m\u001b[0m\n",
      "\u001b[0;31mNameError\u001b[0m: name 'escher' is not defined"
     ]
    }
   ],
   "source": [
    "b = escher.Builder(map_json=json.dumps(em_meta.escher_map), model_json=None)\n",
    "b.set_highlight_missing(True)\n",
    "b.display_in_notebook(enable_editing=False)"
   ]
  },
  {
   "cell_type": "code",
   "execution_count": 107,
   "metadata": {},
   "outputs": [
    {
     "data": {
      "text/plain": [
       "{'BiGG', 'KEGG', 'META', 'SEED'}"
      ]
     },
     "execution_count": 107,
     "metadata": {},
     "output_type": "execute_result"
    }
   ],
   "source": [
    "ns = set()\n",
    "for r in raw_model['reactions']:\n",
    "    if '@' in r['id']:\n",
    "        a, b = r['id'].split('@')\n",
    "        ns.add(b)\n",
    "ns"
   ]
  },
  {
   "cell_type": "code",
   "execution_count": null,
   "metadata": {},
   "outputs": [],
   "source": []
  },
  {
   "cell_type": "code",
   "execution_count": null,
   "metadata": {},
   "outputs": [],
   "source": []
  },
  {
   "cell_type": "code",
   "execution_count": 34,
   "metadata": {},
   "outputs": [
    {
     "name": "stderr",
     "output_type": "stream",
     "text": [
      "DEBUG:__main__:[0, 0]\n",
      "DEBUG:__main__:[0, 1]\n",
      "DEBUG:__main__:[DRAW] 1 next_id: 681526\n",
      "DEBUG:__main__:[0, 2]\n",
      "DEBUG:__main__:[DRAW] 2 next_id: 682778\n",
      "DEBUG:__main__:[0, 3]\n",
      "DEBUG:__main__:[DRAW] 3 next_id: 684030\n",
      "DEBUG:__main__:[0, 4]\n",
      "DEBUG:__main__:[0, 5]\n",
      "DEBUG:__main__:[0, 6]\n",
      "DEBUG:__main__:[0, 7]\n",
      "DEBUG:__main__:[0, 8]\n",
      "DEBUG:__main__:[0, 9]\n"
     ]
    },
    {
     "name": "stdout",
     "output_type": "stream",
     "text": [
      "681526\n"
     ]
    }
   ],
   "source": [
    "def get_next_id(em):\n",
    "    next_id = 0\n",
    "    for node_id in em.escher_graph['nodes']:\n",
    "        if int(node_id) >= next_id:\n",
    "            next_id = int(node_id) + 1\n",
    "\n",
    "    return next_id\n",
    "\n",
    "def translate_metabolite_node(n, lookup, x_off = 0, y_off = 0):\n",
    "    #print(n)\n",
    "    bigg_id, name = lookup(n)\n",
    "    #print(bigg_id, name)\n",
    "    #id = node['bigg_id']\n",
    "    #id = id[:-2]\n",
    "    if bigg_id == None:\n",
    "        raise Exception('not found ' + n['bigg_id'])\n",
    "    \n",
    "    result = copy.deepcopy(n)\n",
    "    result['x'] += x_off\n",
    "    result['y'] += y_off\n",
    "    result['label_x'] += x_off\n",
    "    result['label_y'] += y_off\n",
    "    result['bigg_id'] = bigg_id\n",
    "    result['name'] = name\n",
    "    #result = {\n",
    "    #    'x': n['x'] + x_off, \n",
    "    #    'y': n['y'] + y_off, \n",
    "    #    'name': name, \n",
    "    #    'node_is_primary': n['node_is_primary'], \n",
    "    #    'node_type': 'metabolite', \n",
    "    #    'label_x': n['label_x'] + x_off, \n",
    "    #    'label_y': n['label_y'] + y_off,\n",
    "    #    'bigg_id': bigg_id\n",
    "    #}\n",
    "    return result\n",
    "\n",
    "def translate_b(segment, x_off, y_off):\n",
    "    if segment == None:\n",
    "        return None\n",
    "    else:\n",
    "        return {\n",
    "            'x' : segment['x'] + x_off, \n",
    "            'y' : segment['y'] + y_off}\n",
    "\n",
    "def translate_reaction_node(rnode, lookup, next_id, x_off = 0, y_off = 0,\n",
    "                            node_id_remap = {}, compound_remap = {}, allow_miss = True):\n",
    "    #print(compound_remap)\n",
    "    id = rnode['bigg_id']\n",
    "    bigg_id, name = lookup(rnode)\n",
    "    if bigg_id == None:\n",
    "        if allow_miss:\n",
    "            bigg_id = rnode['bigg_id']\n",
    "            name = rnode['name']\n",
    "        else:\n",
    "            raise Exception('not found ' + rnode['bigg_id'])\n",
    "\n",
    "    metabolites = []\n",
    "    segments = {}\n",
    "    for m in rnode['metabolites']:\n",
    "        cpd_id = compound_remap[m['bigg_id']] if m['bigg_id'] in compound_remap else '?'\n",
    "        metabolites.append({\n",
    "            'bigg_id' : cpd_id,\n",
    "            'coefficient' : m['coefficient']\n",
    "        })\n",
    "    for s in rnode['segments']:\n",
    "        segment = rnode['segments'][s]\n",
    "        if segment['from_node_id'] in node_id_remap and segment['to_node_id'] in node_id_remap:\n",
    "            segment_translate = {\n",
    "                'b1' : translate_b(segment['b1'], x_off, y_off),\n",
    "                'b2' : translate_b(segment['b2'], x_off, y_off),\n",
    "                'from_node_id' : node_id_remap[segment['from_node_id']],\n",
    "                'to_node_id' : node_id_remap[segment['to_node_id']]\n",
    "            }\n",
    "            segments[str(next_id)] = segment_translate\n",
    "            next_id += 1\n",
    "    result = {\n",
    "        'bigg_id': bigg_id,\n",
    "        'name': name,\n",
    "        'gene_reaction_rule': '',\n",
    "        'genes': [],\n",
    "        'label_x': rnode['label_x'] + x_off,\n",
    "        'label_y': rnode['label_y'] + y_off,\n",
    "        'metabolites': metabolites,\n",
    "        'reversibility': rnode['reversibility'],\n",
    "        'segments': segments\n",
    "    }\n",
    "    return result, next_id\n",
    "\n",
    "def copy_map_compounds(escher_map, escher_map_target, next_id, cpd_lookup, x_off = 0, y_off = 0):\n",
    "    compound_remap = {}\n",
    "    node_id_remap = {}\n",
    "    id_counter = next_id\n",
    "    for node_id in escher_map[1]['nodes']:\n",
    "        node = escher_map[1]['nodes'][node_id]\n",
    "        note_type = node['node_type']\n",
    "        if note_type == 'metabolite':\n",
    "            #print(node)\n",
    "            tnode = translate_metabolite_node(node, cpd_lookup, x_off, y_off)\n",
    "            #print(node, tnode)\n",
    "            #print(node['bigg_id'], tnode['bigg_id'])\n",
    "            compound_remap[node['bigg_id']] = tnode['bigg_id']\n",
    "            escher_map_target[1]['nodes'][str(id_counter)] = tnode\n",
    "        else:\n",
    "            escher_map_target[1]['nodes'][str(id_counter)] = {\n",
    "                'x': node['x'] + x_off,\n",
    "                'y': node['y'] + y_off,\n",
    "                'node_type': node['node_type']\n",
    "            }\n",
    "        node_id_remap[node_id] = str(id_counter)\n",
    "        id_counter += 1\n",
    "    \n",
    "    return id_counter, node_id_remap, compound_remap\n",
    "\n",
    "def copy_map_reactions(escher_map, escher_map_target, next_id, node_id_remap, compound_remap, rxn_lookup, x_off = 0, y_off = 0):\n",
    "    id_counter = next_id\n",
    "    for rnode_id in escher_map[1]['reactions']:\n",
    "        rnode = escher_map[1]['reactions'][rnode_id]\n",
    "\n",
    "        trnode, id_counter = translate_reaction_node(\n",
    "            rnode, rxn_lookup, id_counter, \n",
    "                                                  x_off, y_off, \n",
    "                                                  node_id_remap, compound_remap)\n",
    "\n",
    "        escher_map_target[1]['reactions'][str(id_counter)] = trnode\n",
    "        id_counter += 1\n",
    "    \n",
    "    return id_counter\n",
    "\n",
    "def grid_maps(maps, grid):\n",
    "    master = clone_escher_map(maps[0])\n",
    "    block_width = master.escher_graph['canvas']['width']\n",
    "    block_height = master.escher_graph['canvas']['height']\n",
    "    master.escher_graph['canvas']['width'] *= grid[0]\n",
    "    master.escher_graph['canvas']['height'] *= grid[1]\n",
    "    next_id = get_next_id(maps[0])\n",
    "    print(next_id)\n",
    "    map_index = 1\n",
    "    for i in range(0, grid[1]):\n",
    "        for j in range(0, grid[0]):\n",
    "            logger.debug(\"[%d, %d]\", i, j)\n",
    "            if not (i == 0 and j == 0) and map_index < len(maps):\n",
    "                if not maps[map_index] == None:\n",
    "                    logger.debug(\"[DRAW] %d next_id: %d\", map_index, next_id)\n",
    "                    \n",
    "                    next_id, node_id_remap, compound_remap = copy_map_compounds(maps[map_index].escher_map,\n",
    "                                       master.escher_map, \n",
    "                                       next_id, \n",
    "                                       lambda n : (n['bigg_id'], n['name']), \n",
    "                                       x_off = j * block_width, y_off = i * block_height)\n",
    "                    \n",
    "                    next_id = copy_map_reactions(maps[map_index].escher_map, \n",
    "                                                 master.escher_map, \n",
    "                                                 next_id, \n",
    "                                                 node_id_remap, compound_remap, \n",
    "                                                 lambda n : (n['bigg_id'], n['name']), \n",
    "                                                 x_off = j * block_width, y_off = i * block_height)\n",
    "                map_index += 1\n",
    "        \n",
    "    return master\n",
    "\n",
    "logger.setLevel(logging.DEBUG)\n",
    "\n",
    "em_maps = [em_bigg, em_seed, em_fungi_master]\n",
    "for k in em_models:\n",
    "    em_maps.append(em_models[k])\n",
    "master = grid_maps(em_maps, (10, 1))\n",
    "#cobra_json = json.loads(cobra.io.to_json(models_raw_cobra['iMM904_KBase2']))\n",
    "#cobra_json = tag_model(cobra_json, 'iMM904')\n",
    "b = escher.Builder(map_json=json.dumps(master.escher_map), model_json=None)\n",
    "#b.set_highlight_missing(True)\n",
    "#b.display_in_notebook()"
   ]
  },
  {
   "cell_type": "code",
   "execution_count": 106,
   "metadata": {},
   "outputs": [
    {
     "name": "stderr",
     "output_type": "stream",
     "text": [
      "WARNING:__main__:reaction 681187 metabolite\n",
      "WARNING:__main__:reaction 681185 metabolite\n",
      "WARNING:__main__:reaction 681187 metabolite\n",
      "WARNING:__main__:reaction 681185 metabolite\n",
      "WARNING:__main__:reaction 681187 metabolite\n",
      "WARNING:__main__:reaction 681185 metabolite\n",
      "WARNING:__main__:reaction 681187 metabolite\n",
      "WARNING:__main__:reaction 681187 metabolite\n",
      "WARNING:__main__:from_node_id 672085\n",
      "WARNING:__main__:from_node_id 672349\n"
     ]
    },
    {
     "data": {
      "text/plain": [
       "10"
      ]
     },
     "execution_count": 106,
     "metadata": {},
     "output_type": "execute_result"
    }
   ],
   "source": [
    "def validate_em_uid(em):\n",
    "    uid_map = {}\n",
    "    for uid in em.escher_graph['nodes']:\n",
    "        node = em.escher_graph['nodes'][uid]\n",
    "        if not uid in uid_map:\n",
    "            uid_map[uid] = node['node_type']\n",
    "        else:\n",
    "            logger.warning(\"node %d\", uid)\n",
    "\n",
    "    for rnode_uid in em.escher_graph['reactions']:\n",
    "        if not rnode_uid in uid_map:\n",
    "            uid_map[rnode_uid] = 'reaction'\n",
    "        else:\n",
    "            logger.warning(\"reaction %s %s\", rnode_uid, uid_map[rnode_uid])\n",
    "        rnode = em.escher_graph['reactions'][rnode_uid]\n",
    "        for s in rnode['segments']:\n",
    "            segment = rnode['segments'][s]\n",
    "            if not segment['from_node_id'] in uid_map:\n",
    "                logger.warning(\"from_node_id %s\", segment['from_node_id'])\n",
    "            if not segment['to_node_id'] in uid_map:\n",
    "                logger.warning(\"to_node_id %s\", segment['to_node_id'])\n",
    "            #print(s)\n",
    "        #break\n",
    "    #print(em.escher_graph.keys())\n",
    "    #for s in rnode['segments']:\n",
    "    #    segment = rnode['segments'][s]\n",
    "    #    segments[str(next_id)] = {\n",
    "    #        'b1' : translate_b(segment['b1'], x_off, y_off),\n",
    "    #        'b2' : translate_b(segment['b2'], x_off, y_off),\n",
    "    #        'from_node_id' : node_id_remap[segment['from_node_id']],\n",
    "    #        'to_node_id' : node_id_remap[segment['to_node_id']]\n",
    "    #    }\n",
    "    #    next_id += 1\n",
    "    #pass\n",
    "for em in em_maps:\n",
    "    validate_em_uid(em)\n",
    "len(em_maps)"
   ]
  },
  {
   "cell_type": "code",
   "execution_count": 261,
   "metadata": {},
   "outputs": [
    {
     "name": "stdout",
     "output_type": "stream",
     "text": [
      "0 0\n",
      "0 1\n",
      "1 0\n",
      "1 1\n"
     ]
    }
   ],
   "source": [
    "grid = (2, 2)\n",
    "for i in range(0, grid[0]):\n",
    "    for j in range(0, grid[1]):\n",
    "        print(i, j)"
   ]
  },
  {
   "cell_type": "code",
   "execution_count": 66,
   "metadata": {},
   "outputs": [
    {
     "data": {
      "text/plain": [
       "{'y': 4045.637759686523,\n",
       " 'x': 487.85199312817394,\n",
       " 'height': 3351.136467594726,\n",
       " 'width': 6000.599199653076}"
      ]
     },
     "execution_count": 66,
     "metadata": {},
     "output_type": "execute_result"
    }
   ],
   "source": [
    "em_seed.escher_graph['canvas']"
   ]
  },
  {
   "cell_type": "code",
   "execution_count": 154,
   "metadata": {},
   "outputs": [],
   "source": [
    "em_fungi_master"
   ]
  },
  {
   "cell_type": "code",
   "execution_count": 5,
   "metadata": {},
   "outputs": [
    {
     "ename": "NameError",
     "evalue": "name 'grid_maps' is not defined",
     "output_type": "error",
     "traceback": [
      "\u001b[0;31m---------------------------------------------------------------------------\u001b[0m",
      "\u001b[0;31mNameError\u001b[0m                                 Traceback (most recent call last)",
      "\u001b[0;32m<ipython-input-5-f78ac0ddb5ca>\u001b[0m in \u001b[0;36m<module>\u001b[0;34m\u001b[0m\n\u001b[1;32m      1\u001b[0m \u001b[0;31m#[em_bigg, em_seed, em_kegg, em_meta]\u001b[0m\u001b[0;34m\u001b[0m\u001b[0;34m\u001b[0m\u001b[0;34m\u001b[0m\u001b[0m\n\u001b[0;32m----> 2\u001b[0;31m \u001b[0mmaster\u001b[0m \u001b[0;34m=\u001b[0m \u001b[0mgrid_maps\u001b[0m\u001b[0;34m(\u001b[0m\u001b[0;34m[\u001b[0m\u001b[0mem_seed\u001b[0m\u001b[0;34m,\u001b[0m \u001b[0mem_bigg\u001b[0m\u001b[0;34m]\u001b[0m\u001b[0;34m,\u001b[0m \u001b[0;34m(\u001b[0m\u001b[0;36m1\u001b[0m\u001b[0;34m,\u001b[0m \u001b[0;36m2\u001b[0m\u001b[0;34m)\u001b[0m\u001b[0;34m)\u001b[0m\u001b[0;34m\u001b[0m\u001b[0;34m\u001b[0m\u001b[0m\n\u001b[0m\u001b[1;32m      3\u001b[0m \u001b[0mb\u001b[0m \u001b[0;34m=\u001b[0m \u001b[0mescher\u001b[0m\u001b[0;34m.\u001b[0m\u001b[0mBuilder\u001b[0m\u001b[0;34m(\u001b[0m\u001b[0mmap_json\u001b[0m\u001b[0;34m=\u001b[0m\u001b[0mjson\u001b[0m\u001b[0;34m.\u001b[0m\u001b[0mdumps\u001b[0m\u001b[0;34m(\u001b[0m\u001b[0mmaster\u001b[0m\u001b[0;34m.\u001b[0m\u001b[0mescher_map\u001b[0m\u001b[0;34m)\u001b[0m\u001b[0;34m,\u001b[0m \u001b[0mmodel_json\u001b[0m\u001b[0;34m=\u001b[0m\u001b[0;32mNone\u001b[0m\u001b[0;34m)\u001b[0m\u001b[0;34m\u001b[0m\u001b[0;34m\u001b[0m\u001b[0m\n\u001b[1;32m      4\u001b[0m \u001b[0mb\u001b[0m\u001b[0;34m.\u001b[0m\u001b[0mset_highlight_missing\u001b[0m\u001b[0;34m(\u001b[0m\u001b[0;32mTrue\u001b[0m\u001b[0;34m)\u001b[0m\u001b[0;34m\u001b[0m\u001b[0;34m\u001b[0m\u001b[0m\n\u001b[1;32m      5\u001b[0m \u001b[0mb\u001b[0m\u001b[0;34m.\u001b[0m\u001b[0mdisplay_in_notebook\u001b[0m\u001b[0;34m(\u001b[0m\u001b[0;34m)\u001b[0m\u001b[0;34m\u001b[0m\u001b[0;34m\u001b[0m\u001b[0m\n",
      "\u001b[0;31mNameError\u001b[0m: name 'grid_maps' is not defined"
     ]
    }
   ],
   "source": [
    "#[em_bigg, em_seed, em_kegg, em_meta]\n",
    "master = grid_maps([em_seed, em_bigg], (1, 2))\n",
    "b = escher.Builder(map_json=json.dumps(master.escher_map), model_json=None)\n",
    "b.set_highlight_missing(True)\n",
    "b.display_in_notebook()\n"
   ]
  },
  {
   "cell_type": "code",
   "execution_count": null,
   "metadata": {},
   "outputs": [],
   "source": [
    "b.save_html('../../../data/www/mpa19/example_fa_oxy.html', overwrite=True)"
   ]
  },
  {
   "cell_type": "code",
   "execution_count": 48,
   "metadata": {},
   "outputs": [],
   "source": [
    "def cpd_lookup_escher(n):\n",
    "    node_id = n['bigg_id']\n",
    "    name = n['name'] + '?'\n",
    "    if node_id.endswith('_c') or node_id.endswith('_e') or node_id.endswith('_p'):\n",
    "        node_id = node_id[:-2]\n",
    "    else:\n",
    "        print('!cpd_lookup_escher', node_id)\n",
    "    if node_id in cpd_id_to_universal:\n",
    "        node_id = cpd_id_to_universal[node_id]\n",
    "        name = cpd_id_to_name[node_id]\n",
    "    return node_id, name\n",
    "\n",
    "def rxn_lookup_escher(n):\n",
    "    node_id = n['bigg_id']\n",
    "    name = n['name'] + '?'\n",
    "    #print(node_id, name)\n",
    "    if node_id.endswith('_c') or node_id.endswith('_e') or node_id.endswith('_p'):\n",
    "        node_id = node_id[:-2]\n",
    "    else:\n",
    "        #print('!cpd_lookup_escher', node_id)\n",
    "        1\n",
    "    if node_id in rxn_id_to_universal:\n",
    "        node_id = rxn_id_to_universal[node_id]\n",
    "        name = rxn_id_to_name[node_id]\n",
    "        #print(n['bigg_id'], node_id)\n",
    "    return node_id, name"
   ]
  },
  {
   "cell_type": "code",
   "execution_count": 30,
   "metadata": {},
   "outputs": [],
   "source": [
    "o = 'iMM904_KBase2.json'\n",
    "fbamodel = cobrakbase.core.model.KBaseFBAModel(read_json('../../notebooks/fungi_map/fungi_viz/data/kbase/' + o))"
   ]
  },
  {
   "cell_type": "code",
   "execution_count": 60,
   "metadata": {},
   "outputs": [],
   "source": [
    "%run ../../scripts/fungi_fixer.py\n",
    "%run ../../notebooks/fungi_manual_curation.py\n",
    "import os\n",
    "from cobrakbase.modelseed.utils import get_mapping\n",
    "def load_mapping_helper(model_id):\n",
    "    cpd_mapping_file = '../../data/fungi_annotation/' + model_id + '_cpd_fast.tsv'\n",
    "    rxn_mapping_file = '../../data/fungi_annotation/' + model_id + '_rxn_fast.tsv'\n",
    "    cpd_db_links = {}\n",
    "    rxn_db_links = {}\n",
    "    if os.path.isfile(cpd_mapping_file):\n",
    "        cpdMapping = pd.read_csv(cpd_mapping_file, delimiter='\\t', index_col=0)\n",
    "        cpd_db_links = get_mapping(cpdMapping, \n",
    "                                   [\n",
    "                                       'ModelSeed', 'MetaCyc', 'LigandCompound', \n",
    "                                       'LigandGlycan', 'BiGGMetabolite'\n",
    "                                   ], \n",
    "                                   pd)\n",
    "        \n",
    "    if os.path.isfile(rxn_mapping_file):\n",
    "        rxnMapping = pd.read_csv(rxn_mapping_file, delimiter='\\t', index_col=0)\n",
    "        rxn_db_links = get_mapping(rxnMapping, ['BiGGReaction', 'ModelSeedReaction'], pd)\n",
    "        \n",
    "    return cpd_db_links, rxn_db_links\n",
    "\n",
    "cpd_db_links, rxn_db_links = load_mapping_helper(fbamodel.id)\n",
    "ff = FungiFixer(delete, merges, manual_comp)\n",
    "ff.fix_mapping = fix_mapping\n",
    "ff.cpd_db_links = cpd_db_links\n",
    "ff.rxn_db_links = rxn_db_links\n",
    "#ff.merge_compounds = merges\n",
    "#ff.delete_compounds\n",
    "#ff.delete_comp = delete_comp\n",
    "ff.manual_fix = manual_fix\n",
    "ff.fix(fbamodel)\n",
    "fbamodel.update_indexes()"
   ]
  },
  {
   "cell_type": "code",
   "execution_count": 61,
   "metadata": {},
   "outputs": [],
   "source": [
    "em_model = clone_escher_map(em_seed)\n",
    "#map_compound_remap, unmaped, node_uid_cmp = remap_map_compounds(em_meta, cpd_seed_to_target)\n",
    "#map_reaction_remap, unmaped_rxn = remap_map_reactions(em_meta, rxn_seed_to_target, map_compound_remap, lambda x : get_raw_stoich(x.split('@')[0], 'META'))\n",
    "#delete_reactions(em_meta, unmaped_rxn)\n",
    "#cpd_remap = {}\n",
    "#rxn_remap = {}\n",
    "#for k in map_compound_remap:\n",
    "#    cpd_remap[k] = list(map_compound_remap[k])[0]\n",
    "#for k in map_reaction_remap:\n",
    "#    rxn_remap[k] = list(map_reaction_remap[k])[0]\n",
    "#em_meta.swap_ids(cpd_remap, rxn_remap)"
   ]
  },
  {
   "cell_type": "code",
   "execution_count": 66,
   "metadata": {},
   "outputs": [],
   "source": [
    "master_fungi = read_json('../../notebooks/fungi_map/fungi_viz/data/master_model3.json')"
   ]
  },
  {
   "cell_type": "code",
   "execution_count": 32,
   "metadata": {},
   "outputs": [
    {
     "name": "stdout",
     "output_type": "stream",
     "text": [
      "{'id': 'rxn01256_c0', 'name': 'chorismate pyruvatemutase', 'metabolites': {'cpd00216_c0': -1.0, 'cpd00219_c0': 1.0}, 'lower_bound': 0.0, 'upper_bound': 1000.0, 'gene_reaction_rule': '(Pc21g08250)', 'annotation': {'yeast_7.6_KBase2': ['r_0278'], 'iRL766_KBase2': ['R_ARO7'], 'iNX804_KBase2': ['R_ZH0675'], 'iMM904_KBase2': ['R_CHORM'], 'iMA871_KBase2': ['r376'], 'iTO977_KBase2': ['R_ARO7'], 'iWV1213_KBase2': ['R_r512'], 'iWV1314_KBase2': ['R_r907'], 'iLC915_KBase2': ['R_r996'], 'iAL1006_KBase2': ['R_r0713'], 'iJDZ836_KBase2': ['R_CHORISMATEMUT-45-RXN-45-L2R'], 'yeast_6.06_KBase2': ['r_0278'], 'iCT646_KBase2': ['R_CHORM'], 'iJL1454_KBase2': ['R_r0178'], 'iOD907_KBase2': ['R_02066'], 'iSS884_KBase2': ['R_r994']}}\n"
     ]
    }
   ],
   "source": [
    "for r in master_fungi['reactions']:\n",
    "    print(r)\n",
    "    break"
   ]
  },
  {
   "cell_type": "code",
   "execution_count": 67,
   "metadata": {},
   "outputs": [],
   "source": [
    "em_fungi_master = clone_escher_map(em_seed)"
   ]
  },
  {
   "cell_type": "code",
   "execution_count": 69,
   "metadata": {},
   "outputs": [],
   "source": [
    "logger.setLevel(logging.INFO)\n",
    "def escher_map_to_model_metabolites(em, model):\n",
    "    remap = {}\n",
    "    unmapped = set()\n",
    "    cmp_to_cpd = {}\n",
    "    for m in model['metabolites']:\n",
    "        if m['id'].startswith('cpd'):\n",
    "            cmp = m['compartment']\n",
    "            if not cmp in cmp_to_cpd:\n",
    "                cmp_to_cpd[cmp] = {}\n",
    "            database_id = m['id'][:8]\n",
    "            cmp_to_cpd[cmp][database_id] = m['id']\n",
    "            #print(cmp_to_cpd)\n",
    "            #break\n",
    "            \n",
    "    for m in em.metabolites:\n",
    "        node_id = m['bigg_id']\n",
    "        \n",
    "        if 'compartment' in m:\n",
    "            cmp = m['compartment'] + '0'\n",
    "            cpd_id = node_id\n",
    "            if '@' in cpd_id:\n",
    "                cpd_id, database = cpd_id.split('@')\n",
    "            #print(cpd_id)\n",
    "            logger.debug('%s %s %s', node_id, cmp, cpd_id)\n",
    "            if cmp in cmp_to_cpd and cpd_id in cmp_to_cpd[cmp]:\n",
    "                remap[(node_id, m['compartment'])] = cmp_to_cpd[cmp][cpd_id]\n",
    "            else:\n",
    "                unmapped.add(node_id)\n",
    "        else:\n",
    "            unmapped.add(node_id)\n",
    "                #print(m, cmp, cpd_id, cmp_to_cpd[cmp][cpd_id])\n",
    "        #m['compartment'] = 'c0'\n",
    "        #m['database'] = 'SEED'\n",
    "        #print(m)\n",
    "                #break\n",
    "    return remap, unmapped\n",
    "cpd_seed_to_target, unmapped = escher_map_to_model_metabolites(em_fungi_master, master_fungi)"
   ]
  },
  {
   "cell_type": "code",
   "execution_count": 70,
   "metadata": {},
   "outputs": [
    {
     "data": {
      "text/plain": [
       "{'cpd00190@SEED',\n",
       " 'cpd03189@SEED',\n",
       " 'cpd19001@SEED',\n",
       " 'cpd19006@SEED',\n",
       " 'cpd19035@SEED',\n",
       " 'cpd19036@SEED',\n",
       " 'cpd19171@SEED',\n",
       " 'cpd19172@SEED',\n",
       " 'cpd19179@SEED'}"
      ]
     },
     "execution_count": 70,
     "metadata": {},
     "output_type": "execute_result"
    }
   ],
   "source": [
    "unmapped"
   ]
  },
  {
   "cell_type": "code",
   "execution_count": null,
   "metadata": {},
   "outputs": [],
   "source": []
  },
  {
   "cell_type": "code",
   "execution_count": 71,
   "metadata": {},
   "outputs": [],
   "source": [
    "def get_cstoich_list(em, rnode):\n",
    "    cstoich_list = []\n",
    "    \n",
    "    for s_uid in rnode['segments']:\n",
    "        s = rnode['segments'][s_uid]\n",
    "        from_node_id = rnode['segments'][s_uid]['from_node_id']\n",
    "        to_node_id = rnode['segments'][s_uid]['to_node_id']\n",
    "        from_node = em.escher_graph['nodes'][from_node_id]\n",
    "        to_node = em.escher_graph['nodes'][to_node_id]\n",
    "        if from_node['node_type'] == 'metabolite':\n",
    "            cstoich_list.append((from_node['bigg_id'], from_node['compartment']))\n",
    "        if to_node['node_type'] == 'metabolite':\n",
    "            cstoich_list.append((to_node['bigg_id'], to_node['compartment']))\n",
    "            \n",
    "    return cstoich_list\n",
    "\n",
    "#cstoich_list = get_cstoich_list(em_fungi_master, rnode)\n",
    "#print(cstoich_list)"
   ]
  },
  {
   "cell_type": "code",
   "execution_count": 72,
   "metadata": {},
   "outputs": [],
   "source": [
    "def escher_map_to_model_reactions(em, model):\n",
    "    remap = {}\n",
    "    unmapped = set()\n",
    "    cmp_to_cpd = {}\n",
    "    metabolites = {}\n",
    "    reactions = {}\n",
    "    for m in model['metabolites']:\n",
    "        metabolites[m['id']] = m\n",
    "        if m['id'].startswith('cpd'):\n",
    "            cmp = m['compartment']\n",
    "            if not cmp in cmp_to_cpd:\n",
    "                cmp_to_cpd[cmp] = {}\n",
    "            database_id = m['id'][:8]\n",
    "            cmp_to_cpd[cmp][database_id] = m['id']\n",
    "            #print(cmp_to_cpd)\n",
    "            #break\n",
    "    cmp_to_rxn = {}\n",
    "    for r in model['reactions']:\n",
    "        if r['id'].startswith('rxn'):\n",
    "            database_id = r['id'][:8]\n",
    "            rxn_cmps = set()\n",
    "            for rxn_m in r['metabolites']:\n",
    "                cpd = metabolites[rxn_m]\n",
    "                rxn_cmps.add(cpd['compartment'])\n",
    "            rxn_cmps = tuple(sorted(list(rxn_cmps)))\n",
    "            if not rxn_cmps in cmp_to_rxn:\n",
    "                cmp_to_rxn[rxn_cmps] = {}\n",
    "            cmp_to_rxn[rxn_cmps][database_id] = r['id']\n",
    "            \n",
    "    #print(cmp_to_rxn.keys())\n",
    "    mapped = set()\n",
    "    for node_uid in em.escher_graph['reactions']:\n",
    "        #print(node_uid)\n",
    "        rnode = em.escher_graph['reactions'][node_uid]\n",
    "        node_id = rnode['bigg_id']\n",
    "        cstoich_list = get_cstoich_list(em, rnode)\n",
    "        rxn_cmps = tuple(sorted(set(map(lambda x : x[1] + '0', cstoich_list))))\n",
    "        #print(node_uid, node_id, rxn_cmps)\n",
    "        if rxn_cmps in cmp_to_rxn:\n",
    "            rxn_id = node_id\n",
    "            if '@' in rxn_id:\n",
    "                rxn_id, database = rxn_id.split('@')\n",
    "            #print(rxn_id, rxn_cmps, len(cmp_to_rxn[rxn_cmps]))\n",
    "            if rxn_id in cmp_to_rxn[rxn_cmps]:\n",
    "                remap[(node_id, rxn_cmps)] = cmp_to_rxn[rxn_cmps][rxn_id]\n",
    "                mapped.add(node_uid)\n",
    "                #print('yes', rxn_cmps, cmp_to_rxn[rxn_cmps][rxn_id])\n",
    "        #print(cstoich_list, rxn_cmps, rnode)\n",
    "        #break\n",
    "                #print(m, cmp, cpd_id, cmp_to_cpd[cmp][cpd_id])\n",
    "        #m['compartment'] = 'c0'\n",
    "        #m['database'] = 'SEED'\n",
    "        #print(m)\n",
    "                #break\n",
    "        if not node_uid in mapped:\n",
    "            unmapped.add(node_id)\n",
    "    return remap, unmapped\n",
    "\n",
    "rxn_seed_to_target, unmapped = escher_map_to_model_reactions(em_fungi_master, master_fungi)\n",
    "#rxn_seed_to_target"
   ]
  },
  {
   "cell_type": "code",
   "execution_count": 130,
   "metadata": {},
   "outputs": [
    {
     "data": {
      "text/plain": [
       "{}"
      ]
     },
     "execution_count": 130,
     "metadata": {},
     "output_type": "execute_result"
    }
   ],
   "source": [
    "cpd_seed_to_target, rxn_seed_to_target = ({}, {})\n",
    "cpd_seed_to_target = add_namespace(cpd_seed_to_target, 'SEED', 'KEGG')\n",
    "rxn_seed_to_target = add_namespace(rxn_seed_to_target, 'SEED', 'KEGG')\n",
    "cpd_seed_to_target"
   ]
  },
  {
   "cell_type": "code",
   "execution_count": null,
   "metadata": {},
   "outputs": [],
   "source": []
  },
  {
   "cell_type": "code",
   "execution_count": 73,
   "metadata": {},
   "outputs": [],
   "source": [
    "em_fungi_master = clone_escher_map(em_seed)\n",
    "#em_fungi_master = clone_escher_map(em_base_seed)\n",
    "cpd_seed_to_target, unmapped_cpd = escher_map_to_model_metabolites(em_fungi_master, master_fungi)\n",
    "rxn_seed_to_target, unmapped_rxm = escher_map_to_model_reactions(em_fungi_master, master_fungi)"
   ]
  },
  {
   "cell_type": "code",
   "execution_count": 74,
   "metadata": {},
   "outputs": [
    {
     "data": {
      "text/plain": [
       "set()"
      ]
     },
     "execution_count": 74,
     "metadata": {},
     "output_type": "execute_result"
    }
   ],
   "source": [
    "ALLOW_MISSING.add('C00080@KEGG')\n",
    "\n",
    "def swap_ids2(em, cpd_remap, rxn_remap):\n",
    "    swap_node = {}\n",
    "    for map_uid in em.escher_graph['nodes']:\n",
    "        node = em.escher_graph['nodes'][map_uid]\n",
    "        cmp = node['compartment'] if 'compartment' in node else None\n",
    "        #print(cmp, node['bigg_id'], (node['bigg_id'], cmp) in cpd_remap)\n",
    "        \n",
    "        if node['node_type'] == 'metabolite' and (node['bigg_id'], cmp) in cpd_remap:\n",
    "            #print(node['bigg_id'], cmp, cpd_remap[(node['bigg_id'], cmp)])\n",
    "            node['bigg_id'] = cpd_remap[(node['bigg_id'], cmp)]\n",
    "            swap_node[map_uid] = node['bigg_id']\n",
    "            \n",
    "        #    node['bigg_id'] = cpd_remap[node['bigg_id']]\n",
    "    unmapped_rxn = set()\n",
    "    for map_uid in em.escher_graph['reactions']:\n",
    "        map_reaction = em.escher_graph['reactions'][map_uid]\n",
    "        cstoich_list = get_cstoich_list(em, map_reaction)\n",
    "        rxn_cmps = tuple(sorted(set(map(lambda x : x[1] + '0', cstoich_list))))\n",
    "        #print(map_uid, rxn_cmps)\n",
    "        if (map_reaction['bigg_id'], rxn_cmps) in rxn_remap:\n",
    "            missing = set()\n",
    "            \n",
    "        #    map_reaction['bigg_id'] = rxn_remap[map_reaction['bigg_id']]\n",
    "            for m in map_reaction['metabolites']:\n",
    "                if not m['node_uid'] in swap_node:\n",
    "                    missing.add(m['node_uid'])\n",
    "                    #print(m, swap_node[m['node_uid']])\n",
    "                #else:\n",
    "                #    print('?', m)\n",
    "            if len(missing) == 0:\n",
    "                #print('yes!', rxn_remap[(map_reaction['bigg_id'], rxn_cmps)])\n",
    "                map_reaction['bigg_id'] = rxn_remap[(map_reaction['bigg_id'], rxn_cmps)]\n",
    "                for m in map_reaction['metabolites']:\n",
    "                    m['bigg_id'] = swap_node[m['node_uid']]\n",
    "            else:\n",
    "                unmapped_rxn.add(map_reaction['bigg_id'])\n",
    "        #    if m['bigg_id'] in cpd_remap:\n",
    "        #        m['bigg_id'] = cpd_remap[m['bigg_id']]\n",
    "    return unmapped_rxn\n",
    "                \n",
    "swap_ids2(em_fungi_master, cpd_seed_to_target, rxn_seed_to_target)\n",
    "\n",
    "#map_compound_remap, unmaped, node_uid_cmp = remap_map_compounds(em_fungi_master, cpd_seed_to_target)\n",
    "\n",
    "#map_reaction_remap, unmaped_rxn = remap_map_reactions(em_fungi_master, rxn_seed_to_target, map_compound_remap, lambda x : get_raw_stoich(x.split('@')[0], 'KEGG'))\n",
    "#delete_reactions(em_fungi_master, unmaped_rxn)\n",
    "#cpd_remap = {}\n",
    "#rxn_remap = {}\n",
    "#for k in cpd_seed_to_target:\n",
    "#    cpd_remap[k] = list(map_compound_remap[k])[0]\n",
    "#for k in map_reaction_remap:\n",
    "#    rxn_remap[k] = list(map_reaction_remap[k])[0]\n",
    "#em_fungi_master.swap_ids(cpd_remap, rxn_remap)"
   ]
  },
  {
   "cell_type": "code",
   "execution_count": null,
   "metadata": {},
   "outputs": [],
   "source": []
  },
  {
   "cell_type": "code",
   "execution_count": 2,
   "metadata": {},
   "outputs": [
    {
     "ename": "NameError",
     "evalue": "name 'escher' is not defined",
     "output_type": "error",
     "traceback": [
      "\u001b[0;31m---------------------------------------------------------------------------\u001b[0m",
      "\u001b[0;31mNameError\u001b[0m                                 Traceback (most recent call last)",
      "\u001b[0;32m<ipython-input-2-5d89171a8c03>\u001b[0m in \u001b[0;36m<module>\u001b[0;34m\u001b[0m\n\u001b[0;32m----> 1\u001b[0;31m \u001b[0mb\u001b[0m \u001b[0;34m=\u001b[0m \u001b[0mescher\u001b[0m\u001b[0;34m.\u001b[0m\u001b[0mBuilder\u001b[0m\u001b[0;34m(\u001b[0m\u001b[0mmap_json\u001b[0m\u001b[0;34m=\u001b[0m\u001b[0mjson\u001b[0m\u001b[0;34m.\u001b[0m\u001b[0mdumps\u001b[0m\u001b[0;34m(\u001b[0m\u001b[0mem_fungi_master\u001b[0m\u001b[0;34m.\u001b[0m\u001b[0mescher_map\u001b[0m\u001b[0;34m)\u001b[0m\u001b[0;34m,\u001b[0m \u001b[0mmodel_json\u001b[0m\u001b[0;34m=\u001b[0m\u001b[0mjson\u001b[0m\u001b[0;34m.\u001b[0m\u001b[0mdumps\u001b[0m\u001b[0;34m(\u001b[0m\u001b[0mmaster_fungi\u001b[0m\u001b[0;34m)\u001b[0m\u001b[0;34m)\u001b[0m\u001b[0;34m\u001b[0m\u001b[0;34m\u001b[0m\u001b[0m\n\u001b[0m\u001b[1;32m      2\u001b[0m \u001b[0mb\u001b[0m\u001b[0;34m.\u001b[0m\u001b[0mset_highlight_missing\u001b[0m\u001b[0;34m(\u001b[0m\u001b[0;32mTrue\u001b[0m\u001b[0;34m)\u001b[0m\u001b[0;34m\u001b[0m\u001b[0;34m\u001b[0m\u001b[0m\n\u001b[1;32m      3\u001b[0m \u001b[0mb\u001b[0m\u001b[0;34m.\u001b[0m\u001b[0mdisplay_in_notebook\u001b[0m\u001b[0;34m(\u001b[0m\u001b[0menable_editing\u001b[0m\u001b[0;34m=\u001b[0m\u001b[0;32mFalse\u001b[0m\u001b[0;34m)\u001b[0m\u001b[0;34m\u001b[0m\u001b[0;34m\u001b[0m\u001b[0m\n\u001b[1;32m      4\u001b[0m \u001b[0;31m#b.save_html('../../../data/www/mpa19/test.html', overwrite=True)\u001b[0m\u001b[0;34m\u001b[0m\u001b[0;34m\u001b[0m\u001b[0;34m\u001b[0m\u001b[0m\n",
      "\u001b[0;31mNameError\u001b[0m: name 'escher' is not defined"
     ]
    }
   ],
   "source": [
    "b = escher.Builder(map_json=json.dumps(em_fungi_master.escher_map), model_json=json.dumps(master_fungi))\n",
    "b.set_highlight_missing(True)\n",
    "b.display_in_notebook(enable_editing=False)\n",
    "#b.save_html('../../../data/www/mpa19/test.html', overwrite=True)"
   ]
  },
  {
   "cell_type": "code",
   "execution_count": null,
   "metadata": {},
   "outputs": [],
   "source": []
  },
  {
   "cell_type": "code",
   "execution_count": null,
   "metadata": {},
   "outputs": [],
   "source": []
  },
  {
   "cell_type": "code",
   "execution_count": 107,
   "metadata": {},
   "outputs": [],
   "source": [
    "rxn_dg_flux = {}\n",
    "abs_rxn_dg_flux = {}\n",
    "for r_id in modelseed_local.reactions:\n",
    "    rxn = modelseed_local.get_seed_reaction(r_id)\n",
    "    if rxn.data['deltag'] < 10000000:\n",
    "        rxn_dg_flux[rxn.id] = rxn.data['deltag']\n",
    "        abs_rxn_dg_flux[rxn.id] = math.fabs(rxn.data['deltag'])"
   ]
  },
  {
   "cell_type": "code",
   "execution_count": 109,
   "metadata": {},
   "outputs": [
    {
     "data": {
      "text/plain": [
       "[{'organism': 'Saccharomyces cerevisiae', 'model_name': 'iMM904'},\n",
       " {'organism': 'Homo sapiens', 'model_name': 'RECON1'},\n",
       " {'organism': 'Escherichia coli', 'model_name': 'e_coli_core'},\n",
       " {'organism': 'Escherichia coli', 'model_name': 'iJO1366'}]"
      ]
     },
     "execution_count": 109,
     "metadata": {},
     "output_type": "execute_result"
    }
   ],
   "source": [
    "%run ../../kbase/kb_escher/lib/kb_escher/kb_escher_module.py"
   ]
  },
  {
   "cell_type": "code",
   "execution_count": 113,
   "metadata": {},
   "outputs": [],
   "source": [
    "%run ../../modelseed-escher/modelseed_escher/kbase/kbase_escher_viewer.py\n",
    "#viewer = KBaseEscherViewer(merge_model, 'ModelSEED', 'ModelSEED.json', model_json=json.dumps(model_json_data))"
   ]
  },
  {
   "cell_type": "code",
   "execution_count": 114,
   "metadata": {},
   "outputs": [],
   "source": [
    "map_list = list(filter(lambda d : d['organism'] == 'ModelSEED', escher.list_cached_maps()))"
   ]
  },
  {
   "cell_type": "code",
   "execution_count": 143,
   "metadata": {},
   "outputs": [],
   "source": [
    "data = {\n",
    "    'map_id' : [],\n",
    "    'min' : [],\n",
    "    'max' : [],\n",
    "    'total' : [],\n",
    "    'avg' : [],\n",
    "    'rxn' : [],\n",
    "    'no_dg' : [],\n",
    "}\n",
    "for o in map_list:\n",
    "    map_id = o['map_name']\n",
    "    #print(map_id)\n",
    "    escher_map_data = read_json('/Users/fliu/workspace/jupyter/data/escher' + '/maps/' + 'ModelSEED' + '/' + map_id + '.json')\n",
    "    escher_map = EscherMap(escher_map_data)\n",
    "    max_dg, min_dg, total_dg, avg, no_dg = dg_map(escher_map, abs_rxn_dg_flux)\n",
    "    data['map_id'].append(map_id)\n",
    "    data['max'].append(max_dg)\n",
    "    data['min'].append(min_dg)\n",
    "    data['total'].append(total_dg)\n",
    "    data['avg'].append(avg)\n",
    "    data['no_dg'].append(no_dg)\n",
    "    data['rxn'].append(len(escher_map.reactions))\n",
    "df = pd.DataFrame(data)"
   ]
  },
  {
   "cell_type": "code",
   "execution_count": 138,
   "metadata": {},
   "outputs": [],
   "source": [
    "def dg_map(escher_map, abs_rxn_dg_flux):\n",
    "    max_dg = 0\n",
    "    min_dg = 10000000000\n",
    "    total_dg = 0\n",
    "    count = 0\n",
    "    no_dg = 0\n",
    "    for r in escher_map.reactions:\n",
    "\n",
    "        rxn_id = r['bigg_id']\n",
    "        if rxn_id in abs_rxn_dg_flux:\n",
    "            dg = abs_rxn_dg_flux[rxn_id]\n",
    "            total_dg += dg\n",
    "            count += 1\n",
    "            if dg > max_dg:\n",
    "                max_dg = dg\n",
    "            if dg < min_dg:\n",
    "                min_dg = dg\n",
    "        else:\n",
    "            no_dg += 1\n",
    "            #prisnt('!', rxn_id)\n",
    "    return max_dg, min_dg, total_dg, 0 if count == 0 else total_dg / count, no_dg"
   ]
  },
  {
   "cell_type": "code",
   "execution_count": 145,
   "metadata": {},
   "outputs": [],
   "source": [
    "df.to_csv('../../../data/www/mpa19/dg_seed.tsv', sep='\\t')"
   ]
  },
  {
   "cell_type": "code",
   "execution_count": 167,
   "metadata": {},
   "outputs": [
    {
     "data": {
      "text/plain": [
       "'../../../data/www/mpa19/dg_example_ipp.html'"
      ]
     },
     "execution_count": 167,
     "metadata": {},
     "output_type": "execute_result"
    }
   ],
   "source": [
    "map_id = 'ModelSEED.Isoprenoid Biosynthesis'\n",
    "escher_map_data = read_json('/Users/fliu/workspace/jupyter/data/escher' + '/maps/' + 'ModelSEED' + '/' + map_id + '.json')\n",
    "b = escher.Builder(map_json=json.dumps(escher_map_data), reaction_data=abs_rxn_dg_flux, model_json=json.dumps(escher_model_data))\n",
    "b.save_html('../../../data/www/mpa19/dg_example_ipp.html', overwrite=True)\n",
    "#b.set_reaction_scale(1)"
   ]
  },
  {
   "cell_type": "code",
   "execution_count": null,
   "metadata": {},
   "outputs": [],
   "source": []
  },
  {
   "cell_type": "code",
   "execution_count": 163,
   "metadata": {},
   "outputs": [],
   "source": [
    "escher_model_data = read_json('/Users/fliu/workspace/jupyter/data/escher/models/ModelSEED/ModelSEED2.json')"
   ]
  },
  {
   "cell_type": "code",
   "execution_count": null,
   "metadata": {},
   "outputs": [],
   "source": [
    "b = escher.Builder(map_json=json.dumps(em_fungi_master.escher_map), model_json=json.dumps(master_fungi))"
   ]
  },
  {
   "cell_type": "code",
   "execution_count": 43,
   "metadata": {},
   "outputs": [
    {
     "data": {
      "text/plain": [
       "{'iAL1006_KBase2',\n",
       " 'iCT646_KBase2',\n",
       " 'iJDZ836_KBase2',\n",
       " 'iJL1454_KBase2',\n",
       " 'iLC915_KBase2',\n",
       " 'iMA871_KBase2',\n",
       " 'iMM904_KBase2',\n",
       " 'iNL895_KBase2',\n",
       " 'iNX804_KBase2',\n",
       " 'iOD907_KBase2',\n",
       " 'iRL766_KBase2',\n",
       " 'iSS884_KBase2',\n",
       " 'iTO977_KBase2',\n",
       " 'iWV1213_KBase2',\n",
       " 'iWV1314_KBase2',\n",
       " 'yeast_6.06_KBase2',\n",
       " 'yeast_7.6_KBase2'}"
      ]
     },
     "execution_count": 43,
     "metadata": {},
     "output_type": "execute_result"
    }
   ],
   "source": [
    "annotations = set()\n",
    "for o in master_fungi['metabolites']:\n",
    "    for annotation in o['annotation']:\n",
    "        annotations.add(annotation)\n",
    "annotations"
   ]
  },
  {
   "cell_type": "code",
   "execution_count": 21,
   "metadata": {},
   "outputs": [],
   "source": [
    "import cobra\n",
    "logging.getLogger('cobra.io.sbml').setLevel(logging.ERROR)"
   ]
  },
  {
   "cell_type": "code",
   "execution_count": 22,
   "metadata": {},
   "outputs": [],
   "source": [
    "logger.setLevel(logging.ERROR)"
   ]
  },
  {
   "cell_type": "code",
   "execution_count": 23,
   "metadata": {},
   "outputs": [],
   "source": [
    "%%capture\n",
    "\n",
    "models_raw_sbml_path = {\n",
    "    'iMM904_KBase2' : '../../../data/www/fungi_viz/data/sbml/iMM904.xml',\n",
    "    #'iJL1454_KBase2' : '../../../data/www/fungi_viz/data/sbml/iJL1454.xml',\n",
    "    'iAL1006_KBase2' : '../../../data/www/fungi_viz/data/sbml/iAl1006.xml',\n",
    "    'iLC915_KBase2' : '../../../data/www/fungi_viz/data/sbml/iLC915.xml',\n",
    "    'iRL766_KBase2' : '../../../data/www/fungi_viz/data/sbml/iRL766.xml',\n",
    "    'iMA871_KBase2' : '../../../data/www/fungi_viz/data/sbml/iMA871.xml',\n",
    "    'iNL895_KBase2' : '../../../data/www/fungi_viz/data/sbml/iNL895.xml',\n",
    "    #'iCT646_KBase2' : '../../../data/www/fungi_viz/data/sbml/i',\n",
    "    'iJDZ836_KBase2' : '../../../data/www/fungi_viz/data/sbml/iJDZ836.xml',\n",
    "}\n",
    "\n",
    "models_raw_json_path = {\n",
    "    'iMM904_KBase3' : '../../../data/www/fungi_viz/data/sbml/iMM904.json',\n",
    "    #'iJL1454_KBase2' : '../../../data/www/fungi_viz/data/sbml/iJL1454.xml',\n",
    "    #'iAL1006_KBase2' : '../../../data/www/fungi_viz/data/sbml/iAl1006.json',\n",
    "    #'iLC915_KBase2' : '../../../data/www/fungi_viz/data/sbml/iLC915.json',\n",
    "    #'iMA871_KBase2' : '../../../data/www/fungi_viz/data/sbml/iMA871.json',\n",
    "    #'iNL895_KBase2' : '../../../data/www/fungi_viz/data/sbml/iNL895.json',\n",
    "    #'iCT646_KBase2' : '../../../data/www/fungi_viz/data/sbml/i',\n",
    "    #'iJDZ836_KBase2' : '../../../data/www/fungi_viz/data/sbml/iJDZ836.json',\n",
    "    #'iRL766_KBase2' : '../../../data/www/fungi_viz/data/sbml/iRL766.json',\n",
    "    #'iSS884_KBase2' : '../../../data/www/fungi_viz/data/sbml/iSS884.json',\n",
    "    #'iCT646_KBase2' : '../../../data/www/fungi_viz/data/sbml/iCT646.json',\n",
    "    #'yeast_6.06_KBase2' : '../../../data/www/fungi_viz/data/sbml/yeast_6.06.json',\n",
    "    #'yeast_7.6_KBase2' : '../../../data/www/fungi_viz/data/sbml/yeast_7.6.json',\n",
    "}\n",
    "\n",
    "models_raw_cobra = {}\n",
    "models_raw_bios = {}\n",
    "for k in models_raw_json_path:\n",
    "    #models_raw_cobra[k] = cobra.io.read_sbml_model(models_raw_sbml_path[k])\n",
    "    models_raw_cobra[k] = cobra.io.from_json(json.dumps(read_json(models_raw_json_path[k])))\n",
    "    #models_raw_bios[k] = read_json(models_raw_json_path[k])"
   ]
  },
  {
   "cell_type": "code",
   "execution_count": 47,
   "metadata": {},
   "outputs": [],
   "source": [
    "em_annotation = clone_escher_map(em_fungi_master)"
   ]
  },
  {
   "cell_type": "code",
   "execution_count": 51,
   "metadata": {},
   "outputs": [],
   "source": [
    "def model_remap_map_compounds(base_model, em, annotation, bigg_to_seed, id_function = lambda x : (x, 0), \n",
    "                              em_id_function = lambda x : x):\n",
    "    map_compound_remap = {}\n",
    "    unmaped = set()\n",
    "    node_uid_cmp = {}\n",
    "    \n",
    "    model_metabolites = {}\n",
    "    \n",
    "    for m in base_model['metabolites']:\n",
    "        if 'annotation' in m and annotation in m['annotation']:\n",
    "            model_metabolites[m['id']] = m['annotation'][annotation]\n",
    "            \n",
    "    #print(model_metabolites)\n",
    "    \n",
    "    for map_uid in em.escher_graph['nodes']:\n",
    "        node = em.escher_graph['nodes'][map_uid]\n",
    "        if node['node_type'] == 'metabolite':\n",
    "            node_id = node['bigg_id']\n",
    "            bigg_id, cmp = id_function(node_id)\n",
    "            #bigg_id = node_id[:-2]\n",
    "            #cmp = node_id[-1:]\n",
    "            \n",
    "            #print(node_id, bigg_id, cmp)\n",
    "            if bigg_id in model_metabolites:\n",
    "                node_uid_cmp[map_uid] = cmp\n",
    "                map_compound_remap[node_id] = set(map(em_id_function, model_metabolites[bigg_id]))\n",
    "                logger.debug(\"bigg_id[%s] cmp[%s] -> [%s]\", bigg_id, cmp, map_compound_remap[node_id])\n",
    "                #print(map_uid, bigg_id, cmp, bigg_to_seed[bigg_id])\n",
    "            else:\n",
    "                logger.debug(\"bigg_id[%s] cmp[%s] NO MAPPING\", bigg_id, cmp)\n",
    "                unmaped.add(node_id)\n",
    "                \n",
    "            \n",
    "    return map_compound_remap, unmaped, node_uid_cmp\n",
    "\n",
    "map_compound_remap, unmaped_cpd, node_uid_cmp = model_remap_map_compounds(master_fungi, em_annotation, 'iMM904_KBase3', {}, \n",
    "                                                                          id_function = lambda x : (x, x[-2:]),\n",
    "                                                                          em_id_function = lambda x : x.replace('-45-', '__45__'))"
   ]
  },
  {
   "cell_type": "code",
   "execution_count": null,
   "metadata": {},
   "outputs": [],
   "source": []
  },
  {
   "cell_type": "code",
   "execution_count": 25,
   "metadata": {},
   "outputs": [],
   "source": [
    "def get_raw_stoich2(db_id, target_db):\n",
    "    cobra_rxn = None\n",
    "    if target_db in models_raw_cobra:\n",
    "        cobra_model = models_raw_cobra[target_db]\n",
    "        try:\n",
    "            cobra_rxn = cobra_model.reactions.get_by_id(db_id)\n",
    "        except KeyError:\n",
    "            try:\n",
    "                if db_id[:2] == \"R_\":\n",
    "                    cobra_rxn = cobra_model.reactions.get_by_id(db_id[2:])\n",
    "            except KeyError as e:\n",
    "                return None\n",
    "    \n",
    "    if not cobra_rxn == None:\n",
    "        cstoich = {}\n",
    "        for m in cobra_rxn.metabolites:\n",
    "            cstoich[(m.id, m.compartment)] = cobra_rxn.metabolites[m]\n",
    "        return cstoich\n",
    "    return None\n",
    "\n",
    "get_raw_stoich2('R_ACALDt', 'iMM904_KBase2')\n",
    "#get_raw_stoich2('R_RIBULP3EPIM-45-RXN-45-L2R'.replace('-', '__'), 'iJDZ836_KBase2')"
   ]
  },
  {
   "cell_type": "code",
   "execution_count": null,
   "metadata": {},
   "outputs": [],
   "source": []
  },
  {
   "cell_type": "code",
   "execution_count": 141,
   "metadata": {},
   "outputs": [
    {
     "ename": "KeyError",
     "evalue": "'ACALDt'",
     "output_type": "error",
     "traceback": [
      "\u001b[0;31m---------------------------------------------------------------------------\u001b[0m",
      "\u001b[0;31mKeyError\u001b[0m                                  Traceback (most recent call last)",
      "\u001b[0;32m<ipython-input-141-38e6c0ef1f30>\u001b[0m in \u001b[0;36m<module>\u001b[0;34m()\u001b[0m\n\u001b[1;32m      1\u001b[0m \u001b[0mcobra_model\u001b[0m \u001b[0;34m=\u001b[0m \u001b[0mmodels_raw_cobra\u001b[0m\u001b[0;34m[\u001b[0m\u001b[0;34m'iJDZ836_KBase2'\u001b[0m\u001b[0;34m]\u001b[0m\u001b[0;34m\u001b[0m\u001b[0m\n\u001b[0;32m----> 2\u001b[0;31m \u001b[0mcobra_rxn\u001b[0m \u001b[0;34m=\u001b[0m \u001b[0mcobra_model\u001b[0m\u001b[0;34m.\u001b[0m\u001b[0mreactions\u001b[0m\u001b[0;34m.\u001b[0m\u001b[0mget_by_id\u001b[0m\u001b[0;34m(\u001b[0m\u001b[0;34m'ACALDt'\u001b[0m\u001b[0;34m)\u001b[0m\u001b[0;34m\u001b[0m\u001b[0m\n\u001b[0m\u001b[1;32m      3\u001b[0m \u001b[0mcstoich\u001b[0m \u001b[0;34m=\u001b[0m \u001b[0;34m{\u001b[0m\u001b[0;34m}\u001b[0m\u001b[0;34m\u001b[0m\u001b[0m\n\u001b[1;32m      4\u001b[0m \u001b[0;32mfor\u001b[0m \u001b[0mm\u001b[0m \u001b[0;32min\u001b[0m \u001b[0mcobra_rxn\u001b[0m\u001b[0;34m.\u001b[0m\u001b[0mmetabolites\u001b[0m\u001b[0;34m:\u001b[0m\u001b[0;34m\u001b[0m\u001b[0m\n\u001b[1;32m      5\u001b[0m     \u001b[0;31m#cobra_cpd = cobra_model.metabolites.get_by_id(m.compartment)\u001b[0m\u001b[0;34m\u001b[0m\u001b[0;34m\u001b[0m\u001b[0m\n",
      "\u001b[0;32m/anaconda3/lib/python3.6/site-packages/cobra/core/dictlist.py\u001b[0m in \u001b[0;36mget_by_id\u001b[0;34m(self, id)\u001b[0m\n\u001b[1;32m     56\u001b[0m     \u001b[0;32mdef\u001b[0m \u001b[0mget_by_id\u001b[0m\u001b[0;34m(\u001b[0m\u001b[0mself\u001b[0m\u001b[0;34m,\u001b[0m \u001b[0mid\u001b[0m\u001b[0;34m)\u001b[0m\u001b[0;34m:\u001b[0m\u001b[0;34m\u001b[0m\u001b[0m\n\u001b[1;32m     57\u001b[0m         \u001b[0;34m\"\"\"return the element with a matching id\"\"\"\u001b[0m\u001b[0;34m\u001b[0m\u001b[0m\n\u001b[0;32m---> 58\u001b[0;31m         \u001b[0;32mreturn\u001b[0m \u001b[0mlist\u001b[0m\u001b[0;34m.\u001b[0m\u001b[0m__getitem__\u001b[0m\u001b[0;34m(\u001b[0m\u001b[0mself\u001b[0m\u001b[0;34m,\u001b[0m \u001b[0mself\u001b[0m\u001b[0;34m.\u001b[0m\u001b[0m_dict\u001b[0m\u001b[0;34m[\u001b[0m\u001b[0mid\u001b[0m\u001b[0;34m]\u001b[0m\u001b[0;34m)\u001b[0m\u001b[0;34m\u001b[0m\u001b[0m\n\u001b[0m\u001b[1;32m     59\u001b[0m \u001b[0;34m\u001b[0m\u001b[0m\n\u001b[1;32m     60\u001b[0m     \u001b[0;32mdef\u001b[0m \u001b[0mlist_attr\u001b[0m\u001b[0;34m(\u001b[0m\u001b[0mself\u001b[0m\u001b[0;34m,\u001b[0m \u001b[0mattribute\u001b[0m\u001b[0;34m)\u001b[0m\u001b[0;34m:\u001b[0m\u001b[0;34m\u001b[0m\u001b[0m\n",
      "\u001b[0;31mKeyError\u001b[0m: 'ACALDt'"
     ]
    }
   ],
   "source": [
    "cobra_model = models_raw_cobra['iJDZ836_KBase2']\n",
    "cobra_rxn = cobra_model.reactions.get_by_id('ACALDt')\n",
    "cstoich = {}\n",
    "for m in cobra_rxn.metabolites:\n",
    "    #cobra_cpd = cobra_model.metabolites.get_by_id(m.compartment)\n",
    "    print(m, cobra_rxn.metabolites[m], m.compartment)"
   ]
  },
  {
   "cell_type": "code",
   "execution_count": null,
   "metadata": {},
   "outputs": [],
   "source": []
  },
  {
   "cell_type": "code",
   "execution_count": 26,
   "metadata": {},
   "outputs": [
    {
     "data": {
      "text/plain": [
       "({},\n",
       " {'cpd00001', 'cpd03113', 'cpd03126'},\n",
       " {'cpd00001', 'cpd03113', 'cpd03126'})"
      ]
     },
     "execution_count": 26,
     "metadata": {},
     "output_type": "execute_result"
    }
   ],
   "source": [
    "def match2(to_match, map_stoichiometry, map_compound_remap):\n",
    "    #to_match = set(map(lambda x : x[0], rxn.cstoichiometry.keys()))\n",
    "    missing = set()\n",
    "    mapping = {}\n",
    "    for cpd_id in map_stoichiometry:\n",
    "        \n",
    "        if cpd_id in map_compound_remap:\n",
    "            for other_id in map_compound_remap[cpd_id]:\n",
    "                print(cpd_id, other_id)\n",
    "                if other_id in to_match:\n",
    "                    mapping[cpd_id] = other_id\n",
    "    missing =  to_match - set(mapping.values())\n",
    "    return mapping, missing, to_match\n",
    "match2(to_match, map_stoichiometry, map_compound_remap)"
   ]
  },
  {
   "cell_type": "code",
   "execution_count": 417,
   "metadata": {},
   "outputs": [
    {
     "data": {
      "text/plain": [
       "{('M_s_0557', 'c_02'), ('M_s_0561', 'c_02')}"
      ]
     },
     "execution_count": 417,
     "metadata": {},
     "output_type": "execute_result"
    }
   ],
   "source": [
    "to_match"
   ]
  },
  {
   "cell_type": "code",
   "execution_count": 418,
   "metadata": {},
   "outputs": [
    {
     "data": {
      "text/plain": [
       "{'M_s_0557', 'M_s_0561'}"
      ]
     },
     "execution_count": 418,
     "metadata": {},
     "output_type": "execute_result"
    }
   ],
   "source": [
    "map_stoichiometry = {'cpd00198_c0': 1.0, 'cpd00171_c0': -1.0}\n",
    "origin_stoich = get_raw_stoich2('R_r_0965', 'iNL895_KBase2')\n",
    "to_match = set(map(lambda x : \"M_\" + x[0], origin_stoich.keys()))\n",
    "to_match"
   ]
  },
  {
   "cell_type": "code",
   "execution_count": null,
   "metadata": {},
   "outputs": [],
   "source": [
    "WARNING:__main__:rxn01116_c0 R_r_0965 {'cpd00198_c0': 1.0, 'cpd00171_c0': -1.0}\n",
    "WARNING:__main__:R_r_0965 {('s_0561', 'c_02'): 1.0, ('s_0557', 'c_02'): -1.0}\n",
    "WARNING:__main__:Match: {'s_0561', 's_0557'} -> {'cpd00198_c0': 1.0, 'cpd00171_c0': -1.0}\n",
    "WARNING:__main__:mapping/missing: {} {'s_0561', 's_0557'}"
   ]
  },
  {
   "cell_type": "code",
   "execution_count": 87,
   "metadata": {},
   "outputs": [],
   "source": [
    "\n",
    "def get_model_reactions(base_model, annotation):\n",
    "    model_reactions = {}\n",
    "    \n",
    "    for r in base_model['reactions']:\n",
    "        #print(r['annotation'])\n",
    "        if 'annotation' in r and annotation in r['annotation']:\n",
    "            model_reactions[r['id']] = r['annotation'][annotation]\n",
    "\n",
    "    return model_reactions\n",
    "\n",
    "mapping = get_model_reactions(master_fungi, 'iMM904_KBase3')"
   ]
  },
  {
   "cell_type": "code",
   "execution_count": 80,
   "metadata": {
    "collapsed": true,
    "jupyter": {
     "outputs_hidden": true
    }
   },
   "outputs": [
    {
     "name": "stderr",
     "output_type": "stream",
     "text": [
      "DEBUG:__main__:Not mapped: [node:rxn00558_c]\n",
      "DEBUG:__main__:Not mapped: [node:rxn08428@SEED]\n",
      "DEBUG:__main__:Not mapped: [node:rxn05211@SEED]\n",
      "DEBUG:__main__:Not mapped: [node:rxn00247_c]\n",
      "DEBUG:__main__:Not mapped: [node:rxn00799_m]\n",
      "DEBUG:__main__:Not mapped: [node:rxn05469@SEED]\n",
      "DEBUG:__main__:Not mapped: [node:rxn00161_m]\n",
      "DEBUG:__main__:Not mapped: [node:rxn00459_c]\n",
      "DEBUG:__main__:Not mapped: [node:rxn00507_m]\n",
      "DEBUG:__main__:Not mapped: [node:rxn00154_m]\n",
      "DEBUG:__main__:Not mapped: [node:rxn00973_m]\n",
      "DEBUG:__main__:Not mapped: [node:rxn08617_e]\n",
      "DEBUG:__main__:Not mapped: [node:rxn09777_m]\n",
      "DEBUG:__main__:Not mapped: [node:rxn00148_c]\n",
      "DEBUG:__main__:Not mapped: [node:rxn05467@SEED]\n",
      "DEBUG:__main__:Not mapped: [node:rxn00248_m]\n",
      "DEBUG:__main__:Not mapped: [node:rxn01100_c]\n",
      "DEBUG:__main__:Not mapped: [node:rxn00505_m]\n",
      "DEBUG:__main__:Not mapped: [node:rxn01106_c]\n",
      "DEBUG:__main__:Not mapped: [node:rxn09417_m]\n",
      "DEBUG:__main__:Not mapped: [node:rxn00248_c]\n",
      "DEBUG:__main__:Not mapped: [node:rxn00506_m]\n",
      "DEBUG:__main__:Not mapped: [node:rxn00001_m]\n",
      "DEBUG:__main__:Not mapped: [node:rxn08032@SEED]\n",
      "DEBUG:__main__:Not mapped: [node:rxn00545_c]\n",
      "DEBUG:__main__:Not mapped: [node:rxn01870_c]\n",
      "DEBUG:__main__:Not mapped: [node:rxn00168_c]\n",
      "DEBUG:__main__:Not mapped: [node:rxn05467@SEED]\n",
      "DEBUG:__main__:Not mapped: [node:rxn00216_c]\n",
      "DEBUG:__main__:Not mapped: [node:rxn09733_m]\n",
      "DEBUG:__main__:Not mapped: [node:rxn01492@SEED]\n",
      "DEBUG:__main__:Not mapped: [node:rxn00285_m]\n",
      "DEBUG:__main__:Not mapped: [node:rxn00786_c]\n",
      "DEBUG:__main__:Not mapped: [node:rxn00288_m]\n",
      "DEBUG:__main__:Not mapped: [node:rxn00159_m]\n",
      "DEBUG:__main__:Not mapped: [node:rxn00175_m]\n",
      "DEBUG:__main__:Not mapped: [node:rxn00175_c]\n",
      "DEBUG:__main__:Not mapped: [node:rxn00781_c]\n",
      "DEBUG:__main__:Not mapped: [node:rxn00256_m]\n",
      "DEBUG:__main__:Not mapped: [node:rxn00198_m]\n",
      "DEBUG:__main__:Not mapped: [node:rxn00747_c]\n",
      "DEBUG:__main__:Not mapped: [node:rxn09739_m]\n",
      "DEBUG:__main__:Not mapped: [node:rxn05561@SEED]\n",
      "DEBUG:__main__:Not mapped: [node:rxn00549_c]\n",
      "DEBUG:__main__:Not mapped: [node:rxn09273_m]\n",
      "DEBUG:__main__:Not mapped: [node:rxn05605@SEED]\n",
      "DEBUG:__main__:Not mapped: [node:rxn01241_m]\n",
      "DEBUG:__main__:Not mapped: [node:rxn08063@SEED]\n",
      "DEBUG:__main__:Not mapped: [node:rxn05312_m]\n",
      "DEBUG:__main__:Not mapped: [node:rxn01216_c]\n",
      "DEBUG:__main__:Not mapped: [node:rxn09713_m]\n",
      "DEBUG:__main__:Not mapped: [node:rxn05469_e]\n",
      "DEBUG:__main__:Not mapped: [node:rxn00507_c]\n",
      "DEBUG:__main__:Not mapped: [node:rxn00001_c]\n",
      "DEBUG:__main__:Not mapped: [node:rxn00250_c]\n",
      "DEBUG:__main__:Not mapped: [node:rxn08428@SEED]\n",
      "DEBUG:__main__:Not mapped: [node:rxn05488_e]\n",
      "DEBUG:__main__:Not mapped: [node:rxn00543_c]\n",
      "DEBUG:__main__:Not mapped: [node:rxn00604_c]\n",
      "DEBUG:__main__:Not mapped: [node:rxn01476_c]\n",
      "DEBUG:__main__:Not mapped: [node:rxn01115_c]\n",
      "DEBUG:__main__:Not mapped: [node:rxn15228_c]\n",
      "DEBUG:__main__:Not mapped: [node:rxn00785_c]\n",
      "DEBUG:__main__:Not mapped: [node:rxn01333_c]\n",
      "DEBUG:__main__:Not mapped: [node:rxn01343_c]\n",
      "DEBUG:__main__:Not mapped: [node:rxn01334_c]\n",
      "DEBUG:__main__:Not mapped: [node:rxn00543_m]\n",
      "DEBUG:__main__:Not mapped: [node:rxn09502_c]\n",
      "DEBUG:__main__:Not mapped: [node:rxn02380_c]\n",
      "DEBUG:__main__:Not mapped: [node:rxn01116_c]\n",
      "DEBUG:__main__:Not mapped: [node:rxn15114_c]\n",
      "DEBUG:__main__:Not mapped: [node:rxn05312_e]\n",
      "DEBUG:__main__:Not mapped: [node:rxn09694@SEED]\n",
      "DEBUG:__main__:Not mapped: [node:rxn00543_c]\n",
      "DEBUG:__main__:Not mapped: [node:rxn09528@SEED]\n",
      "DEBUG:__main__:Not mapped: [node:rxn05319_e]\n",
      "DEBUG:__main__:Not mapped: [node:rxn05319@SEED]\n",
      "DEBUG:__main__:Not mapped: [node:rxn01169@SEED]\n",
      "DEBUG:__main__:Not mapped: [node:rxn01171@SEED]\n",
      "DEBUG:__main__:Not mapped: [node:rxn27702@SEED]\n",
      "DEBUG:__main__:Not mapped: [node:rxn15249@SEED]\n",
      "DEBUG:__main__:Not mapped: [node:rxn34297@SEED]\n",
      "DEBUG:__main__:Not mapped: [node:rxn15364@SEED]\n",
      "DEBUG:__main__:Not mapped: [node:rxn20522@SEED]\n",
      "DEBUG:__main__:Not mapped: [node:rxn15116@SEED]\n",
      "DEBUG:__main__:Not mapped: [node:rxn15493@SEED]\n",
      "DEBUG:__main__:Not mapped: [node:rxn33602@SEED]\n",
      "DEBUG:__main__:Not mapped: [node:rxn31240@SEED]\n",
      "DEBUG:__main__:Not mapped: [node:rxn01975@SEED]\n",
      "DEBUG:__main__:Not mapped: [node:rxn01977_c]\n",
      "DEBUG:__main__:Not mapped: [node:rxn33698@SEED]\n",
      "DEBUG:__main__:Not mapped: [node:rxn15494@SEED]\n",
      "DEBUG:__main__:Not mapped: [node:rxn15271@SEED]\n",
      "DEBUG:__main__:Not mapped: [node:rxn00197@SEED]\n",
      "DEBUG:__main__:Not mapped: [node:rxn00441@SEED]\n",
      "DEBUG:__main__:Not mapped: [node:rxn02376@SEED]\n",
      "DEBUG:__main__:Not mapped: [node:rxn01872_m]\n",
      "DEBUG:__main__:Not mapped: [node:rxn31235@SEED]\n",
      "DEBUG:__main__:Not mapped: [node:rxn39307@SEED]\n",
      "DEBUG:__main__:Not mapped: [node:rxn01243_m]\n",
      "DEBUG:__main__:Not mapped: [node:rxn15694@SEED]\n",
      "DEBUG:__main__:Not mapped: [node:rxn11274@SEED]\n",
      "DEBUG:__main__:Not mapped: [node:rxn00251@SEED]\n"
     ]
    },
    {
     "data": {
      "text/plain": [
       "{}"
      ]
     },
     "execution_count": 80,
     "metadata": {},
     "output_type": "execute_result"
    }
   ],
   "source": [
    "def model_remap_map_reactions(base_model, em, annotation, bigg_to_seed_rxn, map_compound_remap, get_rxn, to_match_func = lambda x : x):\n",
    "    unmaped_rxn = set()\n",
    "    map_reaction_remap = {}\n",
    "    \n",
    "    model_reactions = {}\n",
    "    \n",
    "    for r in base_model['reactions']:\n",
    "        if 'annotation' in r and annotation in r['annotation']:\n",
    "            model_reactions[r['id']] = r['annotation'][annotation]\n",
    "\n",
    "    for map_uid in em.escher_graph['reactions']:\n",
    "        rnode = em.escher_graph['reactions'][map_uid]\n",
    "        node_id = rnode['bigg_id']\n",
    "        if node_id in model_reactions:\n",
    "            for db_id in model_reactions[node_id]:\n",
    "\n",
    "                map_stoichiometry = get_stoichiometry(rnode)\n",
    "                \n",
    "                logger.debug(\"%s %s %s\", node_id, db_id, map_stoichiometry)\n",
    "                #print(db_id)\n",
    "                #NEED KEGG/METACYC/BIGG provenance\n",
    "                \n",
    "                rxn_cstoich = get_rxn(db_id)\n",
    "                logger.debug(\"%s %s\", db_id, rxn_cstoich)\n",
    "\n",
    "                #print(rxn_cstoich)\n",
    "                if rxn_cstoich != None:\n",
    "                    to_match = set(map(lambda x : to_match_func(x[0]), rxn_cstoich.keys()))\n",
    "                    logger.debug(\"Match: %s -> %s\", to_match, map_stoichiometry)\n",
    "                    #print(to_match, map_stoichiometry)\n",
    "                    mapping, missing, to_match = match2(to_match, map_stoichiometry, map_compound_remap)\n",
    "                    logger.debug(\"mapping/missing: %s %s\", mapping, missing)\n",
    "                    missing -= ALLOW_MISSING\n",
    "                    #print(missing)\n",
    "                    if len(missing) == 0:\n",
    "                        #print(map_uid, node_id, db_id, map_stoichiometry, rxn.cstoichiometry)\n",
    "                        #print(mapping, missing, to_match)\n",
    "                        if not node_id in map_reaction_remap:\n",
    "                            map_reaction_remap[node_id] = set()\n",
    "                        map_reaction_remap[node_id].add(db_id)\n",
    "                        for s_id in rnode['segments']:\n",
    "                            s = rnode['segments'][s_id]\n",
    "                            #print(s_id, s)\n",
    "                            break\n",
    "                    else:\n",
    "                        logger.debug(\"node_id, db_id, missing: %s %s %s\", node_id, db_id, missing)\n",
    "                        print(node_id, \"?\", missing)\n",
    "                        unmaped_rxn.add(node_id)\n",
    "                else:\n",
    "                    logger.debug('Original Stoich not found: %s [node:%s]', db_id, node_id)\n",
    "                    unmaped_rxn.add(node_id)\n",
    "        else:\n",
    "            logger.debug('Not mapped: [node:%s]', node_id)\n",
    "            unmaped_rxn.add(node_id)\n",
    "    return map_reaction_remap, unmaped_rxn\n",
    "\n",
    "logger.setLevel(logging.DEBUG)\n",
    "#em_annotation = clone_escher_map(em_fungi_master)\n",
    "#map_reaction_remap, unmaped_rxn = model_remap_map_reactions(master_fungi, em_annotation, 'iMM904_KBase2', {}, map_compound_remap, lambda x : get_raw_stoich2(x, 'iMM904_KBase2'))\n",
    "map_reaction_remap, unmaped_rxn = model_remap_map_reactions(master_fungi, em_annotation, model_id, {}, map_compound_remap, \n",
    "                                                            lambda x : get_raw_stoich2(x.replace('-', '__'), model_id),\n",
    "                                                            lambda x : \"M_\" + x)\n",
    "map_reaction_remap"
   ]
  },
  {
   "cell_type": "code",
   "execution_count": null,
   "metadata": {},
   "outputs": [],
   "source": []
  },
  {
   "cell_type": "code",
   "execution_count": 390,
   "metadata": {},
   "outputs": [],
   "source": [
    "em_annotation = clone_escher_map(em_fungi_master)\n",
    "map_compound_remap, unmaped_cpd, node_uid_cmp = model_remap_map_compounds(master_fungi, em_annotation, model_id, {}, id_function = lambda x : (x, x[-2:]))\n"
   ]
  },
  {
   "cell_type": "code",
   "execution_count": 28,
   "metadata": {},
   "outputs": [],
   "source": [
    "def add_namespace2(d, ns_key, ns_value):\n",
    "    res = {}\n",
    "    for k in d:\n",
    "        k_ns = k if ns_key == None else k + '@' + ns_key\n",
    "        res[k_ns] = set()\n",
    "        res[k_ns] = d[k] + '@' + ns_value\n",
    "    return res\n"
   ]
  },
  {
   "cell_type": "code",
   "execution_count": 29,
   "metadata": {},
   "outputs": [
    {
     "ename": "NameError",
     "evalue": "name 'model_get_rxn' is not defined",
     "output_type": "error",
     "traceback": [
      "\u001b[0;31m---------------------------------------------------------------------------\u001b[0m",
      "\u001b[0;31mNameError\u001b[0m                                 Traceback (most recent call last)",
      "\u001b[0;32m<ipython-input-29-98985082ec6f>\u001b[0m in \u001b[0;36m<module>\u001b[0;34m()\u001b[0m\n\u001b[1;32m      1\u001b[0m \u001b[0mmodel_id\u001b[0m \u001b[0;34m=\u001b[0m \u001b[0;34m'iNL895_KBase2'\u001b[0m\u001b[0;34m\u001b[0m\u001b[0m\n\u001b[1;32m      2\u001b[0m \u001b[0mget_rxn_func\u001b[0m \u001b[0;34m=\u001b[0m \u001b[0;32mlambda\u001b[0m \u001b[0mx\u001b[0m \u001b[0;34m:\u001b[0m \u001b[0mget_raw_stoich2\u001b[0m\u001b[0;34m(\u001b[0m\u001b[0mx\u001b[0m\u001b[0;34m,\u001b[0m \u001b[0mmodel_id\u001b[0m\u001b[0;34m)\u001b[0m\u001b[0;34m\u001b[0m\u001b[0m\n\u001b[0;32m----> 3\u001b[0;31m \u001b[0;32mif\u001b[0m \u001b[0mmodel_id\u001b[0m \u001b[0;32min\u001b[0m \u001b[0mmodel_get_rxn\u001b[0m\u001b[0;34m:\u001b[0m\u001b[0;34m\u001b[0m\u001b[0m\n\u001b[0m\u001b[1;32m      4\u001b[0m     \u001b[0mget_rxn_func\u001b[0m \u001b[0;34m=\u001b[0m \u001b[0mmodel_get_rxn\u001b[0m\u001b[0;34m[\u001b[0m\u001b[0mmodel_id\u001b[0m\u001b[0;34m]\u001b[0m\u001b[0;34m\u001b[0m\u001b[0m\n\u001b[1;32m      5\u001b[0m \u001b[0mem_annotation\u001b[0m \u001b[0;34m=\u001b[0m \u001b[0mclone_escher_map\u001b[0m\u001b[0;34m(\u001b[0m\u001b[0mem_fungi_master\u001b[0m\u001b[0;34m)\u001b[0m\u001b[0;34m\u001b[0m\u001b[0m\n",
      "\u001b[0;31mNameError\u001b[0m: name 'model_get_rxn' is not defined"
     ]
    }
   ],
   "source": [
    "model_id = 'iNL895_KBase2'\n",
    "get_rxn_func = lambda x : get_raw_stoich2(x, model_id)\n",
    "if model_id in model_get_rxn:\n",
    "    get_rxn_func = model_get_rxn[model_id]\n",
    "em_annotation = clone_escher_map(em_fungi_master)\n",
    "map_compound_remap, unmaped_cpd, node_uid_cmp = model_remap_map_compounds(master_fungi, em_annotation, \n",
    "                                                                          model_id, {}, id_function = lambda x : (x, x[-2:]))\n",
    "map_reaction_remap, unmaped_rxn = model_remap_map_reactions(master_fungi, em_annotation, \n",
    "                                                            model_id, {}, map_compound_remap, get_rxn_func)\n",
    "for k in map_compound_remap:\n",
    "    if len(map_compound_remap[k]) > 1:\n",
    "        print('***', k, map_compound_remap[k])\n",
    "delete_reactions(em_annotation, unmaped_rxn)\n",
    "delete_metabolites(em_annotation, unmaped_cpd)\n",
    "cpd_remap = {}\n",
    "rxn_remap = {}\n",
    "for k in map_compound_remap:\n",
    "    cpd_remap[k] = list(map_compound_remap[k])[0]\n",
    "for k in map_reaction_remap:\n",
    "    rxn_remap[k] = list(map_reaction_remap[k])[0]\n",
    "    \n",
    "cpd_remap = add_namespace2(cpd_remap, None, 'iMM904')\n",
    "rxn_remap = add_namespace2(rxn_remap, None, 'iMM904')\n",
    "em_annotation.swap_ids(cpd_remap, rxn_remap)"
   ]
  },
  {
   "cell_type": "code",
   "execution_count": null,
   "metadata": {},
   "outputs": [],
   "source": []
  },
  {
   "cell_type": "code",
   "execution_count": 338,
   "metadata": {},
   "outputs": [
    {
     "data": {
      "text/plain": [
       "['iMM904_KBase2',\n",
       " 'iAL1006_KBase2',\n",
       " 'iLC915_KBase2',\n",
       " 'iMA871_KBase2',\n",
       " 'iNL895_KBase2',\n",
       " 'iJDZ836_KBase2',\n",
       " 'iRL766_KBase2',\n",
       " 'iSS884_KBase2',\n",
       " 'iCT646_KBase2',\n",
       " 'yeast_6.06_KBase2',\n",
       " 'yeast_7.6_KBase2']"
      ]
     },
     "execution_count": 338,
     "metadata": {},
     "output_type": "execute_result"
    }
   ],
   "source": [
    "list(models_raw_cobra.keys())"
   ]
  },
  {
   "cell_type": "code",
   "execution_count": 45,
   "metadata": {},
   "outputs": [],
   "source": [
    "#%%capture\n",
    "logger.setLevel(logging.WARNING)\n",
    "\n",
    "model_get_rxn = {\n",
    "    #'iJDZ836_KBase2' : lambda x : get_raw_stoich2(x.replace('-', '__'), model_id)\n",
    "    'iJDZ836_KBase2' : jdz_get_rxn\n",
    "}\n",
    "\n",
    "remap_compound_identifiers = {\n",
    "    #'iMM904_KBase2' : lambda d : dict(map(lambda x : (x[0], set(map(bigg1_to_bigg2, x[1]))), d.items())),\n",
    "    'iNL895_KBase2' : lambda d : dict(map(lambda x : (x[0], set(map(strip_M, x[1]))), d.items())),\n",
    "    #'iSS884_KBase2' : lambda d : dict(map(lambda x : (x[0], set(map(strip_M, x[1]))), d.items())),\n",
    "}\n",
    "\n",
    "post_rxn_id_func = {\n",
    "    'iJDZ836_KBase2' : lambda d : dict(map(lambda x : (x[0], set(map(strip_Rspecial, map(jdz_revert, x[1])))), d.items()))\n",
    "}\n",
    "\n",
    "em_models = {}\n",
    "models = ['iMM904_KBase3']\n",
    "#models = models_raw_cobra.keys()\n",
    "\n",
    "models_tags = {\n",
    "    'iMM904_KBase3' : 'iMM904',\n",
    "    #'iJL1454_KBase2' : '../../../data/www/fungi_viz/data/sbml/iJL1454.xml',\n",
    "    'iAL1006_KBase2' : 'iAL1006',\n",
    "    'iLC915_KBase2' : 'iLC915',\n",
    "    'iMA871_KBase2' : 'iMA871',\n",
    "    'iNL895_KBase2' : 'iNL895',\n",
    "    #'iCT646_KBase2' : '../../../data/www/fungi_viz/data/sbml/i',\n",
    "    'iJDZ836_KBase2' : 'iJDZ836',\n",
    "    'iSS884_KBase2' : 'iSS884',\n",
    "    'iRL766_KBase2' : 'iRL766',\n",
    "    \n",
    "    'yeast_6.06_KBase2' : 'yeast_6.06',\n",
    "    'yeast_7.6_KBase2' : 'yeast_7.6',\n",
    "    'iCT646_KBase2' : 'iCT646',\n",
    "}\n",
    "\n",
    "for model_id in models:\n",
    "    #print(model_id)\n",
    "    em_annotation = clone_escher_map(em_fungi_master)\n",
    "    get_rxn_func = lambda x : get_raw_stoich2(x, model_id)\n",
    "    if model_id in model_get_rxn:\n",
    "        get_rxn_func = model_get_rxn[model_id]\n",
    "    map_compound_remap, unmaped_cpd, node_uid_cmp = model_remap_map_compounds(master_fungi, em_annotation, \n",
    "                                                                              model_id, {}, \n",
    "                                                                              id_function = lambda x : (x, x[-2:]),\n",
    "                                                                              em_id_function = lambda x : x.replace('-45-', '__45__'))\n",
    "    #print(map_compound_remap)\n",
    "    if model_id in remap_compound_identifiers:\n",
    "        map_compound_remap = remap_compound_identifiers[model_id](map_compound_remap)\n",
    "    \n",
    "    map_reaction_remap, unmaped_rxn = model_remap_map_reactions(master_fungi, em_annotation, \n",
    "                                                                model_id, {}, map_compound_remap, get_rxn_func)\n",
    "    #print(map_reaction_remap)\n",
    "    for k in map_compound_remap:\n",
    "        if len(map_compound_remap[k]) > 1:\n",
    "            print('***', k, map_compound_remap[k])\n",
    "    em_annotation.delete_reactions(unmaped_rxn)\n",
    "    em_annotation.delete_metabolites(unmaped_cpd)\n",
    "    \n",
    "    if model_id in post_rxn_id_func:\n",
    "        map_reaction_remap = post_rxn_id_func[model_id](map_reaction_remap)\n",
    "    \n",
    "    cpd_remap = {}\n",
    "    rxn_remap = {}\n",
    "    for k in map_compound_remap:\n",
    "        cpd_remap[k] = list(map_compound_remap[k])[0]\n",
    "    for k in map_reaction_remap:\n",
    "        rxn_remap[k] = list(map_reaction_remap[k])[0]\n",
    "    model_tag = models_tags[model_id] if model_id in models_tags else model_id\n",
    "    cpd_remap = add_namespace2(cpd_remap, None, model_tag)\n",
    "    rxn_remap = add_namespace2(rxn_remap, None, model_tag)\n",
    "    em_annotation.swap_ids(cpd_remap, rxn_remap)\n",
    "    em_models[model_id] = em_annotation"
   ]
  },
  {
   "cell_type": "code",
   "execution_count": 4,
   "metadata": {},
   "outputs": [
    {
     "ename": "NameError",
     "evalue": "name 'escher' is not defined",
     "output_type": "error",
     "traceback": [
      "\u001b[0;31m---------------------------------------------------------------------------\u001b[0m",
      "\u001b[0;31mNameError\u001b[0m                                 Traceback (most recent call last)",
      "\u001b[0;32m<ipython-input-4-c62b3297b776>\u001b[0m in \u001b[0;36m<module>\u001b[0;34m\u001b[0m\n\u001b[0;32m----> 1\u001b[0;31m \u001b[0mb\u001b[0m \u001b[0;34m=\u001b[0m \u001b[0mescher\u001b[0m\u001b[0;34m.\u001b[0m\u001b[0mBuilder\u001b[0m\u001b[0;34m(\u001b[0m\u001b[0mmap_json\u001b[0m\u001b[0;34m=\u001b[0m\u001b[0mjson\u001b[0m\u001b[0;34m.\u001b[0m\u001b[0mdumps\u001b[0m\u001b[0;34m(\u001b[0m\u001b[0mem_models\u001b[0m\u001b[0;34m[\u001b[0m\u001b[0;34m'iMM904_KBase3'\u001b[0m\u001b[0;34m]\u001b[0m\u001b[0;34m.\u001b[0m\u001b[0mescher_map\u001b[0m\u001b[0;34m)\u001b[0m\u001b[0;34m,\u001b[0m \u001b[0mmodel_json\u001b[0m\u001b[0;34m=\u001b[0m\u001b[0;32mNone\u001b[0m\u001b[0;34m)\u001b[0m\u001b[0;34m\u001b[0m\u001b[0;34m\u001b[0m\u001b[0m\n\u001b[0m\u001b[1;32m      2\u001b[0m \u001b[0mb\u001b[0m\u001b[0;34m.\u001b[0m\u001b[0mset_highlight_missing\u001b[0m\u001b[0;34m(\u001b[0m\u001b[0;32mTrue\u001b[0m\u001b[0;34m)\u001b[0m\u001b[0;34m\u001b[0m\u001b[0;34m\u001b[0m\u001b[0m\n\u001b[1;32m      3\u001b[0m \u001b[0mb\u001b[0m\u001b[0;34m.\u001b[0m\u001b[0mdisplay_in_notebook\u001b[0m\u001b[0;34m(\u001b[0m\u001b[0menable_editing\u001b[0m\u001b[0;34m=\u001b[0m\u001b[0;32mFalse\u001b[0m\u001b[0;34m)\u001b[0m\u001b[0;34m\u001b[0m\u001b[0;34m\u001b[0m\u001b[0m\n",
      "\u001b[0;31mNameError\u001b[0m: name 'escher' is not defined"
     ]
    }
   ],
   "source": [
    "b = escher.Builder(map_json=json.dumps(em_models['iMM904_KBase3'].escher_map), model_json=None)\n",
    "b.set_highlight_missing(True)\n",
    "b.display_in_notebook(enable_editing=False)"
   ]
  },
  {
   "cell_type": "code",
   "execution_count": 3,
   "metadata": {},
   "outputs": [
    {
     "ename": "NameError",
     "evalue": "name 'em_seed' is not defined",
     "output_type": "error",
     "traceback": [
      "\u001b[0;31m---------------------------------------------------------------------------\u001b[0m",
      "\u001b[0;31mNameError\u001b[0m                                 Traceback (most recent call last)",
      "\u001b[0;32m<ipython-input-3-a1b668609fce>\u001b[0m in \u001b[0;36m<module>\u001b[0;34m\u001b[0m\n\u001b[0;32m----> 1\u001b[0;31m \u001b[0mem_maps\u001b[0m \u001b[0;34m=\u001b[0m \u001b[0;34m[\u001b[0m\u001b[0mem_seed\u001b[0m\u001b[0;34m,\u001b[0m \u001b[0;32mNone\u001b[0m\u001b[0;34m,\u001b[0m \u001b[0mem_fungi_master\u001b[0m\u001b[0;34m]\u001b[0m\u001b[0;34m\u001b[0m\u001b[0;34m\u001b[0m\u001b[0m\n\u001b[0m\u001b[1;32m      2\u001b[0m \u001b[0;32mfor\u001b[0m \u001b[0mk\u001b[0m \u001b[0;32min\u001b[0m \u001b[0mem_models\u001b[0m\u001b[0;34m:\u001b[0m\u001b[0;34m\u001b[0m\u001b[0;34m\u001b[0m\u001b[0m\n\u001b[1;32m      3\u001b[0m     \u001b[0mem_maps\u001b[0m\u001b[0;34m.\u001b[0m\u001b[0mappend\u001b[0m\u001b[0;34m(\u001b[0m\u001b[0mem_models\u001b[0m\u001b[0;34m[\u001b[0m\u001b[0mk\u001b[0m\u001b[0;34m]\u001b[0m\u001b[0;34m)\u001b[0m\u001b[0;34m\u001b[0m\u001b[0;34m\u001b[0m\u001b[0m\n\u001b[1;32m      4\u001b[0m \u001b[0mmaster\u001b[0m \u001b[0;34m=\u001b[0m \u001b[0mgrid_maps\u001b[0m\u001b[0;34m(\u001b[0m\u001b[0mem_maps\u001b[0m\u001b[0;34m,\u001b[0m \u001b[0;34m(\u001b[0m\u001b[0;36m3\u001b[0m\u001b[0;34m,\u001b[0m \u001b[0;36m2\u001b[0m\u001b[0;34m)\u001b[0m\u001b[0;34m)\u001b[0m\u001b[0;34m\u001b[0m\u001b[0;34m\u001b[0m\u001b[0m\n\u001b[1;32m      5\u001b[0m \u001b[0;31m#cobra_json = json.loads(cobra.io.to_json(models_raw_cobra['iMM904_KBase2']))\u001b[0m\u001b[0;34m\u001b[0m\u001b[0;34m\u001b[0m\u001b[0;34m\u001b[0m\u001b[0m\n",
      "\u001b[0;31mNameError\u001b[0m: name 'em_seed' is not defined"
     ]
    }
   ],
   "source": [
    "em_maps = [em_seed, None, em_fungi_master]\n",
    "for k in em_models:\n",
    "    em_maps.append(em_models[k])\n",
    "master = grid_maps(em_maps, (3, 2))\n",
    "#cobra_json = json.loads(cobra.io.to_json(models_raw_cobra['iMM904_KBase2']))\n",
    "#cobra_json = tag_model(cobra_json, 'iMM904')\n",
    "b = escher.Builder(map_json=json.dumps(master.escher_map), model_json=json.dumps(merge_tag_model))\n",
    "b.set_highlight_missing(True)\n",
    "b.display_in_notebook()\n",
    "#b.save_html('../../../data/www/fungi_viz/central.html', overwrite=True)"
   ]
  },
  {
   "cell_type": "code",
   "execution_count": 348,
   "metadata": {},
   "outputs": [
    {
     "data": {
      "text/plain": [
       "14"
      ]
     },
     "execution_count": 348,
     "metadata": {},
     "output_type": "execute_result"
    }
   ],
   "source": [
    "em_maps = [em_bigg, em_seed, em_fungi_master]\n",
    "for k in em_models:\n",
    "    em_maps.append(em_models[k])\n",
    "len(em_maps)"
   ]
  },
  {
   "cell_type": "code",
   "execution_count": 36,
   "metadata": {},
   "outputs": [
    {
     "name": "stdout",
     "output_type": "stream",
     "text": [
      "iMM904_KBase3 iMM904\n"
     ]
    }
   ],
   "source": [
    "def tag_model(cobra_json, model_tag):\n",
    "    res = copy.deepcopy(cobra_json)\n",
    "    for o in res['metabolites']:\n",
    "        o['id'] += '@' + model_tag\n",
    "    for o in res['reactions']:\n",
    "        o['id'] += '@' + model_tag\n",
    "        m_tag = {}\n",
    "        for m in o['metabolites']:\n",
    "            m_tag[m + '@' + model_tag] = o['metabolites'][m]\n",
    "        o['metabolites'] = m_tag\n",
    "\n",
    "    return res\n",
    "\n",
    "merge_tag_model = None\n",
    "for model_id in models:\n",
    "    model_tag = models_tags[model_id] if model_id in models_tags else model_id\n",
    "    print(model_id, model_tag)\n",
    "    cobra_json = json.loads(cobra.io.to_json(models_raw_cobra[model_id]))\n",
    "    if merge_tag_model == None:\n",
    "        merge_tag_model = tag_model(cobra_json, model_tag)\n",
    "    else:\n",
    "        tmodel = tag_model(cobra_json, model_tag)\n",
    "        for o in tmodel['metabolites']:\n",
    "            merge_tag_model['metabolites'].append(o)\n",
    "        for o in tmodel['reactions']:\n",
    "            merge_tag_model['reactions'].append(o)"
   ]
  },
  {
   "cell_type": "code",
   "execution_count": 64,
   "metadata": {},
   "outputs": [
    {
     "data": {
      "text/plain": [
       "1"
      ]
     },
     "execution_count": 64,
     "metadata": {},
     "output_type": "execute_result"
    }
   ],
   "source": [
    "\n",
    "\n",
    "#tag_model(cobra_json, 'wut')\n",
    "1"
   ]
  },
  {
   "cell_type": "code",
   "execution_count": 323,
   "metadata": {},
   "outputs": [
    {
     "data": {
      "text/plain": [
       "dict_keys(['iMM904_KBase2', 'iAL1006_KBase2', 'iLC915_KBase2', 'iMA871_KBase2', 'iNL895_KBase2', 'iJDZ836_KBase2'])"
      ]
     },
     "execution_count": 323,
     "metadata": {},
     "output_type": "execute_result"
    }
   ],
   "source": [
    "models_raw_cobra.keys()"
   ]
  },
  {
   "cell_type": "code",
   "execution_count": 55,
   "metadata": {},
   "outputs": [],
   "source": [
    "em_maps = [em_bigg, em_seed, em_fungi_master]\n",
    "for k in em_models:\n",
    "    em_maps.append(em_models[k])"
   ]
  },
  {
   "cell_type": "code",
   "execution_count": 56,
   "metadata": {},
   "outputs": [
    {
     "data": {
      "text/plain": [
       "[<modelseed_escher.core.escher_map.EscherMap at 0x7fa56f89d2e8>,\n",
       " <modelseed_escher.core.escher_map.EscherMap at 0x7fa542a57a20>,\n",
       " <modelseed_escher.core.escher_map.EscherMap at 0x7fa55a625978>,\n",
       " <modelseed_escher.core.escher_map.EscherMap at 0x7fa52abcf518>,\n",
       " <modelseed_escher.core.escher_map.EscherMap at 0x7fa56dc93630>,\n",
       " <modelseed_escher.core.escher_map.EscherMap at 0x7fa52a830588>,\n",
       " <modelseed_escher.core.escher_map.EscherMap at 0x7fa5438cce80>,\n",
       " <modelseed_escher.core.escher_map.EscherMap at 0x7fa52ac3f6a0>,\n",
       " <modelseed_escher.core.escher_map.EscherMap at 0x7fa52abd9e80>,\n",
       " <modelseed_escher.core.escher_map.EscherMap at 0x7fa53c9ccf98>]"
      ]
     },
     "execution_count": 56,
     "metadata": {},
     "output_type": "execute_result"
    }
   ],
   "source": [
    "em_maps"
   ]
  },
  {
   "cell_type": "code",
   "execution_count": 159,
   "metadata": {},
   "outputs": [
    {
     "data": {
      "text/plain": [
       "['iMM904_KBase2',\n",
       " 'iAL1006_KBase2',\n",
       " 'iLC915_KBase2',\n",
       " 'iMA871_KBase2',\n",
       " 'iNL895_KBase2',\n",
       " 'iJDZ836_KBase2',\n",
       " 'iRL766_KBase2',\n",
       " 'iSS884_KBase2']"
      ]
     },
     "execution_count": 159,
     "metadata": {},
     "output_type": "execute_result"
    }
   ],
   "source": [
    "list(models_raw_cobra.keys())"
   ]
  },
  {
   "cell_type": "code",
   "execution_count": 31,
   "metadata": {},
   "outputs": [
    {
     "data": {
      "text/plain": [
       "'1234567890_c'"
      ]
     },
     "execution_count": 31,
     "metadata": {},
     "output_type": "execute_result"
    }
   ],
   "source": [
    "def bigg1_to_bigg2(id):\n",
    "    #print((id))\n",
    "    if '_D' in id:\n",
    "        return id.replace('_D', '__D')\n",
    "    if '_L' in id:\n",
    "        return id.replace('_L', '__L')\n",
    "    return id\n",
    "\n",
    "def strip_M(id):\n",
    "    #print((id))\n",
    "    if id.startswith('M_'):\n",
    "        return id[2:]\n",
    "    \n",
    "def strip_R(id):\n",
    "    #print((id))\n",
    "    if id.startswith('R_'):\n",
    "        return id[2:]\n",
    "    \n",
    "def jdz_get_rxn(x):\n",
    "    #print(x, get_raw_stoich2(x, 'iJDZ836_KBase2'))\n",
    "    x = x.replace('-45-', '__45__')\n",
    "    x = strip_Rspecial(x)\n",
    "    return get_raw_stoich2(x, 'iJDZ836_KBase2')\n",
    "\n",
    "def jdz_revert(x):\n",
    "    x = x.replace('-45-', '__45__')\n",
    "    return x\n",
    "\n",
    "def get_raw_stoich3(db_id, target_db):\n",
    "    match = []\n",
    "    if target_db in models_raw_bios:\n",
    "        cobra_model = models_raw_bios[target_db]\n",
    "        for r in cobra_model['reactions']:\n",
    "            print(r['id'])\n",
    "            if r['id'] == db_id:\n",
    "                match.append(r)\n",
    "    \n",
    "    if len(match) == 1:\n",
    "        print(match[0])\n",
    "        cstoich = {}\n",
    "        for m in cobra_rxn.metabolites:\n",
    "            cstoich[(m.id, m.compartment)] = cobra_rxn.metabolites[m]\n",
    "        return cstoich\n",
    "    return None\n",
    "\n",
    "\"R_2TRANSKETO-45-RXN-45-L2R\"\n",
    "def strip_Rspecial(id):\n",
    "    #print((id))\n",
    "    if id.startswith('R_'):\n",
    "        id = id[2:]\n",
    "        if id[0].isdigit():\n",
    "            return '_' + id\n",
    "        return id\n",
    "strip_Rspecial(\"R_2TRANSKETO-45-RXN-45-L2R\")\n",
    "#get_raw_stoich3(\"_2TRANSKETO__45__RXN__45__L2R\", 'iJDZ836_KBase2')\n",
    "\n",
    "#get_rxn_func = lambda x : get_raw_stoich2(x, model_id)\n",
    "#jdz_get_rxn('R_2TRANSKETO-45-RXN-45-L2R')\n",
    "strip_M('M_1234567890_c')"
   ]
  },
  {
   "cell_type": "code",
   "execution_count": 195,
   "metadata": {},
   "outputs": [],
   "source": []
  },
  {
   "cell_type": "code",
   "execution_count": 272,
   "metadata": {},
   "outputs": [],
   "source": [
    "em_annotation = clone_escher_map(em_fungi_master)\n",
    "model_id = 'iJDZ836_KBase2'\n",
    "map_compound_remap, unmaped_cpd, node_uid_cmp = model_remap_map_compounds(master_fungi, em_annotation, \n",
    "                                                                          model_id, {}, \n",
    "                                                                          id_function = lambda x : (x, x[-2:]),\n",
    "                                                                          em_id_function = lambda x : x.replace('-45-', '__45__'))\n",
    "if model_id in remap_compound_identifiers:\n",
    "    map_compound_remap = remap_compound_identifiers[model_id](map_compound_remap)"
   ]
  },
  {
   "cell_type": "code",
   "execution_count": null,
   "metadata": {},
   "outputs": [],
   "source": []
  },
  {
   "cell_type": "code",
   "execution_count": 208,
   "metadata": {},
   "outputs": [
    {
     "data": {
      "text/plain": [
       "{'id': 'rxn05469_m0',\n",
       " 'name': 'R_pyruvate_mitochondrial_transport_via_proton_symport',\n",
       " 'metabolites': {'cpd00067_c0': -1.0,\n",
       "  'cpd00020_c0': -1.0,\n",
       "  'cpd00067_m0': 1.0,\n",
       "  'cpd00020_m0': 1.0},\n",
       " 'lower_bound': 999999.0,\n",
       " 'upper_bound': 999999.0,\n",
       " 'gene_reaction_rule': '',\n",
       " 'annotation': {'iMM904_KBase2': ['R_PYRt2m']}}"
      ]
     },
     "execution_count": 208,
     "metadata": {},
     "output_type": "execute_result"
    }
   ],
   "source": [
    "def get_reaction(model, rxn_id):\n",
    "    rxn = None\n",
    "    for r in model['reactions']:\n",
    "        if r['id'] == rxn_id:\n",
    "            rxn = r\n",
    "    return rxn\n",
    "get_reaction(master_fungi, 'rxn05469_m0')"
   ]
  },
  {
   "cell_type": "code",
   "execution_count": 269,
   "metadata": {},
   "outputs": [],
   "source": [
    "t = lambda d : dict(map(lambda x : (x[0], set(map(strip_R, map(jdz_revert, x[1])))), d.items()))"
   ]
  },
  {
   "cell_type": "code",
   "execution_count": null,
   "metadata": {},
   "outputs": [],
   "source": []
  },
  {
   "cell_type": "code",
   "execution_count": null,
   "metadata": {},
   "outputs": [],
   "source": []
  },
  {
   "cell_type": "code",
   "execution_count": 94,
   "metadata": {},
   "outputs": [],
   "source": [
    "\n",
    "\n",
    "\n",
    "\n"
   ]
  },
  {
   "cell_type": "code",
   "execution_count": null,
   "metadata": {},
   "outputs": [],
   "source": []
  },
  {
   "cell_type": "code",
   "execution_count": 324,
   "metadata": {},
   "outputs": [
    {
     "name": "stdout",
     "output_type": "stream",
     "text": [
      "rxn00545_c0 ? {'M_FRUCTOSE__45__16__45__DIPHOSPHATE'}\n",
      "rxn00248_c0 ? {'M_OXALACETIC_ACID'}\n",
      "rxn00247_c0 ? {'M_OXALACETIC_ACID'}\n",
      "rxn00549_c0 ? {'M_FRUCTOSE__45__16__45__DIPHOSPHATE'}\n",
      "rxn00786_c0 ? {'M_FRUCTOSE__45__16__45__DIPHOSPHATE'}\n"
     ]
    },
    {
     "data": {
      "text/plain": [
       "{'rxn01116_c0': {'R_RIBULP3EPIM-45-RXN-45-L2R'},\n",
       " 'rxn00543_c0': {'R_ALCOHOL-45-DEHYDROG-45-RXN-45-L2R'},\n",
       " 'rxn01333_c0': {'R_TRANSALDOL-45-RXN-45-L2R'},\n",
       " 'rxn00785_c0': {'R_2TRANSKETO-45-RXN-45-L2R'},\n",
       " 'rxn01870_c0': {'R_RXN-45-8631-45-L2R'},\n",
       " 'rxn00507_c0': {'R_RXN0-45-3962-45-L2R'},\n",
       " 'rxn00216_c0': {'R_RXN-45-1685-45-L2R'},\n",
       " 'rxn00168_c0': {'R_RXN-45-6161-45-L2R'},\n",
       " 'rxn01476_c0': {'R_6PGLUCONOLACT-45-RXN-45-L2R'},\n",
       " 'rxn00459_c0': {'R_2PGADEHYDRAT-45-RXN-45-L2R'},\n",
       " 'rxn01115_c0': {'R_RXN-45-9952-45-L2R'},\n",
       " 'rxn01100_c0': {'R_PHOSGLYPHOS-45-RXN-45-L2R'},\n",
       " 'rxn00175_c0': {'R_ACETATE-45--45-COA-45-LIGASE-45-RXN-45-L2R'},\n",
       " 'rxn00781_c0': {'R_GAPOXNPHOSPHN-45-RXN-45-L2R'},\n",
       " 'rxn00558_c0': {'R_RXN-45-6182-45-L2R'},\n",
       " 'rxn00747_c0': {'R_TRIOSEPISOMERIZATION-45-RXN-45-R2L'},\n",
       " 'rxn00001_c0': {'R_INORGPYROPHOSPHAT-45-RXN-45-L2R'}}"
      ]
     },
     "execution_count": 324,
     "metadata": {},
     "output_type": "execute_result"
    }
   ],
   "source": [
    "logger.setLevel(logging.INFO)\n",
    "#logger.setLevel(logging.DEBUG)\n",
    "map_reaction_remap, unmaped_rxn = model_remap_map_reactions(master_fungi, em_annotation, \n",
    "                                                            model_id, {}, map_compound_remap, fungi_get_original_rxn_funcs[model_id])\n",
    "map_reaction_remap"
   ]
  },
  {
   "cell_type": "code",
   "execution_count": 98,
   "metadata": {},
   "outputs": [
    {
     "data": {
      "text/plain": [
       "'_2TRANSKETO-45-RXN-45-L2R'"
      ]
     },
     "execution_count": 98,
     "metadata": {},
     "output_type": "execute_result"
    }
   ],
   "source": []
  },
  {
   "cell_type": "code",
   "execution_count": 301,
   "metadata": {},
   "outputs": [
    {
     "data": {
      "text/plain": [
       "'_2TRANSKETO-45-RXN-45-L2R'"
      ]
     },
     "execution_count": 301,
     "metadata": {},
     "output_type": "execute_result"
    }
   ],
   "source": []
  },
  {
   "cell_type": "code",
   "execution_count": 278,
   "metadata": {},
   "outputs": [
    {
     "name": "stdout",
     "output_type": "stream",
     "text": [
      "M_CPD__45__9957\n"
     ]
    }
   ],
   "source": [
    "for r in models_raw_cobra['iJDZ836_KBase2'].metabolites:\n",
    "    print(r.id)\n",
    "    break"
   ]
  },
  {
   "cell_type": "code",
   "execution_count": null,
   "metadata": {},
   "outputs": [],
   "source": [
    "\n",
    "    "
   ]
  },
  {
   "cell_type": "code",
   "execution_count": 326,
   "metadata": {},
   "outputs": [],
   "source": [
    "\n",
    "delete_reactions(em_annotation, unmaped_rxn)\n",
    "delete_metabolites(em_annotation, unmaped_cpd)\n",
    "cpd_remap = {}\n",
    "rxn_remap = {}\n",
    "for k in map_compound_remap:\n",
    "    cpd_remap[k] = list(map_compound_remap[k])[0]\n",
    "for k in map_reaction_remap:\n",
    "    rxn_remap[k] = list(map_reaction_remap[k])[0]\n",
    "model_tag = models_tags[model_id] if model_id in models_tags else model_id\n",
    "cpd_remap = add_namespace2(cpd_remap, None, model_tag)\n",
    "rxn_remap = add_namespace2(rxn_remap, None, model_tag)\n",
    "em_annotation.swap_ids(cpd_remap, rxn_remap)\n",
    "    \n",
    "b = escher.Builder(map_json=json.dumps(em_annotation.escher_map), model_json=json.dumps(merge_tag_model))\n",
    "b.set_highlight_missing(True)\n",
    "#b.display_in_notebook(enable_editing=True)"
   ]
  },
  {
   "cell_type": "code",
   "execution_count": 105,
   "metadata": {},
   "outputs": [],
   "source": [
    "write_json(merge_tag_model, '../../../data/www/fungi_viz/data/raw_models.json')"
   ]
  },
  {
   "cell_type": "code",
   "execution_count": null,
   "metadata": {},
   "outputs": [],
   "source": []
  }
 ],
 "metadata": {
  "kernelspec": {
   "display_name": "Python 3",
   "language": "python",
   "name": "python3"
  },
  "language_info": {
   "codemirror_mode": {
    "name": "ipython",
    "version": 3
   },
   "file_extension": ".py",
   "mimetype": "text/x-python",
   "name": "python",
   "nbconvert_exporter": "python",
   "pygments_lexer": "ipython3",
   "version": "3.7.4"
  }
 },
 "nbformat": 4,
 "nbformat_minor": 4
}
