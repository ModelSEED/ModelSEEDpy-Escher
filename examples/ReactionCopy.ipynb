{
 "cells": [
  {
   "cell_type": "code",
   "execution_count": 1,
   "metadata": {},
   "outputs": [
    {
     "name": "stdout",
     "output_type": "stream",
     "text": [
      "cobrakbase 0.2.7\n"
     ]
    }
   ],
   "source": [
    "import json\n",
    "import modelseed_escher\n",
    "import cobrakbase\n",
    "from modelseed_escher.core.escher_map import EscherMap"
   ]
  },
  {
   "cell_type": "code",
   "execution_count": 2,
   "metadata": {},
   "outputs": [],
   "source": [
    "modelseed_local = cobrakbase.modelseed.from_local('/Users/fliu/workspace/jupyter/ModelSEEDDatabase')"
   ]
  },
  {
   "cell_type": "code",
   "execution_count": 3,
   "metadata": {},
   "outputs": [
    {
     "name": "stdout",
     "output_type": "stream",
     "text": [
      "multiple match\n",
      "multiple match\n"
     ]
    }
   ],
   "source": [
    "from cobrakbase.modelseed.transporters import TransportersPipeline\n",
    "tp = TransportersPipeline(modelseed_local, None)"
   ]
  },
  {
   "cell_type": "code",
   "execution_count": 247,
   "metadata": {},
   "outputs": [],
   "source": [
    "proton1_sym = {}\n",
    "proton1_anti = {}\n",
    "perm = {}\n",
    "exclude = {'rxn12459', 'rxn12451'}\n",
    "for rxn_id in modelseed_local.reactions:\n",
    "    rxn = modelseed_local.get_seed_reaction(rxn_id)\n",
    "    if not rxn.is_obsolete and rxn.is_transport and rxn_id not in exclude:\n",
    "        lhs = {}\n",
    "        rhs = {}\n",
    "        cs = rxn.cstoichiometry\n",
    "        for p in cs:\n",
    "            if cs[p] > 0:\n",
    "                rhs[p] = cs[p]\n",
    "            else:\n",
    "                lhs[p] = cs[p]\n",
    "        if len(lhs) == 2 and len(rhs) == 2:\n",
    "            if (('cpd00067', '1') in lhs and ('cpd00067', '0') in rhs) or \\\n",
    "            (('cpd00067', '0') in lhs and ('cpd00067', '1') in rhs):\n",
    "                cpd_target = list(filter(lambda x: not x[0] == 'cpd00067', lhs))[0][0]\n",
    "                cmps = set(map(lambda x: x[1], lhs))\n",
    "                if len(cmps) == 1:\n",
    "                    if cpd_target not in proton1_sym:\n",
    "                        proton1_sym[cpd_target] = []\n",
    "                    proton1_sym[cpd_target].append(rxn)\n",
    "                else:\n",
    "                    if cpd_target not in proton1_anti:\n",
    "                        proton1_anti[cpd_target] = []\n",
    "                    proton1_anti[cpd_target].append(rxn)\n",
    "                #print(rxn)\n",
    "        elif len(lhs) == 1 and len(rhs) == 1 and list(lhs)[0][0] == list(rhs)[0][0]:\n",
    "            cpd_target = list(lhs)[0][0]\n",
    "            if cpd_target not in perm:\n",
    "                perm[cpd_target] = []\n",
    "            perm[cpd_target].append(rxn)\n"
   ]
  },
  {
   "cell_type": "code",
   "execution_count": 249,
   "metadata": {},
   "outputs": [
    {
     "data": {
      "text/plain": [
       "1380"
      ]
     },
     "execution_count": 249,
     "metadata": {},
     "output_type": "execute_result"
    }
   ],
   "source": [
    "len(perm)"
   ]
  },
  {
   "cell_type": "code",
   "execution_count": 154,
   "metadata": {},
   "outputs": [
    {
     "data": {
      "text/plain": [
       "{('cpd00061', '0'): -1.0,\n",
       " ('cpd00794', '1'): -1.0,\n",
       " ('cpd00020', '0'): 1.0,\n",
       " ('cpd00523', '0'): 1.0}"
      ]
     },
     "execution_count": 154,
     "metadata": {},
     "output_type": "execute_result"
    }
   ],
   "source": [
    "CoA\tcpd00010  Panth\n",
    "NAD\tcpd00003 niacin\n",
    "Pyridoxal phosphate\tcpd00016 pyd\n",
    "Riboflavin\tcpd00220 \n",
    "Heme\tcpd00028 \n",
    "Siroheme\tcpd00557 \n",
    "TPP\tcpd00056 thiamin\n",
    "Ubiquinone-8\tcpd15560 \n",
    "2-Demethylmenaquinone 8\tcpd15352\n",
    "Menaquinone 8\tcpd15500\n",
    "Calomide\tcpd00166\n",
    "BIOT\tcpd00104\n",
    "FMN\tcpd00050"
   ]
  },
  {
   "cell_type": "code",
   "execution_count": null,
   "metadata": {},
   "outputs": [],
   "source": []
  },
  {
   "cell_type": "code",
   "execution_count": 159,
   "metadata": {},
   "outputs": [
    {
     "name": "stdout",
     "output_type": "stream",
     "text": [
      "{('cpd00061', '0'): -1.0, ('cpd00794', '1'): -1.0}\n",
      "{('cpd00020', '0'): 1.0, ('cpd00523', '0'): 1.0}\n"
     ]
    }
   ],
   "source": [
    "ATP\tcpd00002\n",
    "GTP\tcpd00038\n",
    "CTP\tcpd00052\n",
    "UTP\tcpd00062\n",
    "dATP\tcpd00115\n",
    "dGTP\tcpd00241\n",
    "dCTP\tcpd00356\n",
    "TTP\tcpd00357\n"
   ]
  },
  {
   "cell_type": "code",
   "execution_count": 329,
   "metadata": {},
   "outputs": [],
   "source": [
    "groups = {\n",
    "    'AA' : {'cpd00023', 'cpd00033', 'cpd00035', 'cpd00039', 'cpd00041', 'cpd00051', 'cpd00053', 'cpd00054', 'cpd00060', 'cpd00065', 'cpd00066', 'cpd00069', 'cpd00084', 'cpd00107', 'cpd00119', 'cpd00129', 'cpd00132', 'cpd00156', 'cpd00161', 'cpd00322'},\n",
    "    'SM' : {'cpd00009', 'cpd00048', 'cpd10515', 'cpd10516', 'cpd00149', 'cpd00205', 'cpd00254', 'cpd00063', 'cpd00034', 'cpd00030', 'cpd00058', 'cpd00099'},\n",
    "    'VT' : {'cpd00003', 'cpd00006', 'cpd10515', 'cpd10516', 'cpd00149', 'cpd00205', 'cpd00254', 'cpd00063', 'cpd00034', 'cpd00030', 'cpd00058', 'cpd00099'},\n",
    "    'sugars' : {'cpd00027'}\n",
    "}\n",
    "import_a = {}\n",
    "export_a = {}\n",
    "for rxn_id in tp.t_abc:\n",
    "    rxn = tp.t_abc[rxn_id]\n",
    "    l = list(filter(lambda x: x[1] < 0 and x[0][1] == '1', rxn.cstoichiometry.items()))\n",
    "    if len(l) == 1:\n",
    "        cpd_id = l[0][0][0]\n",
    "        if cpd_id not in import_a:\n",
    "            import_a[cpd_id] = []\n",
    "        import_a[cpd_id].append(rxn)\n",
    "    else:\n",
    "        \n",
    "        #print('!', rxn_id)\n",
    "        pass"
   ]
  },
  {
   "cell_type": "code",
   "execution_count": 145,
   "metadata": {},
   "outputs": [],
   "source": [
    "rxn = tp.t_abc['rxn05146']"
   ]
  },
  {
   "cell_type": "code",
   "execution_count": 188,
   "metadata": {},
   "outputs": [],
   "source": [
    "del proton1_anti['cpd00129']"
   ]
  },
  {
   "cell_type": "code",
   "execution_count": 193,
   "metadata": {},
   "outputs": [
    {
     "name": "stdout",
     "output_type": "stream",
     "text": [
      "rxn12459: cpd00067 [1] + cpd00069 [2] <=> cpd00067 [0] + cpd00069 [0]\n",
      "rxn13411: cpd00067 [1] + cpd00069 [0] <=> cpd00067 [0] + cpd00069 [1]\n"
     ]
    }
   ],
   "source": [
    "for o in proton1_anti['cpd00069']:\n",
    "    print(o)"
   ]
  },
  {
   "cell_type": "code",
   "execution_count": 341,
   "metadata": {},
   "outputs": [],
   "source": [
    "em.escher_graph['canvas']['height'] = 12000"
   ]
  },
  {
   "cell_type": "code",
   "execution_count": 324,
   "metadata": {},
   "outputs": [],
   "source": [
    "with open('/Users/fliu/workspace/jupyter/data/escher/maps/ModelSEED/ModelSEED.Amino Acid Transport.json', 'w') as fh:\n",
    "    fh.write(json.dumps(em.escher_map))"
   ]
  },
  {
   "cell_type": "code",
   "execution_count": 343,
   "metadata": {},
   "outputs": [],
   "source": [
    "#em.escher_map[0]['map_name'] = 'ModelSEED.Amino Acid Transport'\n",
    "#em.escher_graph['canvas']['height'] = 12000\n",
    "em.escher_map[0]['map_name'] = 'ModelSEED.Small Molecules and Ions Transport'\n",
    "em.escher_graph['canvas']['height'] = 7000\n",
    "with open('/Users/fliu/workspace/jupyter/data/escher/maps/ModelSEED/ModelSEED.Small Molecules and Ions Transport.json', 'w') as fh:\n",
    "    fh.write(json.dumps(em.escher_map))"
   ]
  },
  {
   "cell_type": "code",
   "execution_count": 342,
   "metadata": {},
   "outputs": [
    {
     "data": {
      "text/html": [
       "\n",
       "\n",
       "\n",
       "  \n",
       "  \n",
       "\n",
       "  \n",
       "  \n",
       "    <link rel=\"stylesheet\" href=\"//unpkg.com/escher-vis@1.6.0/css/dist/builder.min.css\"/>\n",
       "  \n",
       "\n",
       "\n",
       "\n",
       "  <div style=\"height: 500px; width: 100%;\" id=\"ezthudgwrv\"></div>\n",
       "\n",
       "  <script>\n",
       "   /* Closure to make sure data only applies to this map. */\n",
       "   (function() {\n",
       "       /* data from python */\n",
       "       var data = get_data();\n",
       "\n",
       "       function load_lib(url, callback) {\n",
       "           /** Dynamically load a JavaScript file */\n",
       "           var s = document.createElement('script');\n",
       "           s.src = url;\n",
       "           s.async = true;\n",
       "           s.onreadystatechange = s.onload = callback;\n",
       "           s.onerror = function() {\n",
       "               console.warn('Failed to load library ' + url);\n",
       "           };\n",
       "           document.getElementsByTagName('head')[0].appendChild(s);\n",
       "       }\n",
       "\n",
       "       function check_global_and_load(name, url, callback) {\n",
       "           /** Look for the name in the global scope. If it isn't present, then\n",
       "              load the library at url. Returns the object. */\n",
       "           if (window[name] !== undefined) {\n",
       "               callback(window[name]);\n",
       "           } else {\n",
       "               load_lib(url, function() {\n",
       "                   callback(window[name]);\n",
       "               });\n",
       "           }\n",
       "       }\n",
       "\n",
       "       function draw_escher(escher) {\n",
       "           /** Get data and draw */\n",
       "           var load = function(t_map_data, t_model_data, t_options) {\n",
       "               escher.Builder(t_map_data, t_model_data, data.builder_embed_css,\n",
       "                              escher.libs.d3_select('#' + data.id), t_options);\n",
       "           }\n",
       "\n",
       "           // for the static site, use the url attributes for the map and model\n",
       "           // information\n",
       "           if (data.static_site_index !== null) {\n",
       "               escher.static.load_map_model_from_url(data.map_download_url, data.model_download_url,\n",
       "                                                     data.static_site_index, data.options, load);\n",
       "           } else {\n",
       "               load(data.map_data, data.model_data, data.options);\n",
       "           }\n",
       "       }\n",
       "\n",
       "       // Load dependencies and draw\n",
       "       if (typeof define === 'function' && define.amd) {\n",
       "           // require.js is available: use it to load escher\n",
       "           require.config({\n",
       "             paths: {\n",
       "               escher: '//unpkg.com/escher-vis@1.6.0/js/dist/escher.min',\n",
       "             },\n",
       "             // Override urlArgs that adds ?v= to the end of the escher URL and\n",
       "             // messes up unpkg links. Honestly, I'm not sure if this will lead\n",
       "             // to downstream bugs in the notebook, but they really shouldn't be\n",
       "             // doing this cache-busting anyway.\n",
       "             urlArgs: null,\n",
       "           })\n",
       "           require([ 'escher' ], function(escher) {\n",
       "               draw_escher(escher);\n",
       "           })\n",
       "       } else {\n",
       "           // require.js not available: dynamically load escher\n",
       "           check_global_and_load('escher', '//unpkg.com/escher-vis@1.6.0/js/dist/escher.min.js', function(escher) {\n",
       "               draw_escher(escher);\n",
       "           })\n",
       "       }\n",
       "\n",
       "       // Put this at the end so Chrome doesn't cut off the code above.\n",
       "       function get_data() {\n",
       "           /** Return the data passed in by the Python module. */\n",
       "           return {\n",
       "               id: JSON.parse('\"ezthudgwrv\"'),\n",
       "               map_download_url: JSON.parse('\"//escher.github.io/1-0-0/5/maps/\"'),\n",
       "               model_download_url: JSON.parse('\"//escher.github.io/1-0-0/5/models/\"'),\n",
       "               options: JSON.parse('{\"menu\": \"zoom\", \"enable_keys\": false, \"enable_editing\": false, \"scroll_behavior\": \"none\", \"fill_screen\": false, \"ignore_bootstrap\": true, \"never_ask_before_quit\": true, \"reaction_data\": null, \"metabolite_data\": null, \"gene_data\": null}'),\n",
       "               builder_embed_css: JSON.parse('null'),\n",
       "               map_data: JSON.parse('[{\"map_name\": \"ModelSEED.Small Molecules and Ions Transport\", \"map_id\": \"zFWyll12PhoK\", \"map_description\": \"\", \"homepage\": \"https://escher.github.io\", \"schema\": \"https://escher.github.io/escher/jsonschema/1-0-0#\"}, {\"reactions\": {\"681487\": {\"name\": \"rxn05154 [c]\", \"bigg_id\": \"rxn05154_c\", \"reversibility\": false, \"label_x\": 266, \"label_y\": 2481, \"gene_reaction_rule\": \"\", \"genes\": [], \"metabolites\": [{\"bigg_id\": \"cpd00001_c\", \"coefficient\": -1}, {\"bigg_id\": \"cpd00002_c\", \"coefficient\": -1}, {\"bigg_id\": \"cpd00008_c\", \"coefficient\": 1}, {\"bigg_id\": \"cpd00009_c\", \"coefficient\": 1}, {\"bigg_id\": \"cpd00051_c\", \"coefficient\": 1}, {\"bigg_id\": \"cpd00051_e\", \"coefficient\": -1}, {\"bigg_id\": \"cpd00067_c\", \"coefficient\": 1}], \"annotation\": {\"seed.compartment\": \"0:c;1:e\", \"seed.reaction\": \"rxn05154\"}, \"segments\": {\"8777\": {\"from_node_id\": \"683130\", \"to_node_id\": \"683131\", \"b1\": null, \"b2\": null}, \"8778\": {\"from_node_id\": \"683132\", \"to_node_id\": \"683131\", \"b1\": null, \"b2\": null}, \"8779\": {\"from_node_id\": \"683130\", \"to_node_id\": \"683133\", \"b1\": {\"x\": 280, \"y\": 2437}, \"b2\": {\"x\": 222, \"y\": 2415}}, \"8780\": {\"from_node_id\": \"683130\", \"to_node_id\": \"683134\", \"b1\": {\"x\": 280, \"y\": 2437}, \"b2\": {\"x\": 280, \"y\": 2366}}, \"8781\": {\"from_node_id\": \"683132\", \"to_node_id\": \"683135\", \"b1\": {\"x\": 408, \"y\": 2437}, \"b2\": {\"x\": 489, \"y\": 2392}}, \"8782\": {\"from_node_id\": \"683132\", \"to_node_id\": \"683136\", \"b1\": {\"x\": 412, \"y\": 2437}, \"b2\": {\"x\": 529, \"y\": 2415}}, \"8783\": {\"from_node_id\": \"683132\", \"to_node_id\": \"683137\", \"b1\": {\"x\": 412, \"y\": 2437}, \"b2\": {\"x\": 599, \"y\": 2436}}, \"8784\": {\"from_node_id\": \"683130\", \"to_node_id\": \"683128\", \"b1\": {\"x\": 284, \"y\": 2437}, \"b2\": {\"x\": 94, \"y\": 2437}}, \"8785\": {\"from_node_id\": \"683132\", \"to_node_id\": \"683138\", \"b1\": {\"x\": 412, \"y\": 2437}, \"b2\": {\"x\": 581, \"y\": 2431}}}}, \"681490\": {\"name\": \"rxn08154 [c]\", \"bigg_id\": \"rxn08154_c\", \"reversibility\": true, \"label_x\": 1326, \"label_y\": 2550, \"gene_reaction_rule\": \"\", \"genes\": [], \"metabolites\": [{\"bigg_id\": \"cpd00051_c\", \"coefficient\": -1}, {\"bigg_id\": \"cpd00051_e\", \"coefficient\": 1}, {\"bigg_id\": \"cpd00067_c\", \"coefficient\": 1}, {\"bigg_id\": \"cpd00067_e\", \"coefficient\": -1}], \"annotation\": {\"seed.compartment\": \"0:c;1:e\", \"seed.reaction\": \"rxn08154\"}, \"segments\": {\"8794\": {\"from_node_id\": \"683147\", \"to_node_id\": \"683148\", \"b1\": null, \"b2\": null}, \"8795\": {\"from_node_id\": \"683149\", \"to_node_id\": \"683148\", \"b1\": null, \"b2\": null}, \"8796\": {\"from_node_id\": \"683147\", \"to_node_id\": \"683150\", \"b1\": {\"x\": 1471, \"y\": 2442}, \"b2\": {\"x\": 1583, \"y\": 2440}}, \"8797\": {\"from_node_id\": \"683149\", \"to_node_id\": \"683146\", \"b1\": {\"x\": 1331, \"y\": 2442}, \"b2\": {\"x\": 1188, \"y\": 2442}}, \"8798\": {\"from_node_id\": \"683149\", \"to_node_id\": \"683151\", \"b1\": {\"x\": 1244, \"y\": 2443}, \"b2\": {\"x\": 1150, \"y\": 2386}}, \"8799\": {\"from_node_id\": \"683147\", \"to_node_id\": \"683152\", \"b1\": {\"x\": 1516, \"y\": 2442}, \"b2\": {\"x\": 1563, \"y\": 2521}}}}, \"681492\": {\"name\": \"rxn08155 [c]\", \"bigg_id\": \"rxn08155_c\", \"reversibility\": true, \"label_x\": 2769, \"label_y\": 2496, \"gene_reaction_rule\": \"\", \"genes\": [], \"metabolites\": [{\"bigg_id\": \"cpd00051_c\", \"coefficient\": -1}, {\"bigg_id\": \"cpd00051_e\", \"coefficient\": 1}], \"annotation\": {\"seed.compartment\": \"0:c;1:e\", \"seed.reaction\": \"rxn08155\"}, \"segments\": {\"8804\": {\"from_node_id\": \"683158\", \"to_node_id\": \"683159\", \"b1\": null, \"b2\": null}, \"8805\": {\"from_node_id\": \"683160\", \"to_node_id\": \"683159\", \"b1\": null, \"b2\": null}, \"8806\": {\"from_node_id\": \"683158\", \"to_node_id\": \"683161\", \"b1\": {\"x\": 2889, \"y\": 2444}, \"b2\": {\"x\": 2943, \"y\": 2444}}, \"8807\": {\"from_node_id\": \"683160\", \"to_node_id\": \"683157\", \"b1\": {\"x\": 2765, \"y\": 2444}, \"b2\": {\"x\": 2711, \"y\": 2444}}}}, \"681493\": {\"name\": \"rxn05303 [c]\", \"bigg_id\": \"rxn05303_c\", \"reversibility\": true, \"label_x\": 2062, \"label_y\": 2513, \"gene_reaction_rule\": \"\", \"genes\": [], \"metabolites\": [{\"bigg_id\": \"cpd00051_c\", \"coefficient\": 1}, {\"bigg_id\": \"cpd00051_e\", \"coefficient\": -1}, {\"bigg_id\": \"cpd00067_c\", \"coefficient\": 1}, {\"bigg_id\": \"cpd00067_e\", \"coefficient\": -1}], \"annotation\": {\"seed.compartment\": \"0:c;1:e\", \"seed.reaction\": \"rxn05303\"}, \"segments\": {\"8808\": {\"from_node_id\": \"683163\", \"to_node_id\": \"683164\", \"b1\": null, \"b2\": null}, \"8809\": {\"from_node_id\": \"683165\", \"to_node_id\": \"683164\", \"b1\": null, \"b2\": null}, \"8810\": {\"from_node_id\": \"683165\", \"to_node_id\": \"683166\", \"b1\": {\"x\": 2210, \"y\": 2439}, \"b2\": {\"x\": 2327, \"y\": 2438}}, \"8811\": {\"from_node_id\": \"683163\", \"to_node_id\": \"683162\", \"b1\": {\"x\": 2086, \"y\": 2439}, \"b2\": {\"x\": 1938, \"y\": 2442}}, \"8812\": {\"from_node_id\": \"683165\", \"to_node_id\": \"683167\", \"b1\": {\"x\": 2214, \"y\": 2439}, \"b2\": {\"x\": 2256, \"y\": 2411}}, \"8813\": {\"from_node_id\": \"683163\", \"to_node_id\": \"683168\", \"b1\": {\"x\": 2082, \"y\": 2439}, \"b2\": {\"x\": 2052, \"y\": 2425}}}}, \"681494\": {\"name\": \"rxn08153 [c]\", \"bigg_id\": \"rxn08153_c\", \"reversibility\": true, \"label_x\": 3525, \"label_y\": 2409, \"gene_reaction_rule\": \"\", \"genes\": [], \"metabolites\": [{\"bigg_id\": \"cpd00051_c\", \"coefficient\": 1}, {\"bigg_id\": \"cpd00051_e\", \"coefficient\": -1}, {\"bigg_id\": \"cpd00064_c\", \"coefficient\": -1}, {\"bigg_id\": \"cpd00064_e\", \"coefficient\": 1}], \"annotation\": {\"seed.compartment\": \"0:c;1:e\", \"seed.reaction\": \"rxn08153\"}, \"segments\": {\"8814\": {\"from_node_id\": \"683170\", \"to_node_id\": \"683171\", \"b1\": null, \"b2\": null}, \"8815\": {\"from_node_id\": \"683172\", \"to_node_id\": \"683171\", \"b1\": null, \"b2\": null}, \"8816\": {\"from_node_id\": \"683172\", \"to_node_id\": \"683173\", \"b1\": {\"x\": 3637, \"y\": 2449}, \"b2\": {\"x\": 3691, \"y\": 2449}}, \"8817\": {\"from_node_id\": \"683170\", \"to_node_id\": \"683169\", \"b1\": {\"x\": 3513, \"y\": 2449}, \"b2\": {\"x\": 3459, \"y\": 2449}}, \"8818\": {\"from_node_id\": \"683170\", \"to_node_id\": \"683174\", \"b1\": {\"x\": 3509, \"y\": 2449}, \"b2\": {\"x\": 3504, \"y\": 2467}}, \"8819\": {\"from_node_id\": \"683172\", \"to_node_id\": \"683175\", \"b1\": {\"x\": 3641, \"y\": 2449}, \"b2\": {\"x\": 3646, \"y\": 2467}}}}, \"681495\": {\"name\": \"rxn08947 [c]\", \"bigg_id\": \"rxn08947_c\", \"reversibility\": true, \"label_x\": 2769, \"label_y\": 2996, \"gene_reaction_rule\": \"\", \"genes\": [], \"metabolites\": [{\"bigg_id\": \"cpd00030_e\", \"coefficient\": -1}, {\"bigg_id\": \"cpd00030_c\", \"coefficient\": 1}], \"annotation\": {\"seed.compartment\": \"0:c;1:e\", \"seed.reaction\": \"rxn08947\"}, \"segments\": {\"8820\": {\"from_node_id\": 683177, \"to_node_id\": 683176, \"b1\": null, \"b2\": null}, \"8821\": {\"from_node_id\": 683178, \"to_node_id\": 683176, \"b1\": null, \"b2\": null}, \"8822\": {\"from_node_id\": 683177, \"to_node_id\": 683179, \"b1\": {\"x\": 2889, \"y\": 2944}, \"b2\": {\"x\": 2943, \"y\": 2944}}, \"8823\": {\"from_node_id\": 683178, \"to_node_id\": 683180, \"b1\": {\"x\": 2765, \"y\": 2944}, \"b2\": {\"x\": 2711, \"y\": 2944}}}}, \"681496\": {\"name\": \"rxn09121 [c]\", \"bigg_id\": \"rxn09121_c\", \"reversibility\": true, \"label_x\": 2769, \"label_y\": 3496, \"gene_reaction_rule\": \"\", \"genes\": [], \"metabolites\": [{\"bigg_id\": \"cpd00009_c\", \"coefficient\": -1}, {\"bigg_id\": \"cpd00009_e\", \"coefficient\": 1}], \"annotation\": {\"seed.compartment\": \"0:c;1:e\", \"seed.reaction\": \"rxn09121\"}, \"segments\": {\"8824\": {\"from_node_id\": 683182, \"to_node_id\": 683181, \"b1\": null, \"b2\": null}, \"8825\": {\"from_node_id\": 683183, \"to_node_id\": 683181, \"b1\": null, \"b2\": null}, \"8826\": {\"from_node_id\": 683182, \"to_node_id\": 683184, \"b1\": {\"x\": 2889, \"y\": 3444}, \"b2\": {\"x\": 2943, \"y\": 3444}}, \"8827\": {\"from_node_id\": 683183, \"to_node_id\": 683185, \"b1\": {\"x\": 2765, \"y\": 3444}, \"b2\": {\"x\": 2711, \"y\": 3444}}}}, \"681497\": {\"name\": \"rxn05616 [c]\", \"bigg_id\": \"rxn05616_c\", \"reversibility\": true, \"label_x\": 2769, \"label_y\": 3996, \"gene_reaction_rule\": \"\", \"genes\": [], \"metabolites\": [{\"bigg_id\": \"cpd00254_c\", \"coefficient\": -1}, {\"bigg_id\": \"cpd00254_e\", \"coefficient\": 1}], \"annotation\": {\"seed.compartment\": \"0:c;1:e\", \"seed.reaction\": \"rxn05616\"}, \"segments\": {\"8828\": {\"from_node_id\": 683187, \"to_node_id\": 683186, \"b1\": null, \"b2\": null}, \"8829\": {\"from_node_id\": 683188, \"to_node_id\": 683186, \"b1\": null, \"b2\": null}, \"8830\": {\"from_node_id\": 683187, \"to_node_id\": 683189, \"b1\": {\"x\": 2889, \"y\": 3944}, \"b2\": {\"x\": 2943, \"y\": 3944}}, \"8831\": {\"from_node_id\": 683188, \"to_node_id\": 683190, \"b1\": {\"x\": 2765, \"y\": 3944}, \"b2\": {\"x\": 2711, \"y\": 3944}}}}, \"681498\": {\"name\": \"rxn08186 [c]\", \"bigg_id\": \"rxn08186_c\", \"reversibility\": true, \"label_x\": 2769, \"label_y\": 4496, \"gene_reaction_rule\": \"\", \"genes\": [], \"metabolites\": [{\"bigg_id\": \"cpd00063_c\", \"coefficient\": -1}, {\"bigg_id\": \"cpd00063_e\", \"coefficient\": 1}], \"annotation\": {\"seed.compartment\": \"0:c;1:e\", \"seed.reaction\": \"rxn08186\"}, \"segments\": {\"8832\": {\"from_node_id\": 683192, \"to_node_id\": 683191, \"b1\": null, \"b2\": null}, \"8833\": {\"from_node_id\": 683193, \"to_node_id\": 683191, \"b1\": null, \"b2\": null}, \"8834\": {\"from_node_id\": 683192, \"to_node_id\": 683194, \"b1\": {\"x\": 2889, \"y\": 4444}, \"b2\": {\"x\": 2943, \"y\": 4444}}, \"8835\": {\"from_node_id\": 683193, \"to_node_id\": 683195, \"b1\": {\"x\": 2765, \"y\": 4444}, \"b2\": {\"x\": 2711, \"y\": 4444}}}}, \"681499\": {\"name\": \"rxn05292 [c]\", \"bigg_id\": \"rxn05292_c\", \"reversibility\": true, \"label_x\": 2769, \"label_y\": 4996, \"gene_reaction_rule\": \"\", \"genes\": [], \"metabolites\": [{\"bigg_id\": \"cpd10516_e\", \"coefficient\": -1}, {\"bigg_id\": \"cpd10516_c\", \"coefficient\": 1}], \"annotation\": {\"seed.compartment\": \"0:c;1:e\", \"seed.reaction\": \"rxn05292\"}, \"segments\": {\"8836\": {\"from_node_id\": 683197, \"to_node_id\": 683196, \"b1\": null, \"b2\": null}, \"8837\": {\"from_node_id\": 683198, \"to_node_id\": 683196, \"b1\": null, \"b2\": null}, \"8838\": {\"from_node_id\": 683197, \"to_node_id\": 683199, \"b1\": {\"x\": 2889, \"y\": 4944}, \"b2\": {\"x\": 2943, \"y\": 4944}}, \"8839\": {\"from_node_id\": 683198, \"to_node_id\": 683200, \"b1\": {\"x\": 2765, \"y\": 4944}, \"b2\": {\"x\": 2711, \"y\": 4944}}}}, \"681500\": {\"name\": \"rxn08234 [c]\", \"bigg_id\": \"rxn08234_c\", \"reversibility\": true, \"label_x\": 2769, \"label_y\": 5496, \"gene_reaction_rule\": \"\", \"genes\": [], \"metabolites\": [{\"bigg_id\": \"cpd00099_c\", \"coefficient\": -1}, {\"bigg_id\": \"cpd00099_e\", \"coefficient\": 1}], \"annotation\": {\"seed.compartment\": \"0:c;1:e\", \"seed.reaction\": \"rxn08234\"}, \"segments\": {\"8840\": {\"from_node_id\": 683202, \"to_node_id\": 683201, \"b1\": null, \"b2\": null}, \"8841\": {\"from_node_id\": 683203, \"to_node_id\": 683201, \"b1\": null, \"b2\": null}, \"8842\": {\"from_node_id\": 683202, \"to_node_id\": 683204, \"b1\": {\"x\": 2889, \"y\": 5444}, \"b2\": {\"x\": 2943, \"y\": 5444}}, \"8843\": {\"from_node_id\": 683203, \"to_node_id\": 683205, \"b1\": {\"x\": 2765, \"y\": 5444}, \"b2\": {\"x\": 2711, \"y\": 5444}}}}, \"681501\": {\"name\": \"rxn09390 [c]\", \"bigg_id\": \"rxn09390_c\", \"reversibility\": true, \"label_x\": 2769, \"label_y\": 5996, \"gene_reaction_rule\": \"\", \"genes\": [], \"metabolites\": [{\"bigg_id\": \"cpd00034_c\", \"coefficient\": -1}, {\"bigg_id\": \"cpd00034_e\", \"coefficient\": 1}], \"annotation\": {\"seed.compartment\": \"0:c;1:e\", \"seed.reaction\": \"rxn09390\"}, \"segments\": {\"8844\": {\"from_node_id\": 683207, \"to_node_id\": 683206, \"b1\": null, \"b2\": null}, \"8845\": {\"from_node_id\": 683208, \"to_node_id\": 683206, \"b1\": null, \"b2\": null}, \"8846\": {\"from_node_id\": 683207, \"to_node_id\": 683209, \"b1\": {\"x\": 2889, \"y\": 5944}, \"b2\": {\"x\": 2943, \"y\": 5944}}, \"8847\": {\"from_node_id\": 683208, \"to_node_id\": 683210, \"b1\": {\"x\": 2765, \"y\": 5944}, \"b2\": {\"x\": 2711, \"y\": 5944}}}}, \"681502\": {\"name\": \"rxn05238 [c]\", \"bigg_id\": \"rxn05238_c\", \"reversibility\": true, \"label_x\": 2769, \"label_y\": 6496, \"gene_reaction_rule\": \"\", \"genes\": [], \"metabolites\": [{\"bigg_id\": \"cpd00048_e\", \"coefficient\": -1}, {\"bigg_id\": \"cpd00048_c\", \"coefficient\": 1}], \"annotation\": {\"seed.compartment\": \"0:c;1:e\", \"seed.reaction\": \"rxn05238\"}, \"segments\": {\"8848\": {\"from_node_id\": 683212, \"to_node_id\": 683211, \"b1\": null, \"b2\": null}, \"8849\": {\"from_node_id\": 683213, \"to_node_id\": 683211, \"b1\": null, \"b2\": null}, \"8850\": {\"from_node_id\": 683212, \"to_node_id\": 683214, \"b1\": {\"x\": 2889, \"y\": 6444}, \"b2\": {\"x\": 2943, \"y\": 6444}}, \"8851\": {\"from_node_id\": 683213, \"to_node_id\": 683215, \"b1\": {\"x\": 2765, \"y\": 6444}, \"b2\": {\"x\": 2711, \"y\": 6444}}}}, \"681503\": {\"name\": \"rxn05212 [c]\", \"bigg_id\": \"rxn05212_c\", \"reversibility\": true, \"label_x\": 2769, \"label_y\": 6996, \"gene_reaction_rule\": \"\", \"genes\": [], \"metabolites\": [{\"bigg_id\": \"cpd00058_e\", \"coefficient\": -1}, {\"bigg_id\": \"cpd00058_c\", \"coefficient\": 1}], \"annotation\": {\"seed.compartment\": \"0:c;1:e\", \"seed.reaction\": \"rxn05212\"}, \"segments\": {\"8852\": {\"from_node_id\": 683217, \"to_node_id\": 683216, \"b1\": null, \"b2\": null}, \"8853\": {\"from_node_id\": 683218, \"to_node_id\": 683216, \"b1\": null, \"b2\": null}, \"8854\": {\"from_node_id\": 683217, \"to_node_id\": 683219, \"b1\": {\"x\": 2889, \"y\": 6944}, \"b2\": {\"x\": 2943, \"y\": 6944}}, \"8855\": {\"from_node_id\": 683218, \"to_node_id\": 683220, \"b1\": {\"x\": 2765, \"y\": 6944}, \"b2\": {\"x\": 2711, \"y\": 6944}}}}, \"681504\": {\"name\": \"rxn08475 [c]\", \"bigg_id\": \"rxn08475_c\", \"reversibility\": true, \"label_x\": 2769, \"label_y\": 7496, \"gene_reaction_rule\": \"\", \"genes\": [], \"metabolites\": [{\"bigg_id\": \"cpd10515_c\", \"coefficient\": -1}, {\"bigg_id\": \"cpd10515_e\", \"coefficient\": 1}], \"annotation\": {\"seed.compartment\": \"0:c;1:e\", \"seed.reaction\": \"rxn08475\"}, \"segments\": {\"8856\": {\"from_node_id\": 683222, \"to_node_id\": 683221, \"b1\": null, \"b2\": null}, \"8857\": {\"from_node_id\": 683223, \"to_node_id\": 683221, \"b1\": null, \"b2\": null}, \"8858\": {\"from_node_id\": 683222, \"to_node_id\": 683224, \"b1\": {\"x\": 2889, \"y\": 7444}, \"b2\": {\"x\": 2943, \"y\": 7444}}, \"8859\": {\"from_node_id\": 683223, \"to_node_id\": 683225, \"b1\": {\"x\": 2765, \"y\": 7444}, \"b2\": {\"x\": 2711, \"y\": 7444}}}}, \"681505\": {\"name\": \"rxn05206 [c]\", \"bigg_id\": \"rxn05206_c\", \"reversibility\": true, \"label_x\": 2769, \"label_y\": 7996, \"gene_reaction_rule\": \"\", \"genes\": [], \"metabolites\": [{\"bigg_id\": \"cpd00205_e\", \"coefficient\": -1}, {\"bigg_id\": \"cpd00205_c\", \"coefficient\": 1}], \"annotation\": {\"seed.compartment\": \"0:c;1:e\", \"seed.reaction\": \"rxn05206\"}, \"segments\": {\"8860\": {\"from_node_id\": 683227, \"to_node_id\": 683226, \"b1\": null, \"b2\": null}, \"8861\": {\"from_node_id\": 683228, \"to_node_id\": 683226, \"b1\": null, \"b2\": null}, \"8862\": {\"from_node_id\": 683227, \"to_node_id\": 683229, \"b1\": {\"x\": 2889, \"y\": 7944}, \"b2\": {\"x\": 2943, \"y\": 7944}}, \"8863\": {\"from_node_id\": 683228, \"to_node_id\": 683230, \"b1\": {\"x\": 2765, \"y\": 7944}, \"b2\": {\"x\": 2711, \"y\": 7944}}}}, \"681506\": {\"name\": \"rxn08241 [c]\", \"bigg_id\": \"rxn08241_c\", \"reversibility\": true, \"label_x\": 2769, \"label_y\": 8496, \"gene_reaction_rule\": \"\", \"genes\": [], \"metabolites\": [{\"bigg_id\": \"cpd00149_c\", \"coefficient\": -1}, {\"bigg_id\": \"cpd00149_e\", \"coefficient\": 1}], \"annotation\": {\"seed.compartment\": \"0:c;1:e\", \"seed.reaction\": \"rxn08241\"}, \"segments\": {\"8864\": {\"from_node_id\": 683232, \"to_node_id\": 683231, \"b1\": null, \"b2\": null}, \"8865\": {\"from_node_id\": 683233, \"to_node_id\": 683231, \"b1\": null, \"b2\": null}, \"8866\": {\"from_node_id\": 683232, \"to_node_id\": 683234, \"b1\": {\"x\": 2889, \"y\": 8444}, \"b2\": {\"x\": 2943, \"y\": 8444}}, \"8867\": {\"from_node_id\": 683233, \"to_node_id\": 683235, \"b1\": {\"x\": 2765, \"y\": 8444}, \"b2\": {\"x\": 2711, \"y\": 8444}}}}, \"681507\": {\"name\": \"rxn08946 [c]\", \"bigg_id\": \"rxn08946_c\", \"reversibility\": true, \"label_x\": 1326, \"label_y\": 3050, \"gene_reaction_rule\": \"\", \"genes\": [], \"metabolites\": [{\"bigg_id\": \"cpd00030_c\", \"coefficient\": -1}, {\"bigg_id\": \"cpd00030_e\", \"coefficient\": 1}, {\"bigg_id\": \"cpd00067_c\", \"coefficient\": 1}, {\"bigg_id\": \"cpd00067_e\", \"coefficient\": -1}], \"annotation\": {\"seed.compartment\": \"0:c;1:e\", \"seed.reaction\": \"rxn08946\"}, \"segments\": {\"8868\": {\"from_node_id\": 683237, \"to_node_id\": 683236, \"b1\": null, \"b2\": null}, \"8869\": {\"from_node_id\": 683238, \"to_node_id\": 683236, \"b1\": null, \"b2\": null}, \"8870\": {\"from_node_id\": 683237, \"to_node_id\": 683239, \"b1\": {\"x\": 1471, \"y\": 2942}, \"b2\": {\"x\": 1583, \"y\": 2940}}, \"8871\": {\"from_node_id\": 683238, \"to_node_id\": 683240, \"b1\": {\"x\": 1331, \"y\": 2942}, \"b2\": {\"x\": 1188, \"y\": 2942}}, \"8872\": {\"from_node_id\": 683238, \"to_node_id\": 683241, \"b1\": {\"x\": 1244, \"y\": 2943}, \"b2\": {\"x\": 1150, \"y\": 2886}}, \"8873\": {\"from_node_id\": 683237, \"to_node_id\": 683242, \"b1\": {\"x\": 1516, \"y\": 2942}, \"b2\": {\"x\": 1563, \"y\": 3021}}}}, \"681508\": {\"name\": \"rxn08921 [c]\", \"bigg_id\": \"rxn08921_c\", \"reversibility\": true, \"label_x\": 1326, \"label_y\": 4050, \"gene_reaction_rule\": \"\", \"genes\": [], \"metabolites\": [{\"bigg_id\": \"cpd00254_e\", \"coefficient\": -1}, {\"bigg_id\": \"cpd00254_c\", \"coefficient\": 1}, {\"bigg_id\": \"cpd00254_c\", \"coefficient\": 1}, {\"bigg_id\": \"cpd00254_e\", \"coefficient\": -1}], \"annotation\": {\"seed.compartment\": \"0:c;1:e\", \"seed.reaction\": \"rxn08921\"}, \"segments\": {\"8874\": {\"from_node_id\": 683244, \"to_node_id\": 683243, \"b1\": null, \"b2\": null}, \"8875\": {\"from_node_id\": 683245, \"to_node_id\": 683243, \"b1\": null, \"b2\": null}, \"8876\": {\"from_node_id\": 683244, \"to_node_id\": 683246, \"b1\": {\"x\": 1471, \"y\": 3942}, \"b2\": {\"x\": 1583, \"y\": 3940}}, \"8877\": {\"from_node_id\": 683245, \"to_node_id\": 683247, \"b1\": {\"x\": 1331, \"y\": 3942}, \"b2\": {\"x\": 1188, \"y\": 3942}}, \"8878\": {\"from_node_id\": 683245, \"to_node_id\": 683248, \"b1\": {\"x\": 1244, \"y\": 3943}, \"b2\": {\"x\": 1150, \"y\": 3886}}, \"8879\": {\"from_node_id\": 683244, \"to_node_id\": 683249, \"b1\": {\"x\": 1516, \"y\": 3942}, \"b2\": {\"x\": 1563, \"y\": 4021}}}}, \"681509\": {\"name\": \"rxn05514 [c]\", \"bigg_id\": \"rxn05514_c\", \"reversibility\": true, \"label_x\": 1326, \"label_y\": 4550, \"gene_reaction_rule\": \"\", \"genes\": [], \"metabolites\": [{\"bigg_id\": \"cpd00063_c\", \"coefficient\": -1}, {\"bigg_id\": \"cpd00063_e\", \"coefficient\": 1}, {\"bigg_id\": \"cpd00067_c\", \"coefficient\": 1}, {\"bigg_id\": \"cpd00067_e\", \"coefficient\": -1}], \"annotation\": {\"seed.compartment\": \"0:c;1:e\", \"seed.reaction\": \"rxn05514\"}, \"segments\": {\"8880\": {\"from_node_id\": 683251, \"to_node_id\": 683250, \"b1\": null, \"b2\": null}, \"8881\": {\"from_node_id\": 683252, \"to_node_id\": 683250, \"b1\": null, \"b2\": null}, \"8882\": {\"from_node_id\": 683251, \"to_node_id\": 683253, \"b1\": {\"x\": 1471, \"y\": 4442}, \"b2\": {\"x\": 1583, \"y\": 4440}}, \"8883\": {\"from_node_id\": 683252, \"to_node_id\": 683254, \"b1\": {\"x\": 1331, \"y\": 4442}, \"b2\": {\"x\": 1188, \"y\": 4442}}, \"8884\": {\"from_node_id\": 683252, \"to_node_id\": 683255, \"b1\": {\"x\": 1244, \"y\": 4443}, \"b2\": {\"x\": 1150, \"y\": 4386}}, \"8885\": {\"from_node_id\": 683251, \"to_node_id\": 683256, \"b1\": {\"x\": 1516, \"y\": 4442}, \"b2\": {\"x\": 1563, \"y\": 4521}}}}, \"681510\": {\"name\": \"rxn29260 [c]\", \"bigg_id\": \"rxn29260_c\", \"reversibility\": true, \"label_x\": 1326, \"label_y\": 5050, \"gene_reaction_rule\": \"\", \"genes\": [], \"metabolites\": [{\"bigg_id\": \"cpd10516_e\", \"coefficient\": -1}, {\"bigg_id\": \"cpd10516_c\", \"coefficient\": 1}, {\"bigg_id\": \"cpd10516_c\", \"coefficient\": 1}, {\"bigg_id\": \"cpd10516_e\", \"coefficient\": -1}], \"annotation\": {\"seed.compartment\": \"0:c;1:e\", \"seed.reaction\": \"rxn29260\"}, \"segments\": {\"8886\": {\"from_node_id\": 683258, \"to_node_id\": 683257, \"b1\": null, \"b2\": null}, \"8887\": {\"from_node_id\": 683259, \"to_node_id\": 683257, \"b1\": null, \"b2\": null}, \"8888\": {\"from_node_id\": 683258, \"to_node_id\": 683260, \"b1\": {\"x\": 1471, \"y\": 4942}, \"b2\": {\"x\": 1583, \"y\": 4940}}, \"8889\": {\"from_node_id\": 683259, \"to_node_id\": 683261, \"b1\": {\"x\": 1331, \"y\": 4942}, \"b2\": {\"x\": 1188, \"y\": 4942}}, \"8890\": {\"from_node_id\": 683259, \"to_node_id\": 683262, \"b1\": {\"x\": 1244, \"y\": 4943}, \"b2\": {\"x\": 1150, \"y\": 4886}}, \"8891\": {\"from_node_id\": 683258, \"to_node_id\": 683263, \"b1\": {\"x\": 1516, \"y\": 4942}, \"b2\": {\"x\": 1563, \"y\": 5021}}}}, \"681511\": {\"name\": \"rxn08233 [c]\", \"bigg_id\": \"rxn08233_c\", \"reversibility\": true, \"label_x\": 1326, \"label_y\": 5550, \"gene_reaction_rule\": \"\", \"genes\": [], \"metabolites\": [{\"bigg_id\": \"cpd00067_c\", \"coefficient\": -1}, {\"bigg_id\": \"cpd00067_e\", \"coefficient\": 1}, {\"bigg_id\": \"cpd00067_e\", \"coefficient\": 1}, {\"bigg_id\": \"cpd00067_c\", \"coefficient\": -1}], \"annotation\": {\"seed.compartment\": \"0:c;1:e\", \"seed.reaction\": \"rxn08233\"}, \"segments\": {\"8892\": {\"from_node_id\": 683265, \"to_node_id\": 683264, \"b1\": null, \"b2\": null}, \"8893\": {\"from_node_id\": 683266, \"to_node_id\": 683264, \"b1\": null, \"b2\": null}, \"8894\": {\"from_node_id\": 683265, \"to_node_id\": 683267, \"b1\": {\"x\": 1471, \"y\": 5442}, \"b2\": {\"x\": 1583, \"y\": 5440}}, \"8895\": {\"from_node_id\": 683266, \"to_node_id\": 683268, \"b1\": {\"x\": 1331, \"y\": 5442}, \"b2\": {\"x\": 1188, \"y\": 5442}}, \"8896\": {\"from_node_id\": 683266, \"to_node_id\": 683269, \"b1\": {\"x\": 1244, \"y\": 5443}, \"b2\": {\"x\": 1150, \"y\": 5386}}, \"8897\": {\"from_node_id\": 683265, \"to_node_id\": 683270, \"b1\": {\"x\": 1516, \"y\": 5442}, \"b2\": {\"x\": 1563, \"y\": 5521}}}}, \"681512\": {\"name\": \"rxn09389 [c]\", \"bigg_id\": \"rxn09389_c\", \"reversibility\": true, \"label_x\": 1326, \"label_y\": 6050, \"gene_reaction_rule\": \"\", \"genes\": [], \"metabolites\": [{\"bigg_id\": \"cpd00034_c\", \"coefficient\": -1}, {\"bigg_id\": \"cpd00034_e\", \"coefficient\": 1}, {\"bigg_id\": \"cpd00067_c\", \"coefficient\": 1}, {\"bigg_id\": \"cpd00067_e\", \"coefficient\": -1}], \"annotation\": {\"seed.compartment\": \"0:c;1:e\", \"seed.reaction\": \"rxn09389\"}, \"segments\": {\"8898\": {\"from_node_id\": 683272, \"to_node_id\": 683271, \"b1\": null, \"b2\": null}, \"8899\": {\"from_node_id\": 683273, \"to_node_id\": 683271, \"b1\": null, \"b2\": null}, \"8900\": {\"from_node_id\": 683272, \"to_node_id\": 683274, \"b1\": {\"x\": 1471, \"y\": 5942}, \"b2\": {\"x\": 1583, \"y\": 5940}}, \"8901\": {\"from_node_id\": 683273, \"to_node_id\": 683275, \"b1\": {\"x\": 1331, \"y\": 5942}, \"b2\": {\"x\": 1188, \"y\": 5942}}, \"8902\": {\"from_node_id\": 683273, \"to_node_id\": 683276, \"b1\": {\"x\": 1244, \"y\": 5943}, \"b2\": {\"x\": 1150, \"y\": 5886}}, \"8903\": {\"from_node_id\": 683272, \"to_node_id\": 683277, \"b1\": {\"x\": 1516, \"y\": 5942}, \"b2\": {\"x\": 1563, \"y\": 6021}}}}, \"681513\": {\"name\": \"rxn08275 [c]\", \"bigg_id\": \"rxn08275_c\", \"reversibility\": true, \"label_x\": 1326, \"label_y\": 7050, \"gene_reaction_rule\": \"\", \"genes\": [], \"metabolites\": [{\"bigg_id\": \"cpd00058_c\", \"coefficient\": -1}, {\"bigg_id\": \"cpd00058_e\", \"coefficient\": 1}, {\"bigg_id\": \"cpd00067_c\", \"coefficient\": 1}, {\"bigg_id\": \"cpd00067_e\", \"coefficient\": -1}], \"annotation\": {\"seed.compartment\": \"0:c;1:e\", \"seed.reaction\": \"rxn08275\"}, \"segments\": {\"8904\": {\"from_node_id\": 683279, \"to_node_id\": 683278, \"b1\": null, \"b2\": null}, \"8905\": {\"from_node_id\": 683280, \"to_node_id\": 683278, \"b1\": null, \"b2\": null}, \"8906\": {\"from_node_id\": 683279, \"to_node_id\": 683281, \"b1\": {\"x\": 1471, \"y\": 6942}, \"b2\": {\"x\": 1583, \"y\": 6940}}, \"8907\": {\"from_node_id\": 683280, \"to_node_id\": 683282, \"b1\": {\"x\": 1331, \"y\": 6942}, \"b2\": {\"x\": 1188, \"y\": 6942}}, \"8908\": {\"from_node_id\": 683280, \"to_node_id\": 683283, \"b1\": {\"x\": 1244, \"y\": 6943}, \"b2\": {\"x\": 1150, \"y\": 6886}}, \"8909\": {\"from_node_id\": 683279, \"to_node_id\": 683284, \"b1\": {\"x\": 1516, \"y\": 6942}, \"b2\": {\"x\": 1563, \"y\": 7021}}}}, \"681514\": {\"name\": \"rxn08474 [c]\", \"bigg_id\": \"rxn08474_c\", \"reversibility\": true, \"label_x\": 1326, \"label_y\": 7550, \"gene_reaction_rule\": \"\", \"genes\": [], \"metabolites\": [{\"bigg_id\": \"cpd10515_c\", \"coefficient\": -1}, {\"bigg_id\": \"cpd10515_e\", \"coefficient\": 1}, {\"bigg_id\": \"cpd00067_c\", \"coefficient\": 1}, {\"bigg_id\": \"cpd00067_e\", \"coefficient\": -1}], \"annotation\": {\"seed.compartment\": \"0:c;1:e\", \"seed.reaction\": \"rxn08474\"}, \"segments\": {\"8910\": {\"from_node_id\": 683286, \"to_node_id\": 683285, \"b1\": null, \"b2\": null}, \"8911\": {\"from_node_id\": 683287, \"to_node_id\": 683285, \"b1\": null, \"b2\": null}, \"8912\": {\"from_node_id\": 683286, \"to_node_id\": 683288, \"b1\": {\"x\": 1471, \"y\": 7442}, \"b2\": {\"x\": 1583, \"y\": 7440}}, \"8913\": {\"from_node_id\": 683287, \"to_node_id\": 683289, \"b1\": {\"x\": 1331, \"y\": 7442}, \"b2\": {\"x\": 1188, \"y\": 7442}}, \"8914\": {\"from_node_id\": 683287, \"to_node_id\": 683290, \"b1\": {\"x\": 1244, \"y\": 7443}, \"b2\": {\"x\": 1150, \"y\": 7386}}, \"8915\": {\"from_node_id\": 683286, \"to_node_id\": 683291, \"b1\": {\"x\": 1516, \"y\": 7442}, \"b2\": {\"x\": 1563, \"y\": 7521}}}}, \"681515\": {\"name\": \"rxn05596 [c]\", \"bigg_id\": \"rxn05596_c\", \"reversibility\": true, \"label_x\": 1326, \"label_y\": 8050, \"gene_reaction_rule\": \"\", \"genes\": [], \"metabolites\": [{\"bigg_id\": \"cpd00205_c\", \"coefficient\": -1}, {\"bigg_id\": \"cpd00205_e\", \"coefficient\": 1}, {\"bigg_id\": \"cpd00067_c\", \"coefficient\": 1}, {\"bigg_id\": \"cpd00067_e\", \"coefficient\": -1}], \"annotation\": {\"seed.compartment\": \"0:c;1:e\", \"seed.reaction\": \"rxn05596\"}, \"segments\": {\"8916\": {\"from_node_id\": 683293, \"to_node_id\": 683292, \"b1\": null, \"b2\": null}, \"8917\": {\"from_node_id\": 683294, \"to_node_id\": 683292, \"b1\": null, \"b2\": null}, \"8918\": {\"from_node_id\": 683293, \"to_node_id\": 683295, \"b1\": {\"x\": 1471, \"y\": 7942}, \"b2\": {\"x\": 1583, \"y\": 7940}}, \"8919\": {\"from_node_id\": 683294, \"to_node_id\": 683296, \"b1\": {\"x\": 1331, \"y\": 7942}, \"b2\": {\"x\": 1188, \"y\": 7942}}, \"8920\": {\"from_node_id\": 683294, \"to_node_id\": 683297, \"b1\": {\"x\": 1244, \"y\": 7943}, \"b2\": {\"x\": 1150, \"y\": 7886}}, \"8921\": {\"from_node_id\": 683293, \"to_node_id\": 683298, \"b1\": {\"x\": 1516, \"y\": 7942}, \"b2\": {\"x\": 1563, \"y\": 8021}}}}, \"681516\": {\"name\": \"rxn08240 [c]\", \"bigg_id\": \"rxn08240_c\", \"reversibility\": true, \"label_x\": 1326, \"label_y\": 8550, \"gene_reaction_rule\": \"\", \"genes\": [], \"metabolites\": [{\"bigg_id\": \"cpd00149_c\", \"coefficient\": -1}, {\"bigg_id\": \"cpd00149_e\", \"coefficient\": 1}, {\"bigg_id\": \"cpd00067_c\", \"coefficient\": 1}, {\"bigg_id\": \"cpd00067_e\", \"coefficient\": -1}], \"annotation\": {\"seed.compartment\": \"0:c;1:e\", \"seed.reaction\": \"rxn08240\"}, \"segments\": {\"8922\": {\"from_node_id\": 683300, \"to_node_id\": 683299, \"b1\": null, \"b2\": null}, \"8923\": {\"from_node_id\": 683301, \"to_node_id\": 683299, \"b1\": null, \"b2\": null}, \"8924\": {\"from_node_id\": 683300, \"to_node_id\": 683302, \"b1\": {\"x\": 1471, \"y\": 8442}, \"b2\": {\"x\": 1583, \"y\": 8440}}, \"8925\": {\"from_node_id\": 683301, \"to_node_id\": 683303, \"b1\": {\"x\": 1331, \"y\": 8442}, \"b2\": {\"x\": 1188, \"y\": 8442}}, \"8926\": {\"from_node_id\": 683301, \"to_node_id\": 683304, \"b1\": {\"x\": 1244, \"y\": 8443}, \"b2\": {\"x\": 1150, \"y\": 8386}}, \"8927\": {\"from_node_id\": 683300, \"to_node_id\": 683305, \"b1\": {\"x\": 1516, \"y\": 8442}, \"b2\": {\"x\": 1563, \"y\": 8521}}}}, \"681517\": {\"name\": \"rxn05618 [c]\", \"bigg_id\": \"rxn05618_c\", \"reversibility\": true, \"label_x\": 2062, \"label_y\": 3013, \"gene_reaction_rule\": \"\", \"genes\": [], \"metabolites\": [{\"bigg_id\": \"cpd00030_c\", \"coefficient\": 1}, {\"bigg_id\": \"cpd00030_e\", \"coefficient\": -1}, {\"bigg_id\": \"cpd00067_c\", \"coefficient\": 1}, {\"bigg_id\": \"cpd00067_e\", \"coefficient\": -1}], \"annotation\": {\"seed.compartment\": \"0:c;1:e\", \"seed.reaction\": \"rxn05618\"}, \"segments\": {\"8928\": {\"from_node_id\": 683307, \"to_node_id\": 683306, \"b1\": null, \"b2\": null}, \"8929\": {\"from_node_id\": 683308, \"to_node_id\": 683306, \"b1\": null, \"b2\": null}, \"8930\": {\"from_node_id\": 683308, \"to_node_id\": 683309, \"b1\": {\"x\": 2210, \"y\": 2939}, \"b2\": {\"x\": 2327, \"y\": 2938}}, \"8931\": {\"from_node_id\": 683307, \"to_node_id\": 683310, \"b1\": {\"x\": 2086, \"y\": 2939}, \"b2\": {\"x\": 1938, \"y\": 2942}}, \"8932\": {\"from_node_id\": 683308, \"to_node_id\": 683311, \"b1\": {\"x\": 2214, \"y\": 2939}, \"b2\": {\"x\": 2256, \"y\": 2911}}, \"8933\": {\"from_node_id\": 683307, \"to_node_id\": 683312, \"b1\": {\"x\": 2082, \"y\": 2939}, \"b2\": {\"x\": 2052, \"y\": 2925}}}}, \"681518\": {\"name\": \"rxn05312 [c]\", \"bigg_id\": \"rxn05312_c\", \"reversibility\": true, \"label_x\": 2062, \"label_y\": 3513, \"gene_reaction_rule\": \"\", \"genes\": [], \"metabolites\": [{\"bigg_id\": \"cpd00009_c\", \"coefficient\": 1}, {\"bigg_id\": \"cpd00009_e\", \"coefficient\": -1}, {\"bigg_id\": \"cpd00067_c\", \"coefficient\": 1}, {\"bigg_id\": \"cpd00067_e\", \"coefficient\": -1}], \"annotation\": {\"seed.compartment\": \"0:c;1:e\", \"seed.reaction\": \"rxn05312\"}, \"segments\": {\"8934\": {\"from_node_id\": 683314, \"to_node_id\": 683313, \"b1\": null, \"b2\": null}, \"8935\": {\"from_node_id\": 683315, \"to_node_id\": 683313, \"b1\": null, \"b2\": null}, \"8936\": {\"from_node_id\": 683315, \"to_node_id\": 683316, \"b1\": {\"x\": 2210, \"y\": 3439}, \"b2\": {\"x\": 2327, \"y\": 3438}}, \"8937\": {\"from_node_id\": 683314, \"to_node_id\": 683317, \"b1\": {\"x\": 2086, \"y\": 3439}, \"b2\": {\"x\": 1938, \"y\": 3442}}, \"8938\": {\"from_node_id\": 683315, \"to_node_id\": 683318, \"b1\": {\"x\": 2214, \"y\": 3439}, \"b2\": {\"x\": 2256, \"y\": 3411}}, \"8939\": {\"from_node_id\": 683314, \"to_node_id\": 683319, \"b1\": {\"x\": 2082, \"y\": 3439}, \"b2\": {\"x\": 2052, \"y\": 3425}}}}, \"681519\": {\"name\": \"rxn29824 [c]\", \"bigg_id\": \"rxn29824_c\", \"reversibility\": true, \"label_x\": 2062, \"label_y\": 4513, \"gene_reaction_rule\": \"\", \"genes\": [], \"metabolites\": [{\"bigg_id\": \"cpd00063_c\", \"coefficient\": 1}, {\"bigg_id\": \"cpd00063_e\", \"coefficient\": -1}, {\"bigg_id\": \"cpd00067_c\", \"coefficient\": 1}, {\"bigg_id\": \"cpd00067_e\", \"coefficient\": -1}], \"annotation\": {\"seed.compartment\": \"0:c;1:e\", \"seed.reaction\": \"rxn29824\"}, \"segments\": {\"8940\": {\"from_node_id\": 683321, \"to_node_id\": 683320, \"b1\": null, \"b2\": null}, \"8941\": {\"from_node_id\": 683322, \"to_node_id\": 683320, \"b1\": null, \"b2\": null}, \"8942\": {\"from_node_id\": 683322, \"to_node_id\": 683323, \"b1\": {\"x\": 2210, \"y\": 4439}, \"b2\": {\"x\": 2327, \"y\": 4438}}, \"8943\": {\"from_node_id\": 683321, \"to_node_id\": 683324, \"b1\": {\"x\": 2086, \"y\": 4439}, \"b2\": {\"x\": 1938, \"y\": 4442}}, \"8944\": {\"from_node_id\": 683322, \"to_node_id\": 683325, \"b1\": {\"x\": 2214, \"y\": 4439}, \"b2\": {\"x\": 2256, \"y\": 4411}}, \"8945\": {\"from_node_id\": 683321, \"to_node_id\": 683326, \"b1\": {\"x\": 2082, \"y\": 4439}, \"b2\": {\"x\": 2052, \"y\": 4425}}}}, \"681520\": {\"name\": \"rxn43657 [c]\", \"bigg_id\": \"rxn43657_c\", \"reversibility\": true, \"label_x\": 2062, \"label_y\": 6013, \"gene_reaction_rule\": \"\", \"genes\": [], \"metabolites\": [{\"bigg_id\": \"cpd00034_c\", \"coefficient\": 1}, {\"bigg_id\": \"cpd00034_e\", \"coefficient\": -1}, {\"bigg_id\": \"cpd00067_c\", \"coefficient\": 1}, {\"bigg_id\": \"cpd00067_e\", \"coefficient\": -1}], \"annotation\": {\"seed.compartment\": \"0:c;1:e\", \"seed.reaction\": \"rxn43657\"}, \"segments\": {\"8946\": {\"from_node_id\": 683328, \"to_node_id\": 683327, \"b1\": null, \"b2\": null}, \"8947\": {\"from_node_id\": 683329, \"to_node_id\": 683327, \"b1\": null, \"b2\": null}, \"8948\": {\"from_node_id\": 683329, \"to_node_id\": 683330, \"b1\": {\"x\": 2210, \"y\": 5939}, \"b2\": {\"x\": 2327, \"y\": 5938}}, \"8949\": {\"from_node_id\": 683328, \"to_node_id\": 683331, \"b1\": {\"x\": 2086, \"y\": 5939}, \"b2\": {\"x\": 1938, \"y\": 5942}}, \"8950\": {\"from_node_id\": 683329, \"to_node_id\": 683332, \"b1\": {\"x\": 2214, \"y\": 5939}, \"b2\": {\"x\": 2256, \"y\": 5911}}, \"8951\": {\"from_node_id\": 683328, \"to_node_id\": 683333, \"b1\": {\"x\": 2082, \"y\": 5939}, \"b2\": {\"x\": 2052, \"y\": 5925}}}}, \"681521\": {\"name\": \"rxn05651 [c]\", \"bigg_id\": \"rxn05651_c\", \"reversibility\": true, \"label_x\": 2062, \"label_y\": 6513, \"gene_reaction_rule\": \"\", \"genes\": [], \"metabolites\": [{\"bigg_id\": \"cpd00048_c\", \"coefficient\": 1}, {\"bigg_id\": \"cpd00048_e\", \"coefficient\": -1}, {\"bigg_id\": \"cpd00067_c\", \"coefficient\": 1}, {\"bigg_id\": \"cpd00067_e\", \"coefficient\": -1}], \"annotation\": {\"seed.compartment\": \"0:c;1:e\", \"seed.reaction\": \"rxn05651\"}, \"segments\": {\"8952\": {\"from_node_id\": 683335, \"to_node_id\": 683334, \"b1\": null, \"b2\": null}, \"8953\": {\"from_node_id\": 683336, \"to_node_id\": 683334, \"b1\": null, \"b2\": null}, \"8954\": {\"from_node_id\": 683336, \"to_node_id\": 683337, \"b1\": {\"x\": 2210, \"y\": 6439}, \"b2\": {\"x\": 2327, \"y\": 6438}}, \"8955\": {\"from_node_id\": 683335, \"to_node_id\": 683338, \"b1\": {\"x\": 2086, \"y\": 6439}, \"b2\": {\"x\": 1938, \"y\": 6442}}, \"8956\": {\"from_node_id\": 683336, \"to_node_id\": 683339, \"b1\": {\"x\": 2214, \"y\": 6439}, \"b2\": {\"x\": 2256, \"y\": 6411}}, \"8957\": {\"from_node_id\": 683335, \"to_node_id\": 683340, \"b1\": {\"x\": 2082, \"y\": 6439}, \"b2\": {\"x\": 2052, \"y\": 6425}}}}, \"681522\": {\"name\": \"rxn08473 [c]\", \"bigg_id\": \"rxn08473_c\", \"reversibility\": true, \"label_x\": 2062, \"label_y\": 7513, \"gene_reaction_rule\": \"\", \"genes\": [], \"metabolites\": [{\"bigg_id\": \"cpd10515_c\", \"coefficient\": 1}, {\"bigg_id\": \"cpd10515_e\", \"coefficient\": -1}, {\"bigg_id\": \"cpd00067_c\", \"coefficient\": 1}, {\"bigg_id\": \"cpd00067_e\", \"coefficient\": -1}], \"annotation\": {\"seed.compartment\": \"0:c;1:e\", \"seed.reaction\": \"rxn08473\"}, \"segments\": {\"8958\": {\"from_node_id\": 683342, \"to_node_id\": 683341, \"b1\": null, \"b2\": null}, \"8959\": {\"from_node_id\": 683343, \"to_node_id\": 683341, \"b1\": null, \"b2\": null}, \"8960\": {\"from_node_id\": 683343, \"to_node_id\": 683344, \"b1\": {\"x\": 2210, \"y\": 7439}, \"b2\": {\"x\": 2327, \"y\": 7438}}, \"8961\": {\"from_node_id\": 683342, \"to_node_id\": 683345, \"b1\": {\"x\": 2086, \"y\": 7439}, \"b2\": {\"x\": 1938, \"y\": 7442}}, \"8962\": {\"from_node_id\": 683343, \"to_node_id\": 683346, \"b1\": {\"x\": 2214, \"y\": 7439}, \"b2\": {\"x\": 2256, \"y\": 7411}}, \"8963\": {\"from_node_id\": 683342, \"to_node_id\": 683347, \"b1\": {\"x\": 2082, \"y\": 7439}, \"b2\": {\"x\": 2052, \"y\": 7425}}}}, \"681523\": {\"name\": \"rxn05595 [c]\", \"bigg_id\": \"rxn05595_c\", \"reversibility\": true, \"label_x\": 2062, \"label_y\": 8013, \"gene_reaction_rule\": \"\", \"genes\": [], \"metabolites\": [{\"bigg_id\": \"cpd00205_c\", \"coefficient\": 1}, {\"bigg_id\": \"cpd00205_e\", \"coefficient\": -1}, {\"bigg_id\": \"cpd00067_c\", \"coefficient\": 1}, {\"bigg_id\": \"cpd00067_e\", \"coefficient\": -1}], \"annotation\": {\"seed.compartment\": \"0:c;1:e\", \"seed.reaction\": \"rxn05595\"}, \"segments\": {\"8964\": {\"from_node_id\": 683349, \"to_node_id\": 683348, \"b1\": null, \"b2\": null}, \"8965\": {\"from_node_id\": 683350, \"to_node_id\": 683348, \"b1\": null, \"b2\": null}, \"8966\": {\"from_node_id\": 683350, \"to_node_id\": 683351, \"b1\": {\"x\": 2210, \"y\": 7939}, \"b2\": {\"x\": 2327, \"y\": 7938}}, \"8967\": {\"from_node_id\": 683349, \"to_node_id\": 683352, \"b1\": {\"x\": 2086, \"y\": 7939}, \"b2\": {\"x\": 1938, \"y\": 7942}}, \"8968\": {\"from_node_id\": 683350, \"to_node_id\": 683353, \"b1\": {\"x\": 2214, \"y\": 7939}, \"b2\": {\"x\": 2256, \"y\": 7911}}, \"8969\": {\"from_node_id\": 683349, \"to_node_id\": 683354, \"b1\": {\"x\": 2082, \"y\": 7939}, \"b2\": {\"x\": 2052, \"y\": 7925}}}}, \"681524\": {\"name\": \"rxn05149 [c]\", \"bigg_id\": \"rxn05149_c\", \"reversibility\": false, \"label_x\": 266, \"label_y\": 2981, \"gene_reaction_rule\": \"\", \"genes\": [], \"metabolites\": [{\"bigg_id\": \"cpd00001_c\", \"coefficient\": -1}, {\"bigg_id\": \"cpd00002_c\", \"coefficient\": -1}, {\"bigg_id\": \"cpd00008_c\", \"coefficient\": 1}, {\"bigg_id\": \"cpd00009_c\", \"coefficient\": 1}, {\"bigg_id\": \"cpd00030_c\", \"coefficient\": 1}, {\"bigg_id\": \"cpd00030_e\", \"coefficient\": -1}, {\"bigg_id\": \"cpd00067_c\", \"coefficient\": 1}], \"annotation\": {\"seed.compartment\": \"0:c;1:e\", \"seed.reaction\": \"rxn05149\"}, \"segments\": {\"8970\": {\"from_node_id\": 683356, \"to_node_id\": 683355, \"b1\": null, \"b2\": null}, \"8971\": {\"from_node_id\": 683357, \"to_node_id\": 683355, \"b1\": null, \"b2\": null}, \"8972\": {\"from_node_id\": 683356, \"to_node_id\": 683358, \"b1\": {\"x\": 280, \"y\": 2937}, \"b2\": {\"x\": 222, \"y\": 2915}}, \"8973\": {\"from_node_id\": 683356, \"to_node_id\": 683359, \"b1\": {\"x\": 280, \"y\": 2937}, \"b2\": {\"x\": 280, \"y\": 2866}}, \"8974\": {\"from_node_id\": 683357, \"to_node_id\": 683360, \"b1\": {\"x\": 408, \"y\": 2937}, \"b2\": {\"x\": 489, \"y\": 2892}}, \"8975\": {\"from_node_id\": 683357, \"to_node_id\": 683361, \"b1\": {\"x\": 412, \"y\": 2937}, \"b2\": {\"x\": 529, \"y\": 2915}}, \"8976\": {\"from_node_id\": 683357, \"to_node_id\": 683362, \"b1\": {\"x\": 412, \"y\": 2937}, \"b2\": {\"x\": 599, \"y\": 2936}}, \"8977\": {\"from_node_id\": 683356, \"to_node_id\": 683363, \"b1\": {\"x\": 284, \"y\": 2937}, \"b2\": {\"x\": 94, \"y\": 2937}}, \"8978\": {\"from_node_id\": 683357, \"to_node_id\": 683364, \"b1\": {\"x\": 412, \"y\": 2937}, \"b2\": {\"x\": 581, \"y\": 2931}}}}, \"681525\": {\"name\": \"rxn05145 [c]\", \"bigg_id\": \"rxn05145_c\", \"reversibility\": false, \"label_x\": 266, \"label_y\": 3481, \"gene_reaction_rule\": \"\", \"genes\": [], \"metabolites\": [{\"bigg_id\": \"cpd00001_c\", \"coefficient\": -1}, {\"bigg_id\": \"cpd00002_c\", \"coefficient\": -1}, {\"bigg_id\": \"cpd00008_c\", \"coefficient\": 1}, {\"bigg_id\": \"cpd00009_c\", \"coefficient\": 1}, {\"bigg_id\": \"cpd00051_c\", \"coefficient\": 1}, {\"bigg_id\": \"cpd00009_e\", \"coefficient\": -1}, {\"bigg_id\": \"cpd00067_c\", \"coefficient\": 1}], \"annotation\": {\"seed.compartment\": \"0:c;1:e\", \"seed.reaction\": \"rxn05145\"}, \"segments\": {\"8979\": {\"from_node_id\": 683366, \"to_node_id\": 683365, \"b1\": null, \"b2\": null}, \"8980\": {\"from_node_id\": 683367, \"to_node_id\": 683365, \"b1\": null, \"b2\": null}, \"8981\": {\"from_node_id\": 683366, \"to_node_id\": 683368, \"b1\": {\"x\": 280, \"y\": 3437}, \"b2\": {\"x\": 222, \"y\": 3415}}, \"8982\": {\"from_node_id\": 683366, \"to_node_id\": 683369, \"b1\": {\"x\": 280, \"y\": 3437}, \"b2\": {\"x\": 280, \"y\": 3366}}, \"8983\": {\"from_node_id\": 683367, \"to_node_id\": 683370, \"b1\": {\"x\": 408, \"y\": 3437}, \"b2\": {\"x\": 489, \"y\": 3392}}, \"8984\": {\"from_node_id\": 683367, \"to_node_id\": 683371, \"b1\": {\"x\": 412, \"y\": 3437}, \"b2\": {\"x\": 529, \"y\": 3415}}, \"8985\": {\"from_node_id\": 683367, \"to_node_id\": 683372, \"b1\": {\"x\": 412, \"y\": 3437}, \"b2\": {\"x\": 599, \"y\": 3436}}, \"8986\": {\"from_node_id\": 683366, \"to_node_id\": 683373, \"b1\": {\"x\": 284, \"y\": 3437}, \"b2\": {\"x\": 94, \"y\": 3437}}, \"8987\": {\"from_node_id\": 683367, \"to_node_id\": 683374, \"b1\": {\"x\": 412, \"y\": 3437}, \"b2\": {\"x\": 581, \"y\": 3431}}}}, \"681526\": {\"name\": \"rxn08924 [c]\", \"bigg_id\": \"rxn08924_c\", \"reversibility\": false, \"label_x\": 266, \"label_y\": 3981, \"gene_reaction_rule\": \"\", \"genes\": [], \"metabolites\": [{\"bigg_id\": \"cpd00001_c\", \"coefficient\": -1}, {\"bigg_id\": \"cpd00002_c\", \"coefficient\": -1}, {\"bigg_id\": \"cpd00008_c\", \"coefficient\": 1}, {\"bigg_id\": \"cpd00009_c\", \"coefficient\": 1}, {\"bigg_id\": \"cpd00254_c\", \"coefficient\": 1}, {\"bigg_id\": \"cpd00254_e\", \"coefficient\": -1}, {\"bigg_id\": \"cpd00067_c\", \"coefficient\": 1}], \"annotation\": {\"seed.compartment\": \"0:c;1:e\", \"seed.reaction\": \"rxn08924\"}, \"segments\": {\"8988\": {\"from_node_id\": 683376, \"to_node_id\": 683375, \"b1\": null, \"b2\": null}, \"8989\": {\"from_node_id\": 683377, \"to_node_id\": 683375, \"b1\": null, \"b2\": null}, \"8990\": {\"from_node_id\": 683376, \"to_node_id\": 683378, \"b1\": {\"x\": 280, \"y\": 3937}, \"b2\": {\"x\": 222, \"y\": 3915}}, \"8991\": {\"from_node_id\": 683376, \"to_node_id\": 683379, \"b1\": {\"x\": 280, \"y\": 3937}, \"b2\": {\"x\": 280, \"y\": 3866}}, \"8992\": {\"from_node_id\": 683377, \"to_node_id\": 683380, \"b1\": {\"x\": 408, \"y\": 3937}, \"b2\": {\"x\": 489, \"y\": 3892}}, \"8993\": {\"from_node_id\": 683377, \"to_node_id\": 683381, \"b1\": {\"x\": 412, \"y\": 3937}, \"b2\": {\"x\": 529, \"y\": 3915}}, \"8994\": {\"from_node_id\": 683377, \"to_node_id\": 683382, \"b1\": {\"x\": 412, \"y\": 3937}, \"b2\": {\"x\": 599, \"y\": 3936}}, \"8995\": {\"from_node_id\": 683376, \"to_node_id\": 683383, \"b1\": {\"x\": 284, \"y\": 3937}, \"b2\": {\"x\": 94, \"y\": 3937}}, \"8996\": {\"from_node_id\": 683377, \"to_node_id\": 683384, \"b1\": {\"x\": 412, \"y\": 3937}, \"b2\": {\"x\": 581, \"y\": 3931}}}}, \"681527\": {\"name\": \"rxn10447 [c]\", \"bigg_id\": \"rxn10447_c\", \"reversibility\": false, \"label_x\": 266, \"label_y\": 4481, \"gene_reaction_rule\": \"\", \"genes\": [], \"metabolites\": [{\"bigg_id\": \"cpd00001_c\", \"coefficient\": -1}, {\"bigg_id\": \"cpd00002_c\", \"coefficient\": -1}, {\"bigg_id\": \"cpd00008_c\", \"coefficient\": 1}, {\"bigg_id\": \"cpd00009_c\", \"coefficient\": 1}, {\"bigg_id\": \"cpd00063_c\", \"coefficient\": 1}, {\"bigg_id\": \"cpd00063_e\", \"coefficient\": -1}, {\"bigg_id\": \"cpd00067_c\", \"coefficient\": 1}], \"annotation\": {\"seed.compartment\": \"0:c;1:e\", \"seed.reaction\": \"rxn10447\"}, \"segments\": {\"8997\": {\"from_node_id\": 683386, \"to_node_id\": 683385, \"b1\": null, \"b2\": null}, \"8998\": {\"from_node_id\": 683387, \"to_node_id\": 683385, \"b1\": null, \"b2\": null}, \"8999\": {\"from_node_id\": 683386, \"to_node_id\": 683388, \"b1\": {\"x\": 280, \"y\": 4437}, \"b2\": {\"x\": 222, \"y\": 4415}}, \"9000\": {\"from_node_id\": 683386, \"to_node_id\": 683389, \"b1\": {\"x\": 280, \"y\": 4437}, \"b2\": {\"x\": 280, \"y\": 4366}}, \"9001\": {\"from_node_id\": 683387, \"to_node_id\": 683390, \"b1\": {\"x\": 408, \"y\": 4437}, \"b2\": {\"x\": 489, \"y\": 4392}}, \"9002\": {\"from_node_id\": 683387, \"to_node_id\": 683391, \"b1\": {\"x\": 412, \"y\": 4437}, \"b2\": {\"x\": 529, \"y\": 4415}}, \"9003\": {\"from_node_id\": 683387, \"to_node_id\": 683392, \"b1\": {\"x\": 412, \"y\": 4437}, \"b2\": {\"x\": 599, \"y\": 4436}}, \"9004\": {\"from_node_id\": 683386, \"to_node_id\": 683393, \"b1\": {\"x\": 284, \"y\": 4437}, \"b2\": {\"x\": 94, \"y\": 4437}}, \"9005\": {\"from_node_id\": 683387, \"to_node_id\": 683394, \"b1\": {\"x\": 412, \"y\": 4437}, \"b2\": {\"x\": 581, \"y\": 4431}}}}, \"681528\": {\"name\": \"rxn05195 [c]\", \"bigg_id\": \"rxn05195_c\", \"reversibility\": false, \"label_x\": 266, \"label_y\": 4981, \"gene_reaction_rule\": \"\", \"genes\": [], \"metabolites\": [{\"bigg_id\": \"cpd00001_c\", \"coefficient\": -1}, {\"bigg_id\": \"cpd00002_c\", \"coefficient\": -1}, {\"bigg_id\": \"cpd00008_c\", \"coefficient\": 1}, {\"bigg_id\": \"cpd00009_c\", \"coefficient\": 1}, {\"bigg_id\": \"cpd10516_c\", \"coefficient\": 1}, {\"bigg_id\": \"cpd10516_e\", \"coefficient\": -1}, {\"bigg_id\": \"cpd00067_c\", \"coefficient\": 1}], \"annotation\": {\"seed.compartment\": \"0:c;1:e\", \"seed.reaction\": \"rxn05195\"}, \"segments\": {\"9006\": {\"from_node_id\": 683396, \"to_node_id\": 683395, \"b1\": null, \"b2\": null}, \"9007\": {\"from_node_id\": 683397, \"to_node_id\": 683395, \"b1\": null, \"b2\": null}, \"9008\": {\"from_node_id\": 683396, \"to_node_id\": 683398, \"b1\": {\"x\": 280, \"y\": 4937}, \"b2\": {\"x\": 222, \"y\": 4915}}, \"9009\": {\"from_node_id\": 683396, \"to_node_id\": 683399, \"b1\": {\"x\": 280, \"y\": 4937}, \"b2\": {\"x\": 280, \"y\": 4866}}, \"9010\": {\"from_node_id\": 683397, \"to_node_id\": 683400, \"b1\": {\"x\": 408, \"y\": 4937}, \"b2\": {\"x\": 489, \"y\": 4892}}, \"9011\": {\"from_node_id\": 683397, \"to_node_id\": 683401, \"b1\": {\"x\": 412, \"y\": 4937}, \"b2\": {\"x\": 529, \"y\": 4915}}, \"9012\": {\"from_node_id\": 683397, \"to_node_id\": 683402, \"b1\": {\"x\": 412, \"y\": 4937}, \"b2\": {\"x\": 599, \"y\": 4936}}, \"9013\": {\"from_node_id\": 683396, \"to_node_id\": 683403, \"b1\": {\"x\": 284, \"y\": 4937}, \"b2\": {\"x\": 94, \"y\": 4937}}, \"9014\": {\"from_node_id\": 683397, \"to_node_id\": 683404, \"b1\": {\"x\": 412, \"y\": 4937}, \"b2\": {\"x\": 581, \"y\": 4931}}}}, \"681529\": {\"name\": \"rxn18355 [c]\", \"bigg_id\": \"rxn18355_c\", \"reversibility\": false, \"label_x\": 266, \"label_y\": 5481, \"gene_reaction_rule\": \"\", \"genes\": [], \"metabolites\": [{\"bigg_id\": \"cpd00001_c\", \"coefficient\": -1}, {\"bigg_id\": \"cpd00002_c\", \"coefficient\": -1}, {\"bigg_id\": \"cpd00008_c\", \"coefficient\": 1}, {\"bigg_id\": \"cpd00009_c\", \"coefficient\": 1}, {\"bigg_id\": \"cpd00099_c\", \"coefficient\": 1}, {\"bigg_id\": \"cpd00099_e\", \"coefficient\": -1}, {\"bigg_id\": \"cpd00067_c\", \"coefficient\": 1}], \"annotation\": {\"seed.compartment\": \"0:c;1:e\", \"seed.reaction\": \"rxn18355\"}, \"segments\": {\"9015\": {\"from_node_id\": 683406, \"to_node_id\": 683405, \"b1\": null, \"b2\": null}, \"9016\": {\"from_node_id\": 683407, \"to_node_id\": 683405, \"b1\": null, \"b2\": null}, \"9017\": {\"from_node_id\": 683406, \"to_node_id\": 683408, \"b1\": {\"x\": 280, \"y\": 5437}, \"b2\": {\"x\": 222, \"y\": 5415}}, \"9018\": {\"from_node_id\": 683406, \"to_node_id\": 683409, \"b1\": {\"x\": 280, \"y\": 5437}, \"b2\": {\"x\": 280, \"y\": 5366}}, \"9019\": {\"from_node_id\": 683407, \"to_node_id\": 683410, \"b1\": {\"x\": 408, \"y\": 5437}, \"b2\": {\"x\": 489, \"y\": 5392}}, \"9020\": {\"from_node_id\": 683407, \"to_node_id\": 683411, \"b1\": {\"x\": 412, \"y\": 5437}, \"b2\": {\"x\": 529, \"y\": 5415}}, \"9021\": {\"from_node_id\": 683407, \"to_node_id\": 683412, \"b1\": {\"x\": 412, \"y\": 5437}, \"b2\": {\"x\": 599, \"y\": 5436}}, \"9022\": {\"from_node_id\": 683406, \"to_node_id\": 683413, \"b1\": {\"x\": 284, \"y\": 5437}, \"b2\": {\"x\": 94, \"y\": 5437}}, \"9023\": {\"from_node_id\": 683407, \"to_node_id\": 683414, \"b1\": {\"x\": 412, \"y\": 5437}, \"b2\": {\"x\": 581, \"y\": 5431}}}}, \"681530\": {\"name\": \"rxn05150 [c]\", \"bigg_id\": \"rxn05150_c\", \"reversibility\": false, \"label_x\": 266, \"label_y\": 5981, \"gene_reaction_rule\": \"\", \"genes\": [], \"metabolites\": [{\"bigg_id\": \"cpd00001_c\", \"coefficient\": -1}, {\"bigg_id\": \"cpd00002_c\", \"coefficient\": -1}, {\"bigg_id\": \"cpd00008_c\", \"coefficient\": 1}, {\"bigg_id\": \"cpd00009_c\", \"coefficient\": 1}, {\"bigg_id\": \"cpd00034_c\", \"coefficient\": 1}, {\"bigg_id\": \"cpd00034_e\", \"coefficient\": -1}, {\"bigg_id\": \"cpd00067_c\", \"coefficient\": 1}], \"annotation\": {\"seed.compartment\": \"0:c;1:e\", \"seed.reaction\": \"rxn05150\"}, \"segments\": {\"9024\": {\"from_node_id\": 683416, \"to_node_id\": 683415, \"b1\": null, \"b2\": null}, \"9025\": {\"from_node_id\": 683417, \"to_node_id\": 683415, \"b1\": null, \"b2\": null}, \"9026\": {\"from_node_id\": 683416, \"to_node_id\": 683418, \"b1\": {\"x\": 280, \"y\": 5937}, \"b2\": {\"x\": 222, \"y\": 5915}}, \"9027\": {\"from_node_id\": 683416, \"to_node_id\": 683419, \"b1\": {\"x\": 280, \"y\": 5937}, \"b2\": {\"x\": 280, \"y\": 5866}}, \"9028\": {\"from_node_id\": 683417, \"to_node_id\": 683420, \"b1\": {\"x\": 408, \"y\": 5937}, \"b2\": {\"x\": 489, \"y\": 5892}}, \"9029\": {\"from_node_id\": 683417, \"to_node_id\": 683421, \"b1\": {\"x\": 412, \"y\": 5937}, \"b2\": {\"x\": 529, \"y\": 5915}}, \"9030\": {\"from_node_id\": 683417, \"to_node_id\": 683422, \"b1\": {\"x\": 412, \"y\": 5937}, \"b2\": {\"x\": 599, \"y\": 5936}}, \"9031\": {\"from_node_id\": 683416, \"to_node_id\": 683423, \"b1\": {\"x\": 284, \"y\": 5937}, \"b2\": {\"x\": 94, \"y\": 5937}}, \"9032\": {\"from_node_id\": 683417, \"to_node_id\": 683424, \"b1\": {\"x\": 412, \"y\": 5937}, \"b2\": {\"x\": 581, \"y\": 5931}}}}, \"681531\": {\"name\": \"rxn05153 [c]\", \"bigg_id\": \"rxn05153_c\", \"reversibility\": false, \"label_x\": 266, \"label_y\": 6481, \"gene_reaction_rule\": \"\", \"genes\": [], \"metabolites\": [{\"bigg_id\": \"cpd00001_c\", \"coefficient\": -1}, {\"bigg_id\": \"cpd00002_c\", \"coefficient\": -1}, {\"bigg_id\": \"cpd00008_c\", \"coefficient\": 1}, {\"bigg_id\": \"cpd00009_c\", \"coefficient\": 1}, {\"bigg_id\": \"cpd00048_c\", \"coefficient\": 1}, {\"bigg_id\": \"cpd00048_e\", \"coefficient\": -1}, {\"bigg_id\": \"cpd00067_c\", \"coefficient\": 1}], \"annotation\": {\"seed.compartment\": \"0:c;1:e\", \"seed.reaction\": \"rxn05153\"}, \"segments\": {\"9033\": {\"from_node_id\": 683426, \"to_node_id\": 683425, \"b1\": null, \"b2\": null}, \"9034\": {\"from_node_id\": 683427, \"to_node_id\": 683425, \"b1\": null, \"b2\": null}, \"9035\": {\"from_node_id\": 683426, \"to_node_id\": 683428, \"b1\": {\"x\": 280, \"y\": 6437}, \"b2\": {\"x\": 222, \"y\": 6415}}, \"9036\": {\"from_node_id\": 683426, \"to_node_id\": 683429, \"b1\": {\"x\": 280, \"y\": 6437}, \"b2\": {\"x\": 280, \"y\": 6366}}, \"9037\": {\"from_node_id\": 683427, \"to_node_id\": 683430, \"b1\": {\"x\": 408, \"y\": 6437}, \"b2\": {\"x\": 489, \"y\": 6392}}, \"9038\": {\"from_node_id\": 683427, \"to_node_id\": 683431, \"b1\": {\"x\": 412, \"y\": 6437}, \"b2\": {\"x\": 529, \"y\": 6415}}, \"9039\": {\"from_node_id\": 683427, \"to_node_id\": 683432, \"b1\": {\"x\": 412, \"y\": 6437}, \"b2\": {\"x\": 599, \"y\": 6436}}, \"9040\": {\"from_node_id\": 683426, \"to_node_id\": 683433, \"b1\": {\"x\": 284, \"y\": 6437}, \"b2\": {\"x\": 94, \"y\": 6437}}, \"9041\": {\"from_node_id\": 683427, \"to_node_id\": 683434, \"b1\": {\"x\": 412, \"y\": 6437}, \"b2\": {\"x\": 581, \"y\": 6431}}}}, \"681532\": {\"name\": \"rxn10481 [c]\", \"bigg_id\": \"rxn10481_c\", \"reversibility\": false, \"label_x\": 266, \"label_y\": 6981, \"gene_reaction_rule\": \"\", \"genes\": [], \"metabolites\": [{\"bigg_id\": \"cpd00001_c\", \"coefficient\": -1}, {\"bigg_id\": \"cpd00002_c\", \"coefficient\": -1}, {\"bigg_id\": \"cpd00008_c\", \"coefficient\": 1}, {\"bigg_id\": \"cpd00009_c\", \"coefficient\": 1}, {\"bigg_id\": \"cpd00058_c\", \"coefficient\": 1}, {\"bigg_id\": \"cpd00058_e\", \"coefficient\": -1}, {\"bigg_id\": \"cpd00067_c\", \"coefficient\": 1}], \"annotation\": {\"seed.compartment\": \"0:c;1:e\", \"seed.reaction\": \"rxn10481\"}, \"segments\": {\"9042\": {\"from_node_id\": 683436, \"to_node_id\": 683435, \"b1\": null, \"b2\": null}, \"9043\": {\"from_node_id\": 683437, \"to_node_id\": 683435, \"b1\": null, \"b2\": null}, \"9044\": {\"from_node_id\": 683436, \"to_node_id\": 683438, \"b1\": {\"x\": 280, \"y\": 6937}, \"b2\": {\"x\": 222, \"y\": 6915}}, \"9045\": {\"from_node_id\": 683436, \"to_node_id\": 683439, \"b1\": {\"x\": 280, \"y\": 6937}, \"b2\": {\"x\": 280, \"y\": 6866}}, \"9046\": {\"from_node_id\": 683437, \"to_node_id\": 683440, \"b1\": {\"x\": 408, \"y\": 6937}, \"b2\": {\"x\": 489, \"y\": 6892}}, \"9047\": {\"from_node_id\": 683437, \"to_node_id\": 683441, \"b1\": {\"x\": 412, \"y\": 6937}, \"b2\": {\"x\": 529, \"y\": 6915}}, \"9048\": {\"from_node_id\": 683437, \"to_node_id\": 683442, \"b1\": {\"x\": 412, \"y\": 6937}, \"b2\": {\"x\": 599, \"y\": 6936}}, \"9049\": {\"from_node_id\": 683436, \"to_node_id\": 683443, \"b1\": {\"x\": 284, \"y\": 6937}, \"b2\": {\"x\": 94, \"y\": 6937}}, \"9050\": {\"from_node_id\": 683437, \"to_node_id\": 683444, \"b1\": {\"x\": 412, \"y\": 6937}, \"b2\": {\"x\": 581, \"y\": 6931}}}}, \"681533\": {\"name\": \"rxn05555 [c]\", \"bigg_id\": \"rxn05555_c\", \"reversibility\": false, \"label_x\": 266, \"label_y\": 7481, \"gene_reaction_rule\": \"\", \"genes\": [], \"metabolites\": [{\"bigg_id\": \"cpd00001_c\", \"coefficient\": -1}, {\"bigg_id\": \"cpd00002_c\", \"coefficient\": -1}, {\"bigg_id\": \"cpd00008_c\", \"coefficient\": 1}, {\"bigg_id\": \"cpd00009_c\", \"coefficient\": 1}, {\"bigg_id\": \"cpd10515_c\", \"coefficient\": 1}, {\"bigg_id\": \"cpd10515_e\", \"coefficient\": -1}, {\"bigg_id\": \"cpd00067_c\", \"coefficient\": 1}], \"annotation\": {\"seed.compartment\": \"0:c;1:e\", \"seed.reaction\": \"rxn05555\"}, \"segments\": {\"9051\": {\"from_node_id\": 683446, \"to_node_id\": 683445, \"b1\": null, \"b2\": null}, \"9052\": {\"from_node_id\": 683447, \"to_node_id\": 683445, \"b1\": null, \"b2\": null}, \"9053\": {\"from_node_id\": 683446, \"to_node_id\": 683448, \"b1\": {\"x\": 280, \"y\": 7437}, \"b2\": {\"x\": 222, \"y\": 7415}}, \"9054\": {\"from_node_id\": 683446, \"to_node_id\": 683449, \"b1\": {\"x\": 280, \"y\": 7437}, \"b2\": {\"x\": 280, \"y\": 7366}}, \"9055\": {\"from_node_id\": 683447, \"to_node_id\": 683450, \"b1\": {\"x\": 408, \"y\": 7437}, \"b2\": {\"x\": 489, \"y\": 7392}}, \"9056\": {\"from_node_id\": 683447, \"to_node_id\": 683451, \"b1\": {\"x\": 412, \"y\": 7437}, \"b2\": {\"x\": 529, \"y\": 7415}}, \"9057\": {\"from_node_id\": 683447, \"to_node_id\": 683452, \"b1\": {\"x\": 412, \"y\": 7437}, \"b2\": {\"x\": 599, \"y\": 7436}}, \"9058\": {\"from_node_id\": 683446, \"to_node_id\": 683453, \"b1\": {\"x\": 284, \"y\": 7437}, \"b2\": {\"x\": 94, \"y\": 7437}}, \"9059\": {\"from_node_id\": 683447, \"to_node_id\": 683454, \"b1\": {\"x\": 412, \"y\": 7437}, \"b2\": {\"x\": 581, \"y\": 7431}}}}, \"681534\": {\"name\": \"rxn08762 [c]\", \"bigg_id\": \"rxn08762_c\", \"reversibility\": false, \"label_x\": 266, \"label_y\": 7981, \"gene_reaction_rule\": \"\", \"genes\": [], \"metabolites\": [{\"bigg_id\": \"cpd00001_c\", \"coefficient\": -1}, {\"bigg_id\": \"cpd00002_c\", \"coefficient\": -1}, {\"bigg_id\": \"cpd00008_c\", \"coefficient\": 1}, {\"bigg_id\": \"cpd00009_c\", \"coefficient\": 1}, {\"bigg_id\": \"cpd00205_c\", \"coefficient\": 1}, {\"bigg_id\": \"cpd00205_e\", \"coefficient\": -1}, {\"bigg_id\": \"cpd00067_c\", \"coefficient\": 1}], \"annotation\": {\"seed.compartment\": \"0:c;1:e\", \"seed.reaction\": \"rxn08762\"}, \"segments\": {\"9060\": {\"from_node_id\": 683456, \"to_node_id\": 683455, \"b1\": null, \"b2\": null}, \"9061\": {\"from_node_id\": 683457, \"to_node_id\": 683455, \"b1\": null, \"b2\": null}, \"9062\": {\"from_node_id\": 683456, \"to_node_id\": 683458, \"b1\": {\"x\": 280, \"y\": 7937}, \"b2\": {\"x\": 222, \"y\": 7915}}, \"9063\": {\"from_node_id\": 683456, \"to_node_id\": 683459, \"b1\": {\"x\": 280, \"y\": 7937}, \"b2\": {\"x\": 280, \"y\": 7866}}, \"9064\": {\"from_node_id\": 683457, \"to_node_id\": 683460, \"b1\": {\"x\": 408, \"y\": 7937}, \"b2\": {\"x\": 489, \"y\": 7892}}, \"9065\": {\"from_node_id\": 683457, \"to_node_id\": 683461, \"b1\": {\"x\": 412, \"y\": 7937}, \"b2\": {\"x\": 529, \"y\": 7915}}, \"9066\": {\"from_node_id\": 683457, \"to_node_id\": 683462, \"b1\": {\"x\": 412, \"y\": 7937}, \"b2\": {\"x\": 599, \"y\": 7936}}, \"9067\": {\"from_node_id\": 683456, \"to_node_id\": 683463, \"b1\": {\"x\": 284, \"y\": 7937}, \"b2\": {\"x\": 94, \"y\": 7937}}, \"9068\": {\"from_node_id\": 683457, \"to_node_id\": 683464, \"b1\": {\"x\": 412, \"y\": 7937}, \"b2\": {\"x\": 581, \"y\": 7931}}}}, \"681535\": {\"name\": \"rxn05166 [c]\", \"bigg_id\": \"rxn05166_c\", \"reversibility\": false, \"label_x\": 266, \"label_y\": 8481, \"gene_reaction_rule\": \"\", \"genes\": [], \"metabolites\": [{\"bigg_id\": \"cpd00001_c\", \"coefficient\": -1}, {\"bigg_id\": \"cpd00002_c\", \"coefficient\": -1}, {\"bigg_id\": \"cpd00008_c\", \"coefficient\": 1}, {\"bigg_id\": \"cpd00009_c\", \"coefficient\": 1}, {\"bigg_id\": \"cpd00149_c\", \"coefficient\": 1}, {\"bigg_id\": \"cpd00149_e\", \"coefficient\": -1}, {\"bigg_id\": \"cpd00067_c\", \"coefficient\": 1}], \"annotation\": {\"seed.compartment\": \"0:c;1:e\", \"seed.reaction\": \"rxn05166\"}, \"segments\": {\"9069\": {\"from_node_id\": 683466, \"to_node_id\": 683465, \"b1\": null, \"b2\": null}, \"9070\": {\"from_node_id\": 683467, \"to_node_id\": 683465, \"b1\": null, \"b2\": null}, \"9071\": {\"from_node_id\": 683466, \"to_node_id\": 683468, \"b1\": {\"x\": 280, \"y\": 8437}, \"b2\": {\"x\": 222, \"y\": 8415}}, \"9072\": {\"from_node_id\": 683466, \"to_node_id\": 683469, \"b1\": {\"x\": 280, \"y\": 8437}, \"b2\": {\"x\": 280, \"y\": 8366}}, \"9073\": {\"from_node_id\": 683467, \"to_node_id\": 683470, \"b1\": {\"x\": 408, \"y\": 8437}, \"b2\": {\"x\": 489, \"y\": 8392}}, \"9074\": {\"from_node_id\": 683467, \"to_node_id\": 683471, \"b1\": {\"x\": 412, \"y\": 8437}, \"b2\": {\"x\": 529, \"y\": 8415}}, \"9075\": {\"from_node_id\": 683467, \"to_node_id\": 683472, \"b1\": {\"x\": 412, \"y\": 8437}, \"b2\": {\"x\": 599, \"y\": 8436}}, \"9076\": {\"from_node_id\": 683466, \"to_node_id\": 683473, \"b1\": {\"x\": 284, \"y\": 8437}, \"b2\": {\"x\": 94, \"y\": 8437}}, \"9077\": {\"from_node_id\": 683467, \"to_node_id\": 683474, \"b1\": {\"x\": 412, \"y\": 8437}, \"b2\": {\"x\": 581, \"y\": 8431}}}}}, \"nodes\": {\"683128\": {\"node_type\": \"metabolite\", \"x\": 35, \"y\": 2437, \"bigg_id\": \"cpd00051_e\", \"name\": \"L-Arginine [e]\", \"label_x\": -31, \"label_y\": 2489, \"node_is_primary\": true}, \"683130\": {\"node_type\": \"multimarker\", \"x\": 326, \"y\": 2437}, \"683131\": {\"node_type\": \"midmarker\", \"x\": 346, \"y\": 2437}, \"683132\": {\"node_type\": \"multimarker\", \"x\": 366, \"y\": 2437}, \"683133\": {\"node_type\": \"metabolite\", \"x\": 198, \"y\": 2365, \"bigg_id\": \"cpd00001_c\", \"name\": \"H2O [c]\", \"label_x\": 144, \"label_y\": 2345, \"node_is_primary\": false}, \"683134\": {\"node_type\": \"metabolite\", \"x\": 307, \"y\": 2322, \"bigg_id\": \"cpd00002_c\", \"name\": \"ATP [c]\", \"label_x\": 270, \"label_y\": 2296, \"node_is_primary\": false}, \"683135\": {\"node_type\": \"metabolite\", \"x\": 471, \"y\": 2335, \"bigg_id\": \"cpd00008_c\", \"name\": \"ADP [c]\", \"label_x\": 414, \"label_y\": 2317, \"node_is_primary\": false}, \"683136\": {\"node_type\": \"metabolite\", \"x\": 563, \"y\": 2353, \"bigg_id\": \"cpd00009_c\", \"name\": \"Phosphate [c]\", \"label_x\": 509, \"label_y\": 2333, \"node_is_primary\": false}, \"683137\": {\"node_type\": \"metabolite\", \"x\": 686, \"y\": 2437, \"bigg_id\": \"cpd00051_c\", \"name\": \"L-Arginine [c]\", \"label_x\": 632, \"label_y\": 2477, \"node_is_primary\": true}, \"683138\": {\"node_type\": \"metabolite\", \"x\": 661, \"y\": 2341, \"bigg_id\": \"cpd00067_c\", \"name\": \"H+ [c]\", \"label_x\": 639, \"label_y\": 2317, \"node_is_primary\": false}, \"683146\": {\"node_type\": \"metabolite\", \"x\": 1129, \"y\": 2442, \"bigg_id\": \"cpd00051_e\", \"name\": \"L-Arginine [e]\", \"label_x\": 1075, \"label_y\": 2482, \"node_is_primary\": true}, \"683147\": {\"node_type\": \"multimarker\", \"x\": 1413, \"y\": 2442}, \"683148\": {\"node_type\": \"midmarker\", \"x\": 1393, \"y\": 2442}, \"683149\": {\"node_type\": \"multimarker\", \"x\": 1373, \"y\": 2442}, \"683150\": {\"node_type\": \"metabolite\", \"x\": 1642, \"y\": 2440, \"bigg_id\": \"cpd00051_c\", \"name\": \"L-Arginine [c]\", \"label_x\": 1588, \"label_y\": 2480, \"node_is_primary\": true}, \"683151\": {\"node_type\": \"metabolite\", \"x\": 1501, \"y\": 2380, \"bigg_id\": \"cpd00067_c\", \"name\": \"H+ [c]\", \"label_x\": 1465, \"label_y\": 2337, \"node_is_primary\": false}, \"683152\": {\"node_type\": \"metabolite\", \"x\": 1255, \"y\": 2486, \"bigg_id\": \"cpd00067_e\", \"name\": \"H+ [e]\", \"label_x\": 1201, \"label_y\": 2526, \"node_is_primary\": false}, \"683157\": {\"node_type\": \"metabolite\", \"x\": 2652, \"y\": 2444, \"bigg_id\": \"cpd00051_e\", \"name\": \"L-Arginine [e]\", \"label_x\": 2598, \"label_y\": 2484, \"node_is_primary\": true}, \"683158\": {\"node_type\": \"multimarker\", \"x\": 2847, \"y\": 2444}, \"683159\": {\"node_type\": \"midmarker\", \"x\": 2827, \"y\": 2444}, \"683160\": {\"node_type\": \"multimarker\", \"x\": 2807, \"y\": 2444}, \"683161\": {\"node_type\": \"metabolite\", \"x\": 3002, \"y\": 2444, \"bigg_id\": \"cpd00051_c\", \"name\": \"L-Arginine [c]\", \"label_x\": 2948, \"label_y\": 2484, \"node_is_primary\": true}, \"683162\": {\"node_type\": \"metabolite\", \"x\": 1879, \"y\": 2442, \"bigg_id\": \"cpd00051_e\", \"name\": \"L-Arginine [e]\", \"label_x\": 1825, \"label_y\": 2482, \"node_is_primary\": true}, \"683163\": {\"node_type\": \"multimarker\", \"x\": 2128, \"y\": 2439}, \"683164\": {\"node_type\": \"midmarker\", \"x\": 2148, \"y\": 2439}, \"683165\": {\"node_type\": \"multimarker\", \"x\": 2168, \"y\": 2439}, \"683166\": {\"node_type\": \"metabolite\", \"x\": 2386, \"y\": 2438, \"bigg_id\": \"cpd00051_c\", \"name\": \"L-Arginine [c]\", \"label_x\": 2332, \"label_y\": 2478, \"node_is_primary\": true}, \"683167\": {\"node_type\": \"metabolite\", \"x\": 2282, \"y\": 2362, \"bigg_id\": \"cpd00067_c\", \"name\": \"H+ [c]\", \"label_x\": 2245, \"label_y\": 2327, \"node_is_primary\": false}, \"683168\": {\"node_type\": \"metabolite\", \"x\": 2032, \"y\": 2356, \"bigg_id\": \"cpd00067_e\", \"name\": \"H+ [e]\", \"label_x\": 1998, \"label_y\": 2316, \"node_is_primary\": false}, \"683169\": {\"node_type\": \"metabolite\", \"x\": 3400, \"y\": 2449, \"bigg_id\": \"cpd00051_e\", \"name\": \"L-Arginine [e]\", \"label_x\": 3346, \"label_y\": 2489, \"node_is_primary\": true}, \"683170\": {\"node_type\": \"multimarker\", \"x\": 3555, \"y\": 2449}, \"683171\": {\"node_type\": \"midmarker\", \"x\": 3575, \"y\": 2449}, \"683172\": {\"node_type\": \"multimarker\", \"x\": 3595, \"y\": 2449}, \"683173\": {\"node_type\": \"metabolite\", \"x\": 3750, \"y\": 2449, \"bigg_id\": \"cpd00051_c\", \"name\": \"L-Arginine [c]\", \"label_x\": 3696, \"label_y\": 2489, \"node_is_primary\": true}, \"683174\": {\"node_type\": \"metabolite\", \"x\": 3470, \"y\": 2529, \"bigg_id\": \"cpd00064_c\", \"name\": \"Ornithine [c]\", \"label_x\": 3416, \"label_y\": 2569, \"node_is_primary\": false}, \"683175\": {\"node_type\": \"metabolite\", \"x\": 3680, \"y\": 2529, \"bigg_id\": \"cpd00064_e\", \"name\": \"Ornithine [e]\", \"label_x\": 3626, \"label_y\": 2569, \"node_is_primary\": false}, \"683176\": {\"node_type\": \"midmarker\", \"x\": 2827, \"y\": 2944}, \"683177\": {\"node_type\": \"multimarker\", \"x\": 2847, \"y\": 2944}, \"683178\": {\"node_type\": \"multimarker\", \"x\": 2807, \"y\": 2944}, \"683179\": {\"node_type\": \"metabolite\", \"x\": 3002, \"y\": 2944, \"bigg_id\": \"cpd00030_e\", \"name\": \"Mn2+ [e]\", \"label_x\": 2948, \"label_y\": 2984, \"node_is_primary\": true}, \"683180\": {\"node_type\": \"metabolite\", \"x\": 2652, \"y\": 2944, \"bigg_id\": \"cpd00030_c\", \"name\": \"Mn2+ [c]\", \"label_x\": 2598, \"label_y\": 2984, \"node_is_primary\": true}, \"683181\": {\"node_type\": \"midmarker\", \"x\": 2827, \"y\": 3444}, \"683182\": {\"node_type\": \"multimarker\", \"x\": 2847, \"y\": 3444}, \"683183\": {\"node_type\": \"multimarker\", \"x\": 2807, \"y\": 3444}, \"683184\": {\"node_type\": \"metabolite\", \"x\": 3002, \"y\": 3444, \"bigg_id\": \"cpd00009_c\", \"name\": \"Phosphate [c]\", \"label_x\": 2948, \"label_y\": 3484, \"node_is_primary\": true}, \"683185\": {\"node_type\": \"metabolite\", \"x\": 2652, \"y\": 3444, \"bigg_id\": \"cpd00009_e\", \"name\": \"Phosphate [e]\", \"label_x\": 2598, \"label_y\": 3484, \"node_is_primary\": true}, \"683186\": {\"node_type\": \"midmarker\", \"x\": 2827, \"y\": 3944}, \"683187\": {\"node_type\": \"multimarker\", \"x\": 2847, \"y\": 3944}, \"683188\": {\"node_type\": \"multimarker\", \"x\": 2807, \"y\": 3944}, \"683189\": {\"node_type\": \"metabolite\", \"x\": 3002, \"y\": 3944, \"bigg_id\": \"cpd00254_c\", \"name\": \"Mg [c]\", \"label_x\": 2948, \"label_y\": 3984, \"node_is_primary\": true}, \"683190\": {\"node_type\": \"metabolite\", \"x\": 2652, \"y\": 3944, \"bigg_id\": \"cpd00254_e\", \"name\": \"Mg [e]\", \"label_x\": 2598, \"label_y\": 3984, \"node_is_primary\": true}, \"683191\": {\"node_type\": \"midmarker\", \"x\": 2827, \"y\": 4444}, \"683192\": {\"node_type\": \"multimarker\", \"x\": 2847, \"y\": 4444}, \"683193\": {\"node_type\": \"multimarker\", \"x\": 2807, \"y\": 4444}, \"683194\": {\"node_type\": \"metabolite\", \"x\": 3002, \"y\": 4444, \"bigg_id\": \"cpd00063_c\", \"name\": \"Ca2+ [c]\", \"label_x\": 2948, \"label_y\": 4484, \"node_is_primary\": true}, \"683195\": {\"node_type\": \"metabolite\", \"x\": 2652, \"y\": 4444, \"bigg_id\": \"cpd00063_e\", \"name\": \"Ca2+ [e]\", \"label_x\": 2598, \"label_y\": 4484, \"node_is_primary\": true}, \"683196\": {\"node_type\": \"midmarker\", \"x\": 2827, \"y\": 4944}, \"683197\": {\"node_type\": \"multimarker\", \"x\": 2847, \"y\": 4944}, \"683198\": {\"node_type\": \"multimarker\", \"x\": 2807, \"y\": 4944}, \"683199\": {\"node_type\": \"metabolite\", \"x\": 3002, \"y\": 4944, \"bigg_id\": \"cpd10516_e\", \"name\": \"Fe+3 [e]\", \"label_x\": 2948, \"label_y\": 4984, \"node_is_primary\": true}, \"683200\": {\"node_type\": \"metabolite\", \"x\": 2652, \"y\": 4944, \"bigg_id\": \"cpd10516_c\", \"name\": \"Fe+3 [c]\", \"label_x\": 2598, \"label_y\": 4984, \"node_is_primary\": true}, \"683201\": {\"node_type\": \"midmarker\", \"x\": 2827, \"y\": 5444}, \"683202\": {\"node_type\": \"multimarker\", \"x\": 2847, \"y\": 5444}, \"683203\": {\"node_type\": \"multimarker\", \"x\": 2807, \"y\": 5444}, \"683204\": {\"node_type\": \"metabolite\", \"x\": 3002, \"y\": 5444, \"bigg_id\": \"cpd00099_c\", \"name\": \"Cl- [c]\", \"label_x\": 2948, \"label_y\": 5484, \"node_is_primary\": true}, \"683205\": {\"node_type\": \"metabolite\", \"x\": 2652, \"y\": 5444, \"bigg_id\": \"cpd00099_e\", \"name\": \"Cl- [e]\", \"label_x\": 2598, \"label_y\": 5484, \"node_is_primary\": true}, \"683206\": {\"node_type\": \"midmarker\", \"x\": 2827, \"y\": 5944}, \"683207\": {\"node_type\": \"multimarker\", \"x\": 2847, \"y\": 5944}, \"683208\": {\"node_type\": \"multimarker\", \"x\": 2807, \"y\": 5944}, \"683209\": {\"node_type\": \"metabolite\", \"x\": 3002, \"y\": 5944, \"bigg_id\": \"cpd00034_c\", \"name\": \"Zn2+ [c]\", \"label_x\": 2948, \"label_y\": 5984, \"node_is_primary\": true}, \"683210\": {\"node_type\": \"metabolite\", \"x\": 2652, \"y\": 5944, \"bigg_id\": \"cpd00034_e\", \"name\": \"Zn2+ [e]\", \"label_x\": 2598, \"label_y\": 5984, \"node_is_primary\": true}, \"683211\": {\"node_type\": \"midmarker\", \"x\": 2827, \"y\": 6444}, \"683212\": {\"node_type\": \"multimarker\", \"x\": 2847, \"y\": 6444}, \"683213\": {\"node_type\": \"multimarker\", \"x\": 2807, \"y\": 6444}, \"683214\": {\"node_type\": \"metabolite\", \"x\": 3002, \"y\": 6444, \"bigg_id\": \"cpd00048_e\", \"name\": \"Sulfate [e]\", \"label_x\": 2948, \"label_y\": 6484, \"node_is_primary\": true}, \"683215\": {\"node_type\": \"metabolite\", \"x\": 2652, \"y\": 6444, \"bigg_id\": \"cpd00048_c\", \"name\": \"Sulfate [c]\", \"label_x\": 2598, \"label_y\": 6484, \"node_is_primary\": true}, \"683216\": {\"node_type\": \"midmarker\", \"x\": 2827, \"y\": 6944}, \"683217\": {\"node_type\": \"multimarker\", \"x\": 2847, \"y\": 6944}, \"683218\": {\"node_type\": \"multimarker\", \"x\": 2807, \"y\": 6944}, \"683219\": {\"node_type\": \"metabolite\", \"x\": 3002, \"y\": 6944, \"bigg_id\": \"cpd00058_e\", \"name\": \"Cu2+ [e]\", \"label_x\": 2948, \"label_y\": 6984, \"node_is_primary\": true}, \"683220\": {\"node_type\": \"metabolite\", \"x\": 2652, \"y\": 6944, \"bigg_id\": \"cpd00058_c\", \"name\": \"Cu2+ [c]\", \"label_x\": 2598, \"label_y\": 6984, \"node_is_primary\": true}, \"683221\": {\"node_type\": \"midmarker\", \"x\": 2827, \"y\": 7444}, \"683222\": {\"node_type\": \"multimarker\", \"x\": 2847, \"y\": 7444}, \"683223\": {\"node_type\": \"multimarker\", \"x\": 2807, \"y\": 7444}, \"683224\": {\"node_type\": \"metabolite\", \"x\": 3002, \"y\": 7444, \"bigg_id\": \"cpd10515_c\", \"name\": \"Fe+2 [c]\", \"label_x\": 2948, \"label_y\": 7484, \"node_is_primary\": true}, \"683225\": {\"node_type\": \"metabolite\", \"x\": 2652, \"y\": 7444, \"bigg_id\": \"cpd10515_e\", \"name\": \"Fe+2 [e]\", \"label_x\": 2598, \"label_y\": 7484, \"node_is_primary\": true}, \"683226\": {\"node_type\": \"midmarker\", \"x\": 2827, \"y\": 7944}, \"683227\": {\"node_type\": \"multimarker\", \"x\": 2847, \"y\": 7944}, \"683228\": {\"node_type\": \"multimarker\", \"x\": 2807, \"y\": 7944}, \"683229\": {\"node_type\": \"metabolite\", \"x\": 3002, \"y\": 7944, \"bigg_id\": \"cpd00205_e\", \"name\": \"K+ [e]\", \"label_x\": 2948, \"label_y\": 7984, \"node_is_primary\": true}, \"683230\": {\"node_type\": \"metabolite\", \"x\": 2652, \"y\": 7944, \"bigg_id\": \"cpd00205_c\", \"name\": \"K+ [c]\", \"label_x\": 2598, \"label_y\": 7984, \"node_is_primary\": true}, \"683231\": {\"node_type\": \"midmarker\", \"x\": 2827, \"y\": 8444}, \"683232\": {\"node_type\": \"multimarker\", \"x\": 2847, \"y\": 8444}, \"683233\": {\"node_type\": \"multimarker\", \"x\": 2807, \"y\": 8444}, \"683234\": {\"node_type\": \"metabolite\", \"x\": 3002, \"y\": 8444, \"bigg_id\": \"cpd00149_c\", \"name\": \"Co2+ [c]\", \"label_x\": 2948, \"label_y\": 8484, \"node_is_primary\": true}, \"683235\": {\"node_type\": \"metabolite\", \"x\": 2652, \"y\": 8444, \"bigg_id\": \"cpd00149_e\", \"name\": \"Co2+ [e]\", \"label_x\": 2598, \"label_y\": 8484, \"node_is_primary\": true}, \"683236\": {\"node_type\": \"midmarker\", \"x\": 1393, \"y\": 2942}, \"683237\": {\"node_type\": \"multimarker\", \"x\": 1413, \"y\": 2942}, \"683238\": {\"node_type\": \"multimarker\", \"x\": 1373, \"y\": 2942}, \"683239\": {\"node_type\": \"metabolite\", \"x\": 1642, \"y\": 2940, \"bigg_id\": \"cpd00030_c\", \"name\": \"Mn2+ [c]\", \"label_x\": 1588, \"label_y\": 2980, \"node_is_primary\": true}, \"683240\": {\"node_type\": \"metabolite\", \"x\": 1129, \"y\": 2942, \"bigg_id\": \"cpd00030_e\", \"name\": \"Mn2+ [e]\", \"label_x\": 1075, \"label_y\": 2982, \"node_is_primary\": true}, \"683241\": {\"node_type\": \"metabolite\", \"x\": 1501, \"y\": 2880, \"bigg_id\": \"cpd00067_c\", \"name\": \"H+ [c]\", \"label_x\": 1465, \"label_y\": 2837, \"node_is_primary\": false}, \"683242\": {\"node_type\": \"metabolite\", \"x\": 1255, \"y\": 2986, \"bigg_id\": \"cpd00067_e\", \"name\": \"H+ [e]\", \"label_x\": 1201, \"label_y\": 3026, \"node_is_primary\": false}, \"683243\": {\"node_type\": \"midmarker\", \"x\": 1393, \"y\": 3942}, \"683244\": {\"node_type\": \"multimarker\", \"x\": 1413, \"y\": 3942}, \"683245\": {\"node_type\": \"multimarker\", \"x\": 1373, \"y\": 3942}, \"683246\": {\"node_type\": \"metabolite\", \"x\": 1642, \"y\": 3940, \"bigg_id\": \"cpd00254_e\", \"name\": \"Mg [e]\", \"label_x\": 1588, \"label_y\": 3980, \"node_is_primary\": true}, \"683247\": {\"node_type\": \"metabolite\", \"x\": 1129, \"y\": 3942, \"bigg_id\": \"cpd00254_c\", \"name\": \"Mg [c]\", \"label_x\": 1075, \"label_y\": 3982, \"node_is_primary\": true}, \"683248\": {\"node_type\": \"metabolite\", \"x\": 1501, \"y\": 3880, \"bigg_id\": \"cpd00254_c\", \"name\": \"Mg [c]\", \"label_x\": 1465, \"label_y\": 3837, \"node_is_primary\": false}, \"683249\": {\"node_type\": \"metabolite\", \"x\": 1255, \"y\": 3986, \"bigg_id\": \"cpd00254_e\", \"name\": \"Mg [e]\", \"label_x\": 1201, \"label_y\": 4026, \"node_is_primary\": false}, \"683250\": {\"node_type\": \"midmarker\", \"x\": 1393, \"y\": 4442}, \"683251\": {\"node_type\": \"multimarker\", \"x\": 1413, \"y\": 4442}, \"683252\": {\"node_type\": \"multimarker\", \"x\": 1373, \"y\": 4442}, \"683253\": {\"node_type\": \"metabolite\", \"x\": 1642, \"y\": 4440, \"bigg_id\": \"cpd00063_c\", \"name\": \"Ca2+ [c]\", \"label_x\": 1588, \"label_y\": 4480, \"node_is_primary\": true}, \"683254\": {\"node_type\": \"metabolite\", \"x\": 1129, \"y\": 4442, \"bigg_id\": \"cpd00063_e\", \"name\": \"Ca2+ [e]\", \"label_x\": 1075, \"label_y\": 4482, \"node_is_primary\": true}, \"683255\": {\"node_type\": \"metabolite\", \"x\": 1501, \"y\": 4380, \"bigg_id\": \"cpd00067_c\", \"name\": \"H+ [c]\", \"label_x\": 1465, \"label_y\": 4337, \"node_is_primary\": false}, \"683256\": {\"node_type\": \"metabolite\", \"x\": 1255, \"y\": 4486, \"bigg_id\": \"cpd00067_e\", \"name\": \"H+ [e]\", \"label_x\": 1201, \"label_y\": 4526, \"node_is_primary\": false}, \"683257\": {\"node_type\": \"midmarker\", \"x\": 1393, \"y\": 4942}, \"683258\": {\"node_type\": \"multimarker\", \"x\": 1413, \"y\": 4942}, \"683259\": {\"node_type\": \"multimarker\", \"x\": 1373, \"y\": 4942}, \"683260\": {\"node_type\": \"metabolite\", \"x\": 1642, \"y\": 4940, \"bigg_id\": \"cpd10516_e\", \"name\": \"Fe+3 [e]\", \"label_x\": 1588, \"label_y\": 4980, \"node_is_primary\": true}, \"683261\": {\"node_type\": \"metabolite\", \"x\": 1129, \"y\": 4942, \"bigg_id\": \"cpd10516_c\", \"name\": \"Fe+3 [c]\", \"label_x\": 1075, \"label_y\": 4982, \"node_is_primary\": true}, \"683262\": {\"node_type\": \"metabolite\", \"x\": 1501, \"y\": 4880, \"bigg_id\": \"cpd10516_c\", \"name\": \"Fe+3 [c]\", \"label_x\": 1465, \"label_y\": 4837, \"node_is_primary\": false}, \"683263\": {\"node_type\": \"metabolite\", \"x\": 1255, \"y\": 4986, \"bigg_id\": \"cpd10516_e\", \"name\": \"Fe+3 [e]\", \"label_x\": 1201, \"label_y\": 5026, \"node_is_primary\": false}, \"683264\": {\"node_type\": \"midmarker\", \"x\": 1393, \"y\": 5442}, \"683265\": {\"node_type\": \"multimarker\", \"x\": 1413, \"y\": 5442}, \"683266\": {\"node_type\": \"multimarker\", \"x\": 1373, \"y\": 5442}, \"683267\": {\"node_type\": \"metabolite\", \"x\": 1642, \"y\": 5440, \"bigg_id\": \"cpd00067_c\", \"name\": \"H+ [c]\", \"label_x\": 1588, \"label_y\": 5480, \"node_is_primary\": true}, \"683268\": {\"node_type\": \"metabolite\", \"x\": 1129, \"y\": 5442, \"bigg_id\": \"cpd00067_e\", \"name\": \"H+ [e]\", \"label_x\": 1075, \"label_y\": 5482, \"node_is_primary\": true}, \"683269\": {\"node_type\": \"metabolite\", \"x\": 1501, \"y\": 5380, \"bigg_id\": \"cpd00067_e\", \"name\": \"H+ [e]\", \"label_x\": 1465, \"label_y\": 5337, \"node_is_primary\": false}, \"683270\": {\"node_type\": \"metabolite\", \"x\": 1255, \"y\": 5486, \"bigg_id\": \"cpd00067_c\", \"name\": \"H+ [c]\", \"label_x\": 1201, \"label_y\": 5526, \"node_is_primary\": false}, \"683271\": {\"node_type\": \"midmarker\", \"x\": 1393, \"y\": 5942}, \"683272\": {\"node_type\": \"multimarker\", \"x\": 1413, \"y\": 5942}, \"683273\": {\"node_type\": \"multimarker\", \"x\": 1373, \"y\": 5942}, \"683274\": {\"node_type\": \"metabolite\", \"x\": 1642, \"y\": 5940, \"bigg_id\": \"cpd00034_c\", \"name\": \"Zn2+ [c]\", \"label_x\": 1588, \"label_y\": 5980, \"node_is_primary\": true}, \"683275\": {\"node_type\": \"metabolite\", \"x\": 1129, \"y\": 5942, \"bigg_id\": \"cpd00034_e\", \"name\": \"Zn2+ [e]\", \"label_x\": 1075, \"label_y\": 5982, \"node_is_primary\": true}, \"683276\": {\"node_type\": \"metabolite\", \"x\": 1501, \"y\": 5880, \"bigg_id\": \"cpd00067_c\", \"name\": \"H+ [c]\", \"label_x\": 1465, \"label_y\": 5837, \"node_is_primary\": false}, \"683277\": {\"node_type\": \"metabolite\", \"x\": 1255, \"y\": 5986, \"bigg_id\": \"cpd00067_e\", \"name\": \"H+ [e]\", \"label_x\": 1201, \"label_y\": 6026, \"node_is_primary\": false}, \"683278\": {\"node_type\": \"midmarker\", \"x\": 1393, \"y\": 6942}, \"683279\": {\"node_type\": \"multimarker\", \"x\": 1413, \"y\": 6942}, \"683280\": {\"node_type\": \"multimarker\", \"x\": 1373, \"y\": 6942}, \"683281\": {\"node_type\": \"metabolite\", \"x\": 1642, \"y\": 6940, \"bigg_id\": \"cpd00058_c\", \"name\": \"Cu2+ [c]\", \"label_x\": 1588, \"label_y\": 6980, \"node_is_primary\": true}, \"683282\": {\"node_type\": \"metabolite\", \"x\": 1129, \"y\": 6942, \"bigg_id\": \"cpd00058_e\", \"name\": \"Cu2+ [e]\", \"label_x\": 1075, \"label_y\": 6982, \"node_is_primary\": true}, \"683283\": {\"node_type\": \"metabolite\", \"x\": 1501, \"y\": 6880, \"bigg_id\": \"cpd00067_c\", \"name\": \"H+ [c]\", \"label_x\": 1465, \"label_y\": 6837, \"node_is_primary\": false}, \"683284\": {\"node_type\": \"metabolite\", \"x\": 1255, \"y\": 6986, \"bigg_id\": \"cpd00067_e\", \"name\": \"H+ [e]\", \"label_x\": 1201, \"label_y\": 7026, \"node_is_primary\": false}, \"683285\": {\"node_type\": \"midmarker\", \"x\": 1393, \"y\": 7442}, \"683286\": {\"node_type\": \"multimarker\", \"x\": 1413, \"y\": 7442}, \"683287\": {\"node_type\": \"multimarker\", \"x\": 1373, \"y\": 7442}, \"683288\": {\"node_type\": \"metabolite\", \"x\": 1642, \"y\": 7440, \"bigg_id\": \"cpd10515_c\", \"name\": \"Fe+2 [c]\", \"label_x\": 1588, \"label_y\": 7480, \"node_is_primary\": true}, \"683289\": {\"node_type\": \"metabolite\", \"x\": 1129, \"y\": 7442, \"bigg_id\": \"cpd10515_e\", \"name\": \"Fe+2 [e]\", \"label_x\": 1075, \"label_y\": 7482, \"node_is_primary\": true}, \"683290\": {\"node_type\": \"metabolite\", \"x\": 1501, \"y\": 7380, \"bigg_id\": \"cpd00067_c\", \"name\": \"H+ [c]\", \"label_x\": 1465, \"label_y\": 7337, \"node_is_primary\": false}, \"683291\": {\"node_type\": \"metabolite\", \"x\": 1255, \"y\": 7486, \"bigg_id\": \"cpd00067_e\", \"name\": \"H+ [e]\", \"label_x\": 1201, \"label_y\": 7526, \"node_is_primary\": false}, \"683292\": {\"node_type\": \"midmarker\", \"x\": 1393, \"y\": 7942}, \"683293\": {\"node_type\": \"multimarker\", \"x\": 1413, \"y\": 7942}, \"683294\": {\"node_type\": \"multimarker\", \"x\": 1373, \"y\": 7942}, \"683295\": {\"node_type\": \"metabolite\", \"x\": 1642, \"y\": 7940, \"bigg_id\": \"cpd00205_c\", \"name\": \"K+ [c]\", \"label_x\": 1588, \"label_y\": 7980, \"node_is_primary\": true}, \"683296\": {\"node_type\": \"metabolite\", \"x\": 1129, \"y\": 7942, \"bigg_id\": \"cpd00205_e\", \"name\": \"K+ [e]\", \"label_x\": 1075, \"label_y\": 7982, \"node_is_primary\": true}, \"683297\": {\"node_type\": \"metabolite\", \"x\": 1501, \"y\": 7880, \"bigg_id\": \"cpd00067_c\", \"name\": \"H+ [c]\", \"label_x\": 1465, \"label_y\": 7837, \"node_is_primary\": false}, \"683298\": {\"node_type\": \"metabolite\", \"x\": 1255, \"y\": 7986, \"bigg_id\": \"cpd00067_e\", \"name\": \"H+ [e]\", \"label_x\": 1201, \"label_y\": 8026, \"node_is_primary\": false}, \"683299\": {\"node_type\": \"midmarker\", \"x\": 1393, \"y\": 8442}, \"683300\": {\"node_type\": \"multimarker\", \"x\": 1413, \"y\": 8442}, \"683301\": {\"node_type\": \"multimarker\", \"x\": 1373, \"y\": 8442}, \"683302\": {\"node_type\": \"metabolite\", \"x\": 1642, \"y\": 8440, \"bigg_id\": \"cpd00149_c\", \"name\": \"Co2+ [c]\", \"label_x\": 1588, \"label_y\": 8480, \"node_is_primary\": true}, \"683303\": {\"node_type\": \"metabolite\", \"x\": 1129, \"y\": 8442, \"bigg_id\": \"cpd00149_e\", \"name\": \"Co2+ [e]\", \"label_x\": 1075, \"label_y\": 8482, \"node_is_primary\": true}, \"683304\": {\"node_type\": \"metabolite\", \"x\": 1501, \"y\": 8380, \"bigg_id\": \"cpd00067_c\", \"name\": \"H+ [c]\", \"label_x\": 1465, \"label_y\": 8337, \"node_is_primary\": false}, \"683305\": {\"node_type\": \"metabolite\", \"x\": 1255, \"y\": 8486, \"bigg_id\": \"cpd00067_e\", \"name\": \"H+ [e]\", \"label_x\": 1201, \"label_y\": 8526, \"node_is_primary\": false}, \"683306\": {\"node_type\": \"midmarker\", \"x\": 2148, \"y\": 2939}, \"683307\": {\"node_type\": \"multimarker\", \"x\": 2128, \"y\": 2939}, \"683308\": {\"node_type\": \"multimarker\", \"x\": 2168, \"y\": 2939}, \"683309\": {\"node_type\": \"metabolite\", \"x\": 2386, \"y\": 2938, \"bigg_id\": \"cpd00030_c\", \"name\": \"Mn2+ [c]\", \"label_x\": 2332, \"label_y\": 2978, \"node_is_primary\": true}, \"683310\": {\"node_type\": \"metabolite\", \"x\": 1879, \"y\": 2942, \"bigg_id\": \"cpd00030_e\", \"name\": \"Mn2+ [e]\", \"label_x\": 1825, \"label_y\": 2982, \"node_is_primary\": true}, \"683311\": {\"node_type\": \"metabolite\", \"x\": 2282, \"y\": 2862, \"bigg_id\": \"cpd00067_c\", \"name\": \"H+ [c]\", \"label_x\": 2245, \"label_y\": 2827, \"node_is_primary\": false}, \"683312\": {\"node_type\": \"metabolite\", \"x\": 2032, \"y\": 2856, \"bigg_id\": \"cpd00067_e\", \"name\": \"H+ [e]\", \"label_x\": 1998, \"label_y\": 2816, \"node_is_primary\": false}, \"683313\": {\"node_type\": \"midmarker\", \"x\": 2148, \"y\": 3439}, \"683314\": {\"node_type\": \"multimarker\", \"x\": 2128, \"y\": 3439}, \"683315\": {\"node_type\": \"multimarker\", \"x\": 2168, \"y\": 3439}, \"683316\": {\"node_type\": \"metabolite\", \"x\": 2386, \"y\": 3438, \"bigg_id\": \"cpd00009_c\", \"name\": \"Phosphate [c]\", \"label_x\": 2332, \"label_y\": 3478, \"node_is_primary\": true}, \"683317\": {\"node_type\": \"metabolite\", \"x\": 1879, \"y\": 3442, \"bigg_id\": \"cpd00009_e\", \"name\": \"Phosphate [e]\", \"label_x\": 1825, \"label_y\": 3482, \"node_is_primary\": true}, \"683318\": {\"node_type\": \"metabolite\", \"x\": 2282, \"y\": 3362, \"bigg_id\": \"cpd00067_c\", \"name\": \"H+ [c]\", \"label_x\": 2245, \"label_y\": 3327, \"node_is_primary\": false}, \"683319\": {\"node_type\": \"metabolite\", \"x\": 2032, \"y\": 3356, \"bigg_id\": \"cpd00067_e\", \"name\": \"H+ [e]\", \"label_x\": 1998, \"label_y\": 3316, \"node_is_primary\": false}, \"683320\": {\"node_type\": \"midmarker\", \"x\": 2148, \"y\": 4439}, \"683321\": {\"node_type\": \"multimarker\", \"x\": 2128, \"y\": 4439}, \"683322\": {\"node_type\": \"multimarker\", \"x\": 2168, \"y\": 4439}, \"683323\": {\"node_type\": \"metabolite\", \"x\": 2386, \"y\": 4438, \"bigg_id\": \"cpd00063_c\", \"name\": \"Ca2+ [c]\", \"label_x\": 2332, \"label_y\": 4478, \"node_is_primary\": true}, \"683324\": {\"node_type\": \"metabolite\", \"x\": 1879, \"y\": 4442, \"bigg_id\": \"cpd00063_e\", \"name\": \"Ca2+ [e]\", \"label_x\": 1825, \"label_y\": 4482, \"node_is_primary\": true}, \"683325\": {\"node_type\": \"metabolite\", \"x\": 2282, \"y\": 4362, \"bigg_id\": \"cpd00067_c\", \"name\": \"H+ [c]\", \"label_x\": 2245, \"label_y\": 4327, \"node_is_primary\": false}, \"683326\": {\"node_type\": \"metabolite\", \"x\": 2032, \"y\": 4356, \"bigg_id\": \"cpd00067_e\", \"name\": \"H+ [e]\", \"label_x\": 1998, \"label_y\": 4316, \"node_is_primary\": false}, \"683327\": {\"node_type\": \"midmarker\", \"x\": 2148, \"y\": 5939}, \"683328\": {\"node_type\": \"multimarker\", \"x\": 2128, \"y\": 5939}, \"683329\": {\"node_type\": \"multimarker\", \"x\": 2168, \"y\": 5939}, \"683330\": {\"node_type\": \"metabolite\", \"x\": 2386, \"y\": 5938, \"bigg_id\": \"cpd00034_c\", \"name\": \"Zn2+ [c]\", \"label_x\": 2332, \"label_y\": 5978, \"node_is_primary\": true}, \"683331\": {\"node_type\": \"metabolite\", \"x\": 1879, \"y\": 5942, \"bigg_id\": \"cpd00034_e\", \"name\": \"Zn2+ [e]\", \"label_x\": 1825, \"label_y\": 5982, \"node_is_primary\": true}, \"683332\": {\"node_type\": \"metabolite\", \"x\": 2282, \"y\": 5862, \"bigg_id\": \"cpd00067_c\", \"name\": \"H+ [c]\", \"label_x\": 2245, \"label_y\": 5827, \"node_is_primary\": false}, \"683333\": {\"node_type\": \"metabolite\", \"x\": 2032, \"y\": 5856, \"bigg_id\": \"cpd00067_e\", \"name\": \"H+ [e]\", \"label_x\": 1998, \"label_y\": 5816, \"node_is_primary\": false}, \"683334\": {\"node_type\": \"midmarker\", \"x\": 2148, \"y\": 6439}, \"683335\": {\"node_type\": \"multimarker\", \"x\": 2128, \"y\": 6439}, \"683336\": {\"node_type\": \"multimarker\", \"x\": 2168, \"y\": 6439}, \"683337\": {\"node_type\": \"metabolite\", \"x\": 2386, \"y\": 6438, \"bigg_id\": \"cpd00048_c\", \"name\": \"Sulfate [c]\", \"label_x\": 2332, \"label_y\": 6478, \"node_is_primary\": true}, \"683338\": {\"node_type\": \"metabolite\", \"x\": 1879, \"y\": 6442, \"bigg_id\": \"cpd00048_e\", \"name\": \"Sulfate [e]\", \"label_x\": 1825, \"label_y\": 6482, \"node_is_primary\": true}, \"683339\": {\"node_type\": \"metabolite\", \"x\": 2282, \"y\": 6362, \"bigg_id\": \"cpd00067_c\", \"name\": \"H+ [c]\", \"label_x\": 2245, \"label_y\": 6327, \"node_is_primary\": false}, \"683340\": {\"node_type\": \"metabolite\", \"x\": 2032, \"y\": 6356, \"bigg_id\": \"cpd00067_e\", \"name\": \"H+ [e]\", \"label_x\": 1998, \"label_y\": 6316, \"node_is_primary\": false}, \"683341\": {\"node_type\": \"midmarker\", \"x\": 2148, \"y\": 7439}, \"683342\": {\"node_type\": \"multimarker\", \"x\": 2128, \"y\": 7439}, \"683343\": {\"node_type\": \"multimarker\", \"x\": 2168, \"y\": 7439}, \"683344\": {\"node_type\": \"metabolite\", \"x\": 2386, \"y\": 7438, \"bigg_id\": \"cpd10515_c\", \"name\": \"Fe+2 [c]\", \"label_x\": 2332, \"label_y\": 7478, \"node_is_primary\": true}, \"683345\": {\"node_type\": \"metabolite\", \"x\": 1879, \"y\": 7442, \"bigg_id\": \"cpd10515_e\", \"name\": \"Fe+2 [e]\", \"label_x\": 1825, \"label_y\": 7482, \"node_is_primary\": true}, \"683346\": {\"node_type\": \"metabolite\", \"x\": 2282, \"y\": 7362, \"bigg_id\": \"cpd00067_c\", \"name\": \"H+ [c]\", \"label_x\": 2245, \"label_y\": 7327, \"node_is_primary\": false}, \"683347\": {\"node_type\": \"metabolite\", \"x\": 2032, \"y\": 7356, \"bigg_id\": \"cpd00067_e\", \"name\": \"H+ [e]\", \"label_x\": 1998, \"label_y\": 7316, \"node_is_primary\": false}, \"683348\": {\"node_type\": \"midmarker\", \"x\": 2148, \"y\": 7939}, \"683349\": {\"node_type\": \"multimarker\", \"x\": 2128, \"y\": 7939}, \"683350\": {\"node_type\": \"multimarker\", \"x\": 2168, \"y\": 7939}, \"683351\": {\"node_type\": \"metabolite\", \"x\": 2386, \"y\": 7938, \"bigg_id\": \"cpd00205_c\", \"name\": \"K+ [c]\", \"label_x\": 2332, \"label_y\": 7978, \"node_is_primary\": true}, \"683352\": {\"node_type\": \"metabolite\", \"x\": 1879, \"y\": 7942, \"bigg_id\": \"cpd00205_e\", \"name\": \"K+ [e]\", \"label_x\": 1825, \"label_y\": 7982, \"node_is_primary\": true}, \"683353\": {\"node_type\": \"metabolite\", \"x\": 2282, \"y\": 7862, \"bigg_id\": \"cpd00067_c\", \"name\": \"H+ [c]\", \"label_x\": 2245, \"label_y\": 7827, \"node_is_primary\": false}, \"683354\": {\"node_type\": \"metabolite\", \"x\": 2032, \"y\": 7856, \"bigg_id\": \"cpd00067_e\", \"name\": \"H+ [e]\", \"label_x\": 1998, \"label_y\": 7816, \"node_is_primary\": false}, \"683355\": {\"node_type\": \"midmarker\", \"x\": 346, \"y\": 2937}, \"683356\": {\"node_type\": \"multimarker\", \"x\": 326, \"y\": 2937}, \"683357\": {\"node_type\": \"multimarker\", \"x\": 366, \"y\": 2937}, \"683358\": {\"node_type\": \"metabolite\", \"x\": 198, \"y\": 2865, \"bigg_id\": \"cpd00001_c\", \"name\": \"H2O [c]\", \"label_x\": 144, \"label_y\": 2845, \"node_is_primary\": false}, \"683359\": {\"node_type\": \"metabolite\", \"x\": 307, \"y\": 2822, \"bigg_id\": \"cpd00002_c\", \"name\": \"ATP [c]\", \"label_x\": 270, \"label_y\": 2796, \"node_is_primary\": false}, \"683360\": {\"node_type\": \"metabolite\", \"x\": 471, \"y\": 2835, \"bigg_id\": \"cpd00008_c\", \"name\": \"ADP [c]\", \"label_x\": 414, \"label_y\": 2817, \"node_is_primary\": false}, \"683361\": {\"node_type\": \"metabolite\", \"x\": 563, \"y\": 2853, \"bigg_id\": \"cpd00009_c\", \"name\": \"Phosphate [c]\", \"label_x\": 509, \"label_y\": 2833, \"node_is_primary\": false}, \"683362\": {\"node_type\": \"metabolite\", \"x\": 686, \"y\": 2937, \"bigg_id\": \"cpd00030_c\", \"name\": \"Mn2+ [c]\", \"label_x\": 632, \"label_y\": 2977, \"node_is_primary\": true}, \"683363\": {\"node_type\": \"metabolite\", \"x\": 35, \"y\": 2937, \"bigg_id\": \"cpd00030_e\", \"name\": \"Mn2+ [e]\", \"label_x\": -31, \"label_y\": 2989, \"node_is_primary\": true}, \"683364\": {\"node_type\": \"metabolite\", \"x\": 661, \"y\": 2841, \"bigg_id\": \"cpd00067_c\", \"name\": \"H+ [c]\", \"label_x\": 639, \"label_y\": 2817, \"node_is_primary\": false}, \"683365\": {\"node_type\": \"midmarker\", \"x\": 346, \"y\": 3437}, \"683366\": {\"node_type\": \"multimarker\", \"x\": 326, \"y\": 3437}, \"683367\": {\"node_type\": \"multimarker\", \"x\": 366, \"y\": 3437}, \"683368\": {\"node_type\": \"metabolite\", \"x\": 198, \"y\": 3365, \"bigg_id\": \"cpd00001_c\", \"name\": \"H2O [c]\", \"label_x\": 144, \"label_y\": 3345, \"node_is_primary\": false}, \"683369\": {\"node_type\": \"metabolite\", \"x\": 307, \"y\": 3322, \"bigg_id\": \"cpd00002_c\", \"name\": \"ATP [c]\", \"label_x\": 270, \"label_y\": 3296, \"node_is_primary\": false}, \"683370\": {\"node_type\": \"metabolite\", \"x\": 471, \"y\": 3335, \"bigg_id\": \"cpd00008_c\", \"name\": \"ADP [c]\", \"label_x\": 414, \"label_y\": 3317, \"node_is_primary\": false}, \"683371\": {\"node_type\": \"metabolite\", \"x\": 563, \"y\": 3353, \"bigg_id\": \"cpd00009_c\", \"name\": \"Phosphate [c]\", \"label_x\": 509, \"label_y\": 3333, \"node_is_primary\": false}, \"683372\": {\"node_type\": \"metabolite\", \"x\": 686, \"y\": 3437, \"bigg_id\": \"cpd00051_c\", \"name\": \"L-Arginine [c]\", \"label_x\": 632, \"label_y\": 3477, \"node_is_primary\": true}, \"683373\": {\"node_type\": \"metabolite\", \"x\": 35, \"y\": 3437, \"bigg_id\": \"cpd00009_e\", \"name\": \"Phosphate [e]\", \"label_x\": -31, \"label_y\": 3489, \"node_is_primary\": true}, \"683374\": {\"node_type\": \"metabolite\", \"x\": 661, \"y\": 3341, \"bigg_id\": \"cpd00067_c\", \"name\": \"H+ [c]\", \"label_x\": 639, \"label_y\": 3317, \"node_is_primary\": false}, \"683375\": {\"node_type\": \"midmarker\", \"x\": 346, \"y\": 3937}, \"683376\": {\"node_type\": \"multimarker\", \"x\": 326, \"y\": 3937}, \"683377\": {\"node_type\": \"multimarker\", \"x\": 366, \"y\": 3937}, \"683378\": {\"node_type\": \"metabolite\", \"x\": 198, \"y\": 3865, \"bigg_id\": \"cpd00001_c\", \"name\": \"H2O [c]\", \"label_x\": 144, \"label_y\": 3845, \"node_is_primary\": false}, \"683379\": {\"node_type\": \"metabolite\", \"x\": 307, \"y\": 3822, \"bigg_id\": \"cpd00002_c\", \"name\": \"ATP [c]\", \"label_x\": 270, \"label_y\": 3796, \"node_is_primary\": false}, \"683380\": {\"node_type\": \"metabolite\", \"x\": 471, \"y\": 3835, \"bigg_id\": \"cpd00008_c\", \"name\": \"ADP [c]\", \"label_x\": 414, \"label_y\": 3817, \"node_is_primary\": false}, \"683381\": {\"node_type\": \"metabolite\", \"x\": 563, \"y\": 3853, \"bigg_id\": \"cpd00009_c\", \"name\": \"Phosphate [c]\", \"label_x\": 509, \"label_y\": 3833, \"node_is_primary\": false}, \"683382\": {\"node_type\": \"metabolite\", \"x\": 686, \"y\": 3937, \"bigg_id\": \"cpd00254_c\", \"name\": \"Mg [c]\", \"label_x\": 632, \"label_y\": 3977, \"node_is_primary\": true}, \"683383\": {\"node_type\": \"metabolite\", \"x\": 35, \"y\": 3937, \"bigg_id\": \"cpd00254_e\", \"name\": \"Mg [e]\", \"label_x\": -31, \"label_y\": 3989, \"node_is_primary\": true}, \"683384\": {\"node_type\": \"metabolite\", \"x\": 661, \"y\": 3841, \"bigg_id\": \"cpd00067_c\", \"name\": \"H+ [c]\", \"label_x\": 639, \"label_y\": 3817, \"node_is_primary\": false}, \"683385\": {\"node_type\": \"midmarker\", \"x\": 346, \"y\": 4437}, \"683386\": {\"node_type\": \"multimarker\", \"x\": 326, \"y\": 4437}, \"683387\": {\"node_type\": \"multimarker\", \"x\": 366, \"y\": 4437}, \"683388\": {\"node_type\": \"metabolite\", \"x\": 198, \"y\": 4365, \"bigg_id\": \"cpd00001_c\", \"name\": \"H2O [c]\", \"label_x\": 144, \"label_y\": 4345, \"node_is_primary\": false}, \"683389\": {\"node_type\": \"metabolite\", \"x\": 307, \"y\": 4322, \"bigg_id\": \"cpd00002_c\", \"name\": \"ATP [c]\", \"label_x\": 270, \"label_y\": 4296, \"node_is_primary\": false}, \"683390\": {\"node_type\": \"metabolite\", \"x\": 471, \"y\": 4335, \"bigg_id\": \"cpd00008_c\", \"name\": \"ADP [c]\", \"label_x\": 414, \"label_y\": 4317, \"node_is_primary\": false}, \"683391\": {\"node_type\": \"metabolite\", \"x\": 563, \"y\": 4353, \"bigg_id\": \"cpd00009_c\", \"name\": \"Phosphate [c]\", \"label_x\": 509, \"label_y\": 4333, \"node_is_primary\": false}, \"683392\": {\"node_type\": \"metabolite\", \"x\": 686, \"y\": 4437, \"bigg_id\": \"cpd00063_c\", \"name\": \"Ca2+ [c]\", \"label_x\": 632, \"label_y\": 4477, \"node_is_primary\": true}, \"683393\": {\"node_type\": \"metabolite\", \"x\": 35, \"y\": 4437, \"bigg_id\": \"cpd00063_e\", \"name\": \"Ca2+ [e]\", \"label_x\": -31, \"label_y\": 4489, \"node_is_primary\": true}, \"683394\": {\"node_type\": \"metabolite\", \"x\": 661, \"y\": 4341, \"bigg_id\": \"cpd00067_c\", \"name\": \"H+ [c]\", \"label_x\": 639, \"label_y\": 4317, \"node_is_primary\": false}, \"683395\": {\"node_type\": \"midmarker\", \"x\": 346, \"y\": 4937}, \"683396\": {\"node_type\": \"multimarker\", \"x\": 326, \"y\": 4937}, \"683397\": {\"node_type\": \"multimarker\", \"x\": 366, \"y\": 4937}, \"683398\": {\"node_type\": \"metabolite\", \"x\": 198, \"y\": 4865, \"bigg_id\": \"cpd00001_c\", \"name\": \"H2O [c]\", \"label_x\": 144, \"label_y\": 4845, \"node_is_primary\": false}, \"683399\": {\"node_type\": \"metabolite\", \"x\": 307, \"y\": 4822, \"bigg_id\": \"cpd00002_c\", \"name\": \"ATP [c]\", \"label_x\": 270, \"label_y\": 4796, \"node_is_primary\": false}, \"683400\": {\"node_type\": \"metabolite\", \"x\": 471, \"y\": 4835, \"bigg_id\": \"cpd00008_c\", \"name\": \"ADP [c]\", \"label_x\": 414, \"label_y\": 4817, \"node_is_primary\": false}, \"683401\": {\"node_type\": \"metabolite\", \"x\": 563, \"y\": 4853, \"bigg_id\": \"cpd00009_c\", \"name\": \"Phosphate [c]\", \"label_x\": 509, \"label_y\": 4833, \"node_is_primary\": false}, \"683402\": {\"node_type\": \"metabolite\", \"x\": 686, \"y\": 4937, \"bigg_id\": \"cpd10516_c\", \"name\": \"Fe+3 [c]\", \"label_x\": 632, \"label_y\": 4977, \"node_is_primary\": true}, \"683403\": {\"node_type\": \"metabolite\", \"x\": 35, \"y\": 4937, \"bigg_id\": \"cpd10516_e\", \"name\": \"Fe+3 [e]\", \"label_x\": -31, \"label_y\": 4989, \"node_is_primary\": true}, \"683404\": {\"node_type\": \"metabolite\", \"x\": 661, \"y\": 4841, \"bigg_id\": \"cpd00067_c\", \"name\": \"H+ [c]\", \"label_x\": 639, \"label_y\": 4817, \"node_is_primary\": false}, \"683405\": {\"node_type\": \"midmarker\", \"x\": 346, \"y\": 5437}, \"683406\": {\"node_type\": \"multimarker\", \"x\": 326, \"y\": 5437}, \"683407\": {\"node_type\": \"multimarker\", \"x\": 366, \"y\": 5437}, \"683408\": {\"node_type\": \"metabolite\", \"x\": 198, \"y\": 5365, \"bigg_id\": \"cpd00001_c\", \"name\": \"H2O [c]\", \"label_x\": 144, \"label_y\": 5345, \"node_is_primary\": false}, \"683409\": {\"node_type\": \"metabolite\", \"x\": 307, \"y\": 5322, \"bigg_id\": \"cpd00002_c\", \"name\": \"ATP [c]\", \"label_x\": 270, \"label_y\": 5296, \"node_is_primary\": false}, \"683410\": {\"node_type\": \"metabolite\", \"x\": 471, \"y\": 5335, \"bigg_id\": \"cpd00008_c\", \"name\": \"ADP [c]\", \"label_x\": 414, \"label_y\": 5317, \"node_is_primary\": false}, \"683411\": {\"node_type\": \"metabolite\", \"x\": 563, \"y\": 5353, \"bigg_id\": \"cpd00009_c\", \"name\": \"Phosphate [c]\", \"label_x\": 509, \"label_y\": 5333, \"node_is_primary\": false}, \"683412\": {\"node_type\": \"metabolite\", \"x\": 686, \"y\": 5437, \"bigg_id\": \"cpd00099_c\", \"name\": \"Cl- [c]\", \"label_x\": 632, \"label_y\": 5477, \"node_is_primary\": true}, \"683413\": {\"node_type\": \"metabolite\", \"x\": 35, \"y\": 5437, \"bigg_id\": \"cpd00099_e\", \"name\": \"Cl- [e]\", \"label_x\": -31, \"label_y\": 5489, \"node_is_primary\": true}, \"683414\": {\"node_type\": \"metabolite\", \"x\": 661, \"y\": 5341, \"bigg_id\": \"cpd00067_c\", \"name\": \"H+ [c]\", \"label_x\": 639, \"label_y\": 5317, \"node_is_primary\": false}, \"683415\": {\"node_type\": \"midmarker\", \"x\": 346, \"y\": 5937}, \"683416\": {\"node_type\": \"multimarker\", \"x\": 326, \"y\": 5937}, \"683417\": {\"node_type\": \"multimarker\", \"x\": 366, \"y\": 5937}, \"683418\": {\"node_type\": \"metabolite\", \"x\": 198, \"y\": 5865, \"bigg_id\": \"cpd00001_c\", \"name\": \"H2O [c]\", \"label_x\": 144, \"label_y\": 5845, \"node_is_primary\": false}, \"683419\": {\"node_type\": \"metabolite\", \"x\": 307, \"y\": 5822, \"bigg_id\": \"cpd00002_c\", \"name\": \"ATP [c]\", \"label_x\": 270, \"label_y\": 5796, \"node_is_primary\": false}, \"683420\": {\"node_type\": \"metabolite\", \"x\": 471, \"y\": 5835, \"bigg_id\": \"cpd00008_c\", \"name\": \"ADP [c]\", \"label_x\": 414, \"label_y\": 5817, \"node_is_primary\": false}, \"683421\": {\"node_type\": \"metabolite\", \"x\": 563, \"y\": 5853, \"bigg_id\": \"cpd00009_c\", \"name\": \"Phosphate [c]\", \"label_x\": 509, \"label_y\": 5833, \"node_is_primary\": false}, \"683422\": {\"node_type\": \"metabolite\", \"x\": 686, \"y\": 5937, \"bigg_id\": \"cpd00034_c\", \"name\": \"Zn2+ [c]\", \"label_x\": 632, \"label_y\": 5977, \"node_is_primary\": true}, \"683423\": {\"node_type\": \"metabolite\", \"x\": 35, \"y\": 5937, \"bigg_id\": \"cpd00034_e\", \"name\": \"Zn2+ [e]\", \"label_x\": -31, \"label_y\": 5989, \"node_is_primary\": true}, \"683424\": {\"node_type\": \"metabolite\", \"x\": 661, \"y\": 5841, \"bigg_id\": \"cpd00067_c\", \"name\": \"H+ [c]\", \"label_x\": 639, \"label_y\": 5817, \"node_is_primary\": false}, \"683425\": {\"node_type\": \"midmarker\", \"x\": 346, \"y\": 6437}, \"683426\": {\"node_type\": \"multimarker\", \"x\": 326, \"y\": 6437}, \"683427\": {\"node_type\": \"multimarker\", \"x\": 366, \"y\": 6437}, \"683428\": {\"node_type\": \"metabolite\", \"x\": 198, \"y\": 6365, \"bigg_id\": \"cpd00001_c\", \"name\": \"H2O [c]\", \"label_x\": 144, \"label_y\": 6345, \"node_is_primary\": false}, \"683429\": {\"node_type\": \"metabolite\", \"x\": 307, \"y\": 6322, \"bigg_id\": \"cpd00002_c\", \"name\": \"ATP [c]\", \"label_x\": 270, \"label_y\": 6296, \"node_is_primary\": false}, \"683430\": {\"node_type\": \"metabolite\", \"x\": 471, \"y\": 6335, \"bigg_id\": \"cpd00008_c\", \"name\": \"ADP [c]\", \"label_x\": 414, \"label_y\": 6317, \"node_is_primary\": false}, \"683431\": {\"node_type\": \"metabolite\", \"x\": 563, \"y\": 6353, \"bigg_id\": \"cpd00009_c\", \"name\": \"Phosphate [c]\", \"label_x\": 509, \"label_y\": 6333, \"node_is_primary\": false}, \"683432\": {\"node_type\": \"metabolite\", \"x\": 686, \"y\": 6437, \"bigg_id\": \"cpd00048_c\", \"name\": \"Sulfate [c]\", \"label_x\": 632, \"label_y\": 6477, \"node_is_primary\": true}, \"683433\": {\"node_type\": \"metabolite\", \"x\": 35, \"y\": 6437, \"bigg_id\": \"cpd00048_e\", \"name\": \"Sulfate [e]\", \"label_x\": -31, \"label_y\": 6489, \"node_is_primary\": true}, \"683434\": {\"node_type\": \"metabolite\", \"x\": 661, \"y\": 6341, \"bigg_id\": \"cpd00067_c\", \"name\": \"H+ [c]\", \"label_x\": 639, \"label_y\": 6317, \"node_is_primary\": false}, \"683435\": {\"node_type\": \"midmarker\", \"x\": 346, \"y\": 6937}, \"683436\": {\"node_type\": \"multimarker\", \"x\": 326, \"y\": 6937}, \"683437\": {\"node_type\": \"multimarker\", \"x\": 366, \"y\": 6937}, \"683438\": {\"node_type\": \"metabolite\", \"x\": 198, \"y\": 6865, \"bigg_id\": \"cpd00001_c\", \"name\": \"H2O [c]\", \"label_x\": 144, \"label_y\": 6845, \"node_is_primary\": false}, \"683439\": {\"node_type\": \"metabolite\", \"x\": 307, \"y\": 6822, \"bigg_id\": \"cpd00002_c\", \"name\": \"ATP [c]\", \"label_x\": 270, \"label_y\": 6796, \"node_is_primary\": false}, \"683440\": {\"node_type\": \"metabolite\", \"x\": 471, \"y\": 6835, \"bigg_id\": \"cpd00008_c\", \"name\": \"ADP [c]\", \"label_x\": 414, \"label_y\": 6817, \"node_is_primary\": false}, \"683441\": {\"node_type\": \"metabolite\", \"x\": 563, \"y\": 6853, \"bigg_id\": \"cpd00009_c\", \"name\": \"Phosphate [c]\", \"label_x\": 509, \"label_y\": 6833, \"node_is_primary\": false}, \"683442\": {\"node_type\": \"metabolite\", \"x\": 686, \"y\": 6937, \"bigg_id\": \"cpd00058_c\", \"name\": \"Cu2+ [c]\", \"label_x\": 632, \"label_y\": 6977, \"node_is_primary\": true}, \"683443\": {\"node_type\": \"metabolite\", \"x\": 35, \"y\": 6937, \"bigg_id\": \"cpd00058_e\", \"name\": \"Cu2+ [e]\", \"label_x\": -31, \"label_y\": 6989, \"node_is_primary\": true}, \"683444\": {\"node_type\": \"metabolite\", \"x\": 661, \"y\": 6841, \"bigg_id\": \"cpd00067_c\", \"name\": \"H+ [c]\", \"label_x\": 639, \"label_y\": 6817, \"node_is_primary\": false}, \"683445\": {\"node_type\": \"midmarker\", \"x\": 346, \"y\": 7437}, \"683446\": {\"node_type\": \"multimarker\", \"x\": 326, \"y\": 7437}, \"683447\": {\"node_type\": \"multimarker\", \"x\": 366, \"y\": 7437}, \"683448\": {\"node_type\": \"metabolite\", \"x\": 198, \"y\": 7365, \"bigg_id\": \"cpd00001_c\", \"name\": \"H2O [c]\", \"label_x\": 144, \"label_y\": 7345, \"node_is_primary\": false}, \"683449\": {\"node_type\": \"metabolite\", \"x\": 307, \"y\": 7322, \"bigg_id\": \"cpd00002_c\", \"name\": \"ATP [c]\", \"label_x\": 270, \"label_y\": 7296, \"node_is_primary\": false}, \"683450\": {\"node_type\": \"metabolite\", \"x\": 471, \"y\": 7335, \"bigg_id\": \"cpd00008_c\", \"name\": \"ADP [c]\", \"label_x\": 414, \"label_y\": 7317, \"node_is_primary\": false}, \"683451\": {\"node_type\": \"metabolite\", \"x\": 563, \"y\": 7353, \"bigg_id\": \"cpd00009_c\", \"name\": \"Phosphate [c]\", \"label_x\": 509, \"label_y\": 7333, \"node_is_primary\": false}, \"683452\": {\"node_type\": \"metabolite\", \"x\": 686, \"y\": 7437, \"bigg_id\": \"cpd10515_c\", \"name\": \"Fe+2 [c]\", \"label_x\": 632, \"label_y\": 7477, \"node_is_primary\": true}, \"683453\": {\"node_type\": \"metabolite\", \"x\": 35, \"y\": 7437, \"bigg_id\": \"cpd10515_e\", \"name\": \"Fe+2 [e]\", \"label_x\": -31, \"label_y\": 7489, \"node_is_primary\": true}, \"683454\": {\"node_type\": \"metabolite\", \"x\": 661, \"y\": 7341, \"bigg_id\": \"cpd00067_c\", \"name\": \"H+ [c]\", \"label_x\": 639, \"label_y\": 7317, \"node_is_primary\": false}, \"683455\": {\"node_type\": \"midmarker\", \"x\": 346, \"y\": 7937}, \"683456\": {\"node_type\": \"multimarker\", \"x\": 326, \"y\": 7937}, \"683457\": {\"node_type\": \"multimarker\", \"x\": 366, \"y\": 7937}, \"683458\": {\"node_type\": \"metabolite\", \"x\": 198, \"y\": 7865, \"bigg_id\": \"cpd00001_c\", \"name\": \"H2O [c]\", \"label_x\": 144, \"label_y\": 7845, \"node_is_primary\": false}, \"683459\": {\"node_type\": \"metabolite\", \"x\": 307, \"y\": 7822, \"bigg_id\": \"cpd00002_c\", \"name\": \"ATP [c]\", \"label_x\": 270, \"label_y\": 7796, \"node_is_primary\": false}, \"683460\": {\"node_type\": \"metabolite\", \"x\": 471, \"y\": 7835, \"bigg_id\": \"cpd00008_c\", \"name\": \"ADP [c]\", \"label_x\": 414, \"label_y\": 7817, \"node_is_primary\": false}, \"683461\": {\"node_type\": \"metabolite\", \"x\": 563, \"y\": 7853, \"bigg_id\": \"cpd00009_c\", \"name\": \"Phosphate [c]\", \"label_x\": 509, \"label_y\": 7833, \"node_is_primary\": false}, \"683462\": {\"node_type\": \"metabolite\", \"x\": 686, \"y\": 7937, \"bigg_id\": \"cpd00205_c\", \"name\": \"K+ [c]\", \"label_x\": 632, \"label_y\": 7977, \"node_is_primary\": true}, \"683463\": {\"node_type\": \"metabolite\", \"x\": 35, \"y\": 7937, \"bigg_id\": \"cpd00205_e\", \"name\": \"K+ [e]\", \"label_x\": -31, \"label_y\": 7989, \"node_is_primary\": true}, \"683464\": {\"node_type\": \"metabolite\", \"x\": 661, \"y\": 7841, \"bigg_id\": \"cpd00067_c\", \"name\": \"H+ [c]\", \"label_x\": 639, \"label_y\": 7817, \"node_is_primary\": false}, \"683465\": {\"node_type\": \"midmarker\", \"x\": 346, \"y\": 8437}, \"683466\": {\"node_type\": \"multimarker\", \"x\": 326, \"y\": 8437}, \"683467\": {\"node_type\": \"multimarker\", \"x\": 366, \"y\": 8437}, \"683468\": {\"node_type\": \"metabolite\", \"x\": 198, \"y\": 8365, \"bigg_id\": \"cpd00001_c\", \"name\": \"H2O [c]\", \"label_x\": 144, \"label_y\": 8345, \"node_is_primary\": false}, \"683469\": {\"node_type\": \"metabolite\", \"x\": 307, \"y\": 8322, \"bigg_id\": \"cpd00002_c\", \"name\": \"ATP [c]\", \"label_x\": 270, \"label_y\": 8296, \"node_is_primary\": false}, \"683470\": {\"node_type\": \"metabolite\", \"x\": 471, \"y\": 8335, \"bigg_id\": \"cpd00008_c\", \"name\": \"ADP [c]\", \"label_x\": 414, \"label_y\": 8317, \"node_is_primary\": false}, \"683471\": {\"node_type\": \"metabolite\", \"x\": 563, \"y\": 8353, \"bigg_id\": \"cpd00009_c\", \"name\": \"Phosphate [c]\", \"label_x\": 509, \"label_y\": 8333, \"node_is_primary\": false}, \"683472\": {\"node_type\": \"metabolite\", \"x\": 686, \"y\": 8437, \"bigg_id\": \"cpd00149_c\", \"name\": \"Co2+ [c]\", \"label_x\": 632, \"label_y\": 8477, \"node_is_primary\": true}, \"683473\": {\"node_type\": \"metabolite\", \"x\": 35, \"y\": 8437, \"bigg_id\": \"cpd00149_e\", \"name\": \"Co2+ [e]\", \"label_x\": -31, \"label_y\": 8489, \"node_is_primary\": true}, \"683474\": {\"node_type\": \"metabolite\", \"x\": 661, \"y\": 8341, \"bigg_id\": \"cpd00067_c\", \"name\": \"H+ [c]\", \"label_x\": 639, \"label_y\": 8317, \"node_is_primary\": false}}, \"text_labels\": {\"668050\": {\"x\": -360, \"y\": 2455, \"text\": \"L-Arginine\"}, \"668051\": {\"x\": -360, \"y\": 2955, \"text\": \"Mn2+\"}, \"668052\": {\"x\": -360, \"y\": 3455, \"text\": \"Phosphate\"}, \"668053\": {\"x\": -360, \"y\": 3955, \"text\": \"Mg\"}, \"668054\": {\"x\": -360, \"y\": 4455, \"text\": \"Ca2+\"}, \"668055\": {\"x\": -360, \"y\": 4955, \"text\": \"Fe+3\"}, \"668056\": {\"x\": -360, \"y\": 5455, \"text\": \"Cl-\"}, \"668057\": {\"x\": -360, \"y\": 5955, \"text\": \"Zn2+\"}, \"668058\": {\"x\": -360, \"y\": 6455, \"text\": \"Sulfate\"}, \"668059\": {\"x\": -360, \"y\": 6955, \"text\": \"Cu2+\"}, \"668060\": {\"x\": -360, \"y\": 7455, \"text\": \"Fe+2\"}, \"668061\": {\"x\": -360, \"y\": 7955, \"text\": \"K+\"}, \"668062\": {\"x\": -360, \"y\": 8455, \"text\": \"Co2+\"}}, \"canvas\": {\"x\": -424.4990384033208, \"y\": 1850.3106803671876, \"width\": 4726.942439965824, \"height\": 7000}}]'),\n",
       "               model_data: JSON.parse('null'),\n",
       "               static_site_index: JSON.parse('null'),\n",
       "           };\n",
       "       }\n",
       "   })();\n",
       "  </script>\n"
      ],
      "text/plain": [
       "<IPython.core.display.HTML object>"
      ]
     },
     "execution_count": 342,
     "metadata": {},
     "output_type": "execute_result"
    }
   ],
   "source": [
    "em.display_in_notebook()"
   ]
  },
  {
   "cell_type": "code",
   "execution_count": 320,
   "metadata": {},
   "outputs": [
    {
     "data": {
      "text/plain": [
       "{'668050': {'x': -360, 'y': 2455, 'text': 'L-Arginine'},\n",
       " '668051': {'x': -360, 'y': 2955, 'text': 'L-Leucine'},\n",
       " '668052': {'x': -360, 'y': 3455, 'text': 'L-Methionine'},\n",
       " '668053': {'x': -360, 'y': 3955, 'text': 'L-Isoleucine'},\n",
       " '668054': {'x': -360, 'y': 4455, 'text': 'L-Histidine'},\n",
       " '668055': {'x': -360, 'y': 4955, 'text': 'L-Glutamine'},\n",
       " '668056': {'x': -360, 'y': 5455, 'text': 'L-Valine'},\n",
       " '668057': {'x': -360, 'y': 5955, 'text': 'L-Tyrosine'},\n",
       " '668058': {'x': -360, 'y': 6455, 'text': 'L-Tryptophan'},\n",
       " '668059': {'x': -360, 'y': 6955, 'text': 'L-Phenylalanine'},\n",
       " '668060': {'x': -360, 'y': 7455, 'text': 'L-Alanine'},\n",
       " '668061': {'x': -360, 'y': 7955, 'text': 'L-Arginine'},\n",
       " '668062': {'x': -360, 'y': 8455, 'text': 'L-Aspartate'},\n",
       " '668063': {'x': -360, 'y': 8955, 'text': 'L-Proline'},\n",
       " '668064': {'x': -360, 'y': 9455, 'text': 'Glycine'},\n",
       " '668065': {'x': -360, 'y': 9955, 'text': 'L-Asparagine'},\n",
       " '668066': {'x': -360, 'y': 10455, 'text': 'L-Threonine'},\n",
       " '668067': {'x': -360, 'y': 10955, 'text': 'L-Serine'},\n",
       " '668068': {'x': -360, 'y': 11455, 'text': 'L-Glutamate'},\n",
       " '668069': {'x': -360, 'y': 11955, 'text': 'L-Cysteine'},\n",
       " '668070': {'x': -360, 'y': 12455, 'text': 'L-Lysine'}}"
      ]
     },
     "execution_count": 320,
     "metadata": {},
     "output_type": "execute_result"
    }
   ],
   "source": [
    "em.escher_graph['text_labels']"
   ]
  },
  {
   "cell_type": "code",
   "execution_count": 319,
   "metadata": {},
   "outputs": [],
   "source": []
  },
  {
   "cell_type": "code",
   "execution_count": 332,
   "metadata": {},
   "outputs": [],
   "source": [
    "#em.display_in_notebook()"
   ]
  },
  {
   "cell_type": "code",
   "execution_count": 312,
   "metadata": {},
   "outputs": [
    {
     "data": {
      "text/plain": [
       "{'seed.compartment': '0:c;1:e', 'seed.reaction': 'rxn05154'}"
      ]
     },
     "execution_count": 312,
     "metadata": {},
     "output_type": "execute_result"
    }
   ],
   "source": []
  },
  {
   "cell_type": "code",
   "execution_count": 313,
   "metadata": {},
   "outputs": [],
   "source": [
    "def refit_nodes(rxn_pair, nodes_pair, cmp_config, target_rxn):\n",
    "    stoich = dict(map(lambda x: (\"{}_{}\".format(x[0][0], cmp_config[x[0][1]]), x[1]), rxn.cstoichiometry.items()))\n",
    "    m, mm, ms, r = match(stoich, get_stoich_escher(rxn_pair[1]))\n",
    "    rxn_pair[1]['name'] = \"{} [{}]\".format(rxn.id, cmp)\n",
    "    rxn_pair[1]['bigg_id'] = \"{}_{}\".format(rxn.id, cmp)\n",
    "    rxn_pair[1]['annotation']['seed.reaction'] = target_rxn.id\n",
    "    metabolites = []\n",
    "    for o in rxn_pair[1]['metabolites']:\n",
    "        if o['bigg_id'] in r:\n",
    "            metabolites.append({\n",
    "                'bigg_id': r[o['bigg_id']], \n",
    "                'coefficient': o['coefficient']\n",
    "            })\n",
    "        else:\n",
    "            metabolites.append(o)\n",
    "    rxn_pair[1]['metabolites'] = copy.deepcopy(metabolites)\n",
    "    for p in nodes_pair:\n",
    "        if p[1]['node_type'] == 'metabolite':\n",
    "            if p[1]['bigg_id'] in r:\n",
    "                cpd = modelseed_local.get_seed_compound(r[p[1]['bigg_id']][:-2])\n",
    "                p[1]['name'] = '{} [{}]'.format(cpd.name, r[p[1]['bigg_id']][-1])\n",
    "                p[1]['bigg_id'] = r[p[1]['bigg_id']]"
   ]
  },
  {
   "cell_type": "code",
   "execution_count": 327,
   "metadata": {},
   "outputs": [
    {
     "data": {
      "text/plain": [
       "<modelseed_escher.core.escher_map.EscherMap at 0x7f915ad1c310>"
      ]
     },
     "execution_count": 327,
     "metadata": {},
     "output_type": "execute_result"
    }
   ],
   "source": [
    "em = None\n",
    "with open('amino_acid_transporter.json', 'r') as fh:\n",
    "    em = EscherMap(json.loads(fh.read()))\n",
    "round_coords(em)\n",
    "#em2 = None\n",
    "#with open('amino_acid_transporter2.json', 'r') as fh:\n",
    "#em2 = EscherMap(json.loads(fh.read()))"
   ]
  },
  {
   "cell_type": "code",
   "execution_count": 330,
   "metadata": {},
   "outputs": [],
   "source": [
    "cmp = 'c'\n",
    "group_id = 'SM' #AA SM\n",
    "off_index = 0\n",
    "for cpd_id in groups[group_id]:\n",
    "    off_index += 1\n",
    "    if cpd_id in perm:\n",
    "        rxn = perm[cpd_id][0]\n",
    "        \n",
    "        rxn_a, nodes_a = copy_reaction(em, '681492', 0, 500 * off_index)\n",
    "        refit_nodes(rxn_a, nodes_a, cmp_config, rxn)\n",
    "        em.escher_graph['reactions'][rxn_a[0]] = rxn_a[1]\n",
    "        for p in nodes_a:\n",
    "            em.escher_graph['nodes'][p[0]] = p[1]\n",
    "\n",
    "off_index = 0\n",
    "for cpd_id in groups[group_id]:\n",
    "    off_index += 1\n",
    "    if cpd_id in proton1_anti:\n",
    "        rxn = proton1_anti[cpd_id][0]\n",
    "        \n",
    "        rxn_a, nodes_a = copy_reaction(em, '681490', 0, 500 * off_index)\n",
    "        refit_nodes(rxn_a, nodes_a, cmp_config, rxn)\n",
    "        em.escher_graph['reactions'][rxn_a[0]] = rxn_a[1]\n",
    "        for p in nodes_a:\n",
    "            em.escher_graph['nodes'][p[0]] = p[1]\n",
    "            \n",
    "off_index = 0\n",
    "for cpd_id in groups[group_id]:\n",
    "    off_index += 1\n",
    "    if cpd_id in proton1_sym:\n",
    "        rxn = proton1_sym[cpd_id][0]\n",
    "        \n",
    "        rxn_a, nodes_a = copy_reaction(em, '681493', 0, 500 * off_index)\n",
    "        refit_nodes(rxn_a, nodes_a, cmp_config, rxn)\n",
    "        em.escher_graph['reactions'][rxn_a[0]] = rxn_a[1]\n",
    "        for p in nodes_a:\n",
    "            em.escher_graph['nodes'][p[0]] = p[1]\n",
    "            \n",
    "off_index = 0\n",
    "for cpd_id in groups[group_id]:\n",
    "    off_index += 1\n",
    "    if cpd_id in import_a:\n",
    "        rxn = import_a[cpd_id][0]\n",
    "        \n",
    "        rxn_a, nodes_a = copy_reaction(em, '681487', 0, 500 * off_index)\n",
    "        refit_nodes(rxn_a, nodes_a, cmp_config, rxn)\n",
    "        em.escher_graph['reactions'][rxn_a[0]] = rxn_a[1]\n",
    "        for p in nodes_a:\n",
    "            em.escher_graph['nodes'][p[0]] = p[1]"
   ]
  },
  {
   "cell_type": "code",
   "execution_count": 333,
   "metadata": {},
   "outputs": [],
   "source": [
    "off_index = 0\n",
    "i = 668050\n",
    "for cpd_id in groups[group_id]:\n",
    "    off_index += 1\n",
    "    cpd = modelseed_local.get_seed_compound(cpd_id)\n",
    "    label = copy.deepcopy(em.escher_graph['text_labels']['668050'])\n",
    "    label['text'] = cpd.name\n",
    "    label['y'] = label['y'] + 500 * off_index\n",
    "    em.escher_graph['text_labels'][str(i + off_index)] = label"
   ]
  },
  {
   "cell_type": "code",
   "execution_count": 232,
   "metadata": {
    "collapsed": true,
    "jupyter": {
     "outputs_hidden": true
    }
   },
   "outputs": [
    {
     "name": "stdout",
     "output_type": "stream",
     "text": [
      "681487 rxn05154_c\n",
      "681490 rxn08154_c\n",
      "681492 rxn08155_c\n",
      "681493 rxn05303_c\n",
      "681494 rxn08153_c\n",
      "681495 rxn13339_c\n",
      "681496 rxn05615_c\n",
      "681497 rxn13321_c\n",
      "681498 rxn13314_c\n",
      "681499 rxn13301_c\n",
      "681500 rxn44043_c\n",
      "681501 rxn13411_c\n",
      "681502 rxn41551_c\n",
      "681503 rxn08154_c\n",
      "681504 rxn13229_c\n",
      "681505 rxn09304_c\n",
      "681506 rxn05305_c\n",
      "681507 rxn13339_c\n",
      "681508 rxn05615_c\n",
      "681509 rxn13321_c\n",
      "681510 rxn13314_c\n",
      "681511 rxn13301_c\n",
      "681512 rxn44043_c\n",
      "681513 rxn13411_c\n",
      "681514 rxn41551_c\n",
      "681515 rxn08154_c\n",
      "681516 rxn13229_c\n",
      "681517 rxn09304_c\n",
      "681518 rxn05305_c\n",
      "681519 rxn13339_c\n",
      "681520 rxn05615_c\n",
      "681521 rxn13321_c\n",
      "681522 rxn13314_c\n",
      "681523 rxn13301_c\n",
      "681524 rxn44043_c\n",
      "681525 rxn13411_c\n",
      "681526 rxn41551_c\n",
      "681527 rxn08154_c\n",
      "681528 rxn13229_c\n",
      "681529 rxn09304_c\n",
      "681530 rxn05305_c\n"
     ]
    }
   ],
   "source": [
    "for uid in em.escher_graph['reactions']:\n",
    "    print(uid, em.escher_graph['reactions'][uid]['bigg_id'])"
   ]
  },
  {
   "cell_type": "code",
   "execution_count": 142,
   "metadata": {
    "collapsed": true,
    "jupyter": {
     "outputs_hidden": true
    }
   },
   "outputs": [
    {
     "name": "stdout",
     "output_type": "stream",
     "text": [
      "cpd00107 rxn05161: cpd00001 [0] + cpd00002 [0] + cpd00107 [1] --> cpd00008 [0] + cpd00009 [0] + cpd00067 [0] + cpd00107 [0]\n",
      "cpd00060 rxn05219: cpd00001 [0] + cpd00002 [0] + cpd00060 [1] --> cpd00008 [0] + cpd00009 [0] + cpd00060 [0] + cpd00067 [0]\n",
      "cpd00322 rxn05179: cpd00001 [0] + cpd00002 [0] + cpd00322 [1] --> cpd00008 [0] + cpd00009 [0] + cpd00067 [0] + cpd00322 [0]\n",
      "cpd00119 rxn05164: cpd00001 [0] + cpd00002 [0] + cpd00119 [1] --> cpd00008 [0] + cpd00009 [0] + cpd00067 [0] + cpd00119 [0]\n",
      "cpd00053 rxn05155: cpd00001 [0] + cpd00002 [0] + cpd00053 [1] --> cpd00008 [0] + cpd00009 [0] + cpd00053 [0] + cpd00067 [0]\n",
      "cpd00156 rxn05168: cpd00001 [0] + cpd00002 [0] + cpd00156 [1] --> cpd00008 [0] + cpd00009 [0] + cpd00067 [0] + cpd00156 [0]\n",
      "cpd00069 rxn18579: cpd00001 [0] + cpd00002 [0] + cpd00069 [1] --> cpd00008 [0] + cpd00009 [0] + cpd00067 [0] + cpd00069 [0]\n",
      "cpd00065 rxn18585: cpd00001 [0] + cpd00002 [0] + cpd00065 [1] --> cpd00008 [0] + cpd00009 [0] + cpd00065 [0] + cpd00067 [0]\n",
      "cpd00066 rxn18584: cpd00001 [0] + cpd00002 [0] + cpd00066 [1] --> cpd00008 [0] + cpd00009 [0] + cpd00066 [0] + cpd00067 [0]\n",
      "cpd00035 rxn08097: cpd00001 [0] + cpd00002 [0] + cpd00035 [1] --> cpd00008 [0] + cpd00009 [0] + cpd00035 [0] + cpd00067 [0]\n",
      "cpd00051 rxn05154: cpd00001 [0] + cpd00002 [0] + cpd00051 [1] --> cpd00008 [0] + cpd00009 [0] + cpd00051 [0] + cpd00067 [0]\n",
      "cpd00041 rxn05152: cpd00001 [0] + cpd00002 [0] + cpd00041 [1] --> cpd00008 [0] + cpd00009 [0] + cpd00041 [0] + cpd00067 [0]\n",
      "cpd00129 rxn05165: cpd00001 [0] + cpd00002 [0] + cpd00129 [1] --> cpd00008 [0] + cpd00009 [0] + cpd00067 [0] + cpd00129 [0]\n",
      "cpd00033 rxn10862: cpd00001 [0] + cpd00002 [0] + cpd00033 [1] --> cpd00008 [0] + cpd00009 [0] + cpd00033 [0] + cpd00067 [0]\n",
      "cpd00132 rxn08160: cpd00001 [0] + cpd00002 [0] + cpd00132 [1] --> cpd00008 [0] + cpd00009 [0] + cpd00067 [0] + cpd00132 [0]\n",
      "cpd00161 rxn05169: cpd00001 [0] + cpd00002 [0] + cpd00161 [1] --> cpd00008 [0] + cpd00009 [0] + cpd00067 [0] + cpd00161 [0]\n",
      "cpd00054 rxn10883: cpd00001 [0] + cpd00002 [0] + cpd00054 [1] --> cpd00008 [0] + cpd00009 [0] + cpd00054 [0] + cpd00067 [0]\n",
      "cpd00023 rxn05146: cpd00001 [0] + cpd00002 [0] + cpd00023 [1] --> cpd00008 [0] + cpd00009 [0] + cpd00023 [0] + cpd00067 [0]\n",
      "cpd00084 rxn05237: cpd00001 [0] + cpd00002 [0] + cpd00084 [1] --> cpd00008 [0] + cpd00009 [0] + cpd00067 [0] + cpd00084 [0]\n",
      "cpd00039 rxn05151: cpd00001 [0] + cpd00002 [0] + cpd00039 [1] --> cpd00008 [0] + cpd00009 [0] + cpd00039 [0] + cpd00067 [0]\n"
     ]
    }
   ],
   "source": [
    "off_index = 0\n",
    "cmp = 'c'\n",
    "for cpd_id in groups['AA']:\n",
    "    off_index += 1\n",
    "    if cpd_id in import_a:\n",
    "        off_index += 1\n",
    "        rxn = import_a[cpd_id][0]\n",
    "        print(cpd_id, import_a[cpd_id][0])\n",
    "        \n",
    "        rxn_a, nodes_a = copy_reaction(em, '681487', 0, 500 * off_index)\n",
    "        stoich = dict(map(lambda x: (\"{}_{}\".format(x[0][0], cmp_config[x[0][1]]), x[1]), rxn.cstoichiometry.items()))\n",
    "        m, mm, ms, r = match(stoich, get_stoich_escher(rxn_a[1]))\n",
    "        rxn_a[1]['name'] = \"{} [{}]\".format(rxn.id, cmp)\n",
    "        rxn_a[1]['bigg_id'] = \"{}_{}\".format(rxn.id, cmp)\n",
    "        metabolites = []\n",
    "        for o in rxn_a[1]['metabolites']:\n",
    "            if o['bigg_id'] in r:\n",
    "                metabolites.append({\n",
    "                    'bigg_id': r[o['bigg_id']], \n",
    "                    'coefficient': o['coefficient']\n",
    "                })\n",
    "            else:\n",
    "                metabolites.append(o)\n",
    "        rxn_a[1]['metabolites'] = copy.deepcopy(metabolites)\n",
    "        for p in nodes_a:\n",
    "            if p[1]['node_type'] == 'metabolite':\n",
    "                if p[1]['bigg_id'] in r:\n",
    "                    cpd = modelseed_local.get_seed_compound(r[p[1]['bigg_id']][:-2])\n",
    "                    p[1]['name'] = '{} [{}]'.format(cpd.name, r[p[1]['bigg_id']][-1])\n",
    "                    p[1]['bigg_id'] = r[p[1]['bigg_id']]\n",
    "        em.escher_graph['reactions'][rxn_a[0]] = rxn_a[1]\n",
    "        for p in nodes_a:\n",
    "            em.escher_graph['nodes'][p[0]] = p[1]"
   ]
  },
  {
   "cell_type": "code",
   "execution_count": null,
   "metadata": {},
   "outputs": [],
   "source": []
  },
  {
   "cell_type": "code",
   "execution_count": 294,
   "metadata": {},
   "outputs": [],
   "source": [
    "def round_coords(em):\n",
    "    for uid in em.escher_graph['nodes']:\n",
    "        n = em.escher_graph['nodes'][uid]\n",
    "        n['x'] = round(n['x'])\n",
    "        n['y'] = round(n['y'])\n",
    "        if n['node_type'] == 'metabolite':\n",
    "            n['label_x'] = round(n['label_x'])\n",
    "            n['label_y'] = round(n['label_y'])\n",
    "    for uid in em.escher_graph['reactions']:\n",
    "        n = em.escher_graph['reactions'][uid]\n",
    "        n['label_x'] = round(n['label_x'])\n",
    "        n['label_y'] = round(n['label_y'])\n",
    "        for s_uid in n['segments']:\n",
    "            s = n['segments'][s_uid]\n",
    "            if s['b1']:\n",
    "                s['b1']['x'] = round(s['b1']['x'])\n",
    "                s['b1']['y'] = round(s['b1']['y'])\n",
    "            if s['b2']:\n",
    "                s['b2']['x'] = round(s['b2']['x'])\n",
    "                s['b2']['y'] = round(s['b2']['y'])\n",
    "    for uid in em.escher_graph['text_labels']:\n",
    "        l = em.escher_graph['text_labels'][uid]\n",
    "        l['x'] = round(l['x'])\n",
    "        l['y'] = round(l['y'])\n",
    "\n",
    "    return em\n",
    "\n"
   ]
  },
  {
   "cell_type": "code",
   "execution_count": null,
   "metadata": {},
   "outputs": [],
   "source": []
  },
  {
   "cell_type": "code",
   "execution_count": 38,
   "metadata": {},
   "outputs": [],
   "source": [
    "rxn_a, nodes_a = copy_reaction(em, '681487', 0, 500)\n",
    "#em.escher_graph['reactions'][rxn_a[0]] = rxn_a[1]\n",
    "#for p in nodes_a:\n",
    "#    em.escher_graph['nodes'][p[0]] = p[1]"
   ]
  },
  {
   "cell_type": "code",
   "execution_count": 59,
   "metadata": {},
   "outputs": [],
   "source": [
    "cmp_config = {'0': 'c', '1' : 'e'}"
   ]
  },
  {
   "cell_type": "code",
   "execution_count": 44,
   "metadata": {},
   "outputs": [
    {
     "data": {
      "text/plain": [
       "{('cpd00001', '0'): -1.0,\n",
       " ('cpd00002', '0'): -1.0,\n",
       " ('cpd00107', '1'): -1.0,\n",
       " ('cpd00008', '0'): 1.0,\n",
       " ('cpd00009', '0'): 1.0,\n",
       " ('cpd00067', '0'): 1.0,\n",
       " ('cpd00107', '0'): 1.0}"
      ]
     },
     "execution_count": 44,
     "metadata": {},
     "output_type": "execute_result"
    }
   ],
   "source": [
    "rxn.cstoichiometry"
   ]
  },
  {
   "cell_type": "code",
   "execution_count": 57,
   "metadata": {},
   "outputs": [
    {
     "name": "stdout",
     "output_type": "stream",
     "text": [
      "{'node_type': 'midmarker', 'x': 346.0562744140625, 'y': 2736.79443359375}\n",
      "{'node_type': 'multimarker', 'x': 326.0562744140625, 'y': 2736.79443359375}\n",
      "{'node_type': 'multimarker', 'x': 366.0562744140625, 'y': 2736.79443359375}\n",
      "{'node_type': 'metabolite', 'x': 197.61566162109375, 'y': 2665.012939453125, 'bigg_id': 'cpd00001_c', 'name': 'H2O [c]', 'label_x': 143.61566162109375, 'label_y': 2645.012939453125, 'node_is_primary': False}\n",
      "{'node_type': 'metabolite', 'x': 306.80419921875, 'y': 2621.89892578125, 'bigg_id': 'cpd00002_c', 'name': 'ATP [c]', 'label_x': 270.41522216796875, 'label_y': 2596.151123046875, 'node_is_primary': False}\n",
      "{'node_type': 'metabolite', 'x': 470.5712890625, 'y': 2634.650146484375, 'bigg_id': 'cpd00008_c', 'name': 'ADP [c]', 'label_x': 414.22314453125, 'label_y': 2617.120849609375, 'node_is_primary': False}\n",
      "{'node_type': 'metabolite', 'x': 562.5928955078125, 'y': 2653.272216796875, 'bigg_id': 'cpd00009_c', 'name': 'Phosphate [c]', 'label_x': 508.5928955078125, 'label_y': 2633.272216796875, 'node_is_primary': False}\n",
      "{'node_type': 'metabolite', 'x': 685.8702392578125, 'y': 2736.957763671875, 'bigg_id': 'cpd00051_c', 'name': 'L-Arginine [c]', 'label_x': 631.8702392578125, 'label_y': 2776.957763671875, 'node_is_primary': True}\n",
      "{'node_type': 'metabolite', 'x': 35.13397216796875, 'y': 2736.79443359375, 'bigg_id': 'cpd00051_e', 'name': 'L-Arginine [e]', 'label_x': -31.3846435546875, 'label_y': 2789.101806640625, 'node_is_primary': True}\n",
      "{'node_type': 'metabolite', 'x': 661.1738891601562, 'y': 2640.84716796875, 'bigg_id': 'cpd00067_c', 'name': 'H+ [c]', 'label_x': 638.8737182617188, 'label_y': 2617.447509765625, 'node_is_primary': False}\n"
     ]
    }
   ],
   "source": [
    "for p in nodes_a:\n",
    "    print(p[1])"
   ]
  },
  {
   "cell_type": "code",
   "execution_count": 63,
   "metadata": {},
   "outputs": [],
   "source": []
  },
  {
   "cell_type": "code",
   "execution_count": 66,
   "metadata": {},
   "outputs": [
    {
     "data": {
      "text/plain": [
       "{'cpd00001_c': -1,\n",
       " 'cpd00002_c': -1,\n",
       " 'cpd00008_c': 1,\n",
       " 'cpd00009_c': 1,\n",
       " 'cpd00051_c': 1,\n",
       " 'cpd00051_e': -1,\n",
       " 'cpd00067_c': 1}"
      ]
     },
     "execution_count": 66,
     "metadata": {},
     "output_type": "execute_result"
    }
   ],
   "source": [
    "def get_stoich_escher(escher_reaction):\n",
    "    stoich = dict(map(lambda x: (x['bigg_id'], x['coefficient']), escher_reaction['metabolites']))\n",
    "    return stoich\n",
    "get_stoich_escher(rxn_a[1])"
   ]
  },
  {
   "cell_type": "code",
   "execution_count": 100,
   "metadata": {},
   "outputs": [],
   "source": [
    "def match(a, target):\n",
    "    #print(a)\n",
    "    #print(target)\n",
    "    match = {}\n",
    "    mismatch = {}\n",
    "    missing = {}\n",
    "    for i in a:\n",
    "        if i in target and target[i] == a[i]:\n",
    "            match[i] = target[i]\n",
    "        else:\n",
    "            mismatch[i] = a[i]\n",
    "    for i in target:\n",
    "        if i not in match:\n",
    "            missing[i] = target[i]\n",
    "    replace = {}\n",
    "    for i1 in mismatch:\n",
    "        for i2 in missing:\n",
    "            if missing[i2] == mismatch[i1]:\n",
    "                replace[i2] = i1\n",
    "                #print(i1, i2)\n",
    "        #print(i1, mismatch[i1])\n",
    "    return match, mismatch, missing, replace\n"
   ]
  },
  {
   "cell_type": "code",
   "execution_count": 110,
   "metadata": {},
   "outputs": [
    {
     "name": "stdout",
     "output_type": "stream",
     "text": [
      "{'node_type': 'metabolite', 'x': 685.8702392578125, 'y': 2936.957763671875, 'bigg_id': 'cpd00107_c', 'name': 'L-Leucine [c]', 'label_x': 631.8702392578125, 'label_y': 2976.957763671875, 'node_is_primary': True}\n",
      "{'node_type': 'metabolite', 'x': 35.13397216796875, 'y': 2936.79443359375, 'bigg_id': 'cpd00107_e', 'name': 'L-Leucine [e]', 'label_x': -31.3846435546875, 'label_y': 2989.101806640625, 'node_is_primary': True}\n"
     ]
    },
    {
     "data": {
      "text/plain": [
       "{'cpd00051_e': 'cpd00107_e', 'cpd00051_c': 'cpd00107_c'}"
      ]
     },
     "execution_count": 110,
     "metadata": {},
     "output_type": "execute_result"
    }
   ],
   "source": [
    "\n",
    "r"
   ]
  },
  {
   "cell_type": "code",
   "execution_count": 53,
   "metadata": {},
   "outputs": [
    {
     "name": "stdout",
     "output_type": "stream",
     "text": [
      "rxn05161: cpd00001 [0] + cpd00002 [0] + cpd00107 [1] --> cpd00008 [0] + cpd00009 [0] + cpd00067 [0] + cpd00107 [0]\n"
     ]
    }
   ],
   "source": [
    "print(rxn)"
   ]
  },
  {
   "cell_type": "code",
   "execution_count": 7,
   "metadata": {},
   "outputs": [],
   "source": [
    "import copy"
   ]
  },
  {
   "cell_type": "code",
   "execution_count": 13,
   "metadata": {},
   "outputs": [],
   "source": [
    "def copy_reaction(em, rxn_uid, x_off=0, y_off=0):\n",
    "    node_rxn = copy.deepcopy(em.escher_graph['reactions'][rxn_uid])\n",
    "    node_copies = {}\n",
    "    node_uid_mapping = {}\n",
    "    next_id = em.get_next_id()\n",
    "    next_seg_id = em.get_next_segment_id()\n",
    "    next_rxn_id = em.get_next_reaction_id()\n",
    "    map_nodes = em.escher_graph['nodes']\n",
    "    nodes_to_add = []\n",
    "    for s_uid in node_rxn['segments']:\n",
    "        segment = node_rxn['segments'][s_uid]\n",
    "        node_copies[segment['to_node_id']] = copy.deepcopy(map_nodes[segment['to_node_id']])\n",
    "        node_copies[segment['from_node_id']] = copy.deepcopy(map_nodes[segment['from_node_id']])\n",
    "    for node_uid in node_copies:\n",
    "        node = node_copies[node_uid]\n",
    "        node['x'] += x_off\n",
    "        node['y'] += y_off\n",
    "        if node['node_type'] == 'metabolite':\n",
    "            node['label_x'] += x_off\n",
    "            node['label_y'] += y_off\n",
    "        node_uid_mapping[node_uid] = next_id\n",
    "        #em.escher_graph['nodes'][next_id] = node\n",
    "        nodes_to_add.append((next_id, node))\n",
    "        next_id += 1\n",
    "    segments = {}\n",
    "    for s_uid in node_rxn['segments']:\n",
    "        segment = node_rxn['segments'][s_uid]\n",
    "        if segment['b1']:\n",
    "            segment['b1']['x'] += x_off\n",
    "            segment['b1']['y'] += y_off\n",
    "        if segment['b2']:\n",
    "            segment['b2']['x'] += x_off\n",
    "            segment['b2']['y'] += y_off\n",
    "        segment['from_node_id'] = node_uid_mapping[segment['from_node_id']]\n",
    "        segment['to_node_id'] = node_uid_mapping[segment['to_node_id']]\n",
    "        segments[next_seg_id] = segment\n",
    "        next_seg_id += 1\n",
    "    node_rxn['segments'] = segments\n",
    "    node_rxn['label_x'] += x_off\n",
    "    node_rxn['label_y'] += y_off\n",
    "    #em.escher_graph['reactions'][next_rxn_id] = node_rxn\n",
    "    return (next_rxn_id, node_rxn), nodes_to_add"
   ]
  },
  {
   "cell_type": "code",
   "execution_count": 88,
   "metadata": {},
   "outputs": [
    {
     "name": "stdout",
     "output_type": "stream",
     "text": [
      "8820\n",
      "681495\n"
     ]
    }
   ],
   "source": [
    "def get_next_segment_id(em):\n",
    "    next_id = 0\n",
    "    for rxn_uid in em.escher_graph['reactions']:\n",
    "        for node_id in em.escher_graph['reactions'][rxn_uid]['segments']:\n",
    "            if int(node_id) >= next_id:\n",
    "                next_id = int(node_id) + 1\n",
    "\n",
    "    return next_id\n",
    "\n",
    "def get_next_reaction_id(em):\n",
    "    next_id = 0\n",
    "    for node_id in em.escher_graph['reactions']:\n",
    "        if int(node_id) >= next_id:\n",
    "            next_id = int(node_id) + 1\n",
    "\n",
    "    return next_id\n",
    "\n",
    "print(get_next_segment_id(em))\n",
    "print(get_next_reaction_id(em))"
   ]
  },
  {
   "cell_type": "code",
   "execution_count": 25,
   "metadata": {},
   "outputs": [
    {
     "data": {
      "text/plain": [
       "{'node_type': 'metabolite',\n",
       " 'x': 228.99681091308594,\n",
       " 'y': 2775.688720703125,\n",
       " 'bigg_id': 'cpd00001_c',\n",
       " 'name': 'H2O [c]',\n",
       " 'label_x': 146.98529052734375,\n",
       " 'label_y': 2759.66552734375,\n",
       " 'node_is_primary': False}"
      ]
     },
     "execution_count": 25,
     "metadata": {},
     "output_type": "execute_result"
    }
   ],
   "source": [
    "em2.escher_graph['nodes']['683176']"
   ]
  },
  {
   "cell_type": "code",
   "execution_count": 84,
   "metadata": {},
   "outputs": [
    {
     "data": {
      "text/plain": [
       "dict_keys(['681487', '681490', '681492', '681493', '681494', '681495'])"
      ]
     },
     "execution_count": 84,
     "metadata": {},
     "output_type": "execute_result"
    }
   ],
   "source": [
    "em2.escher_graph['reactions'].keys()"
   ]
  },
  {
   "cell_type": "code",
   "execution_count": 22,
   "metadata": {},
   "outputs": [
    {
     "data": {
      "text/plain": [
       "{'8820': {'from_node_id': '683177',\n",
       "  'to_node_id': '683178',\n",
       "  'b1': None,\n",
       "  'b2': None},\n",
       " '8821': {'from_node_id': '683179',\n",
       "  'to_node_id': '683178',\n",
       "  'b1': None,\n",
       "  'b2': None},\n",
       " '8822': {'from_node_id': '683177',\n",
       "  'to_node_id': '683176',\n",
       "  'b1': {'x': 285.97377014160156, 'y': 2831.711669921875},\n",
       "  'b2': {'x': 244.45628356933594, 'y': 2797.333984375}},\n",
       " '8823': {'from_node_id': '683177',\n",
       "  'to_node_id': '683180',\n",
       "  'b1': {'x': 281.97377014160156, 'y': 2831.711669921875},\n",
       "  'b2': {'x': 317.46778869628906, 'y': 2808.61865234375}},\n",
       " '8824': {'from_node_id': '683179',\n",
       "  'to_node_id': '683181',\n",
       "  'b1': {'x': 409.97377014160156, 'y': 2831.711669921875},\n",
       "  'b2': {'x': 448.9447784423828, 'y': 2803.7001953125}},\n",
       " '8825': {'from_node_id': '683179',\n",
       "  'to_node_id': '683182',\n",
       "  'b1': {'x': 413.97377014160156, 'y': 2831.711669921875},\n",
       "  'b2': {'x': 484.15956115722656, 'y': 2823.8974609375}},\n",
       " '8826': {'from_node_id': '683179',\n",
       "  'to_node_id': '683183',\n",
       "  'b1': {'x': 413.97377014160156, 'y': 2831.711669921875},\n",
       "  'b2': {'x': 575.8336334228516, 'y': 2817.880615234375}},\n",
       " '8827': {'from_node_id': '683179',\n",
       "  'to_node_id': '683184',\n",
       "  'b1': {'x': 413.97377014160156, 'y': 2831.711669921875},\n",
       "  'b2': {'x': 593.9381561279297, 'y': 2826.967529296875}},\n",
       " '8828': {'from_node_id': '683177',\n",
       "  'to_node_id': '683185',\n",
       "  'b1': {'x': 281.97377014160156, 'y': 2831.711669921875},\n",
       "  'b2': {'x': 84.46293640136719, 'y': 2831.885986328125}}}"
      ]
     },
     "execution_count": 22,
     "metadata": {},
     "output_type": "execute_result"
    }
   ],
   "source": [
    "em2.escher_graph['reactions']['681495']['segments'] #next 683176"
   ]
  },
  {
   "cell_type": "code",
   "execution_count": 105,
   "metadata": {},
   "outputs": [],
   "source": []
  },
  {
   "cell_type": "code",
   "execution_count": 127,
   "metadata": {},
   "outputs": [],
   "source": []
  },
  {
   "cell_type": "code",
   "execution_count": null,
   "metadata": {},
   "outputs": [],
   "source": []
  },
  {
   "cell_type": "code",
   "execution_count": null,
   "metadata": {},
   "outputs": [],
   "source": []
  },
  {
   "cell_type": "code",
   "execution_count": null,
   "metadata": {},
   "outputs": [],
   "source": []
  },
  {
   "cell_type": "code",
   "execution_count": 326,
   "metadata": {},
   "outputs": [
    {
     "name": "stdout",
     "output_type": "stream",
     "text": [
      "ATP\tcpd00002\n",
      "GTP\tcpd00038\n",
      "CTP\tcpd00052\n",
      "UTP\tcpd00062\n",
      "dATP\tcpd00115\n",
      "dGTP\tcpd00241\n",
      "dCTP\tcpd00356\n",
      "TTP\tcpd00357\n",
      "L-Glutamate\tcpd00023\n",
      "Glycine\tcpd00033\n",
      "L-Alanine\tcpd00035\n",
      "L-Lysine\tcpd00039\n",
      "L-Aspartate\tcpd00041\n",
      "L-Arginine\tcpd00051\n",
      "L-Glutamine\tcpd00053\n",
      "L-Serine\tcpd00054\n",
      "L-Methionine\tcpd00060\n",
      "L-Tryptophan\tcpd00065\n",
      "L-Phenylalanine\tcpd00066\n",
      "L-Tyrosine\tcpd00069\n",
      "L-Cysteine\tcpd00084\n",
      "L-Leucine\tcpd00107\n",
      "L-Histidine\tcpd00119\n",
      "L-Proline\tcpd00129\n",
      "L-Asparagine\tcpd00132\n",
      "L-Valine\tcpd00156\n",
      "L-Threonine\tcpd00161\n",
      "L-Isoleucine\tcpd00322\n",
      "ATP\tcpd00002\n",
      "Biomass\tcpd11416\n",
      "Protein biosynthesis\tcpd17041\n",
      "DNA replication\tcpd17042\n",
      "RNA transcription\tcpd17043\n",
      "CoA\tcpd00010\n",
      "ACP\tcpd11493\n",
      "NAD\tcpd00003\n",
      "NADP\tcpd00006\n",
      "K+\tcpd00205\n",
      "Mg\tcpd00254\n",
      "fe3\tcpd10516\n",
      "Ca2+\tcpd00063\n",
      "Phosphate\tcpd00009\n",
      "Cl-\tcpd00099\n",
      "Co2+\tcpd00149\n",
      "Cu2+\tcpd00058\n",
      "FAD\tcpd00015\n",
      "Fe2+\tcpd10515\n",
      "Mn2+\tcpd00030\n",
      "Sulfate\tcpd00048\n",
      "Zn2+\tcpd00034\n",
      "Pyridoxal phosphate\tcpd00016\n",
      "Riboflavin\tcpd00220\n",
      "S-Adenosyl-L-methionine\tcpd00017\n",
      "10-Formyltetrahydrofolate\tcpd00201\n",
      "Tetrahydrofolate\tcpd00087\n",
      "5-Methyltetrahydrofolate\tcpd00345\n",
      "GSH\tcpd00042\n",
      "Heme\tcpd00028\n",
      "Siroheme\tcpd00557\n",
      "Spermidine\tcpd00264\n",
      "Putrescine\tcpd00118\n",
      "TPP\tcpd00056\n",
      "Ubiquinone-8\tcpd15560\n",
      "2-Demethylmenaquinone 8\tcpd15352\n",
      "Menaquinone 8\tcpd15500\n",
      "Calomide\tcpd00166\n",
      "Stearoylcardiolipin (B. subtilis)\tcpd15793\n",
      "Isoheptadecanoylcardiolipin (B. subtilis)\tcpd15794\n",
      "Anteisoheptadecanoylcardiolipin (B. subtilis)\tcpd15795\n",
      "Diisoheptadecanoylphosphatidylglycerol\tcpd15722\n",
      "Dianteisoheptadecanoylphosphatidylglycerol\tcpd15723\n",
      "Phosphatidylglycerol dioctadecanoyl\tcpd15540\n",
      "phosphatidylethanolamine dioctadecanoyl\tcpd15533\n",
      "Diisoheptadecanoylphosphatidylethanolamine\tcpd15695\n",
      "Dianteisoheptadecanoylphosphatidylethanolamine\tcpd15696\n",
      "Stearoyllipoteichoic acid (n=24), linked, unsubstituted\tcpd15748\n",
      "Stearoyllipoteichoic acid (n=24), linked, glucose substituted\tcpd15757\n",
      "Stearoyllipoteichoic acid (n=24), linked, N-acetyl-D-glucosamine\tcpd15766\n",
      "Stearoyllipoteichoic acid (n=24), linked, D-alanine substituted\tcpd15775\n",
      "Isoheptadecanoyllipoteichoic acid (n=24), linked, unsubstituted\tcpd15749\n",
      "Isoheptadecanoyllipoteichoic acid (n=24), linked, glucose substituted\tcpd15758\n",
      "Isoheptadecanoyllipoteichoic acid (n=24), linked, N-acetyl-D-glucosamine\tcpd15767\n",
      "Isoheptadecanoyllipoteichoic acid (n=24), linked, D-alanine substituted\tcpd15776\n",
      "Anteisoheptadecanoyllipoteichoic acid (n=24), linked, unsubstituted\tcpd15750\n",
      "Anteisoheptadecanoyllipoteichoic acid (n=24), linked, glucose substituted\tcpd15759\n",
      "Anteisoheptadecanoyllipoteichoic acid (n=24), linked, N-acetyl-D-glucosamine\tcpd15768\n",
      "Anteisoheptadecanoyllipoteichoic acid (n=24), linked, D-alanine substituted\tcpd15777\n",
      "glycerol teichoic acid (n=45), linked, unsubstituted\tcpd15667\n",
      "glycerol teichoic acid (n=45), linked, D-ala substituted\tcpd15668\n",
      "glycerol teichoic acid (n=45), linked, glucose substituted\tcpd15669\n",
      "tcam\tcpd11459\n",
      "Bactoprenyl diphosphate\tcpd02229\n",
      "Peptidoglycan polymer (n subunits)\tcpd15665\n",
      "BIOT\tcpd00104\n",
      "UDP-N-acetylglucosamine\tcpd00037\n",
      "FMN\tcpd00050\n"
     ]
    }
   ],
   "source": [
    "kbase = cobrakbase.KBaseAPI()\n",
    "template_o = kbase.get_from_ws('GramPosModelTemplateV2', 'NewKBaseModelTemplates')\n",
    "for c in template_o.biomasses[0]['templateBiomassComponents']:\n",
    "    cc_id = c['templatecompcompound_ref'].split('/')[-1]\n",
    "    compc = template_o.compcompounds.get_by_id(cc_id)\n",
    "    cpd_id = compc.templatecompound_ref.split('/')[-1]\n",
    "    cpd = template_o.compounds.get_by_id(cpd_id)\n",
    "    print(\"{}\\t{}\".format(cpd.name, cpd.id))"
   ]
  },
  {
   "cell_type": "code",
   "execution_count": null,
   "metadata": {},
   "outputs": [],
   "source": []
  }
 ],
 "metadata": {
  "kernelspec": {
   "display_name": "Python 3",
   "language": "python",
   "name": "python3"
  },
  "language_info": {
   "codemirror_mode": {
    "name": "ipython",
    "version": 3
   },
   "file_extension": ".py",
   "mimetype": "text/x-python",
   "name": "python",
   "nbconvert_exporter": "python",
   "pygments_lexer": "ipython3",
   "version": "3.7.4"
  }
 },
 "nbformat": 4,
 "nbformat_minor": 4
}
