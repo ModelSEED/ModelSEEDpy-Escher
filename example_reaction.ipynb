{
 "cells": [
  {
   "cell_type": "code",
   "execution_count": 32,
   "metadata": {},
   "outputs": [],
   "source": [
    "%run Functions/functions.py\n",
    "import escher\n",
    "import json"
   ]
  },
  {
   "cell_type": "code",
   "execution_count": 17,
   "metadata": {},
   "outputs": [],
   "source": [
    "escher_map = {}\n",
    "with open('escher/maps/Saccharomyces cerevisiae/iMM904.Central carbon metabolism.json', \"r\") as fh:\n",
    "    jsonS = fh.read()\n",
    "    escher_map = json.loads(jsonS)"
   ]
  },
  {
   "cell_type": "code",
   "execution_count": 18,
   "metadata": {},
   "outputs": [],
   "source": [
    "layout = escher_map[1]"
   ]
  },
  {
   "cell_type": "code",
   "execution_count": 33,
   "metadata": {},
   "outputs": [],
   "source": [
    "layout['reactions'] = {}\n",
    "layout['nodes'] = {}\n",
    "layout['canvas'] = {'y': 1850.3106803671876,\n",
    "   'x': 1891.530700976562,\n",
    "   'height': 7502.07660657031,\n",
    "   'width': 4960.490337304691}\n",
    "layout['text_labels'] = {}"
   ]
  },
  {
   "cell_type": "markdown",
   "metadata": {},
   "source": [
    "Example Reaction Data"
   ]
  },
  {
   "cell_type": "code",
   "execution_count": 20,
   "metadata": {},
   "outputs": [],
   "source": [
    "stoich = {'0': {'cpd00497': -1,\n",
    "  'cpd00126': 1},\n",
    " '1': {'cpd00126': -1, 'cpd00018': 1},\n",
    " '2': {'cpd00126': -1,'cpd02375': 1, 'cpd00001': -1, 'cpd00002': 1},\n",
    " '3': {'cpd00126': -1, 'cpd00321': 1},\n",
    " '4': {'cpd00018': -1, 'cpd00322': 1},\n",
    " '5': {'cpd00018': -1, 'cpd78432': 1},\n",
    " '6': {'cpd02375': -1, 'cpd43213': 1},\n",
    " '7': {'cpd02375': -1, 'cpd43214': 1},\n",
    " '8': {'cpd00321': -1, 'cpd42143': 1}}"
   ]
  },
  {
   "cell_type": "code",
   "execution_count": 34,
   "metadata": {},
   "outputs": [
    {
     "data": {
      "text/html": [
       "\n",
       "\n",
       "\n",
       "  \n",
       "  \n",
       "\n",
       "  \n",
       "  \n",
       "    <link rel=\"stylesheet\" href=\"//unpkg.com/escher-vis@1.6.0/css/dist/builder.min.css\"/>\n",
       "  \n",
       "\n",
       "\n",
       "\n",
       "  <div style=\"height: 500px; width: 100%;\" id=\"dgkxulglah\"></div>\n",
       "\n",
       "  <script>\n",
       "   /* Closure to make sure data only applies to this map. */\n",
       "   (function() {\n",
       "       /* data from python */\n",
       "       var data = get_data();\n",
       "\n",
       "       function load_lib(url, callback) {\n",
       "           /** Dynamically load a JavaScript file */\n",
       "           var s = document.createElement('script');\n",
       "           s.src = url;\n",
       "           s.async = true;\n",
       "           s.onreadystatechange = s.onload = callback;\n",
       "           s.onerror = function() {\n",
       "               console.warn('Failed to load library ' + url);\n",
       "           };\n",
       "           document.getElementsByTagName('head')[0].appendChild(s);\n",
       "       }\n",
       "\n",
       "       function check_global_and_load(name, url, callback) {\n",
       "           /** Look for the name in the global scope. If it isn't present, then\n",
       "              load the library at url. Returns the object. */\n",
       "           if (window[name] !== undefined) {\n",
       "               callback(window[name]);\n",
       "           } else {\n",
       "               load_lib(url, function() {\n",
       "                   callback(window[name]);\n",
       "               });\n",
       "           }\n",
       "       }\n",
       "\n",
       "       function draw_escher(escher) {\n",
       "           /** Get data and draw */\n",
       "           var load = function(t_map_data, t_model_data, t_options) {\n",
       "               escher.Builder(t_map_data, t_model_data, data.builder_embed_css,\n",
       "                              escher.libs.d3_select('#' + data.id), t_options);\n",
       "           }\n",
       "\n",
       "           // for the static site, use the url attributes for the map and model\n",
       "           // information\n",
       "           if (data.static_site_index !== null) {\n",
       "               escher.static.load_map_model_from_url(data.map_download_url, data.model_download_url,\n",
       "                                                     data.static_site_index, data.options, load);\n",
       "           } else {\n",
       "               load(data.map_data, data.model_data, data.options);\n",
       "           }\n",
       "       }\n",
       "\n",
       "       // Load dependencies and draw\n",
       "       if (typeof define === 'function' && define.amd) {\n",
       "           // require.js is available: use it to load escher\n",
       "           require.config({\n",
       "             paths: {\n",
       "               escher: '//unpkg.com/escher-vis@1.6.0/js/dist/escher.min',\n",
       "             },\n",
       "             // Override urlArgs that adds ?v= to the end of the escher URL and\n",
       "             // messes up unpkg links. Honestly, I'm not sure if this will lead\n",
       "             // to downstream bugs in the notebook, but they really shouldn't be\n",
       "             // doing this cache-busting anyway.\n",
       "             urlArgs: null,\n",
       "           })\n",
       "           require([ 'escher' ], function(escher) {\n",
       "               draw_escher(escher);\n",
       "           })\n",
       "       } else {\n",
       "           // require.js not available: dynamically load escher\n",
       "           check_global_and_load('escher', '//unpkg.com/escher-vis@1.6.0/js/dist/escher.min.js', function(escher) {\n",
       "               draw_escher(escher);\n",
       "           })\n",
       "       }\n",
       "\n",
       "       // Put this at the end so Chrome doesn't cut off the code above.\n",
       "       function get_data() {\n",
       "           /** Return the data passed in by the Python module. */\n",
       "           return {\n",
       "               id: JSON.parse('\"dgkxulglah\"'),\n",
       "               map_download_url: JSON.parse('\"//escher.github.io/1-0-0/5/maps/\"'),\n",
       "               model_download_url: JSON.parse('\"//escher.github.io/1-0-0/5/models/\"'),\n",
       "               options: JSON.parse('{\"menu\": \"zoom\", \"enable_keys\": false, \"enable_editing\": false, \"scroll_behavior\": \"none\", \"fill_screen\": false, \"ignore_bootstrap\": true, \"never_ask_before_quit\": true, \"reaction_data\": null, \"metabolite_data\": null, \"gene_data\": null}'),\n",
       "               builder_embed_css: JSON.parse('null'),\n",
       "               map_data: JSON.parse('[{\"map_name\": \"iMM904.Central carbon metabolism\", \"map_id\": \"78086bfdab8ac8a8150cf4cd5dada037\", \"map_description\": \"Yeast central carbon metabolism\\\\nLast Modified Fri Jan 09 2015 19:50:57 GMT-0800 (PST)\", \"homepage\": \"https://escher.github.io\", \"schema\": \"https://escher.github.io/escher/jsonschema/1-0-0#\"}, {\"reactions\": {\"1\": {\"name\": \"0\", \"bigg_id\": \"0\", \"segments\": {\"2\": {\"to_node_id\": 4, \"from_node_id\": 1, \"b2\": {\"x\": 2025.0, \"y\": 5000.0}, \"b1\": {\"y\": 5000.0, \"x\": 2100.0}}, \"3\": {\"to_node_id\": 3, \"from_node_id\": 4, \"b2\": null, \"b1\": null}, \"4\": {\"to_node_id\": 5, \"from_node_id\": 3, \"b2\": null, \"b1\": null}, \"5\": {\"to_node_id\": 2, \"from_node_id\": 5, \"b2\": {\"x\": 2400, \"y\": 5000}, \"b1\": {\"y\": 5000.0, \"x\": 2375.0}}}, \"genes\": [], \"reversibility\": false, \"metabolites\": [{\"coefficient\": 1, \"bigg_id\": \"cpd00126\"}, {\"coefficient\": -1, \"bigg_id\": \"cpd00497\"}], \"label_x\": 2250.0, \"label_y\": 5050.0, \"gene_reaction_rule\": \"\"}, \"2\": {\"name\": 2, \"bigg_id\": 1, \"segments\": {\"6\": {\"to_node_id\": 6, \"from_node_id\": 8, \"b2\": {\"x\": 2900, \"y\": 5000}, \"b1\": {\"y\": 5000, \"x\": 2900.0}}, \"7\": {\"to_node_id\": 9, \"from_node_id\": 2, \"b2\": {\"x\": 2600.0, \"y\": 5000}, \"b1\": {\"y\": 5000, \"x\": 2600}}, \"9\": {\"to_node_id\": 7, \"from_node_id\": 9, \"b2\": null, \"b1\": null}, \"10\": {\"to_node_id\": 8, \"from_node_id\": 7, \"b2\": null, \"b1\": null}}, \"genes\": [], \"reversibility\": false, \"metabolites\": [{\"coefficient\": 1, \"bigg_id\": \"cpd00018\"}, {\"coefficient\": -1, \"bigg_id\": \"cpd00126\"}], \"label_x\": 2750.0, \"label_y\": 4970, \"gene_reaction_rule\": \"\"}, \"3\": {\"name\": 3, \"bigg_id\": 2, \"segments\": {\"11\": {\"to_node_id\": 10, \"from_node_id\": 12, \"b2\": {\"x\": 3400, \"y\": 5000}, \"b1\": {\"y\": 5000, \"x\": 3400.0}}, \"12\": {\"to_node_id\": 13, \"from_node_id\": 6, \"b2\": {\"x\": 3100.0, \"y\": 5000}, \"b1\": {\"y\": 5000, \"x\": 3100}}, \"14\": {\"to_node_id\": 11, \"from_node_id\": 13, \"b2\": null, \"b1\": null}, \"15\": {\"to_node_id\": 12, \"from_node_id\": 11, \"b2\": null, \"b1\": null}}, \"genes\": [], \"reversibility\": false, \"metabolites\": [{\"coefficient\": 1, \"bigg_id\": \"cpd00322\"}, {\"coefficient\": -1, \"bigg_id\": \"cpd00018\"}], \"label_x\": 3250.0, \"label_y\": 4970, \"gene_reaction_rule\": \"\"}, \"4\": {\"name\": 4, \"bigg_id\": 3, \"segments\": {\"16\": {\"to_node_id\": 14, \"from_node_id\": 16, \"b2\": {\"x\": 3400, \"y\": 4500}, \"b1\": {\"y\": 4500, \"x\": 3400.0}}, \"17\": {\"to_node_id\": 17, \"from_node_id\": 6, \"b2\": {\"x\": 3100.0, \"y\": 4500}, \"b1\": {\"y\": 5000, \"x\": 3100}}, \"19\": {\"to_node_id\": 15, \"from_node_id\": 17, \"b2\": null, \"b1\": null}, \"20\": {\"to_node_id\": 16, \"from_node_id\": 15, \"b2\": null, \"b1\": null}}, \"genes\": [], \"reversibility\": false, \"metabolites\": [{\"coefficient\": 1, \"bigg_id\": \"cpd78432\"}, {\"coefficient\": -1, \"bigg_id\": \"cpd00018\"}], \"label_x\": 3250.0, \"label_y\": 4470, \"gene_reaction_rule\": \"\"}, \"5\": {\"name\": 3, \"bigg_id\": 2, \"segments\": {\"21\": {\"to_node_id\": 18, \"from_node_id\": 20, \"b2\": {\"x\": 2900, \"y\": 4500}, \"b1\": {\"y\": 4500, \"x\": 2900.0}}, \"22\": {\"to_node_id\": 21, \"from_node_id\": 2, \"b2\": {\"x\": 2600.0, \"y\": 4500}, \"b1\": {\"y\": 5000, \"x\": 2600}}, \"23\": {\"to_node_id\": \"22\", \"from_node_id\": 20, \"b2\": {\"y\": 4500.0, \"x\": 2600.0}, \"b1\": {\"y\": 4500.0, \"x\": 2700.0}}, \"24\": {\"to_node_id\": \"23\", \"from_node_id\": 21, \"b2\": {\"y\": 4500.0, \"x\": 2900.0}, \"b1\": {\"y\": 4500.0, \"x\": 2800.0}}, \"26\": {\"to_node_id\": 19, \"from_node_id\": 21, \"b2\": null, \"b1\": null}, \"27\": {\"to_node_id\": 20, \"from_node_id\": 19, \"b2\": null, \"b1\": null}}, \"genes\": [], \"reversibility\": false, \"metabolites\": [{\"coefficient\": -1, \"bigg_id\": \"cpd00001\"}, {\"coefficient\": 1, \"bigg_id\": \"cpd00002\"}, {\"coefficient\": 1, \"bigg_id\": \"cpd02375\"}, {\"coefficient\": -1, \"bigg_id\": \"cpd00126\"}], \"label_x\": 2750.0, \"label_y\": 4470, \"gene_reaction_rule\": \"\"}, \"6\": {\"name\": 4, \"bigg_id\": 3, \"segments\": {\"28\": {\"to_node_id\": 24, \"from_node_id\": 26, \"b2\": {\"x\": 3400, \"y\": 4000}, \"b1\": {\"y\": 4000, \"x\": 3400.0}}, \"29\": {\"to_node_id\": 27, \"from_node_id\": 18, \"b2\": {\"x\": 3100.0, \"y\": 4000}, \"b1\": {\"y\": 4500, \"x\": 3100}}, \"31\": {\"to_node_id\": 25, \"from_node_id\": 27, \"b2\": null, \"b1\": null}, \"32\": {\"to_node_id\": 26, \"from_node_id\": 25, \"b2\": null, \"b1\": null}}, \"genes\": [], \"reversibility\": false, \"metabolites\": [{\"coefficient\": 1, \"bigg_id\": \"cpd43213\"}, {\"coefficient\": -1, \"bigg_id\": \"cpd02375\"}], \"label_x\": 3250.0, \"label_y\": 3970, \"gene_reaction_rule\": \"\"}, \"7\": {\"name\": 5, \"bigg_id\": 4, \"segments\": {\"33\": {\"to_node_id\": 28, \"from_node_id\": 30, \"b2\": {\"x\": 3400, \"y\": 3500}, \"b1\": {\"y\": 3500, \"x\": 3400.0}}, \"34\": {\"to_node_id\": 31, \"from_node_id\": 18, \"b2\": {\"x\": 3000.0, \"y\": 3500}, \"b1\": {\"y\": 4500, \"x\": 3100}}, \"36\": {\"to_node_id\": 29, \"from_node_id\": 31, \"b2\": null, \"b1\": null}, \"37\": {\"to_node_id\": 30, \"from_node_id\": 29, \"b2\": null, \"b1\": null}}, \"genes\": [], \"reversibility\": false, \"metabolites\": [{\"coefficient\": 1, \"bigg_id\": \"cpd43214\"}, {\"coefficient\": -1, \"bigg_id\": \"cpd02375\"}], \"label_x\": 3250.0, \"label_y\": 3470, \"gene_reaction_rule\": \"\"}, \"8\": {\"name\": 4, \"bigg_id\": 3, \"segments\": {\"38\": {\"to_node_id\": 32, \"from_node_id\": 34, \"b2\": {\"x\": 2900, \"y\": 4000}, \"b1\": {\"y\": 4000, \"x\": 2900.0}}, \"39\": {\"to_node_id\": 35, \"from_node_id\": 2, \"b2\": {\"x\": 2500.0, \"y\": 4000}, \"b1\": {\"y\": 5000, \"x\": 2600}}, \"41\": {\"to_node_id\": 33, \"from_node_id\": 35, \"b2\": null, \"b1\": null}, \"42\": {\"to_node_id\": 34, \"from_node_id\": 33, \"b2\": null, \"b1\": null}}, \"genes\": [], \"reversibility\": false, \"metabolites\": [{\"coefficient\": 1, \"bigg_id\": \"cpd00321\"}, {\"coefficient\": -1, \"bigg_id\": \"cpd00126\"}], \"label_x\": 2750.0, \"label_y\": 3970, \"gene_reaction_rule\": \"\"}, \"9\": {\"name\": \"4\", \"bigg_id\": \"4\", \"segments\": {\"44\": {\"to_node_id\": 39, \"from_node_id\": 32, \"b2\": {\"x\": 3025.0, \"y\": 3000.0}, \"b1\": {\"y\": 3900.0, \"x\": 3000.0}}, \"45\": {\"to_node_id\": 38, \"from_node_id\": 39, \"b2\": null, \"b1\": null}, \"46\": {\"to_node_id\": 40, \"from_node_id\": 38, \"b2\": null, \"b1\": null}, \"47\": {\"to_node_id\": 37, \"from_node_id\": 40, \"b2\": {\"x\": 3400, \"y\": 3000}, \"b1\": {\"y\": 3000.0, \"x\": 3375.0}}}, \"genes\": [], \"reversibility\": false, \"metabolites\": [{\"coefficient\": 1, \"bigg_id\": \"cpd42143\"}, {\"coefficient\": -1, \"bigg_id\": \"cpd00321\"}], \"label_x\": 3250.0, \"label_y\": 3050.0, \"gene_reaction_rule\": \"\"}}, \"nodes\": {\"1\": {\"node_is_primary\": true, \"name\": \"compound1\", \"label_x\": 2000, \"node_type\": \"metabolite\", \"y\": 5000, \"x\": 2000, \"label_y\": 5035, \"bigg_id\": \"cpd00497\"}, \"2\": {\"node_is_primary\": true, \"name\": \"compound1\", \"label_x\": 2500, \"node_type\": \"metabolite\", \"y\": 5000, \"x\": 2500, \"label_y\": 5035, \"bigg_id\": \"cpd00126\"}, \"3\": {\"y\": 5000, \"x\": 2250.0, \"node_type\": \"midmarker\"}, \"4\": {\"y\": 5000.0, \"x\": 2225.0, \"node_type\": \"midmarker\"}, \"5\": {\"y\": 5000.0, \"x\": 2275.0, \"node_type\": \"midmarker\"}, \"6\": {\"node_is_primary\": true, \"name\": \"compound1\", \"label_x\": 3000, \"node_type\": \"metabolite\", \"y\": 5000, \"x\": 3000, \"label_y\": 5035, \"bigg_id\": \"cpd00018\"}, \"7\": {\"y\": 5000, \"x\": 2750.0, \"node_type\": \"midmarker\"}, \"8\": {\"y\": 5000, \"x\": 2800.0, \"node_type\": \"midmarker\"}, \"9\": {\"y\": 5000, \"x\": 2700.0, \"node_type\": \"midmarker\"}, \"10\": {\"node_is_primary\": true, \"name\": \"compound1\", \"label_x\": 3500, \"node_type\": \"metabolite\", \"y\": 5000, \"x\": 3500, \"label_y\": 5035, \"bigg_id\": \"cpd00322\"}, \"11\": {\"y\": 5000, \"x\": 3250.0, \"node_type\": \"midmarker\"}, \"12\": {\"y\": 5000, \"x\": 3300.0, \"node_type\": \"midmarker\"}, \"13\": {\"y\": 5000, \"x\": 3200.0, \"node_type\": \"midmarker\"}, \"14\": {\"node_is_primary\": true, \"name\": \"compound1\", \"label_x\": 3500, \"node_type\": \"metabolite\", \"y\": 4500, \"x\": 3500, \"label_y\": 4535, \"bigg_id\": \"cpd78432\"}, \"15\": {\"y\": 4500, \"x\": 3250.0, \"node_type\": \"midmarker\"}, \"16\": {\"y\": 4500, \"x\": 3300.0, \"node_type\": \"midmarker\"}, \"17\": {\"y\": 4500, \"x\": 3200.0, \"node_type\": \"midmarker\"}, \"18\": {\"node_is_primary\": true, \"name\": \"compound1\", \"label_x\": 3000, \"node_type\": \"metabolite\", \"y\": 4500, \"x\": 3000, \"label_y\": 4535, \"bigg_id\": \"cpd02375\"}, \"19\": {\"y\": 4500, \"x\": 2750.0, \"node_type\": \"midmarker\"}, \"20\": {\"y\": 4500, \"x\": 2800.0, \"node_type\": \"midmarker\"}, \"21\": {\"y\": 4500, \"x\": 2700.0, \"node_type\": \"midmarker\"}, \"22\": {\"node_is_primary\": false, \"name\": \"compound1\", \"label_x\": 2490.0, \"node_type\": \"metabolite\", \"y\": 4372.0, \"x\": 2580.0, \"bigg_id\": \"cpd00001\", \"label_y\": 4352.0}, \"23\": {\"node_is_primary\": false, \"name\": \"compound1\", \"label_x\": 2915.0, \"node_type\": \"metabolite\", \"y\": 4428.0, \"x\": 2940.0, \"bigg_id\": \"cpd00002\", \"label_y\": 4408.0}, \"24\": {\"node_is_primary\": true, \"name\": \"compound1\", \"label_x\": 3500, \"node_type\": \"metabolite\", \"y\": 4000, \"x\": 3500, \"label_y\": 4035, \"bigg_id\": \"cpd43213\"}, \"25\": {\"y\": 4000, \"x\": 3250.0, \"node_type\": \"midmarker\"}, \"26\": {\"y\": 4000, \"x\": 3300.0, \"node_type\": \"midmarker\"}, \"27\": {\"y\": 4000, \"x\": 3200.0, \"node_type\": \"midmarker\"}, \"28\": {\"node_is_primary\": true, \"name\": \"compound1\", \"label_x\": 3500, \"node_type\": \"metabolite\", \"y\": 3500, \"x\": 3500, \"label_y\": 3535, \"bigg_id\": \"cpd43214\"}, \"29\": {\"y\": 3500, \"x\": 3250.0, \"node_type\": \"midmarker\"}, \"30\": {\"y\": 3500, \"x\": 3300.0, \"node_type\": \"midmarker\"}, \"31\": {\"y\": 3500, \"x\": 3200.0, \"node_type\": \"midmarker\"}, \"32\": {\"node_is_primary\": true, \"name\": \"compound1\", \"label_x\": 3000, \"node_type\": \"metabolite\", \"y\": 4000, \"x\": 3000, \"label_y\": 4035, \"bigg_id\": \"cpd00321\"}, \"33\": {\"y\": 4000, \"x\": 2750.0, \"node_type\": \"midmarker\"}, \"34\": {\"y\": 4000, \"x\": 2800.0, \"node_type\": \"midmarker\"}, \"35\": {\"y\": 4000, \"x\": 2700.0, \"node_type\": \"midmarker\"}, \"37\": {\"node_is_primary\": true, \"name\": \"compound1\", \"label_x\": 3500, \"node_type\": \"metabolite\", \"y\": 3000, \"x\": 3500, \"label_y\": 3035, \"bigg_id\": \"cpd42143\"}, \"38\": {\"y\": 3000, \"x\": 3250.0, \"node_type\": \"midmarker\"}, \"39\": {\"y\": 3000.0, \"x\": 3225.0, \"node_type\": \"midmarker\"}, \"40\": {\"y\": 3000.0, \"x\": 3275.0, \"node_type\": \"midmarker\"}}, \"canvas\": {\"y\": 1850.3106803671876, \"x\": 1891.530700976562, \"height\": 7502.07660657031, \"width\": 4960.490337304691}, \"text_labels\": {}}]'),\n",
       "               model_data: JSON.parse('null'),\n",
       "               static_site_index: JSON.parse('null'),\n",
       "           };\n",
       "       }\n",
       "   })();\n",
       "  </script>\n"
      ],
      "text/plain": [
       "<IPython.core.display.HTML object>"
      ]
     },
     "execution_count": 34,
     "metadata": {},
     "output_type": "execute_result"
    }
   ],
   "source": [
    "add_reactions(layout, stoich, 2000, 5000, 500, 0, 'cpd00497')\n",
    "map_json_str = json.dumps(escher_map)\n",
    "builder = escher.Builder(map_json=map_json_str)\n",
    "builder.display_in_notebook()"
   ]
  }
 ],
 "metadata": {
  "kernelspec": {
   "display_name": "Python 3",
   "language": "python",
   "name": "python3"
  },
  "language_info": {
   "codemirror_mode": {
    "name": "ipython",
    "version": 3
   },
   "file_extension": ".py",
   "mimetype": "text/x-python",
   "name": "python",
   "nbconvert_exporter": "python",
   "pygments_lexer": "ipython3",
   "version": "3.7.1"
  }
 },
 "nbformat": 4,
 "nbformat_minor": 2
}
